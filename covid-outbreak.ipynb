{
 "cells": [
  {
   "cell_type": "code",
   "execution_count": 1,
   "metadata": {},
   "outputs": [],
   "source": [
    "from __future__ import print_function \n",
    "import ipywidgets as widgets\n",
    "from ipywidgets import interact, interactive, fixed, interact_manual \n",
    "from IPython.core.display import display, HTML\n",
    "\n",
    "import pandas as pd\n",
    "import PIL\n",
    "from PIL import Image\n",
    "import matplotlib.pyplot as plt\n",
    "import plotly.express as px\n",
    "import plotly.graph_objects as go\n",
    "import seaborn as sb\n",
    "import squarify \n",
    "\n",
    "%matplotlib inline"
   ]
  },
  {
   "cell_type": "markdown",
   "metadata": {},
   "source": [
    "# Analysis of COVID-19 outbreak cases"
   ]
  },
  {
   "cell_type": "code",
   "execution_count": 2,
   "metadata": {},
   "outputs": [],
   "source": [
    "#Data Collection\n",
    "# Retrieving the LIVE COVID19 Stats updated by John Hopkins University in github\n",
    "# Loading data right from the source:\n",
    "confirmed = pd.read_csv('https://raw.githubusercontent.com/CSSEGISandData/COVID-19/master/csse_covid_19_data/csse_covid_19_time_series/time_series_covid19_confirmed_global.csv')\n",
    "death = pd.read_csv('https://raw.githubusercontent.com/CSSEGISandData/COVID-19/master/csse_covid_19_data/csse_covid_19_time_series/time_series_covid19_deaths_global.csv')\n",
    "recovered = pd.read_csv('https://raw.githubusercontent.com/CSSEGISandData/COVID-19/master/csse_covid_19_data/csse_covid_19_time_series/time_series_covid19_recovered_global.csv')\n",
    "country = pd.read_csv('https://raw.githubusercontent.com/CSSEGISandData/COVID-19/web-data/data/cases_country.csv')"
   ]
  },
  {
   "cell_type": "code",
   "execution_count": 3,
   "metadata": {},
   "outputs": [],
   "source": [
    "#Data Preparation\n",
    "#confirmed.columns\n",
    "confirmeddrop = confirmed.drop([ 'Lat', 'Long'], axis =1)\n",
    "deathdrop = death.drop([ 'Lat', 'Long'], axis =1)\n",
    "recovereddrop = recovered.drop([ 'Lat', 'Long'], axis =1)\n",
    "#recovereddrop"
   ]
  },
  {
   "cell_type": "code",
   "execution_count": 4,
   "metadata": {},
   "outputs": [],
   "source": [
    "confirmed_drop_cols = confirmeddrop.drop(['Province/State'],axis = 1)\n",
    "death_drop_cols = deathdrop.drop(['Province/State'],axis = 1)\n",
    "recovered_drop_cols = recovereddrop.drop(['Province/State'],axis = 1)\n",
    "#recovered_drop_col"
   ]
  },
  {
   "cell_type": "code",
   "execution_count": 5,
   "metadata": {},
   "outputs": [],
   "source": [
    "# Renaming\n",
    "confirmed = confirmed.rename(columns={'Country/Region': 'Country'})\n",
    "recovered = confirmed.rename(columns={'Country/Region': 'Country'})\n",
    "death = death.rename(columns={'Country/Region': 'Country'})\n",
    "country = country.rename(columns={'Country_Region': 'Country'})\n"
   ]
  },
  {
   "cell_type": "code",
   "execution_count": 6,
   "metadata": {},
   "outputs": [],
   "source": [
    "confirmed_transform = confirmed_drop_cols.transpose()\n",
    "death_transform = death_drop_cols.transpose()\n",
    "recovered_transform = recovered_drop_cols.transpose()\n",
    "#recovered_transform"
   ]
  },
  {
   "cell_type": "code",
   "execution_count": 7,
   "metadata": {},
   "outputs": [],
   "source": [
    "confirmed_cases = pd.melt(confirmed_drop_cols, id_vars=[\"Country/Region\"], var_name=\"Dates\", value_name= \"Confirmed Cases\")\n",
    "death_cases = pd.melt(death_drop_cols, id_vars=[\"Country/Region\"], var_name=\"Dates\", value_name= \"Death Cases\")\n",
    "recovered_cases = pd.melt(recovered_drop_cols, id_vars=[\"Country/Region\"], var_name=\"Dates\", value_name= \"Recovered Cases\")\n",
    "#confirmed_cases "
   ]
  },
  {
   "cell_type": "code",
   "execution_count": 8,
   "metadata": {},
   "outputs": [],
   "source": [
    "covid = pd.merge(confirmed_cases,death_cases)\n",
    "covid = pd.merge(covid,recovered_cases)\n",
    "covid['Active Cases'] = covid['Confirmed Cases']- (covid['Death Cases']+covid['Recovered Cases'])\n",
    "covid['Death Rate (%)'] = (covid['Death Cases']/covid['Confirmed Cases'])*100\n",
    "covid['Recovery Rate (%)'] = (covid['Recovered Cases']/covid['Confirmed Cases'])*100\n",
    "#covid"
   ]
  },
  {
   "cell_type": "markdown",
   "metadata": {},
   "source": [
    "# Total number of cases and number of countries affected"
   ]
  },
  {
   "cell_type": "code",
   "execution_count": 9,
   "metadata": {},
   "outputs": [
    {
     "name": "stdout",
     "output_type": "stream",
     "text": [
      "Total number of Confirmed Cases :  159707593\n",
      "Total number of Death Cases :  3318264\n",
      "Total number of Recovered Cases :  95791714\n",
      "Total number of Active Cases :  28401310\n",
      "World Death Rate :  2.0777121097805287\n",
      "World Recovery Rate :  59.97943629392749\n",
      "Total number of Countries affected :  192\n"
     ]
    }
   ],
   "source": [
    "#Displaying total nurmber of confirmed, deaths, recovered and active cases\n",
    "confirmed_total = int(country['Confirmed'].sum())\n",
    "deaths_total = int(country['Deaths'].sum())\n",
    "recovered_total = int(country['Recovered'].sum())\n",
    "active_total = int(country['Active'].sum())\n",
    "death_rate = (deaths_total/confirmed_total)*100\n",
    "recovered_rate = (recovered_total/confirmed_total)*100\n",
    "countries = country.Country.count()\n",
    "\n",
    "print(\"Total number of Confirmed Cases : \", confirmed_total)\n",
    "print(\"Total number of Death Cases : \", deaths_total)\n",
    "print(\"Total number of Recovered Cases : \", recovered_total)\n",
    "print(\"Total number of Active Cases : \", active_total)\n",
    "print(\"World Death Rate : \", death_rate)\n",
    "print(\"World Recovery Rate : \", recovered_rate)\n",
    "print(\"Total number of Countries affected : \", countries)"
   ]
  },
  {
   "cell_type": "code",
   "execution_count": 10,
   "metadata": {},
   "outputs": [
    {
     "data": {
      "text/html": [
       "<div style = 'background-color: #504e4e; padding: 30px '><span style='color: #fff; font-size:30px;'> Confirmed: 159707593</span><span style='color: red; font-size:30px;margin-left:20px;'> Deaths: 3318264</span><span style='color: lightgreen; font-size:30px; margin-left:20px;'> Recovered: 95791714</span></div>"
      ],
      "text/plain": [
       "<IPython.core.display.HTML object>"
      ]
     },
     "metadata": {},
     "output_type": "display_data"
    }
   ],
   "source": [
    "# displaying the total stats\n",
    "\n",
    "display(HTML(\"<div style = 'background-color: #504e4e; padding: 30px '>\" +\n",
    "             \"<span style='color: #fff; font-size:30px;'> Confirmed: \"  + str(confirmed_total) +\"</span>\" +\n",
    "             \"<span style='color: red; font-size:30px;margin-left:20px;'> Deaths: \" + str(deaths_total) + \"</span>\"+\n",
    "             \"<span style='color: lightgreen; font-size:30px; margin-left:20px;'> Recovered: \" + str(recovered_total) + \"</span>\"+\n",
    "             \"</div>\")\n",
    "       )"
   ]
  },
  {
   "cell_type": "code",
   "execution_count": 11,
   "metadata": {},
   "outputs": [],
   "source": [
    "sorted_confirmed_country = country.sort_values('Confirmed', ascending = False) \n",
    "sorted_death_country = country.sort_values('Deaths', ascending = False) \n",
    "sorted_recovered_country = country.sort_values('Recovered', ascending = False)\n",
    "sorted_active_country = country.sort_values('Active',ascending=False) \n",
    "sorted_country = pd.merge(sorted_confirmed_country,sorted_death_country)\n",
    "sorted_country = pd.merge(sorted_country,sorted_recovered_country)\n",
    "sorted_country = pd.merge(sorted_country,sorted_active_country)\n",
    "sorted_country_drop = country.drop(['Last_Update','Lat', 'Long_', 'Incident_Rate', 'People_Tested',\n",
    "       'People_Hospitalized', 'Mortality_Rate', 'UID', 'ISO3'],axis =1)\n",
    "sorted_country_drop['Death Rate (%)'] = (sorted_country_drop['Deaths']/sorted_country_drop['Confirmed'])*100\n",
    "sorted_country_drop['Recovery Rate (%)'] = (sorted_country_drop['Recovered']/sorted_country_drop['Confirmed'])*100\n",
    "#sorted_country_drop"
   ]
  },
  {
   "cell_type": "markdown",
   "metadata": {},
   "source": [
    "# Enter the number of countries for which you want the COVID-19 outbreak cases"
   ]
  },
  {
   "cell_type": "code",
   "execution_count": 12,
   "metadata": {},
   "outputs": [
    {
     "data": {
      "application/vnd.jupyter.widget-view+json": {
       "model_id": "42e55e3ba96447caad5d33dc3564e17a",
       "version_major": 2,
       "version_minor": 0
      },
      "text/plain": [
       "interactive(children=(Text(value='10', description='n'), Output()), _dom_classes=('widget-interact',))"
      ]
     },
     "metadata": {},
     "output_type": "display_data"
    },
    {
     "data": {
      "application/vnd.jupyter.widget-view+json": {
       "model_id": "64bec145740e4dfaafd5b9d76eab1a3b",
       "version_major": 2,
       "version_minor": 0
      },
      "text/plain": [
       "VBox(children=(FigureWidget({\n",
       "    'data': [], 'layout': {'template': '...'}\n",
       "}),), layout=Layout(border='solid …"
      ]
     },
     "metadata": {},
     "output_type": "display_data"
    }
   ],
   "source": [
    "# sorting the values by confirmed descednding order\n",
    "# country_df.sort_values('confirmed', ascending= False).head(10).style.background_gradient(cmap='copper')\n",
    "fig = go.FigureWidget( layout=go.Layout() )\n",
    "def highlight_col(x):\n",
    "    r = 'background-color: red'\n",
    "    y = 'background-color: blue'\n",
    "    g = 'background-color: green'\n",
    "    df1 = pd.DataFrame('', index=x.index, columns=x.columns)\n",
    "    df1.iloc[:, 4] = y\n",
    "    df1.iloc[:, 5] = r\n",
    "    df1.iloc[:, 6] = g\n",
    "    \n",
    "    return df1\n",
    "\n",
    "def show_latest_cases(n):\n",
    "    n = int(n)\n",
    "    return country.sort_values('Confirmed', ascending= False).head(n).style.apply(highlight_col, axis=None)\n",
    "\n",
    "interact(show_latest_cases, n='10')\n",
    "\n",
    "ipywLayout = widgets.Layout(border='solid 2px green')\n",
    "ipywLayout.display='none' # uncomment this, run cell again - then the graph/figure disappears\n",
    "widgets.VBox([fig], layout=ipywLayout)"
   ]
  },
  {
   "cell_type": "markdown",
   "metadata": {},
   "source": [
    "# Slide to check the detailed information in each representation"
   ]
  },
  {
   "cell_type": "markdown",
   "metadata": {},
   "source": [
    "# Bubble chart representation"
   ]
  },
  {
   "cell_type": "code",
   "execution_count": 13,
   "metadata": {},
   "outputs": [
    {
     "data": {
      "application/vnd.jupyter.widget-view+json": {
       "model_id": "c740187e4dbe4bb38b3540297d13c357",
       "version_major": 2,
       "version_minor": 0
      },
      "text/plain": [
       "interactive(children=(IntSlider(value=10, description='n', max=30, min=-10), Output()), _dom_classes=('widget-…"
      ]
     },
     "metadata": {},
     "output_type": "display_data"
    }
   ],
   "source": [
    "# # plotting the worst affected countries\n",
    "\n",
    "def bubble_chart(n):\n",
    "    fig = px.scatter(sorted_country.head(n), x=\"Country\", y=\"Confirmed\", size=\"Confirmed\", color=\"Country\",\n",
    "               hover_name=\"Country\", size_max=70)\n",
    "    fig.update_layout(\n",
    "    title=str(n) +\" Worst affected countries\",\n",
    "    xaxis_title=\"Countries\",\n",
    "    yaxis_title=\"Confirmed Cases\",\n",
    "    width = 700\n",
    "    )\n",
    "    fig.show()\n",
    "\n",
    "interact(bubble_chart, n=10)\n",
    "\n",
    "ipywLayout = widgets.Layout(border='solid 2px green')\n",
    "ipywLayout.display='none'\n",
    "#widgets.VBox([fig], layout=ipywLayout)"
   ]
  },
  {
   "cell_type": "markdown",
   "metadata": {},
   "source": [
    "# Choropleth map representation"
   ]
  },
  {
   "cell_type": "code",
   "execution_count": 14,
   "metadata": {
    "scrolled": false
   },
   "outputs": [
    {
     "data": {
      "application/vnd.plotly.v1+json": {
       "config": {
        "plotlyServerURL": "https://plot.ly"
       },
       "data": [
        {
         "coloraxis": "coloraxis",
         "geo": "geo",
         "hovertemplate": "Last_Update=2021-05-12 08:20:40<br>Country=%{location}<br>Confirmed=%{z}<extra></extra>",
         "locationmode": "country names",
         "locations": [
          "Afghanistan",
          "Albania",
          "Algeria",
          "Andorra",
          "Angola",
          "Antigua and Barbuda",
          "Argentina",
          "Armenia",
          "Australia",
          "Austria",
          "Azerbaijan",
          "Bahamas",
          "Bahrain",
          "Bangladesh",
          "Barbados",
          "Belarus",
          "Belgium",
          "Belize",
          "Benin",
          "Bhutan",
          "Bolivia",
          "Bosnia and Herzegovina",
          "Botswana",
          "Brazil",
          "Brunei",
          "Bulgaria",
          "Burkina Faso",
          "Burma",
          "Burundi",
          "Cabo Verde",
          "Cambodia",
          "Cameroon",
          "Canada",
          "Central African Republic",
          "Chad",
          "Chile",
          "China",
          "Colombia",
          "Comoros",
          "Congo (Brazzaville)",
          "Congo (Kinshasa)",
          "Costa Rica",
          "Cote d'Ivoire",
          "Croatia",
          "Cuba",
          "Cyprus",
          "Czechia",
          "Denmark",
          "Diamond Princess",
          "Djibouti",
          "Dominica",
          "Dominican Republic",
          "Ecuador",
          "Egypt",
          "El Salvador",
          "Equatorial Guinea",
          "Eritrea",
          "Estonia",
          "Eswatini",
          "Ethiopia",
          "Fiji",
          "Finland",
          "France",
          "Gabon",
          "Gambia",
          "Georgia",
          "Germany",
          "Ghana",
          "Greece",
          "Grenada",
          "Guatemala",
          "Guinea",
          "Guinea-Bissau",
          "Guyana",
          "Haiti",
          "Holy See",
          "Honduras",
          "Hungary",
          "Iceland",
          "India",
          "Indonesia",
          "Iran",
          "Iraq",
          "Ireland",
          "Israel",
          "Italy",
          "Jamaica",
          "Japan",
          "Jordan",
          "Kazakhstan",
          "Kenya",
          "Korea, South",
          "Kosovo",
          "Kuwait",
          "Kyrgyzstan",
          "Laos",
          "Latvia",
          "Lebanon",
          "Lesotho",
          "Liberia",
          "Libya",
          "Liechtenstein",
          "Lithuania",
          "Luxembourg",
          "MS Zaandam",
          "Madagascar",
          "Malawi",
          "Malaysia",
          "Maldives",
          "Mali",
          "Malta",
          "Marshall Islands",
          "Mauritania",
          "Mauritius",
          "Mexico",
          "Micronesia",
          "Moldova",
          "Monaco",
          "Mongolia",
          "Montenegro",
          "Morocco",
          "Mozambique",
          "Namibia",
          "Nepal",
          "Netherlands",
          "New Zealand",
          "Nicaragua",
          "Niger",
          "Nigeria",
          "North Macedonia",
          "Norway",
          "Oman",
          "Pakistan",
          "Panama",
          "Papua New Guinea",
          "Paraguay",
          "Peru",
          "Philippines",
          "Poland",
          "Portugal",
          "Qatar",
          "Romania",
          "Russia",
          "Rwanda",
          "Saint Kitts and Nevis",
          "Saint Lucia",
          "Saint Vincent and the Grenadines",
          "Samoa",
          "San Marino",
          "Sao Tome and Principe",
          "Saudi Arabia",
          "Senegal",
          "Serbia",
          "Seychelles",
          "Sierra Leone",
          "Singapore",
          "Slovakia",
          "Slovenia",
          "Solomon Islands",
          "Somalia",
          "South Africa",
          "South Sudan",
          "Spain",
          "Sri Lanka",
          "Sudan",
          "Suriname",
          "Sweden",
          "Switzerland",
          "Syria",
          "Taiwan*",
          "Tajikistan",
          "Tanzania",
          "Thailand",
          "Timor-Leste",
          "Togo",
          "Trinidad and Tobago",
          "Tunisia",
          "Turkey",
          "US",
          "Uganda",
          "Ukraine",
          "United Arab Emirates",
          "United Kingdom",
          "Uruguay",
          "Uzbekistan",
          "Vanuatu",
          "Venezuela",
          "Vietnam",
          "West Bank and Gaza",
          "Yemen",
          "Zambia",
          "Zimbabwe"
         ],
         "name": "",
         "type": "choropleth",
         "z": [
          62403,
          131803,
          124483,
          13447,
          29146,
          1240,
          3191097,
          219950,
          29947,
          632766,
          327601,
          10908,
          192750,
          776257,
          3950,
          370509,
          1020332,
          12704,
          7995,
          1247,
          320209,
          201512,
          49041,
          15282705,
          230,
          412157,
          13384,
          142974,
          4208,
          26709,
          20695,
          74946,
          1307863,
          6674,
          4888,
          1256546,
          102660,
          3031726,
          3860,
          11343,
          30392,
          273714,
          46484,
          345623,
          118168,
          70098,
          1648667,
          261613,
          712,
          11369,
          175,
          272809,
          402595,
          239740,
          70380,
          7694,
          3818,
          126064,
          18487,
          263672,
          152,
          88990,
          5861384,
          23565,
          5934,
          325665,
          3552281,
          93011,
          367076,
          160,
          236266,
          22719,
          3741,
          14531,
          13179,
          27,
          222118,
          793784,
          6522,
          23340938,
          1723596,
          2691352,
          1122914,
          253567,
          839022,
          4123230,
          46821,
          656957,
          721853,
          401892,
          163976,
          128918,
          106130,
          287199,
          99316,
          1362,
          124960,
          533685,
          10774,
          2114,
          180692,
          2975,
          261128,
          68552,
          9,
          39351,
          34183,
          448457,
          38520,
          14133,
          30464,
          4,
          18691,
          1266,
          2368393,
          1,
          252949,
          2486,
          46448,
          98449,
          514164,
          70267,
          50301,
          413111,
          1598280,
          2643,
          7086,
          5324,
          165515,
          154222,
          117495,
          202713,
          867438,
          368368,
          12493,
          302061,
          1858239,
          1113547,
          2838180,
          840008,
          211732,
          1067887,
          4840948,
          25773,
          45,
          4700,
          1922,
          3,
          5083,
          2320,
          428369,
          40729,
          702451,
          8172,
          4089,
          61419,
          386136,
          246725,
          20,
          14486,
          1599272,
          10641,
          3586333,
          131098,
          34889,
          11306,
          1021604,
          675671,
          23490,
          1210,
          13308,
          509,
          88907,
          3493,
          13167,
          13802,
          322998,
          5059433,
          32779153,
          42427,
          2184967,
          539138,
          4455446,
          225847,
          95467,
          4,
          210116,
          3593,
          302777,
          6492,
          92152,
          38448
         ]
        }
       ],
       "layout": {
        "coloraxis": {
         "colorbar": {
          "title": {
           "text": "Confirmed"
          }
         },
         "colorscale": [
          [
           0,
           "#0d0887"
          ],
          [
           0.1111111111111111,
           "#46039f"
          ],
          [
           0.2222222222222222,
           "#7201a8"
          ],
          [
           0.3333333333333333,
           "#9c179e"
          ],
          [
           0.4444444444444444,
           "#bd3786"
          ],
          [
           0.5555555555555556,
           "#d8576b"
          ],
          [
           0.6666666666666666,
           "#ed7953"
          ],
          [
           0.7777777777777778,
           "#fb9f3a"
          ],
          [
           0.8888888888888888,
           "#fdca26"
          ],
          [
           1,
           "#f0f921"
          ]
         ]
        },
        "geo": {
         "center": {},
         "domain": {
          "x": [
           0,
           1
          ],
          "y": [
           0,
           1
          ]
         }
        },
        "legend": {
         "tracegroupgap": 0
        },
        "margin": {
         "t": 60
        },
        "template": {
         "data": {
          "bar": [
           {
            "error_x": {
             "color": "#2a3f5f"
            },
            "error_y": {
             "color": "#2a3f5f"
            },
            "marker": {
             "line": {
              "color": "#E5ECF6",
              "width": 0.5
             }
            },
            "type": "bar"
           }
          ],
          "barpolar": [
           {
            "marker": {
             "line": {
              "color": "#E5ECF6",
              "width": 0.5
             }
            },
            "type": "barpolar"
           }
          ],
          "carpet": [
           {
            "aaxis": {
             "endlinecolor": "#2a3f5f",
             "gridcolor": "white",
             "linecolor": "white",
             "minorgridcolor": "white",
             "startlinecolor": "#2a3f5f"
            },
            "baxis": {
             "endlinecolor": "#2a3f5f",
             "gridcolor": "white",
             "linecolor": "white",
             "minorgridcolor": "white",
             "startlinecolor": "#2a3f5f"
            },
            "type": "carpet"
           }
          ],
          "choropleth": [
           {
            "colorbar": {
             "outlinewidth": 0,
             "ticks": ""
            },
            "type": "choropleth"
           }
          ],
          "contour": [
           {
            "colorbar": {
             "outlinewidth": 0,
             "ticks": ""
            },
            "colorscale": [
             [
              0,
              "#0d0887"
             ],
             [
              0.1111111111111111,
              "#46039f"
             ],
             [
              0.2222222222222222,
              "#7201a8"
             ],
             [
              0.3333333333333333,
              "#9c179e"
             ],
             [
              0.4444444444444444,
              "#bd3786"
             ],
             [
              0.5555555555555556,
              "#d8576b"
             ],
             [
              0.6666666666666666,
              "#ed7953"
             ],
             [
              0.7777777777777778,
              "#fb9f3a"
             ],
             [
              0.8888888888888888,
              "#fdca26"
             ],
             [
              1,
              "#f0f921"
             ]
            ],
            "type": "contour"
           }
          ],
          "contourcarpet": [
           {
            "colorbar": {
             "outlinewidth": 0,
             "ticks": ""
            },
            "type": "contourcarpet"
           }
          ],
          "heatmap": [
           {
            "colorbar": {
             "outlinewidth": 0,
             "ticks": ""
            },
            "colorscale": [
             [
              0,
              "#0d0887"
             ],
             [
              0.1111111111111111,
              "#46039f"
             ],
             [
              0.2222222222222222,
              "#7201a8"
             ],
             [
              0.3333333333333333,
              "#9c179e"
             ],
             [
              0.4444444444444444,
              "#bd3786"
             ],
             [
              0.5555555555555556,
              "#d8576b"
             ],
             [
              0.6666666666666666,
              "#ed7953"
             ],
             [
              0.7777777777777778,
              "#fb9f3a"
             ],
             [
              0.8888888888888888,
              "#fdca26"
             ],
             [
              1,
              "#f0f921"
             ]
            ],
            "type": "heatmap"
           }
          ],
          "heatmapgl": [
           {
            "colorbar": {
             "outlinewidth": 0,
             "ticks": ""
            },
            "colorscale": [
             [
              0,
              "#0d0887"
             ],
             [
              0.1111111111111111,
              "#46039f"
             ],
             [
              0.2222222222222222,
              "#7201a8"
             ],
             [
              0.3333333333333333,
              "#9c179e"
             ],
             [
              0.4444444444444444,
              "#bd3786"
             ],
             [
              0.5555555555555556,
              "#d8576b"
             ],
             [
              0.6666666666666666,
              "#ed7953"
             ],
             [
              0.7777777777777778,
              "#fb9f3a"
             ],
             [
              0.8888888888888888,
              "#fdca26"
             ],
             [
              1,
              "#f0f921"
             ]
            ],
            "type": "heatmapgl"
           }
          ],
          "histogram": [
           {
            "marker": {
             "colorbar": {
              "outlinewidth": 0,
              "ticks": ""
             }
            },
            "type": "histogram"
           }
          ],
          "histogram2d": [
           {
            "colorbar": {
             "outlinewidth": 0,
             "ticks": ""
            },
            "colorscale": [
             [
              0,
              "#0d0887"
             ],
             [
              0.1111111111111111,
              "#46039f"
             ],
             [
              0.2222222222222222,
              "#7201a8"
             ],
             [
              0.3333333333333333,
              "#9c179e"
             ],
             [
              0.4444444444444444,
              "#bd3786"
             ],
             [
              0.5555555555555556,
              "#d8576b"
             ],
             [
              0.6666666666666666,
              "#ed7953"
             ],
             [
              0.7777777777777778,
              "#fb9f3a"
             ],
             [
              0.8888888888888888,
              "#fdca26"
             ],
             [
              1,
              "#f0f921"
             ]
            ],
            "type": "histogram2d"
           }
          ],
          "histogram2dcontour": [
           {
            "colorbar": {
             "outlinewidth": 0,
             "ticks": ""
            },
            "colorscale": [
             [
              0,
              "#0d0887"
             ],
             [
              0.1111111111111111,
              "#46039f"
             ],
             [
              0.2222222222222222,
              "#7201a8"
             ],
             [
              0.3333333333333333,
              "#9c179e"
             ],
             [
              0.4444444444444444,
              "#bd3786"
             ],
             [
              0.5555555555555556,
              "#d8576b"
             ],
             [
              0.6666666666666666,
              "#ed7953"
             ],
             [
              0.7777777777777778,
              "#fb9f3a"
             ],
             [
              0.8888888888888888,
              "#fdca26"
             ],
             [
              1,
              "#f0f921"
             ]
            ],
            "type": "histogram2dcontour"
           }
          ],
          "mesh3d": [
           {
            "colorbar": {
             "outlinewidth": 0,
             "ticks": ""
            },
            "type": "mesh3d"
           }
          ],
          "parcoords": [
           {
            "line": {
             "colorbar": {
              "outlinewidth": 0,
              "ticks": ""
             }
            },
            "type": "parcoords"
           }
          ],
          "pie": [
           {
            "automargin": true,
            "type": "pie"
           }
          ],
          "scatter": [
           {
            "marker": {
             "colorbar": {
              "outlinewidth": 0,
              "ticks": ""
             }
            },
            "type": "scatter"
           }
          ],
          "scatter3d": [
           {
            "line": {
             "colorbar": {
              "outlinewidth": 0,
              "ticks": ""
             }
            },
            "marker": {
             "colorbar": {
              "outlinewidth": 0,
              "ticks": ""
             }
            },
            "type": "scatter3d"
           }
          ],
          "scattercarpet": [
           {
            "marker": {
             "colorbar": {
              "outlinewidth": 0,
              "ticks": ""
             }
            },
            "type": "scattercarpet"
           }
          ],
          "scattergeo": [
           {
            "marker": {
             "colorbar": {
              "outlinewidth": 0,
              "ticks": ""
             }
            },
            "type": "scattergeo"
           }
          ],
          "scattergl": [
           {
            "marker": {
             "colorbar": {
              "outlinewidth": 0,
              "ticks": ""
             }
            },
            "type": "scattergl"
           }
          ],
          "scattermapbox": [
           {
            "marker": {
             "colorbar": {
              "outlinewidth": 0,
              "ticks": ""
             }
            },
            "type": "scattermapbox"
           }
          ],
          "scatterpolar": [
           {
            "marker": {
             "colorbar": {
              "outlinewidth": 0,
              "ticks": ""
             }
            },
            "type": "scatterpolar"
           }
          ],
          "scatterpolargl": [
           {
            "marker": {
             "colorbar": {
              "outlinewidth": 0,
              "ticks": ""
             }
            },
            "type": "scatterpolargl"
           }
          ],
          "scatterternary": [
           {
            "marker": {
             "colorbar": {
              "outlinewidth": 0,
              "ticks": ""
             }
            },
            "type": "scatterternary"
           }
          ],
          "surface": [
           {
            "colorbar": {
             "outlinewidth": 0,
             "ticks": ""
            },
            "colorscale": [
             [
              0,
              "#0d0887"
             ],
             [
              0.1111111111111111,
              "#46039f"
             ],
             [
              0.2222222222222222,
              "#7201a8"
             ],
             [
              0.3333333333333333,
              "#9c179e"
             ],
             [
              0.4444444444444444,
              "#bd3786"
             ],
             [
              0.5555555555555556,
              "#d8576b"
             ],
             [
              0.6666666666666666,
              "#ed7953"
             ],
             [
              0.7777777777777778,
              "#fb9f3a"
             ],
             [
              0.8888888888888888,
              "#fdca26"
             ],
             [
              1,
              "#f0f921"
             ]
            ],
            "type": "surface"
           }
          ],
          "table": [
           {
            "cells": {
             "fill": {
              "color": "#EBF0F8"
             },
             "line": {
              "color": "white"
             }
            },
            "header": {
             "fill": {
              "color": "#C8D4E3"
             },
             "line": {
              "color": "white"
             }
            },
            "type": "table"
           }
          ]
         },
         "layout": {
          "annotationdefaults": {
           "arrowcolor": "#2a3f5f",
           "arrowhead": 0,
           "arrowwidth": 1
          },
          "autotypenumbers": "strict",
          "coloraxis": {
           "colorbar": {
            "outlinewidth": 0,
            "ticks": ""
           }
          },
          "colorscale": {
           "diverging": [
            [
             0,
             "#8e0152"
            ],
            [
             0.1,
             "#c51b7d"
            ],
            [
             0.2,
             "#de77ae"
            ],
            [
             0.3,
             "#f1b6da"
            ],
            [
             0.4,
             "#fde0ef"
            ],
            [
             0.5,
             "#f7f7f7"
            ],
            [
             0.6,
             "#e6f5d0"
            ],
            [
             0.7,
             "#b8e186"
            ],
            [
             0.8,
             "#7fbc41"
            ],
            [
             0.9,
             "#4d9221"
            ],
            [
             1,
             "#276419"
            ]
           ],
           "sequential": [
            [
             0,
             "#0d0887"
            ],
            [
             0.1111111111111111,
             "#46039f"
            ],
            [
             0.2222222222222222,
             "#7201a8"
            ],
            [
             0.3333333333333333,
             "#9c179e"
            ],
            [
             0.4444444444444444,
             "#bd3786"
            ],
            [
             0.5555555555555556,
             "#d8576b"
            ],
            [
             0.6666666666666666,
             "#ed7953"
            ],
            [
             0.7777777777777778,
             "#fb9f3a"
            ],
            [
             0.8888888888888888,
             "#fdca26"
            ],
            [
             1,
             "#f0f921"
            ]
           ],
           "sequentialminus": [
            [
             0,
             "#0d0887"
            ],
            [
             0.1111111111111111,
             "#46039f"
            ],
            [
             0.2222222222222222,
             "#7201a8"
            ],
            [
             0.3333333333333333,
             "#9c179e"
            ],
            [
             0.4444444444444444,
             "#bd3786"
            ],
            [
             0.5555555555555556,
             "#d8576b"
            ],
            [
             0.6666666666666666,
             "#ed7953"
            ],
            [
             0.7777777777777778,
             "#fb9f3a"
            ],
            [
             0.8888888888888888,
             "#fdca26"
            ],
            [
             1,
             "#f0f921"
            ]
           ]
          },
          "colorway": [
           "#636efa",
           "#EF553B",
           "#00cc96",
           "#ab63fa",
           "#FFA15A",
           "#19d3f3",
           "#FF6692",
           "#B6E880",
           "#FF97FF",
           "#FECB52"
          ],
          "font": {
           "color": "#2a3f5f"
          },
          "geo": {
           "bgcolor": "white",
           "lakecolor": "white",
           "landcolor": "#E5ECF6",
           "showlakes": true,
           "showland": true,
           "subunitcolor": "white"
          },
          "hoverlabel": {
           "align": "left"
          },
          "hovermode": "closest",
          "mapbox": {
           "style": "light"
          },
          "paper_bgcolor": "white",
          "plot_bgcolor": "#E5ECF6",
          "polar": {
           "angularaxis": {
            "gridcolor": "white",
            "linecolor": "white",
            "ticks": ""
           },
           "bgcolor": "#E5ECF6",
           "radialaxis": {
            "gridcolor": "white",
            "linecolor": "white",
            "ticks": ""
           }
          },
          "scene": {
           "xaxis": {
            "backgroundcolor": "#E5ECF6",
            "gridcolor": "white",
            "gridwidth": 2,
            "linecolor": "white",
            "showbackground": true,
            "ticks": "",
            "zerolinecolor": "white"
           },
           "yaxis": {
            "backgroundcolor": "#E5ECF6",
            "gridcolor": "white",
            "gridwidth": 2,
            "linecolor": "white",
            "showbackground": true,
            "ticks": "",
            "zerolinecolor": "white"
           },
           "zaxis": {
            "backgroundcolor": "#E5ECF6",
            "gridcolor": "white",
            "gridwidth": 2,
            "linecolor": "white",
            "showbackground": true,
            "ticks": "",
            "zerolinecolor": "white"
           }
          },
          "shapedefaults": {
           "line": {
            "color": "#2a3f5f"
           }
          },
          "ternary": {
           "aaxis": {
            "gridcolor": "white",
            "linecolor": "white",
            "ticks": ""
           },
           "baxis": {
            "gridcolor": "white",
            "linecolor": "white",
            "ticks": ""
           },
           "bgcolor": "#E5ECF6",
           "caxis": {
            "gridcolor": "white",
            "linecolor": "white",
            "ticks": ""
           }
          },
          "title": {
           "x": 0.05
          },
          "xaxis": {
           "automargin": true,
           "gridcolor": "white",
           "linecolor": "white",
           "ticks": "",
           "title": {
            "standoff": 15
           },
           "zerolinecolor": "white",
           "zerolinewidth": 2
          },
          "yaxis": {
           "automargin": true,
           "gridcolor": "white",
           "linecolor": "white",
           "ticks": "",
           "title": {
            "standoff": 15
           },
           "zerolinecolor": "white",
           "zerolinewidth": 2
          }
         }
        },
        "title": {
         "text": "Countries with Confirmed cases"
        }
       }
      },
      "text/html": [
       "<div>                            <div id=\"5bacfb68-18e1-47a0-8560-6421fa8169f7\" class=\"plotly-graph-div\" style=\"height:525px; width:100%;\"></div>            <script type=\"text/javascript\">                require([\"plotly\"], function(Plotly) {                    window.PLOTLYENV=window.PLOTLYENV || {};                                    if (document.getElementById(\"5bacfb68-18e1-47a0-8560-6421fa8169f7\")) {                    Plotly.newPlot(                        \"5bacfb68-18e1-47a0-8560-6421fa8169f7\",                        [{\"coloraxis\": \"coloraxis\", \"geo\": \"geo\", \"hovertemplate\": \"Last_Update=2021-05-12 08:20:40<br>Country=%{location}<br>Confirmed=%{z}<extra></extra>\", \"locationmode\": \"country names\", \"locations\": [\"Afghanistan\", \"Albania\", \"Algeria\", \"Andorra\", \"Angola\", \"Antigua and Barbuda\", \"Argentina\", \"Armenia\", \"Australia\", \"Austria\", \"Azerbaijan\", \"Bahamas\", \"Bahrain\", \"Bangladesh\", \"Barbados\", \"Belarus\", \"Belgium\", \"Belize\", \"Benin\", \"Bhutan\", \"Bolivia\", \"Bosnia and Herzegovina\", \"Botswana\", \"Brazil\", \"Brunei\", \"Bulgaria\", \"Burkina Faso\", \"Burma\", \"Burundi\", \"Cabo Verde\", \"Cambodia\", \"Cameroon\", \"Canada\", \"Central African Republic\", \"Chad\", \"Chile\", \"China\", \"Colombia\", \"Comoros\", \"Congo (Brazzaville)\", \"Congo (Kinshasa)\", \"Costa Rica\", \"Cote d'Ivoire\", \"Croatia\", \"Cuba\", \"Cyprus\", \"Czechia\", \"Denmark\", \"Diamond Princess\", \"Djibouti\", \"Dominica\", \"Dominican Republic\", \"Ecuador\", \"Egypt\", \"El Salvador\", \"Equatorial Guinea\", \"Eritrea\", \"Estonia\", \"Eswatini\", \"Ethiopia\", \"Fiji\", \"Finland\", \"France\", \"Gabon\", \"Gambia\", \"Georgia\", \"Germany\", \"Ghana\", \"Greece\", \"Grenada\", \"Guatemala\", \"Guinea\", \"Guinea-Bissau\", \"Guyana\", \"Haiti\", \"Holy See\", \"Honduras\", \"Hungary\", \"Iceland\", \"India\", \"Indonesia\", \"Iran\", \"Iraq\", \"Ireland\", \"Israel\", \"Italy\", \"Jamaica\", \"Japan\", \"Jordan\", \"Kazakhstan\", \"Kenya\", \"Korea, South\", \"Kosovo\", \"Kuwait\", \"Kyrgyzstan\", \"Laos\", \"Latvia\", \"Lebanon\", \"Lesotho\", \"Liberia\", \"Libya\", \"Liechtenstein\", \"Lithuania\", \"Luxembourg\", \"MS Zaandam\", \"Madagascar\", \"Malawi\", \"Malaysia\", \"Maldives\", \"Mali\", \"Malta\", \"Marshall Islands\", \"Mauritania\", \"Mauritius\", \"Mexico\", \"Micronesia\", \"Moldova\", \"Monaco\", \"Mongolia\", \"Montenegro\", \"Morocco\", \"Mozambique\", \"Namibia\", \"Nepal\", \"Netherlands\", \"New Zealand\", \"Nicaragua\", \"Niger\", \"Nigeria\", \"North Macedonia\", \"Norway\", \"Oman\", \"Pakistan\", \"Panama\", \"Papua New Guinea\", \"Paraguay\", \"Peru\", \"Philippines\", \"Poland\", \"Portugal\", \"Qatar\", \"Romania\", \"Russia\", \"Rwanda\", \"Saint Kitts and Nevis\", \"Saint Lucia\", \"Saint Vincent and the Grenadines\", \"Samoa\", \"San Marino\", \"Sao Tome and Principe\", \"Saudi Arabia\", \"Senegal\", \"Serbia\", \"Seychelles\", \"Sierra Leone\", \"Singapore\", \"Slovakia\", \"Slovenia\", \"Solomon Islands\", \"Somalia\", \"South Africa\", \"South Sudan\", \"Spain\", \"Sri Lanka\", \"Sudan\", \"Suriname\", \"Sweden\", \"Switzerland\", \"Syria\", \"Taiwan*\", \"Tajikistan\", \"Tanzania\", \"Thailand\", \"Timor-Leste\", \"Togo\", \"Trinidad and Tobago\", \"Tunisia\", \"Turkey\", \"US\", \"Uganda\", \"Ukraine\", \"United Arab Emirates\", \"United Kingdom\", \"Uruguay\", \"Uzbekistan\", \"Vanuatu\", \"Venezuela\", \"Vietnam\", \"West Bank and Gaza\", \"Yemen\", \"Zambia\", \"Zimbabwe\"], \"name\": \"\", \"type\": \"choropleth\", \"z\": [62403.0, 131803.0, 124483.0, 13447.0, 29146.0, 1240.0, 3191097.0, 219950.0, 29947.0, 632766.0, 327601.0, 10908.0, 192750.0, 776257.0, 3950.0, 370509.0, 1020332.0, 12704.0, 7995.0, 1247.0, 320209.0, 201512.0, 49041.0, 15282705.0, 230.0, 412157.0, 13384.0, 142974.0, 4208.0, 26709.0, 20695.0, 74946.0, 1307863.0, 6674.0, 4888.0, 1256546.0, 102660.0, 3031726.0, 3860.0, 11343.0, 30392.0, 273714.0, 46484.0, 345623.0, 118168.0, 70098.0, 1648667.0, 261613.0, 712.0, 11369.0, 175.0, 272809.0, 402595.0, 239740.0, 70380.0, 7694.0, 3818.0, 126064.0, 18487.0, 263672.0, 152.0, 88990.0, 5861384.0, 23565.0, 5934.0, 325665.0, 3552281.0, 93011.0, 367076.0, 160.0, 236266.0, 22719.0, 3741.0, 14531.0, 13179.0, 27.0, 222118.0, 793784.0, 6522.0, 23340938.0, 1723596.0, 2691352.0, 1122914.0, 253567.0, 839022.0, 4123230.0, 46821.0, 656957.0, 721853.0, 401892.0, 163976.0, 128918.0, 106130.0, 287199.0, 99316.0, 1362.0, 124960.0, 533685.0, 10774.0, 2114.0, 180692.0, 2975.0, 261128.0, 68552.0, 9.0, 39351.0, 34183.0, 448457.0, 38520.0, 14133.0, 30464.0, 4.0, 18691.0, 1266.0, 2368393.0, 1.0, 252949.0, 2486.0, 46448.0, 98449.0, 514164.0, 70267.0, 50301.0, 413111.0, 1598280.0, 2643.0, 7086.0, 5324.0, 165515.0, 154222.0, 117495.0, 202713.0, 867438.0, 368368.0, 12493.0, 302061.0, 1858239.0, 1113547.0, 2838180.0, 840008.0, 211732.0, 1067887.0, 4840948.0, 25773.0, 45.0, 4700.0, 1922.0, 3.0, 5083.0, 2320.0, 428369.0, 40729.0, 702451.0, 8172.0, 4089.0, 61419.0, 386136.0, 246725.0, 20.0, 14486.0, 1599272.0, 10641.0, 3586333.0, 131098.0, 34889.0, 11306.0, 1021604.0, 675671.0, 23490.0, 1210.0, 13308.0, 509.0, 88907.0, 3493.0, 13167.0, 13802.0, 322998.0, 5059433.0, 32779153.0, 42427.0, 2184967.0, 539138.0, 4455446.0, 225847.0, 95467.0, 4.0, 210116.0, 3593.0, 302777.0, 6492.0, 92152.0, 38448.0]}],                        {\"coloraxis\": {\"colorbar\": {\"title\": {\"text\": \"Confirmed\"}}, \"colorscale\": [[0.0, \"#0d0887\"], [0.1111111111111111, \"#46039f\"], [0.2222222222222222, \"#7201a8\"], [0.3333333333333333, \"#9c179e\"], [0.4444444444444444, \"#bd3786\"], [0.5555555555555556, \"#d8576b\"], [0.6666666666666666, \"#ed7953\"], [0.7777777777777778, \"#fb9f3a\"], [0.8888888888888888, \"#fdca26\"], [1.0, \"#f0f921\"]]}, \"geo\": {\"center\": {}, \"domain\": {\"x\": [0.0, 1.0], \"y\": [0.0, 1.0]}}, \"legend\": {\"tracegroupgap\": 0}, \"margin\": {\"t\": 60}, \"template\": {\"data\": {\"bar\": [{\"error_x\": {\"color\": \"#2a3f5f\"}, \"error_y\": {\"color\": \"#2a3f5f\"}, \"marker\": {\"line\": {\"color\": \"#E5ECF6\", \"width\": 0.5}}, \"type\": \"bar\"}], \"barpolar\": [{\"marker\": {\"line\": {\"color\": \"#E5ECF6\", \"width\": 0.5}}, \"type\": \"barpolar\"}], \"carpet\": [{\"aaxis\": {\"endlinecolor\": \"#2a3f5f\", \"gridcolor\": \"white\", \"linecolor\": \"white\", \"minorgridcolor\": \"white\", \"startlinecolor\": \"#2a3f5f\"}, \"baxis\": {\"endlinecolor\": \"#2a3f5f\", \"gridcolor\": \"white\", \"linecolor\": \"white\", \"minorgridcolor\": \"white\", \"startlinecolor\": \"#2a3f5f\"}, \"type\": \"carpet\"}], \"choropleth\": [{\"colorbar\": {\"outlinewidth\": 0, \"ticks\": \"\"}, \"type\": \"choropleth\"}], \"contour\": [{\"colorbar\": {\"outlinewidth\": 0, \"ticks\": \"\"}, \"colorscale\": [[0.0, \"#0d0887\"], [0.1111111111111111, \"#46039f\"], [0.2222222222222222, \"#7201a8\"], [0.3333333333333333, \"#9c179e\"], [0.4444444444444444, \"#bd3786\"], [0.5555555555555556, \"#d8576b\"], [0.6666666666666666, \"#ed7953\"], [0.7777777777777778, \"#fb9f3a\"], [0.8888888888888888, \"#fdca26\"], [1.0, \"#f0f921\"]], \"type\": \"contour\"}], \"contourcarpet\": [{\"colorbar\": {\"outlinewidth\": 0, \"ticks\": \"\"}, \"type\": \"contourcarpet\"}], \"heatmap\": [{\"colorbar\": {\"outlinewidth\": 0, \"ticks\": \"\"}, \"colorscale\": [[0.0, \"#0d0887\"], [0.1111111111111111, \"#46039f\"], [0.2222222222222222, \"#7201a8\"], [0.3333333333333333, \"#9c179e\"], [0.4444444444444444, \"#bd3786\"], [0.5555555555555556, \"#d8576b\"], [0.6666666666666666, \"#ed7953\"], [0.7777777777777778, \"#fb9f3a\"], [0.8888888888888888, \"#fdca26\"], [1.0, \"#f0f921\"]], \"type\": \"heatmap\"}], \"heatmapgl\": [{\"colorbar\": {\"outlinewidth\": 0, \"ticks\": \"\"}, \"colorscale\": [[0.0, \"#0d0887\"], [0.1111111111111111, \"#46039f\"], [0.2222222222222222, \"#7201a8\"], [0.3333333333333333, \"#9c179e\"], [0.4444444444444444, \"#bd3786\"], [0.5555555555555556, \"#d8576b\"], [0.6666666666666666, \"#ed7953\"], [0.7777777777777778, \"#fb9f3a\"], [0.8888888888888888, \"#fdca26\"], [1.0, \"#f0f921\"]], \"type\": \"heatmapgl\"}], \"histogram\": [{\"marker\": {\"colorbar\": {\"outlinewidth\": 0, \"ticks\": \"\"}}, \"type\": \"histogram\"}], \"histogram2d\": [{\"colorbar\": {\"outlinewidth\": 0, \"ticks\": \"\"}, \"colorscale\": [[0.0, \"#0d0887\"], [0.1111111111111111, \"#46039f\"], [0.2222222222222222, \"#7201a8\"], [0.3333333333333333, \"#9c179e\"], [0.4444444444444444, \"#bd3786\"], [0.5555555555555556, \"#d8576b\"], [0.6666666666666666, \"#ed7953\"], [0.7777777777777778, \"#fb9f3a\"], [0.8888888888888888, \"#fdca26\"], [1.0, \"#f0f921\"]], \"type\": \"histogram2d\"}], \"histogram2dcontour\": [{\"colorbar\": {\"outlinewidth\": 0, \"ticks\": \"\"}, \"colorscale\": [[0.0, \"#0d0887\"], [0.1111111111111111, \"#46039f\"], [0.2222222222222222, \"#7201a8\"], [0.3333333333333333, \"#9c179e\"], [0.4444444444444444, \"#bd3786\"], [0.5555555555555556, \"#d8576b\"], [0.6666666666666666, \"#ed7953\"], [0.7777777777777778, \"#fb9f3a\"], [0.8888888888888888, \"#fdca26\"], [1.0, \"#f0f921\"]], \"type\": \"histogram2dcontour\"}], \"mesh3d\": [{\"colorbar\": {\"outlinewidth\": 0, \"ticks\": \"\"}, \"type\": \"mesh3d\"}], \"parcoords\": [{\"line\": {\"colorbar\": {\"outlinewidth\": 0, \"ticks\": \"\"}}, \"type\": \"parcoords\"}], \"pie\": [{\"automargin\": true, \"type\": \"pie\"}], \"scatter\": [{\"marker\": {\"colorbar\": {\"outlinewidth\": 0, \"ticks\": \"\"}}, \"type\": \"scatter\"}], \"scatter3d\": [{\"line\": {\"colorbar\": {\"outlinewidth\": 0, \"ticks\": \"\"}}, \"marker\": {\"colorbar\": {\"outlinewidth\": 0, \"ticks\": \"\"}}, \"type\": \"scatter3d\"}], \"scattercarpet\": [{\"marker\": {\"colorbar\": {\"outlinewidth\": 0, \"ticks\": \"\"}}, \"type\": \"scattercarpet\"}], \"scattergeo\": [{\"marker\": {\"colorbar\": {\"outlinewidth\": 0, \"ticks\": \"\"}}, \"type\": \"scattergeo\"}], \"scattergl\": [{\"marker\": {\"colorbar\": {\"outlinewidth\": 0, \"ticks\": \"\"}}, \"type\": \"scattergl\"}], \"scattermapbox\": [{\"marker\": {\"colorbar\": {\"outlinewidth\": 0, \"ticks\": \"\"}}, \"type\": \"scattermapbox\"}], \"scatterpolar\": [{\"marker\": {\"colorbar\": {\"outlinewidth\": 0, \"ticks\": \"\"}}, \"type\": \"scatterpolar\"}], \"scatterpolargl\": [{\"marker\": {\"colorbar\": {\"outlinewidth\": 0, \"ticks\": \"\"}}, \"type\": \"scatterpolargl\"}], \"scatterternary\": [{\"marker\": {\"colorbar\": {\"outlinewidth\": 0, \"ticks\": \"\"}}, \"type\": \"scatterternary\"}], \"surface\": [{\"colorbar\": {\"outlinewidth\": 0, \"ticks\": \"\"}, \"colorscale\": [[0.0, \"#0d0887\"], [0.1111111111111111, \"#46039f\"], [0.2222222222222222, \"#7201a8\"], [0.3333333333333333, \"#9c179e\"], [0.4444444444444444, \"#bd3786\"], [0.5555555555555556, \"#d8576b\"], [0.6666666666666666, \"#ed7953\"], [0.7777777777777778, \"#fb9f3a\"], [0.8888888888888888, \"#fdca26\"], [1.0, \"#f0f921\"]], \"type\": \"surface\"}], \"table\": [{\"cells\": {\"fill\": {\"color\": \"#EBF0F8\"}, \"line\": {\"color\": \"white\"}}, \"header\": {\"fill\": {\"color\": \"#C8D4E3\"}, \"line\": {\"color\": \"white\"}}, \"type\": \"table\"}]}, \"layout\": {\"annotationdefaults\": {\"arrowcolor\": \"#2a3f5f\", \"arrowhead\": 0, \"arrowwidth\": 1}, \"autotypenumbers\": \"strict\", \"coloraxis\": {\"colorbar\": {\"outlinewidth\": 0, \"ticks\": \"\"}}, \"colorscale\": {\"diverging\": [[0, \"#8e0152\"], [0.1, \"#c51b7d\"], [0.2, \"#de77ae\"], [0.3, \"#f1b6da\"], [0.4, \"#fde0ef\"], [0.5, \"#f7f7f7\"], [0.6, \"#e6f5d0\"], [0.7, \"#b8e186\"], [0.8, \"#7fbc41\"], [0.9, \"#4d9221\"], [1, \"#276419\"]], \"sequential\": [[0.0, \"#0d0887\"], [0.1111111111111111, \"#46039f\"], [0.2222222222222222, \"#7201a8\"], [0.3333333333333333, \"#9c179e\"], [0.4444444444444444, \"#bd3786\"], [0.5555555555555556, \"#d8576b\"], [0.6666666666666666, \"#ed7953\"], [0.7777777777777778, \"#fb9f3a\"], [0.8888888888888888, \"#fdca26\"], [1.0, \"#f0f921\"]], \"sequentialminus\": [[0.0, \"#0d0887\"], [0.1111111111111111, \"#46039f\"], [0.2222222222222222, \"#7201a8\"], [0.3333333333333333, \"#9c179e\"], [0.4444444444444444, \"#bd3786\"], [0.5555555555555556, \"#d8576b\"], [0.6666666666666666, \"#ed7953\"], [0.7777777777777778, \"#fb9f3a\"], [0.8888888888888888, \"#fdca26\"], [1.0, \"#f0f921\"]]}, \"colorway\": [\"#636efa\", \"#EF553B\", \"#00cc96\", \"#ab63fa\", \"#FFA15A\", \"#19d3f3\", \"#FF6692\", \"#B6E880\", \"#FF97FF\", \"#FECB52\"], \"font\": {\"color\": \"#2a3f5f\"}, \"geo\": {\"bgcolor\": \"white\", \"lakecolor\": \"white\", \"landcolor\": \"#E5ECF6\", \"showlakes\": true, \"showland\": true, \"subunitcolor\": \"white\"}, \"hoverlabel\": {\"align\": \"left\"}, \"hovermode\": \"closest\", \"mapbox\": {\"style\": \"light\"}, \"paper_bgcolor\": \"white\", \"plot_bgcolor\": \"#E5ECF6\", \"polar\": {\"angularaxis\": {\"gridcolor\": \"white\", \"linecolor\": \"white\", \"ticks\": \"\"}, \"bgcolor\": \"#E5ECF6\", \"radialaxis\": {\"gridcolor\": \"white\", \"linecolor\": \"white\", \"ticks\": \"\"}}, \"scene\": {\"xaxis\": {\"backgroundcolor\": \"#E5ECF6\", \"gridcolor\": \"white\", \"gridwidth\": 2, \"linecolor\": \"white\", \"showbackground\": true, \"ticks\": \"\", \"zerolinecolor\": \"white\"}, \"yaxis\": {\"backgroundcolor\": \"#E5ECF6\", \"gridcolor\": \"white\", \"gridwidth\": 2, \"linecolor\": \"white\", \"showbackground\": true, \"ticks\": \"\", \"zerolinecolor\": \"white\"}, \"zaxis\": {\"backgroundcolor\": \"#E5ECF6\", \"gridcolor\": \"white\", \"gridwidth\": 2, \"linecolor\": \"white\", \"showbackground\": true, \"ticks\": \"\", \"zerolinecolor\": \"white\"}}, \"shapedefaults\": {\"line\": {\"color\": \"#2a3f5f\"}}, \"ternary\": {\"aaxis\": {\"gridcolor\": \"white\", \"linecolor\": \"white\", \"ticks\": \"\"}, \"baxis\": {\"gridcolor\": \"white\", \"linecolor\": \"white\", \"ticks\": \"\"}, \"bgcolor\": \"#E5ECF6\", \"caxis\": {\"gridcolor\": \"white\", \"linecolor\": \"white\", \"ticks\": \"\"}}, \"title\": {\"x\": 0.05}, \"xaxis\": {\"automargin\": true, \"gridcolor\": \"white\", \"linecolor\": \"white\", \"ticks\": \"\", \"title\": {\"standoff\": 15}, \"zerolinecolor\": \"white\", \"zerolinewidth\": 2}, \"yaxis\": {\"automargin\": true, \"gridcolor\": \"white\", \"linecolor\": \"white\", \"ticks\": \"\", \"title\": {\"standoff\": 15}, \"zerolinecolor\": \"white\", \"zerolinewidth\": 2}}}, \"title\": {\"text\": \"Countries with Confirmed cases\"}},                        {\"responsive\": true}                    ).then(function(){\n",
       "                            \n",
       "var gd = document.getElementById('5bacfb68-18e1-47a0-8560-6421fa8169f7');\n",
       "var x = new MutationObserver(function (mutations, observer) {{\n",
       "        var display = window.getComputedStyle(gd).display;\n",
       "        if (!display || display === 'none') {{\n",
       "            console.log([gd, 'removed!']);\n",
       "            Plotly.purge(gd);\n",
       "            observer.disconnect();\n",
       "        }}\n",
       "}});\n",
       "\n",
       "// Listen for the removal of the full notebook cells\n",
       "var notebookContainer = gd.closest('#notebook-container');\n",
       "if (notebookContainer) {{\n",
       "    x.observe(notebookContainer, {childList: true});\n",
       "}}\n",
       "\n",
       "// Listen for the clearing of the current output cell\n",
       "var outputEl = gd.closest('.output');\n",
       "if (outputEl) {{\n",
       "    x.observe(outputEl, {childList: true});\n",
       "}}\n",
       "\n",
       "                        })                };                });            </script>        </div>"
      ]
     },
     "metadata": {},
     "output_type": "display_data"
    },
    {
     "data": {
      "application/vnd.plotly.v1+json": {
       "config": {
        "plotlyServerURL": "https://plot.ly"
       },
       "data": [
        {
         "coloraxis": "coloraxis",
         "geo": "geo",
         "hovertemplate": "Last_Update=2021-05-12 08:20:40<br>Country=%{location}<br>Deaths=%{z}<extra></extra>",
         "locationmode": "country names",
         "locations": [
          "Afghanistan",
          "Albania",
          "Algeria",
          "Andorra",
          "Angola",
          "Antigua and Barbuda",
          "Argentina",
          "Armenia",
          "Australia",
          "Austria",
          "Azerbaijan",
          "Bahamas",
          "Bahrain",
          "Bangladesh",
          "Barbados",
          "Belarus",
          "Belgium",
          "Belize",
          "Benin",
          "Bhutan",
          "Bolivia",
          "Bosnia and Herzegovina",
          "Botswana",
          "Brazil",
          "Brunei",
          "Bulgaria",
          "Burkina Faso",
          "Burma",
          "Burundi",
          "Cabo Verde",
          "Cambodia",
          "Cameroon",
          "Canada",
          "Central African Republic",
          "Chad",
          "Chile",
          "China",
          "Colombia",
          "Comoros",
          "Congo (Brazzaville)",
          "Congo (Kinshasa)",
          "Costa Rica",
          "Cote d'Ivoire",
          "Croatia",
          "Cuba",
          "Cyprus",
          "Czechia",
          "Denmark",
          "Diamond Princess",
          "Djibouti",
          "Dominica",
          "Dominican Republic",
          "Ecuador",
          "Egypt",
          "El Salvador",
          "Equatorial Guinea",
          "Eritrea",
          "Estonia",
          "Eswatini",
          "Ethiopia",
          "Fiji",
          "Finland",
          "France",
          "Gabon",
          "Gambia",
          "Georgia",
          "Germany",
          "Ghana",
          "Greece",
          "Grenada",
          "Guatemala",
          "Guinea",
          "Guinea-Bissau",
          "Guyana",
          "Haiti",
          "Holy See",
          "Honduras",
          "Hungary",
          "Iceland",
          "India",
          "Indonesia",
          "Iran",
          "Iraq",
          "Ireland",
          "Israel",
          "Italy",
          "Jamaica",
          "Japan",
          "Jordan",
          "Kazakhstan",
          "Kenya",
          "Korea, South",
          "Kosovo",
          "Kuwait",
          "Kyrgyzstan",
          "Laos",
          "Latvia",
          "Lebanon",
          "Lesotho",
          "Liberia",
          "Libya",
          "Liechtenstein",
          "Lithuania",
          "Luxembourg",
          "MS Zaandam",
          "Madagascar",
          "Malawi",
          "Malaysia",
          "Maldives",
          "Mali",
          "Malta",
          "Marshall Islands",
          "Mauritania",
          "Mauritius",
          "Mexico",
          "Micronesia",
          "Moldova",
          "Monaco",
          "Mongolia",
          "Montenegro",
          "Morocco",
          "Mozambique",
          "Namibia",
          "Nepal",
          "Netherlands",
          "New Zealand",
          "Nicaragua",
          "Niger",
          "Nigeria",
          "North Macedonia",
          "Norway",
          "Oman",
          "Pakistan",
          "Panama",
          "Papua New Guinea",
          "Paraguay",
          "Peru",
          "Philippines",
          "Poland",
          "Portugal",
          "Qatar",
          "Romania",
          "Russia",
          "Rwanda",
          "Saint Kitts and Nevis",
          "Saint Lucia",
          "Saint Vincent and the Grenadines",
          "Samoa",
          "San Marino",
          "Sao Tome and Principe",
          "Saudi Arabia",
          "Senegal",
          "Serbia",
          "Seychelles",
          "Sierra Leone",
          "Singapore",
          "Slovakia",
          "Slovenia",
          "Solomon Islands",
          "Somalia",
          "South Africa",
          "South Sudan",
          "Spain",
          "Sri Lanka",
          "Sudan",
          "Suriname",
          "Sweden",
          "Switzerland",
          "Syria",
          "Taiwan*",
          "Tajikistan",
          "Tanzania",
          "Thailand",
          "Timor-Leste",
          "Togo",
          "Trinidad and Tobago",
          "Tunisia",
          "Turkey",
          "US",
          "Uganda",
          "Ukraine",
          "United Arab Emirates",
          "United Kingdom",
          "Uruguay",
          "Uzbekistan",
          "Vanuatu",
          "Venezuela",
          "Vietnam",
          "West Bank and Gaza",
          "Yemen",
          "Zambia",
          "Zimbabwe"
         ],
         "name": "",
         "type": "choropleth",
         "z": [
          2710,
          2420,
          3343,
          127,
          639,
          32,
          68311,
          4272,
          910,
          10413,
          4713,
          214,
          697,
          12005,
          45,
          2652,
          24609,
          323,
          101,
          1,
          13258,
          8912,
          751,
          425540,
          3,
          17104,
          164,
          3210,
          6,
          236,
          136,
          1152,
          24693,
          93,
          172,
          27356,
          4846,
          78771,
          146,
          148,
          775,
          3456,
          292,
          7549,
          755,
          339,
          29787,
          2500,
          13,
          151,
          0,
          3550,
          19286,
          14033,
          2168,
          112,
          12,
          1210,
          671,
          3911,
          3,
          927,
          107096,
          143,
          175,
          4363,
          85385,
          783,
          11141,
          1,
          7776,
          151,
          67,
          331,
          264,
          0,
          5789,
          28888,
          29,
          254197,
          47465,
          75568,
          15834,
          4929,
          6378,
          123282,
          814,
          11058,
          9151,
          3382,
          2928,
          1884,
          2218,
          1660,
          1675,
          1,
          2217,
          7527,
          319,
          85,
          3077,
          58,
          4059,
          806,
          2,
          732,
          1153,
          1722,
          87,
          506,
          417,
          0,
          456,
          17,
          219323,
          0,
          5970,
          32,
          184,
          1545,
          9083,
          826,
          696,
          4084,
          17648,
          26,
          184,
          192,
          2065,
          5135,
          767,
          2148,
          19210,
          6282,
          130,
          7284,
          64691,
          18620,
          70336,
          16994,
          516,
          29135,
          112063,
          340,
          0,
          75,
          12,
          0,
          90,
          35,
          7098,
          1120,
          6594,
          28,
          79,
          31,
          12077,
          4302,
          0,
          753,
          54896,
          115,
          79100,
          850,
          2446,
          220,
          14217,
          10722,
          1670,
          12,
          90,
          21,
          486,
          5,
          125,
          224,
          11556,
          43589,
          582848,
          346,
          48900,
          1617,
          127890,
          3208,
          666,
          1,
          2320,
          35,
          3393,
          1276,
          1258,
          1579
         ]
        }
       ],
       "layout": {
        "coloraxis": {
         "colorbar": {
          "title": {
           "text": "Deaths"
          }
         },
         "colorscale": [
          [
           0,
           "#0d0887"
          ],
          [
           0.1111111111111111,
           "#46039f"
          ],
          [
           0.2222222222222222,
           "#7201a8"
          ],
          [
           0.3333333333333333,
           "#9c179e"
          ],
          [
           0.4444444444444444,
           "#bd3786"
          ],
          [
           0.5555555555555556,
           "#d8576b"
          ],
          [
           0.6666666666666666,
           "#ed7953"
          ],
          [
           0.7777777777777778,
           "#fb9f3a"
          ],
          [
           0.8888888888888888,
           "#fdca26"
          ],
          [
           1,
           "#f0f921"
          ]
         ]
        },
        "geo": {
         "center": {},
         "domain": {
          "x": [
           0,
           1
          ],
          "y": [
           0,
           1
          ]
         }
        },
        "legend": {
         "tracegroupgap": 0
        },
        "margin": {
         "t": 60
        },
        "template": {
         "data": {
          "bar": [
           {
            "error_x": {
             "color": "#2a3f5f"
            },
            "error_y": {
             "color": "#2a3f5f"
            },
            "marker": {
             "line": {
              "color": "#E5ECF6",
              "width": 0.5
             }
            },
            "type": "bar"
           }
          ],
          "barpolar": [
           {
            "marker": {
             "line": {
              "color": "#E5ECF6",
              "width": 0.5
             }
            },
            "type": "barpolar"
           }
          ],
          "carpet": [
           {
            "aaxis": {
             "endlinecolor": "#2a3f5f",
             "gridcolor": "white",
             "linecolor": "white",
             "minorgridcolor": "white",
             "startlinecolor": "#2a3f5f"
            },
            "baxis": {
             "endlinecolor": "#2a3f5f",
             "gridcolor": "white",
             "linecolor": "white",
             "minorgridcolor": "white",
             "startlinecolor": "#2a3f5f"
            },
            "type": "carpet"
           }
          ],
          "choropleth": [
           {
            "colorbar": {
             "outlinewidth": 0,
             "ticks": ""
            },
            "type": "choropleth"
           }
          ],
          "contour": [
           {
            "colorbar": {
             "outlinewidth": 0,
             "ticks": ""
            },
            "colorscale": [
             [
              0,
              "#0d0887"
             ],
             [
              0.1111111111111111,
              "#46039f"
             ],
             [
              0.2222222222222222,
              "#7201a8"
             ],
             [
              0.3333333333333333,
              "#9c179e"
             ],
             [
              0.4444444444444444,
              "#bd3786"
             ],
             [
              0.5555555555555556,
              "#d8576b"
             ],
             [
              0.6666666666666666,
              "#ed7953"
             ],
             [
              0.7777777777777778,
              "#fb9f3a"
             ],
             [
              0.8888888888888888,
              "#fdca26"
             ],
             [
              1,
              "#f0f921"
             ]
            ],
            "type": "contour"
           }
          ],
          "contourcarpet": [
           {
            "colorbar": {
             "outlinewidth": 0,
             "ticks": ""
            },
            "type": "contourcarpet"
           }
          ],
          "heatmap": [
           {
            "colorbar": {
             "outlinewidth": 0,
             "ticks": ""
            },
            "colorscale": [
             [
              0,
              "#0d0887"
             ],
             [
              0.1111111111111111,
              "#46039f"
             ],
             [
              0.2222222222222222,
              "#7201a8"
             ],
             [
              0.3333333333333333,
              "#9c179e"
             ],
             [
              0.4444444444444444,
              "#bd3786"
             ],
             [
              0.5555555555555556,
              "#d8576b"
             ],
             [
              0.6666666666666666,
              "#ed7953"
             ],
             [
              0.7777777777777778,
              "#fb9f3a"
             ],
             [
              0.8888888888888888,
              "#fdca26"
             ],
             [
              1,
              "#f0f921"
             ]
            ],
            "type": "heatmap"
           }
          ],
          "heatmapgl": [
           {
            "colorbar": {
             "outlinewidth": 0,
             "ticks": ""
            },
            "colorscale": [
             [
              0,
              "#0d0887"
             ],
             [
              0.1111111111111111,
              "#46039f"
             ],
             [
              0.2222222222222222,
              "#7201a8"
             ],
             [
              0.3333333333333333,
              "#9c179e"
             ],
             [
              0.4444444444444444,
              "#bd3786"
             ],
             [
              0.5555555555555556,
              "#d8576b"
             ],
             [
              0.6666666666666666,
              "#ed7953"
             ],
             [
              0.7777777777777778,
              "#fb9f3a"
             ],
             [
              0.8888888888888888,
              "#fdca26"
             ],
             [
              1,
              "#f0f921"
             ]
            ],
            "type": "heatmapgl"
           }
          ],
          "histogram": [
           {
            "marker": {
             "colorbar": {
              "outlinewidth": 0,
              "ticks": ""
             }
            },
            "type": "histogram"
           }
          ],
          "histogram2d": [
           {
            "colorbar": {
             "outlinewidth": 0,
             "ticks": ""
            },
            "colorscale": [
             [
              0,
              "#0d0887"
             ],
             [
              0.1111111111111111,
              "#46039f"
             ],
             [
              0.2222222222222222,
              "#7201a8"
             ],
             [
              0.3333333333333333,
              "#9c179e"
             ],
             [
              0.4444444444444444,
              "#bd3786"
             ],
             [
              0.5555555555555556,
              "#d8576b"
             ],
             [
              0.6666666666666666,
              "#ed7953"
             ],
             [
              0.7777777777777778,
              "#fb9f3a"
             ],
             [
              0.8888888888888888,
              "#fdca26"
             ],
             [
              1,
              "#f0f921"
             ]
            ],
            "type": "histogram2d"
           }
          ],
          "histogram2dcontour": [
           {
            "colorbar": {
             "outlinewidth": 0,
             "ticks": ""
            },
            "colorscale": [
             [
              0,
              "#0d0887"
             ],
             [
              0.1111111111111111,
              "#46039f"
             ],
             [
              0.2222222222222222,
              "#7201a8"
             ],
             [
              0.3333333333333333,
              "#9c179e"
             ],
             [
              0.4444444444444444,
              "#bd3786"
             ],
             [
              0.5555555555555556,
              "#d8576b"
             ],
             [
              0.6666666666666666,
              "#ed7953"
             ],
             [
              0.7777777777777778,
              "#fb9f3a"
             ],
             [
              0.8888888888888888,
              "#fdca26"
             ],
             [
              1,
              "#f0f921"
             ]
            ],
            "type": "histogram2dcontour"
           }
          ],
          "mesh3d": [
           {
            "colorbar": {
             "outlinewidth": 0,
             "ticks": ""
            },
            "type": "mesh3d"
           }
          ],
          "parcoords": [
           {
            "line": {
             "colorbar": {
              "outlinewidth": 0,
              "ticks": ""
             }
            },
            "type": "parcoords"
           }
          ],
          "pie": [
           {
            "automargin": true,
            "type": "pie"
           }
          ],
          "scatter": [
           {
            "marker": {
             "colorbar": {
              "outlinewidth": 0,
              "ticks": ""
             }
            },
            "type": "scatter"
           }
          ],
          "scatter3d": [
           {
            "line": {
             "colorbar": {
              "outlinewidth": 0,
              "ticks": ""
             }
            },
            "marker": {
             "colorbar": {
              "outlinewidth": 0,
              "ticks": ""
             }
            },
            "type": "scatter3d"
           }
          ],
          "scattercarpet": [
           {
            "marker": {
             "colorbar": {
              "outlinewidth": 0,
              "ticks": ""
             }
            },
            "type": "scattercarpet"
           }
          ],
          "scattergeo": [
           {
            "marker": {
             "colorbar": {
              "outlinewidth": 0,
              "ticks": ""
             }
            },
            "type": "scattergeo"
           }
          ],
          "scattergl": [
           {
            "marker": {
             "colorbar": {
              "outlinewidth": 0,
              "ticks": ""
             }
            },
            "type": "scattergl"
           }
          ],
          "scattermapbox": [
           {
            "marker": {
             "colorbar": {
              "outlinewidth": 0,
              "ticks": ""
             }
            },
            "type": "scattermapbox"
           }
          ],
          "scatterpolar": [
           {
            "marker": {
             "colorbar": {
              "outlinewidth": 0,
              "ticks": ""
             }
            },
            "type": "scatterpolar"
           }
          ],
          "scatterpolargl": [
           {
            "marker": {
             "colorbar": {
              "outlinewidth": 0,
              "ticks": ""
             }
            },
            "type": "scatterpolargl"
           }
          ],
          "scatterternary": [
           {
            "marker": {
             "colorbar": {
              "outlinewidth": 0,
              "ticks": ""
             }
            },
            "type": "scatterternary"
           }
          ],
          "surface": [
           {
            "colorbar": {
             "outlinewidth": 0,
             "ticks": ""
            },
            "colorscale": [
             [
              0,
              "#0d0887"
             ],
             [
              0.1111111111111111,
              "#46039f"
             ],
             [
              0.2222222222222222,
              "#7201a8"
             ],
             [
              0.3333333333333333,
              "#9c179e"
             ],
             [
              0.4444444444444444,
              "#bd3786"
             ],
             [
              0.5555555555555556,
              "#d8576b"
             ],
             [
              0.6666666666666666,
              "#ed7953"
             ],
             [
              0.7777777777777778,
              "#fb9f3a"
             ],
             [
              0.8888888888888888,
              "#fdca26"
             ],
             [
              1,
              "#f0f921"
             ]
            ],
            "type": "surface"
           }
          ],
          "table": [
           {
            "cells": {
             "fill": {
              "color": "#EBF0F8"
             },
             "line": {
              "color": "white"
             }
            },
            "header": {
             "fill": {
              "color": "#C8D4E3"
             },
             "line": {
              "color": "white"
             }
            },
            "type": "table"
           }
          ]
         },
         "layout": {
          "annotationdefaults": {
           "arrowcolor": "#2a3f5f",
           "arrowhead": 0,
           "arrowwidth": 1
          },
          "autotypenumbers": "strict",
          "coloraxis": {
           "colorbar": {
            "outlinewidth": 0,
            "ticks": ""
           }
          },
          "colorscale": {
           "diverging": [
            [
             0,
             "#8e0152"
            ],
            [
             0.1,
             "#c51b7d"
            ],
            [
             0.2,
             "#de77ae"
            ],
            [
             0.3,
             "#f1b6da"
            ],
            [
             0.4,
             "#fde0ef"
            ],
            [
             0.5,
             "#f7f7f7"
            ],
            [
             0.6,
             "#e6f5d0"
            ],
            [
             0.7,
             "#b8e186"
            ],
            [
             0.8,
             "#7fbc41"
            ],
            [
             0.9,
             "#4d9221"
            ],
            [
             1,
             "#276419"
            ]
           ],
           "sequential": [
            [
             0,
             "#0d0887"
            ],
            [
             0.1111111111111111,
             "#46039f"
            ],
            [
             0.2222222222222222,
             "#7201a8"
            ],
            [
             0.3333333333333333,
             "#9c179e"
            ],
            [
             0.4444444444444444,
             "#bd3786"
            ],
            [
             0.5555555555555556,
             "#d8576b"
            ],
            [
             0.6666666666666666,
             "#ed7953"
            ],
            [
             0.7777777777777778,
             "#fb9f3a"
            ],
            [
             0.8888888888888888,
             "#fdca26"
            ],
            [
             1,
             "#f0f921"
            ]
           ],
           "sequentialminus": [
            [
             0,
             "#0d0887"
            ],
            [
             0.1111111111111111,
             "#46039f"
            ],
            [
             0.2222222222222222,
             "#7201a8"
            ],
            [
             0.3333333333333333,
             "#9c179e"
            ],
            [
             0.4444444444444444,
             "#bd3786"
            ],
            [
             0.5555555555555556,
             "#d8576b"
            ],
            [
             0.6666666666666666,
             "#ed7953"
            ],
            [
             0.7777777777777778,
             "#fb9f3a"
            ],
            [
             0.8888888888888888,
             "#fdca26"
            ],
            [
             1,
             "#f0f921"
            ]
           ]
          },
          "colorway": [
           "#636efa",
           "#EF553B",
           "#00cc96",
           "#ab63fa",
           "#FFA15A",
           "#19d3f3",
           "#FF6692",
           "#B6E880",
           "#FF97FF",
           "#FECB52"
          ],
          "font": {
           "color": "#2a3f5f"
          },
          "geo": {
           "bgcolor": "white",
           "lakecolor": "white",
           "landcolor": "#E5ECF6",
           "showlakes": true,
           "showland": true,
           "subunitcolor": "white"
          },
          "hoverlabel": {
           "align": "left"
          },
          "hovermode": "closest",
          "mapbox": {
           "style": "light"
          },
          "paper_bgcolor": "white",
          "plot_bgcolor": "#E5ECF6",
          "polar": {
           "angularaxis": {
            "gridcolor": "white",
            "linecolor": "white",
            "ticks": ""
           },
           "bgcolor": "#E5ECF6",
           "radialaxis": {
            "gridcolor": "white",
            "linecolor": "white",
            "ticks": ""
           }
          },
          "scene": {
           "xaxis": {
            "backgroundcolor": "#E5ECF6",
            "gridcolor": "white",
            "gridwidth": 2,
            "linecolor": "white",
            "showbackground": true,
            "ticks": "",
            "zerolinecolor": "white"
           },
           "yaxis": {
            "backgroundcolor": "#E5ECF6",
            "gridcolor": "white",
            "gridwidth": 2,
            "linecolor": "white",
            "showbackground": true,
            "ticks": "",
            "zerolinecolor": "white"
           },
           "zaxis": {
            "backgroundcolor": "#E5ECF6",
            "gridcolor": "white",
            "gridwidth": 2,
            "linecolor": "white",
            "showbackground": true,
            "ticks": "",
            "zerolinecolor": "white"
           }
          },
          "shapedefaults": {
           "line": {
            "color": "#2a3f5f"
           }
          },
          "ternary": {
           "aaxis": {
            "gridcolor": "white",
            "linecolor": "white",
            "ticks": ""
           },
           "baxis": {
            "gridcolor": "white",
            "linecolor": "white",
            "ticks": ""
           },
           "bgcolor": "#E5ECF6",
           "caxis": {
            "gridcolor": "white",
            "linecolor": "white",
            "ticks": ""
           }
          },
          "title": {
           "x": 0.05
          },
          "xaxis": {
           "automargin": true,
           "gridcolor": "white",
           "linecolor": "white",
           "ticks": "",
           "title": {
            "standoff": 15
           },
           "zerolinecolor": "white",
           "zerolinewidth": 2
          },
          "yaxis": {
           "automargin": true,
           "gridcolor": "white",
           "linecolor": "white",
           "ticks": "",
           "title": {
            "standoff": 15
           },
           "zerolinecolor": "white",
           "zerolinewidth": 2
          }
         }
        },
        "title": {
         "text": "Countries with Deaths Reported"
        }
       }
      },
      "text/html": [
       "<div>                            <div id=\"610abab6-4523-46e9-b624-41076bd3c7c0\" class=\"plotly-graph-div\" style=\"height:525px; width:100%;\"></div>            <script type=\"text/javascript\">                require([\"plotly\"], function(Plotly) {                    window.PLOTLYENV=window.PLOTLYENV || {};                                    if (document.getElementById(\"610abab6-4523-46e9-b624-41076bd3c7c0\")) {                    Plotly.newPlot(                        \"610abab6-4523-46e9-b624-41076bd3c7c0\",                        [{\"coloraxis\": \"coloraxis\", \"geo\": \"geo\", \"hovertemplate\": \"Last_Update=2021-05-12 08:20:40<br>Country=%{location}<br>Deaths=%{z}<extra></extra>\", \"locationmode\": \"country names\", \"locations\": [\"Afghanistan\", \"Albania\", \"Algeria\", \"Andorra\", \"Angola\", \"Antigua and Barbuda\", \"Argentina\", \"Armenia\", \"Australia\", \"Austria\", \"Azerbaijan\", \"Bahamas\", \"Bahrain\", \"Bangladesh\", \"Barbados\", \"Belarus\", \"Belgium\", \"Belize\", \"Benin\", \"Bhutan\", \"Bolivia\", \"Bosnia and Herzegovina\", \"Botswana\", \"Brazil\", \"Brunei\", \"Bulgaria\", \"Burkina Faso\", \"Burma\", \"Burundi\", \"Cabo Verde\", \"Cambodia\", \"Cameroon\", \"Canada\", \"Central African Republic\", \"Chad\", \"Chile\", \"China\", \"Colombia\", \"Comoros\", \"Congo (Brazzaville)\", \"Congo (Kinshasa)\", \"Costa Rica\", \"Cote d'Ivoire\", \"Croatia\", \"Cuba\", \"Cyprus\", \"Czechia\", \"Denmark\", \"Diamond Princess\", \"Djibouti\", \"Dominica\", \"Dominican Republic\", \"Ecuador\", \"Egypt\", \"El Salvador\", \"Equatorial Guinea\", \"Eritrea\", \"Estonia\", \"Eswatini\", \"Ethiopia\", \"Fiji\", \"Finland\", \"France\", \"Gabon\", \"Gambia\", \"Georgia\", \"Germany\", \"Ghana\", \"Greece\", \"Grenada\", \"Guatemala\", \"Guinea\", \"Guinea-Bissau\", \"Guyana\", \"Haiti\", \"Holy See\", \"Honduras\", \"Hungary\", \"Iceland\", \"India\", \"Indonesia\", \"Iran\", \"Iraq\", \"Ireland\", \"Israel\", \"Italy\", \"Jamaica\", \"Japan\", \"Jordan\", \"Kazakhstan\", \"Kenya\", \"Korea, South\", \"Kosovo\", \"Kuwait\", \"Kyrgyzstan\", \"Laos\", \"Latvia\", \"Lebanon\", \"Lesotho\", \"Liberia\", \"Libya\", \"Liechtenstein\", \"Lithuania\", \"Luxembourg\", \"MS Zaandam\", \"Madagascar\", \"Malawi\", \"Malaysia\", \"Maldives\", \"Mali\", \"Malta\", \"Marshall Islands\", \"Mauritania\", \"Mauritius\", \"Mexico\", \"Micronesia\", \"Moldova\", \"Monaco\", \"Mongolia\", \"Montenegro\", \"Morocco\", \"Mozambique\", \"Namibia\", \"Nepal\", \"Netherlands\", \"New Zealand\", \"Nicaragua\", \"Niger\", \"Nigeria\", \"North Macedonia\", \"Norway\", \"Oman\", \"Pakistan\", \"Panama\", \"Papua New Guinea\", \"Paraguay\", \"Peru\", \"Philippines\", \"Poland\", \"Portugal\", \"Qatar\", \"Romania\", \"Russia\", \"Rwanda\", \"Saint Kitts and Nevis\", \"Saint Lucia\", \"Saint Vincent and the Grenadines\", \"Samoa\", \"San Marino\", \"Sao Tome and Principe\", \"Saudi Arabia\", \"Senegal\", \"Serbia\", \"Seychelles\", \"Sierra Leone\", \"Singapore\", \"Slovakia\", \"Slovenia\", \"Solomon Islands\", \"Somalia\", \"South Africa\", \"South Sudan\", \"Spain\", \"Sri Lanka\", \"Sudan\", \"Suriname\", \"Sweden\", \"Switzerland\", \"Syria\", \"Taiwan*\", \"Tajikistan\", \"Tanzania\", \"Thailand\", \"Timor-Leste\", \"Togo\", \"Trinidad and Tobago\", \"Tunisia\", \"Turkey\", \"US\", \"Uganda\", \"Ukraine\", \"United Arab Emirates\", \"United Kingdom\", \"Uruguay\", \"Uzbekistan\", \"Vanuatu\", \"Venezuela\", \"Vietnam\", \"West Bank and Gaza\", \"Yemen\", \"Zambia\", \"Zimbabwe\"], \"name\": \"\", \"type\": \"choropleth\", \"z\": [2710.0, 2420.0, 3343.0, 127.0, 639.0, 32.0, 68311.0, 4272.0, 910.0, 10413.0, 4713.0, 214.0, 697.0, 12005.0, 45.0, 2652.0, 24609.0, 323.0, 101.0, 1.0, 13258.0, 8912.0, 751.0, 425540.0, 3.0, 17104.0, 164.0, 3210.0, 6.0, 236.0, 136.0, 1152.0, 24693.0, 93.0, 172.0, 27356.0, 4846.0, 78771.0, 146.0, 148.0, 775.0, 3456.0, 292.0, 7549.0, 755.0, 339.0, 29787.0, 2500.0, 13.0, 151.0, 0.0, 3550.0, 19286.0, 14033.0, 2168.0, 112.0, 12.0, 1210.0, 671.0, 3911.0, 3.0, 927.0, 107096.0, 143.0, 175.0, 4363.0, 85385.0, 783.0, 11141.0, 1.0, 7776.0, 151.0, 67.0, 331.0, 264.0, 0.0, 5789.0, 28888.0, 29.0, 254197.0, 47465.0, 75568.0, 15834.0, 4929.0, 6378.0, 123282.0, 814.0, 11058.0, 9151.0, 3382.0, 2928.0, 1884.0, 2218.0, 1660.0, 1675.0, 1.0, 2217.0, 7527.0, 319.0, 85.0, 3077.0, 58.0, 4059.0, 806.0, 2.0, 732.0, 1153.0, 1722.0, 87.0, 506.0, 417.0, 0.0, 456.0, 17.0, 219323.0, 0.0, 5970.0, 32.0, 184.0, 1545.0, 9083.0, 826.0, 696.0, 4084.0, 17648.0, 26.0, 184.0, 192.0, 2065.0, 5135.0, 767.0, 2148.0, 19210.0, 6282.0, 130.0, 7284.0, 64691.0, 18620.0, 70336.0, 16994.0, 516.0, 29135.0, 112063.0, 340.0, 0.0, 75.0, 12.0, 0.0, 90.0, 35.0, 7098.0, 1120.0, 6594.0, 28.0, 79.0, 31.0, 12077.0, 4302.0, 0.0, 753.0, 54896.0, 115.0, 79100.0, 850.0, 2446.0, 220.0, 14217.0, 10722.0, 1670.0, 12.0, 90.0, 21.0, 486.0, 5.0, 125.0, 224.0, 11556.0, 43589.0, 582848.0, 346.0, 48900.0, 1617.0, 127890.0, 3208.0, 666.0, 1.0, 2320.0, 35.0, 3393.0, 1276.0, 1258.0, 1579.0]}],                        {\"coloraxis\": {\"colorbar\": {\"title\": {\"text\": \"Deaths\"}}, \"colorscale\": [[0.0, \"#0d0887\"], [0.1111111111111111, \"#46039f\"], [0.2222222222222222, \"#7201a8\"], [0.3333333333333333, \"#9c179e\"], [0.4444444444444444, \"#bd3786\"], [0.5555555555555556, \"#d8576b\"], [0.6666666666666666, \"#ed7953\"], [0.7777777777777778, \"#fb9f3a\"], [0.8888888888888888, \"#fdca26\"], [1.0, \"#f0f921\"]]}, \"geo\": {\"center\": {}, \"domain\": {\"x\": [0.0, 1.0], \"y\": [0.0, 1.0]}}, \"legend\": {\"tracegroupgap\": 0}, \"margin\": {\"t\": 60}, \"template\": {\"data\": {\"bar\": [{\"error_x\": {\"color\": \"#2a3f5f\"}, \"error_y\": {\"color\": \"#2a3f5f\"}, \"marker\": {\"line\": {\"color\": \"#E5ECF6\", \"width\": 0.5}}, \"type\": \"bar\"}], \"barpolar\": [{\"marker\": {\"line\": {\"color\": \"#E5ECF6\", \"width\": 0.5}}, \"type\": \"barpolar\"}], \"carpet\": [{\"aaxis\": {\"endlinecolor\": \"#2a3f5f\", \"gridcolor\": \"white\", \"linecolor\": \"white\", \"minorgridcolor\": \"white\", \"startlinecolor\": \"#2a3f5f\"}, \"baxis\": {\"endlinecolor\": \"#2a3f5f\", \"gridcolor\": \"white\", \"linecolor\": \"white\", \"minorgridcolor\": \"white\", \"startlinecolor\": \"#2a3f5f\"}, \"type\": \"carpet\"}], \"choropleth\": [{\"colorbar\": {\"outlinewidth\": 0, \"ticks\": \"\"}, \"type\": \"choropleth\"}], \"contour\": [{\"colorbar\": {\"outlinewidth\": 0, \"ticks\": \"\"}, \"colorscale\": [[0.0, \"#0d0887\"], [0.1111111111111111, \"#46039f\"], [0.2222222222222222, \"#7201a8\"], [0.3333333333333333, \"#9c179e\"], [0.4444444444444444, \"#bd3786\"], [0.5555555555555556, \"#d8576b\"], [0.6666666666666666, \"#ed7953\"], [0.7777777777777778, \"#fb9f3a\"], [0.8888888888888888, \"#fdca26\"], [1.0, \"#f0f921\"]], \"type\": \"contour\"}], \"contourcarpet\": [{\"colorbar\": {\"outlinewidth\": 0, \"ticks\": \"\"}, \"type\": \"contourcarpet\"}], \"heatmap\": [{\"colorbar\": {\"outlinewidth\": 0, \"ticks\": \"\"}, \"colorscale\": [[0.0, \"#0d0887\"], [0.1111111111111111, \"#46039f\"], [0.2222222222222222, \"#7201a8\"], [0.3333333333333333, \"#9c179e\"], [0.4444444444444444, \"#bd3786\"], [0.5555555555555556, \"#d8576b\"], [0.6666666666666666, \"#ed7953\"], [0.7777777777777778, \"#fb9f3a\"], [0.8888888888888888, \"#fdca26\"], [1.0, \"#f0f921\"]], \"type\": \"heatmap\"}], \"heatmapgl\": [{\"colorbar\": {\"outlinewidth\": 0, \"ticks\": \"\"}, \"colorscale\": [[0.0, \"#0d0887\"], [0.1111111111111111, \"#46039f\"], [0.2222222222222222, \"#7201a8\"], [0.3333333333333333, \"#9c179e\"], [0.4444444444444444, \"#bd3786\"], [0.5555555555555556, \"#d8576b\"], [0.6666666666666666, \"#ed7953\"], [0.7777777777777778, \"#fb9f3a\"], [0.8888888888888888, \"#fdca26\"], [1.0, \"#f0f921\"]], \"type\": \"heatmapgl\"}], \"histogram\": [{\"marker\": {\"colorbar\": {\"outlinewidth\": 0, \"ticks\": \"\"}}, \"type\": \"histogram\"}], \"histogram2d\": [{\"colorbar\": {\"outlinewidth\": 0, \"ticks\": \"\"}, \"colorscale\": [[0.0, \"#0d0887\"], [0.1111111111111111, \"#46039f\"], [0.2222222222222222, \"#7201a8\"], [0.3333333333333333, \"#9c179e\"], [0.4444444444444444, \"#bd3786\"], [0.5555555555555556, \"#d8576b\"], [0.6666666666666666, \"#ed7953\"], [0.7777777777777778, \"#fb9f3a\"], [0.8888888888888888, \"#fdca26\"], [1.0, \"#f0f921\"]], \"type\": \"histogram2d\"}], \"histogram2dcontour\": [{\"colorbar\": {\"outlinewidth\": 0, \"ticks\": \"\"}, \"colorscale\": [[0.0, \"#0d0887\"], [0.1111111111111111, \"#46039f\"], [0.2222222222222222, \"#7201a8\"], [0.3333333333333333, \"#9c179e\"], [0.4444444444444444, \"#bd3786\"], [0.5555555555555556, \"#d8576b\"], [0.6666666666666666, \"#ed7953\"], [0.7777777777777778, \"#fb9f3a\"], [0.8888888888888888, \"#fdca26\"], [1.0, \"#f0f921\"]], \"type\": \"histogram2dcontour\"}], \"mesh3d\": [{\"colorbar\": {\"outlinewidth\": 0, \"ticks\": \"\"}, \"type\": \"mesh3d\"}], \"parcoords\": [{\"line\": {\"colorbar\": {\"outlinewidth\": 0, \"ticks\": \"\"}}, \"type\": \"parcoords\"}], \"pie\": [{\"automargin\": true, \"type\": \"pie\"}], \"scatter\": [{\"marker\": {\"colorbar\": {\"outlinewidth\": 0, \"ticks\": \"\"}}, \"type\": \"scatter\"}], \"scatter3d\": [{\"line\": {\"colorbar\": {\"outlinewidth\": 0, \"ticks\": \"\"}}, \"marker\": {\"colorbar\": {\"outlinewidth\": 0, \"ticks\": \"\"}}, \"type\": \"scatter3d\"}], \"scattercarpet\": [{\"marker\": {\"colorbar\": {\"outlinewidth\": 0, \"ticks\": \"\"}}, \"type\": \"scattercarpet\"}], \"scattergeo\": [{\"marker\": {\"colorbar\": {\"outlinewidth\": 0, \"ticks\": \"\"}}, \"type\": \"scattergeo\"}], \"scattergl\": [{\"marker\": {\"colorbar\": {\"outlinewidth\": 0, \"ticks\": \"\"}}, \"type\": \"scattergl\"}], \"scattermapbox\": [{\"marker\": {\"colorbar\": {\"outlinewidth\": 0, \"ticks\": \"\"}}, \"type\": \"scattermapbox\"}], \"scatterpolar\": [{\"marker\": {\"colorbar\": {\"outlinewidth\": 0, \"ticks\": \"\"}}, \"type\": \"scatterpolar\"}], \"scatterpolargl\": [{\"marker\": {\"colorbar\": {\"outlinewidth\": 0, \"ticks\": \"\"}}, \"type\": \"scatterpolargl\"}], \"scatterternary\": [{\"marker\": {\"colorbar\": {\"outlinewidth\": 0, \"ticks\": \"\"}}, \"type\": \"scatterternary\"}], \"surface\": [{\"colorbar\": {\"outlinewidth\": 0, \"ticks\": \"\"}, \"colorscale\": [[0.0, \"#0d0887\"], [0.1111111111111111, \"#46039f\"], [0.2222222222222222, \"#7201a8\"], [0.3333333333333333, \"#9c179e\"], [0.4444444444444444, \"#bd3786\"], [0.5555555555555556, \"#d8576b\"], [0.6666666666666666, \"#ed7953\"], [0.7777777777777778, \"#fb9f3a\"], [0.8888888888888888, \"#fdca26\"], [1.0, \"#f0f921\"]], \"type\": \"surface\"}], \"table\": [{\"cells\": {\"fill\": {\"color\": \"#EBF0F8\"}, \"line\": {\"color\": \"white\"}}, \"header\": {\"fill\": {\"color\": \"#C8D4E3\"}, \"line\": {\"color\": \"white\"}}, \"type\": \"table\"}]}, \"layout\": {\"annotationdefaults\": {\"arrowcolor\": \"#2a3f5f\", \"arrowhead\": 0, \"arrowwidth\": 1}, \"autotypenumbers\": \"strict\", \"coloraxis\": {\"colorbar\": {\"outlinewidth\": 0, \"ticks\": \"\"}}, \"colorscale\": {\"diverging\": [[0, \"#8e0152\"], [0.1, \"#c51b7d\"], [0.2, \"#de77ae\"], [0.3, \"#f1b6da\"], [0.4, \"#fde0ef\"], [0.5, \"#f7f7f7\"], [0.6, \"#e6f5d0\"], [0.7, \"#b8e186\"], [0.8, \"#7fbc41\"], [0.9, \"#4d9221\"], [1, \"#276419\"]], \"sequential\": [[0.0, \"#0d0887\"], [0.1111111111111111, \"#46039f\"], [0.2222222222222222, \"#7201a8\"], [0.3333333333333333, \"#9c179e\"], [0.4444444444444444, \"#bd3786\"], [0.5555555555555556, \"#d8576b\"], [0.6666666666666666, \"#ed7953\"], [0.7777777777777778, \"#fb9f3a\"], [0.8888888888888888, \"#fdca26\"], [1.0, \"#f0f921\"]], \"sequentialminus\": [[0.0, \"#0d0887\"], [0.1111111111111111, \"#46039f\"], [0.2222222222222222, \"#7201a8\"], [0.3333333333333333, \"#9c179e\"], [0.4444444444444444, \"#bd3786\"], [0.5555555555555556, \"#d8576b\"], [0.6666666666666666, \"#ed7953\"], [0.7777777777777778, \"#fb9f3a\"], [0.8888888888888888, \"#fdca26\"], [1.0, \"#f0f921\"]]}, \"colorway\": [\"#636efa\", \"#EF553B\", \"#00cc96\", \"#ab63fa\", \"#FFA15A\", \"#19d3f3\", \"#FF6692\", \"#B6E880\", \"#FF97FF\", \"#FECB52\"], \"font\": {\"color\": \"#2a3f5f\"}, \"geo\": {\"bgcolor\": \"white\", \"lakecolor\": \"white\", \"landcolor\": \"#E5ECF6\", \"showlakes\": true, \"showland\": true, \"subunitcolor\": \"white\"}, \"hoverlabel\": {\"align\": \"left\"}, \"hovermode\": \"closest\", \"mapbox\": {\"style\": \"light\"}, \"paper_bgcolor\": \"white\", \"plot_bgcolor\": \"#E5ECF6\", \"polar\": {\"angularaxis\": {\"gridcolor\": \"white\", \"linecolor\": \"white\", \"ticks\": \"\"}, \"bgcolor\": \"#E5ECF6\", \"radialaxis\": {\"gridcolor\": \"white\", \"linecolor\": \"white\", \"ticks\": \"\"}}, \"scene\": {\"xaxis\": {\"backgroundcolor\": \"#E5ECF6\", \"gridcolor\": \"white\", \"gridwidth\": 2, \"linecolor\": \"white\", \"showbackground\": true, \"ticks\": \"\", \"zerolinecolor\": \"white\"}, \"yaxis\": {\"backgroundcolor\": \"#E5ECF6\", \"gridcolor\": \"white\", \"gridwidth\": 2, \"linecolor\": \"white\", \"showbackground\": true, \"ticks\": \"\", \"zerolinecolor\": \"white\"}, \"zaxis\": {\"backgroundcolor\": \"#E5ECF6\", \"gridcolor\": \"white\", \"gridwidth\": 2, \"linecolor\": \"white\", \"showbackground\": true, \"ticks\": \"\", \"zerolinecolor\": \"white\"}}, \"shapedefaults\": {\"line\": {\"color\": \"#2a3f5f\"}}, \"ternary\": {\"aaxis\": {\"gridcolor\": \"white\", \"linecolor\": \"white\", \"ticks\": \"\"}, \"baxis\": {\"gridcolor\": \"white\", \"linecolor\": \"white\", \"ticks\": \"\"}, \"bgcolor\": \"#E5ECF6\", \"caxis\": {\"gridcolor\": \"white\", \"linecolor\": \"white\", \"ticks\": \"\"}}, \"title\": {\"x\": 0.05}, \"xaxis\": {\"automargin\": true, \"gridcolor\": \"white\", \"linecolor\": \"white\", \"ticks\": \"\", \"title\": {\"standoff\": 15}, \"zerolinecolor\": \"white\", \"zerolinewidth\": 2}, \"yaxis\": {\"automargin\": true, \"gridcolor\": \"white\", \"linecolor\": \"white\", \"ticks\": \"\", \"title\": {\"standoff\": 15}, \"zerolinecolor\": \"white\", \"zerolinewidth\": 2}}}, \"title\": {\"text\": \"Countries with Deaths Reported\"}},                        {\"responsive\": true}                    ).then(function(){\n",
       "                            \n",
       "var gd = document.getElementById('610abab6-4523-46e9-b624-41076bd3c7c0');\n",
       "var x = new MutationObserver(function (mutations, observer) {{\n",
       "        var display = window.getComputedStyle(gd).display;\n",
       "        if (!display || display === 'none') {{\n",
       "            console.log([gd, 'removed!']);\n",
       "            Plotly.purge(gd);\n",
       "            observer.disconnect();\n",
       "        }}\n",
       "}});\n",
       "\n",
       "// Listen for the removal of the full notebook cells\n",
       "var notebookContainer = gd.closest('#notebook-container');\n",
       "if (notebookContainer) {{\n",
       "    x.observe(notebookContainer, {childList: true});\n",
       "}}\n",
       "\n",
       "// Listen for the clearing of the current output cell\n",
       "var outputEl = gd.closest('.output');\n",
       "if (outputEl) {{\n",
       "    x.observe(outputEl, {childList: true});\n",
       "}}\n",
       "\n",
       "                        })                };                });            </script>        </div>"
      ]
     },
     "metadata": {},
     "output_type": "display_data"
    },
    {
     "data": {
      "application/vnd.plotly.v1+json": {
       "config": {
        "plotlyServerURL": "https://plot.ly"
       },
       "data": [
        {
         "coloraxis": "coloraxis",
         "geo": "geo",
         "hovertemplate": "Last_Update=2021-05-12 08:20:40<br>Country=%{location}<br>Recovered=%{z}<extra></extra>",
         "locationmode": "country names",
         "locations": [
          "Afghanistan",
          "Albania",
          "Algeria",
          "Andorra",
          "Angola",
          "Antigua and Barbuda",
          "Argentina",
          "Armenia",
          "Australia",
          "Austria",
          "Azerbaijan",
          "Bahamas",
          "Bahrain",
          "Bangladesh",
          "Barbados",
          "Belarus",
          "Belgium",
          "Belize",
          "Benin",
          "Bhutan",
          "Bolivia",
          "Bosnia and Herzegovina",
          "Botswana",
          "Brazil",
          "Brunei",
          "Bulgaria",
          "Burkina Faso",
          "Burma",
          "Burundi",
          "Cabo Verde",
          "Cambodia",
          "Cameroon",
          "Canada",
          "Central African Republic",
          "Chad",
          "Chile",
          "China",
          "Colombia",
          "Comoros",
          "Congo (Brazzaville)",
          "Congo (Kinshasa)",
          "Costa Rica",
          "Cote d'Ivoire",
          "Croatia",
          "Cuba",
          "Cyprus",
          "Czechia",
          "Denmark",
          "Diamond Princess",
          "Djibouti",
          "Dominica",
          "Dominican Republic",
          "Ecuador",
          "Egypt",
          "El Salvador",
          "Equatorial Guinea",
          "Eritrea",
          "Estonia",
          "Eswatini",
          "Ethiopia",
          "Fiji",
          "Finland",
          "France",
          "Gabon",
          "Gambia",
          "Georgia",
          "Germany",
          "Ghana",
          "Greece",
          "Grenada",
          "Guatemala",
          "Guinea",
          "Guinea-Bissau",
          "Guyana",
          "Haiti",
          "Holy See",
          "Honduras",
          "Hungary",
          "Iceland",
          "India",
          "Indonesia",
          "Iran",
          "Iraq",
          "Ireland",
          "Israel",
          "Italy",
          "Jamaica",
          "Japan",
          "Jordan",
          "Kazakhstan",
          "Kenya",
          "Korea, South",
          "Kosovo",
          "Kuwait",
          "Kyrgyzstan",
          "Laos",
          "Latvia",
          "Lebanon",
          "Lesotho",
          "Liberia",
          "Libya",
          "Liechtenstein",
          "Lithuania",
          "Luxembourg",
          "MS Zaandam",
          "Madagascar",
          "Malawi",
          "Malaysia",
          "Maldives",
          "Mali",
          "Malta",
          "Marshall Islands",
          "Mauritania",
          "Mauritius",
          "Mexico",
          "Micronesia",
          "Moldova",
          "Monaco",
          "Mongolia",
          "Montenegro",
          "Morocco",
          "Mozambique",
          "Namibia",
          "Nepal",
          "Netherlands",
          "New Zealand",
          "Nicaragua",
          "Niger",
          "Nigeria",
          "North Macedonia",
          "Norway",
          "Oman",
          "Pakistan",
          "Panama",
          "Papua New Guinea",
          "Paraguay",
          "Peru",
          "Philippines",
          "Poland",
          "Portugal",
          "Qatar",
          "Romania",
          "Russia",
          "Rwanda",
          "Saint Kitts and Nevis",
          "Saint Lucia",
          "Saint Vincent and the Grenadines",
          "Samoa",
          "San Marino",
          "Sao Tome and Principe",
          "Saudi Arabia",
          "Senegal",
          "Serbia",
          "Seychelles",
          "Sierra Leone",
          "Singapore",
          "Slovakia",
          "Slovenia",
          "Solomon Islands",
          "Somalia",
          "South Africa",
          "South Sudan",
          "Spain",
          "Sri Lanka",
          "Sudan",
          "Suriname",
          "Sweden",
          "Switzerland",
          "Syria",
          "Taiwan*",
          "Tajikistan",
          "Tanzania",
          "Thailand",
          "Timor-Leste",
          "Togo",
          "Trinidad and Tobago",
          "Tunisia",
          "Turkey",
          "US",
          "Uganda",
          "Ukraine",
          "United Arab Emirates",
          "United Kingdom",
          "Uruguay",
          "Uzbekistan",
          "Vanuatu",
          "Venezuela",
          "Vietnam",
          "West Bank and Gaza",
          "Yemen",
          "Zambia",
          "Zimbabwe"
         ],
         "name": "",
         "type": "choropleth",
         "z": [
          54534,
          119061,
          86703,
          13070,
          25145,
          1179,
          2854364,
          206078,
          23466,
          607712,
          308317,
          9854,
          177212,
          715321,
          3870,
          360916,
          null,
          12307,
          7652,
          1101,
          262970,
          166887,
          46290,
          13592463,
          218,
          353619,
          13180,
          132050,
          773,
          23692,
          8539,
          35261,
          1209322,
          5112,
          4661,
          1193927,
          97413,
          2848153,
          3688,
          8208,
          26434,
          216191,
          45910,
          330329,
          111325,
          39061,
          1586400,
          247596,
          699,
          11182,
          175,
          232325,
          342878,
          178241,
          65921,
          7279,
          3627,
          117108,
          17784,
          212567,
          106,
          46000,
          373975,
          20051,
          5648,
          304935,
          3231060,
          90697,
          93764,
          158,
          215803,
          20341,
          3400,
          12443,
          12304,
          15,
          81973,
          592440,
          6409,
          19382642,
          1580207,
          2144197,
          1018167,
          23364,
          831742,
          3636089,
          22517,
          563972,
          707302,
          357030,
          113057,
          119373,
          98007,
          272123,
          92409,
          297,
          113430,
          489319,
          6427,
          1962,
          167043,
          2887,
          235265,
          65513,
          7,
          36633,
          32170,
          408236,
          26795,
          9073,
          29843,
          4,
          17918,
          1128,
          1891052,
          1,
          243877,
          2423,
          35733,
          95220,
          501404,
          67884,
          47518,
          312019,
          26344,
          2591,
          4225,
          4929,
          156358,
          138779,
          17998,
          186391,
          771692,
          357714,
          10833,
          250502,
          1807842,
          1038175,
          2580245,
          801306,
          203546,
          1017047,
          4458408,
          24333,
          44,
          4473,
          1741,
          2,
          4968,
          2269,
          412102,
          39428,
          null,
          5658,
          3093,
          60975,
          255300,
          233788,
          20,
          6325,
          1519258,
          10462,
          150376,
          106641,
          27949,
          9907,
          null,
          317600,
          19316,
          1093,
          13218,
          183,
          26873,
          1769,
          11694,
          9500,
          281554,
          4766124,
          null,
          41971,
          1848643,
          519405,
          15147,
          197085,
          90976,
          3,
          193089,
          2618,
          287932,
          3003,
          90539,
          36221
         ]
        }
       ],
       "layout": {
        "coloraxis": {
         "colorbar": {
          "title": {
           "text": "Recovered"
          }
         },
         "colorscale": [
          [
           0,
           "#0d0887"
          ],
          [
           0.1111111111111111,
           "#46039f"
          ],
          [
           0.2222222222222222,
           "#7201a8"
          ],
          [
           0.3333333333333333,
           "#9c179e"
          ],
          [
           0.4444444444444444,
           "#bd3786"
          ],
          [
           0.5555555555555556,
           "#d8576b"
          ],
          [
           0.6666666666666666,
           "#ed7953"
          ],
          [
           0.7777777777777778,
           "#fb9f3a"
          ],
          [
           0.8888888888888888,
           "#fdca26"
          ],
          [
           1,
           "#f0f921"
          ]
         ]
        },
        "geo": {
         "center": {},
         "domain": {
          "x": [
           0,
           1
          ],
          "y": [
           0,
           1
          ]
         }
        },
        "legend": {
         "tracegroupgap": 0
        },
        "margin": {
         "t": 60
        },
        "template": {
         "data": {
          "bar": [
           {
            "error_x": {
             "color": "#2a3f5f"
            },
            "error_y": {
             "color": "#2a3f5f"
            },
            "marker": {
             "line": {
              "color": "#E5ECF6",
              "width": 0.5
             }
            },
            "type": "bar"
           }
          ],
          "barpolar": [
           {
            "marker": {
             "line": {
              "color": "#E5ECF6",
              "width": 0.5
             }
            },
            "type": "barpolar"
           }
          ],
          "carpet": [
           {
            "aaxis": {
             "endlinecolor": "#2a3f5f",
             "gridcolor": "white",
             "linecolor": "white",
             "minorgridcolor": "white",
             "startlinecolor": "#2a3f5f"
            },
            "baxis": {
             "endlinecolor": "#2a3f5f",
             "gridcolor": "white",
             "linecolor": "white",
             "minorgridcolor": "white",
             "startlinecolor": "#2a3f5f"
            },
            "type": "carpet"
           }
          ],
          "choropleth": [
           {
            "colorbar": {
             "outlinewidth": 0,
             "ticks": ""
            },
            "type": "choropleth"
           }
          ],
          "contour": [
           {
            "colorbar": {
             "outlinewidth": 0,
             "ticks": ""
            },
            "colorscale": [
             [
              0,
              "#0d0887"
             ],
             [
              0.1111111111111111,
              "#46039f"
             ],
             [
              0.2222222222222222,
              "#7201a8"
             ],
             [
              0.3333333333333333,
              "#9c179e"
             ],
             [
              0.4444444444444444,
              "#bd3786"
             ],
             [
              0.5555555555555556,
              "#d8576b"
             ],
             [
              0.6666666666666666,
              "#ed7953"
             ],
             [
              0.7777777777777778,
              "#fb9f3a"
             ],
             [
              0.8888888888888888,
              "#fdca26"
             ],
             [
              1,
              "#f0f921"
             ]
            ],
            "type": "contour"
           }
          ],
          "contourcarpet": [
           {
            "colorbar": {
             "outlinewidth": 0,
             "ticks": ""
            },
            "type": "contourcarpet"
           }
          ],
          "heatmap": [
           {
            "colorbar": {
             "outlinewidth": 0,
             "ticks": ""
            },
            "colorscale": [
             [
              0,
              "#0d0887"
             ],
             [
              0.1111111111111111,
              "#46039f"
             ],
             [
              0.2222222222222222,
              "#7201a8"
             ],
             [
              0.3333333333333333,
              "#9c179e"
             ],
             [
              0.4444444444444444,
              "#bd3786"
             ],
             [
              0.5555555555555556,
              "#d8576b"
             ],
             [
              0.6666666666666666,
              "#ed7953"
             ],
             [
              0.7777777777777778,
              "#fb9f3a"
             ],
             [
              0.8888888888888888,
              "#fdca26"
             ],
             [
              1,
              "#f0f921"
             ]
            ],
            "type": "heatmap"
           }
          ],
          "heatmapgl": [
           {
            "colorbar": {
             "outlinewidth": 0,
             "ticks": ""
            },
            "colorscale": [
             [
              0,
              "#0d0887"
             ],
             [
              0.1111111111111111,
              "#46039f"
             ],
             [
              0.2222222222222222,
              "#7201a8"
             ],
             [
              0.3333333333333333,
              "#9c179e"
             ],
             [
              0.4444444444444444,
              "#bd3786"
             ],
             [
              0.5555555555555556,
              "#d8576b"
             ],
             [
              0.6666666666666666,
              "#ed7953"
             ],
             [
              0.7777777777777778,
              "#fb9f3a"
             ],
             [
              0.8888888888888888,
              "#fdca26"
             ],
             [
              1,
              "#f0f921"
             ]
            ],
            "type": "heatmapgl"
           }
          ],
          "histogram": [
           {
            "marker": {
             "colorbar": {
              "outlinewidth": 0,
              "ticks": ""
             }
            },
            "type": "histogram"
           }
          ],
          "histogram2d": [
           {
            "colorbar": {
             "outlinewidth": 0,
             "ticks": ""
            },
            "colorscale": [
             [
              0,
              "#0d0887"
             ],
             [
              0.1111111111111111,
              "#46039f"
             ],
             [
              0.2222222222222222,
              "#7201a8"
             ],
             [
              0.3333333333333333,
              "#9c179e"
             ],
             [
              0.4444444444444444,
              "#bd3786"
             ],
             [
              0.5555555555555556,
              "#d8576b"
             ],
             [
              0.6666666666666666,
              "#ed7953"
             ],
             [
              0.7777777777777778,
              "#fb9f3a"
             ],
             [
              0.8888888888888888,
              "#fdca26"
             ],
             [
              1,
              "#f0f921"
             ]
            ],
            "type": "histogram2d"
           }
          ],
          "histogram2dcontour": [
           {
            "colorbar": {
             "outlinewidth": 0,
             "ticks": ""
            },
            "colorscale": [
             [
              0,
              "#0d0887"
             ],
             [
              0.1111111111111111,
              "#46039f"
             ],
             [
              0.2222222222222222,
              "#7201a8"
             ],
             [
              0.3333333333333333,
              "#9c179e"
             ],
             [
              0.4444444444444444,
              "#bd3786"
             ],
             [
              0.5555555555555556,
              "#d8576b"
             ],
             [
              0.6666666666666666,
              "#ed7953"
             ],
             [
              0.7777777777777778,
              "#fb9f3a"
             ],
             [
              0.8888888888888888,
              "#fdca26"
             ],
             [
              1,
              "#f0f921"
             ]
            ],
            "type": "histogram2dcontour"
           }
          ],
          "mesh3d": [
           {
            "colorbar": {
             "outlinewidth": 0,
             "ticks": ""
            },
            "type": "mesh3d"
           }
          ],
          "parcoords": [
           {
            "line": {
             "colorbar": {
              "outlinewidth": 0,
              "ticks": ""
             }
            },
            "type": "parcoords"
           }
          ],
          "pie": [
           {
            "automargin": true,
            "type": "pie"
           }
          ],
          "scatter": [
           {
            "marker": {
             "colorbar": {
              "outlinewidth": 0,
              "ticks": ""
             }
            },
            "type": "scatter"
           }
          ],
          "scatter3d": [
           {
            "line": {
             "colorbar": {
              "outlinewidth": 0,
              "ticks": ""
             }
            },
            "marker": {
             "colorbar": {
              "outlinewidth": 0,
              "ticks": ""
             }
            },
            "type": "scatter3d"
           }
          ],
          "scattercarpet": [
           {
            "marker": {
             "colorbar": {
              "outlinewidth": 0,
              "ticks": ""
             }
            },
            "type": "scattercarpet"
           }
          ],
          "scattergeo": [
           {
            "marker": {
             "colorbar": {
              "outlinewidth": 0,
              "ticks": ""
             }
            },
            "type": "scattergeo"
           }
          ],
          "scattergl": [
           {
            "marker": {
             "colorbar": {
              "outlinewidth": 0,
              "ticks": ""
             }
            },
            "type": "scattergl"
           }
          ],
          "scattermapbox": [
           {
            "marker": {
             "colorbar": {
              "outlinewidth": 0,
              "ticks": ""
             }
            },
            "type": "scattermapbox"
           }
          ],
          "scatterpolar": [
           {
            "marker": {
             "colorbar": {
              "outlinewidth": 0,
              "ticks": ""
             }
            },
            "type": "scatterpolar"
           }
          ],
          "scatterpolargl": [
           {
            "marker": {
             "colorbar": {
              "outlinewidth": 0,
              "ticks": ""
             }
            },
            "type": "scatterpolargl"
           }
          ],
          "scatterternary": [
           {
            "marker": {
             "colorbar": {
              "outlinewidth": 0,
              "ticks": ""
             }
            },
            "type": "scatterternary"
           }
          ],
          "surface": [
           {
            "colorbar": {
             "outlinewidth": 0,
             "ticks": ""
            },
            "colorscale": [
             [
              0,
              "#0d0887"
             ],
             [
              0.1111111111111111,
              "#46039f"
             ],
             [
              0.2222222222222222,
              "#7201a8"
             ],
             [
              0.3333333333333333,
              "#9c179e"
             ],
             [
              0.4444444444444444,
              "#bd3786"
             ],
             [
              0.5555555555555556,
              "#d8576b"
             ],
             [
              0.6666666666666666,
              "#ed7953"
             ],
             [
              0.7777777777777778,
              "#fb9f3a"
             ],
             [
              0.8888888888888888,
              "#fdca26"
             ],
             [
              1,
              "#f0f921"
             ]
            ],
            "type": "surface"
           }
          ],
          "table": [
           {
            "cells": {
             "fill": {
              "color": "#EBF0F8"
             },
             "line": {
              "color": "white"
             }
            },
            "header": {
             "fill": {
              "color": "#C8D4E3"
             },
             "line": {
              "color": "white"
             }
            },
            "type": "table"
           }
          ]
         },
         "layout": {
          "annotationdefaults": {
           "arrowcolor": "#2a3f5f",
           "arrowhead": 0,
           "arrowwidth": 1
          },
          "autotypenumbers": "strict",
          "coloraxis": {
           "colorbar": {
            "outlinewidth": 0,
            "ticks": ""
           }
          },
          "colorscale": {
           "diverging": [
            [
             0,
             "#8e0152"
            ],
            [
             0.1,
             "#c51b7d"
            ],
            [
             0.2,
             "#de77ae"
            ],
            [
             0.3,
             "#f1b6da"
            ],
            [
             0.4,
             "#fde0ef"
            ],
            [
             0.5,
             "#f7f7f7"
            ],
            [
             0.6,
             "#e6f5d0"
            ],
            [
             0.7,
             "#b8e186"
            ],
            [
             0.8,
             "#7fbc41"
            ],
            [
             0.9,
             "#4d9221"
            ],
            [
             1,
             "#276419"
            ]
           ],
           "sequential": [
            [
             0,
             "#0d0887"
            ],
            [
             0.1111111111111111,
             "#46039f"
            ],
            [
             0.2222222222222222,
             "#7201a8"
            ],
            [
             0.3333333333333333,
             "#9c179e"
            ],
            [
             0.4444444444444444,
             "#bd3786"
            ],
            [
             0.5555555555555556,
             "#d8576b"
            ],
            [
             0.6666666666666666,
             "#ed7953"
            ],
            [
             0.7777777777777778,
             "#fb9f3a"
            ],
            [
             0.8888888888888888,
             "#fdca26"
            ],
            [
             1,
             "#f0f921"
            ]
           ],
           "sequentialminus": [
            [
             0,
             "#0d0887"
            ],
            [
             0.1111111111111111,
             "#46039f"
            ],
            [
             0.2222222222222222,
             "#7201a8"
            ],
            [
             0.3333333333333333,
             "#9c179e"
            ],
            [
             0.4444444444444444,
             "#bd3786"
            ],
            [
             0.5555555555555556,
             "#d8576b"
            ],
            [
             0.6666666666666666,
             "#ed7953"
            ],
            [
             0.7777777777777778,
             "#fb9f3a"
            ],
            [
             0.8888888888888888,
             "#fdca26"
            ],
            [
             1,
             "#f0f921"
            ]
           ]
          },
          "colorway": [
           "#636efa",
           "#EF553B",
           "#00cc96",
           "#ab63fa",
           "#FFA15A",
           "#19d3f3",
           "#FF6692",
           "#B6E880",
           "#FF97FF",
           "#FECB52"
          ],
          "font": {
           "color": "#2a3f5f"
          },
          "geo": {
           "bgcolor": "white",
           "lakecolor": "white",
           "landcolor": "#E5ECF6",
           "showlakes": true,
           "showland": true,
           "subunitcolor": "white"
          },
          "hoverlabel": {
           "align": "left"
          },
          "hovermode": "closest",
          "mapbox": {
           "style": "light"
          },
          "paper_bgcolor": "white",
          "plot_bgcolor": "#E5ECF6",
          "polar": {
           "angularaxis": {
            "gridcolor": "white",
            "linecolor": "white",
            "ticks": ""
           },
           "bgcolor": "#E5ECF6",
           "radialaxis": {
            "gridcolor": "white",
            "linecolor": "white",
            "ticks": ""
           }
          },
          "scene": {
           "xaxis": {
            "backgroundcolor": "#E5ECF6",
            "gridcolor": "white",
            "gridwidth": 2,
            "linecolor": "white",
            "showbackground": true,
            "ticks": "",
            "zerolinecolor": "white"
           },
           "yaxis": {
            "backgroundcolor": "#E5ECF6",
            "gridcolor": "white",
            "gridwidth": 2,
            "linecolor": "white",
            "showbackground": true,
            "ticks": "",
            "zerolinecolor": "white"
           },
           "zaxis": {
            "backgroundcolor": "#E5ECF6",
            "gridcolor": "white",
            "gridwidth": 2,
            "linecolor": "white",
            "showbackground": true,
            "ticks": "",
            "zerolinecolor": "white"
           }
          },
          "shapedefaults": {
           "line": {
            "color": "#2a3f5f"
           }
          },
          "ternary": {
           "aaxis": {
            "gridcolor": "white",
            "linecolor": "white",
            "ticks": ""
           },
           "baxis": {
            "gridcolor": "white",
            "linecolor": "white",
            "ticks": ""
           },
           "bgcolor": "#E5ECF6",
           "caxis": {
            "gridcolor": "white",
            "linecolor": "white",
            "ticks": ""
           }
          },
          "title": {
           "x": 0.05
          },
          "xaxis": {
           "automargin": true,
           "gridcolor": "white",
           "linecolor": "white",
           "ticks": "",
           "title": {
            "standoff": 15
           },
           "zerolinecolor": "white",
           "zerolinewidth": 2
          },
          "yaxis": {
           "automargin": true,
           "gridcolor": "white",
           "linecolor": "white",
           "ticks": "",
           "title": {
            "standoff": 15
           },
           "zerolinecolor": "white",
           "zerolinewidth": 2
          }
         }
        },
        "title": {
         "text": "Countries with Recovered cases"
        }
       }
      },
      "text/html": [
       "<div>                            <div id=\"44be0266-d453-4bb0-a261-5421b5b03414\" class=\"plotly-graph-div\" style=\"height:525px; width:100%;\"></div>            <script type=\"text/javascript\">                require([\"plotly\"], function(Plotly) {                    window.PLOTLYENV=window.PLOTLYENV || {};                                    if (document.getElementById(\"44be0266-d453-4bb0-a261-5421b5b03414\")) {                    Plotly.newPlot(                        \"44be0266-d453-4bb0-a261-5421b5b03414\",                        [{\"coloraxis\": \"coloraxis\", \"geo\": \"geo\", \"hovertemplate\": \"Last_Update=2021-05-12 08:20:40<br>Country=%{location}<br>Recovered=%{z}<extra></extra>\", \"locationmode\": \"country names\", \"locations\": [\"Afghanistan\", \"Albania\", \"Algeria\", \"Andorra\", \"Angola\", \"Antigua and Barbuda\", \"Argentina\", \"Armenia\", \"Australia\", \"Austria\", \"Azerbaijan\", \"Bahamas\", \"Bahrain\", \"Bangladesh\", \"Barbados\", \"Belarus\", \"Belgium\", \"Belize\", \"Benin\", \"Bhutan\", \"Bolivia\", \"Bosnia and Herzegovina\", \"Botswana\", \"Brazil\", \"Brunei\", \"Bulgaria\", \"Burkina Faso\", \"Burma\", \"Burundi\", \"Cabo Verde\", \"Cambodia\", \"Cameroon\", \"Canada\", \"Central African Republic\", \"Chad\", \"Chile\", \"China\", \"Colombia\", \"Comoros\", \"Congo (Brazzaville)\", \"Congo (Kinshasa)\", \"Costa Rica\", \"Cote d'Ivoire\", \"Croatia\", \"Cuba\", \"Cyprus\", \"Czechia\", \"Denmark\", \"Diamond Princess\", \"Djibouti\", \"Dominica\", \"Dominican Republic\", \"Ecuador\", \"Egypt\", \"El Salvador\", \"Equatorial Guinea\", \"Eritrea\", \"Estonia\", \"Eswatini\", \"Ethiopia\", \"Fiji\", \"Finland\", \"France\", \"Gabon\", \"Gambia\", \"Georgia\", \"Germany\", \"Ghana\", \"Greece\", \"Grenada\", \"Guatemala\", \"Guinea\", \"Guinea-Bissau\", \"Guyana\", \"Haiti\", \"Holy See\", \"Honduras\", \"Hungary\", \"Iceland\", \"India\", \"Indonesia\", \"Iran\", \"Iraq\", \"Ireland\", \"Israel\", \"Italy\", \"Jamaica\", \"Japan\", \"Jordan\", \"Kazakhstan\", \"Kenya\", \"Korea, South\", \"Kosovo\", \"Kuwait\", \"Kyrgyzstan\", \"Laos\", \"Latvia\", \"Lebanon\", \"Lesotho\", \"Liberia\", \"Libya\", \"Liechtenstein\", \"Lithuania\", \"Luxembourg\", \"MS Zaandam\", \"Madagascar\", \"Malawi\", \"Malaysia\", \"Maldives\", \"Mali\", \"Malta\", \"Marshall Islands\", \"Mauritania\", \"Mauritius\", \"Mexico\", \"Micronesia\", \"Moldova\", \"Monaco\", \"Mongolia\", \"Montenegro\", \"Morocco\", \"Mozambique\", \"Namibia\", \"Nepal\", \"Netherlands\", \"New Zealand\", \"Nicaragua\", \"Niger\", \"Nigeria\", \"North Macedonia\", \"Norway\", \"Oman\", \"Pakistan\", \"Panama\", \"Papua New Guinea\", \"Paraguay\", \"Peru\", \"Philippines\", \"Poland\", \"Portugal\", \"Qatar\", \"Romania\", \"Russia\", \"Rwanda\", \"Saint Kitts and Nevis\", \"Saint Lucia\", \"Saint Vincent and the Grenadines\", \"Samoa\", \"San Marino\", \"Sao Tome and Principe\", \"Saudi Arabia\", \"Senegal\", \"Serbia\", \"Seychelles\", \"Sierra Leone\", \"Singapore\", \"Slovakia\", \"Slovenia\", \"Solomon Islands\", \"Somalia\", \"South Africa\", \"South Sudan\", \"Spain\", \"Sri Lanka\", \"Sudan\", \"Suriname\", \"Sweden\", \"Switzerland\", \"Syria\", \"Taiwan*\", \"Tajikistan\", \"Tanzania\", \"Thailand\", \"Timor-Leste\", \"Togo\", \"Trinidad and Tobago\", \"Tunisia\", \"Turkey\", \"US\", \"Uganda\", \"Ukraine\", \"United Arab Emirates\", \"United Kingdom\", \"Uruguay\", \"Uzbekistan\", \"Vanuatu\", \"Venezuela\", \"Vietnam\", \"West Bank and Gaza\", \"Yemen\", \"Zambia\", \"Zimbabwe\"], \"name\": \"\", \"type\": \"choropleth\", \"z\": [54534.0, 119061.0, 86703.0, 13070.0, 25145.0, 1179.0, 2854364.0, 206078.0, 23466.0, 607712.0, 308317.0, 9854.0, 177212.0, 715321.0, 3870.0, 360916.0, null, 12307.0, 7652.0, 1101.0, 262970.0, 166887.0, 46290.0, 13592463.0, 218.0, 353619.0, 13180.0, 132050.0, 773.0, 23692.0, 8539.0, 35261.0, 1209322.0, 5112.0, 4661.0, 1193927.0, 97413.0, 2848153.0, 3688.0, 8208.0, 26434.0, 216191.0, 45910.0, 330329.0, 111325.0, 39061.0, 1586400.0, 247596.0, 699.0, 11182.0, 175.0, 232325.0, 342878.0, 178241.0, 65921.0, 7279.0, 3627.0, 117108.0, 17784.0, 212567.0, 106.0, 46000.0, 373975.0, 20051.0, 5648.0, 304935.0, 3231060.0, 90697.0, 93764.0, 158.0, 215803.0, 20341.0, 3400.0, 12443.0, 12304.0, 15.0, 81973.0, 592440.0, 6409.0, 19382642.0, 1580207.0, 2144197.0, 1018167.0, 23364.0, 831742.0, 3636089.0, 22517.0, 563972.0, 707302.0, 357030.0, 113057.0, 119373.0, 98007.0, 272123.0, 92409.0, 297.0, 113430.0, 489319.0, 6427.0, 1962.0, 167043.0, 2887.0, 235265.0, 65513.0, 7.0, 36633.0, 32170.0, 408236.0, 26795.0, 9073.0, 29843.0, 4.0, 17918.0, 1128.0, 1891052.0, 1.0, 243877.0, 2423.0, 35733.0, 95220.0, 501404.0, 67884.0, 47518.0, 312019.0, 26344.0, 2591.0, 4225.0, 4929.0, 156358.0, 138779.0, 17998.0, 186391.0, 771692.0, 357714.0, 10833.0, 250502.0, 1807842.0, 1038175.0, 2580245.0, 801306.0, 203546.0, 1017047.0, 4458408.0, 24333.0, 44.0, 4473.0, 1741.0, 2.0, 4968.0, 2269.0, 412102.0, 39428.0, null, 5658.0, 3093.0, 60975.0, 255300.0, 233788.0, 20.0, 6325.0, 1519258.0, 10462.0, 150376.0, 106641.0, 27949.0, 9907.0, null, 317600.0, 19316.0, 1093.0, 13218.0, 183.0, 26873.0, 1769.0, 11694.0, 9500.0, 281554.0, 4766124.0, null, 41971.0, 1848643.0, 519405.0, 15147.0, 197085.0, 90976.0, 3.0, 193089.0, 2618.0, 287932.0, 3003.0, 90539.0, 36221.0]}],                        {\"coloraxis\": {\"colorbar\": {\"title\": {\"text\": \"Recovered\"}}, \"colorscale\": [[0.0, \"#0d0887\"], [0.1111111111111111, \"#46039f\"], [0.2222222222222222, \"#7201a8\"], [0.3333333333333333, \"#9c179e\"], [0.4444444444444444, \"#bd3786\"], [0.5555555555555556, \"#d8576b\"], [0.6666666666666666, \"#ed7953\"], [0.7777777777777778, \"#fb9f3a\"], [0.8888888888888888, \"#fdca26\"], [1.0, \"#f0f921\"]]}, \"geo\": {\"center\": {}, \"domain\": {\"x\": [0.0, 1.0], \"y\": [0.0, 1.0]}}, \"legend\": {\"tracegroupgap\": 0}, \"margin\": {\"t\": 60}, \"template\": {\"data\": {\"bar\": [{\"error_x\": {\"color\": \"#2a3f5f\"}, \"error_y\": {\"color\": \"#2a3f5f\"}, \"marker\": {\"line\": {\"color\": \"#E5ECF6\", \"width\": 0.5}}, \"type\": \"bar\"}], \"barpolar\": [{\"marker\": {\"line\": {\"color\": \"#E5ECF6\", \"width\": 0.5}}, \"type\": \"barpolar\"}], \"carpet\": [{\"aaxis\": {\"endlinecolor\": \"#2a3f5f\", \"gridcolor\": \"white\", \"linecolor\": \"white\", \"minorgridcolor\": \"white\", \"startlinecolor\": \"#2a3f5f\"}, \"baxis\": {\"endlinecolor\": \"#2a3f5f\", \"gridcolor\": \"white\", \"linecolor\": \"white\", \"minorgridcolor\": \"white\", \"startlinecolor\": \"#2a3f5f\"}, \"type\": \"carpet\"}], \"choropleth\": [{\"colorbar\": {\"outlinewidth\": 0, \"ticks\": \"\"}, \"type\": \"choropleth\"}], \"contour\": [{\"colorbar\": {\"outlinewidth\": 0, \"ticks\": \"\"}, \"colorscale\": [[0.0, \"#0d0887\"], [0.1111111111111111, \"#46039f\"], [0.2222222222222222, \"#7201a8\"], [0.3333333333333333, \"#9c179e\"], [0.4444444444444444, \"#bd3786\"], [0.5555555555555556, \"#d8576b\"], [0.6666666666666666, \"#ed7953\"], [0.7777777777777778, \"#fb9f3a\"], [0.8888888888888888, \"#fdca26\"], [1.0, \"#f0f921\"]], \"type\": \"contour\"}], \"contourcarpet\": [{\"colorbar\": {\"outlinewidth\": 0, \"ticks\": \"\"}, \"type\": \"contourcarpet\"}], \"heatmap\": [{\"colorbar\": {\"outlinewidth\": 0, \"ticks\": \"\"}, \"colorscale\": [[0.0, \"#0d0887\"], [0.1111111111111111, \"#46039f\"], [0.2222222222222222, \"#7201a8\"], [0.3333333333333333, \"#9c179e\"], [0.4444444444444444, \"#bd3786\"], [0.5555555555555556, \"#d8576b\"], [0.6666666666666666, \"#ed7953\"], [0.7777777777777778, \"#fb9f3a\"], [0.8888888888888888, \"#fdca26\"], [1.0, \"#f0f921\"]], \"type\": \"heatmap\"}], \"heatmapgl\": [{\"colorbar\": {\"outlinewidth\": 0, \"ticks\": \"\"}, \"colorscale\": [[0.0, \"#0d0887\"], [0.1111111111111111, \"#46039f\"], [0.2222222222222222, \"#7201a8\"], [0.3333333333333333, \"#9c179e\"], [0.4444444444444444, \"#bd3786\"], [0.5555555555555556, \"#d8576b\"], [0.6666666666666666, \"#ed7953\"], [0.7777777777777778, \"#fb9f3a\"], [0.8888888888888888, \"#fdca26\"], [1.0, \"#f0f921\"]], \"type\": \"heatmapgl\"}], \"histogram\": [{\"marker\": {\"colorbar\": {\"outlinewidth\": 0, \"ticks\": \"\"}}, \"type\": \"histogram\"}], \"histogram2d\": [{\"colorbar\": {\"outlinewidth\": 0, \"ticks\": \"\"}, \"colorscale\": [[0.0, \"#0d0887\"], [0.1111111111111111, \"#46039f\"], [0.2222222222222222, \"#7201a8\"], [0.3333333333333333, \"#9c179e\"], [0.4444444444444444, \"#bd3786\"], [0.5555555555555556, \"#d8576b\"], [0.6666666666666666, \"#ed7953\"], [0.7777777777777778, \"#fb9f3a\"], [0.8888888888888888, \"#fdca26\"], [1.0, \"#f0f921\"]], \"type\": \"histogram2d\"}], \"histogram2dcontour\": [{\"colorbar\": {\"outlinewidth\": 0, \"ticks\": \"\"}, \"colorscale\": [[0.0, \"#0d0887\"], [0.1111111111111111, \"#46039f\"], [0.2222222222222222, \"#7201a8\"], [0.3333333333333333, \"#9c179e\"], [0.4444444444444444, \"#bd3786\"], [0.5555555555555556, \"#d8576b\"], [0.6666666666666666, \"#ed7953\"], [0.7777777777777778, \"#fb9f3a\"], [0.8888888888888888, \"#fdca26\"], [1.0, \"#f0f921\"]], \"type\": \"histogram2dcontour\"}], \"mesh3d\": [{\"colorbar\": {\"outlinewidth\": 0, \"ticks\": \"\"}, \"type\": \"mesh3d\"}], \"parcoords\": [{\"line\": {\"colorbar\": {\"outlinewidth\": 0, \"ticks\": \"\"}}, \"type\": \"parcoords\"}], \"pie\": [{\"automargin\": true, \"type\": \"pie\"}], \"scatter\": [{\"marker\": {\"colorbar\": {\"outlinewidth\": 0, \"ticks\": \"\"}}, \"type\": \"scatter\"}], \"scatter3d\": [{\"line\": {\"colorbar\": {\"outlinewidth\": 0, \"ticks\": \"\"}}, \"marker\": {\"colorbar\": {\"outlinewidth\": 0, \"ticks\": \"\"}}, \"type\": \"scatter3d\"}], \"scattercarpet\": [{\"marker\": {\"colorbar\": {\"outlinewidth\": 0, \"ticks\": \"\"}}, \"type\": \"scattercarpet\"}], \"scattergeo\": [{\"marker\": {\"colorbar\": {\"outlinewidth\": 0, \"ticks\": \"\"}}, \"type\": \"scattergeo\"}], \"scattergl\": [{\"marker\": {\"colorbar\": {\"outlinewidth\": 0, \"ticks\": \"\"}}, \"type\": \"scattergl\"}], \"scattermapbox\": [{\"marker\": {\"colorbar\": {\"outlinewidth\": 0, \"ticks\": \"\"}}, \"type\": \"scattermapbox\"}], \"scatterpolar\": [{\"marker\": {\"colorbar\": {\"outlinewidth\": 0, \"ticks\": \"\"}}, \"type\": \"scatterpolar\"}], \"scatterpolargl\": [{\"marker\": {\"colorbar\": {\"outlinewidth\": 0, \"ticks\": \"\"}}, \"type\": \"scatterpolargl\"}], \"scatterternary\": [{\"marker\": {\"colorbar\": {\"outlinewidth\": 0, \"ticks\": \"\"}}, \"type\": \"scatterternary\"}], \"surface\": [{\"colorbar\": {\"outlinewidth\": 0, \"ticks\": \"\"}, \"colorscale\": [[0.0, \"#0d0887\"], [0.1111111111111111, \"#46039f\"], [0.2222222222222222, \"#7201a8\"], [0.3333333333333333, \"#9c179e\"], [0.4444444444444444, \"#bd3786\"], [0.5555555555555556, \"#d8576b\"], [0.6666666666666666, \"#ed7953\"], [0.7777777777777778, \"#fb9f3a\"], [0.8888888888888888, \"#fdca26\"], [1.0, \"#f0f921\"]], \"type\": \"surface\"}], \"table\": [{\"cells\": {\"fill\": {\"color\": \"#EBF0F8\"}, \"line\": {\"color\": \"white\"}}, \"header\": {\"fill\": {\"color\": \"#C8D4E3\"}, \"line\": {\"color\": \"white\"}}, \"type\": \"table\"}]}, \"layout\": {\"annotationdefaults\": {\"arrowcolor\": \"#2a3f5f\", \"arrowhead\": 0, \"arrowwidth\": 1}, \"autotypenumbers\": \"strict\", \"coloraxis\": {\"colorbar\": {\"outlinewidth\": 0, \"ticks\": \"\"}}, \"colorscale\": {\"diverging\": [[0, \"#8e0152\"], [0.1, \"#c51b7d\"], [0.2, \"#de77ae\"], [0.3, \"#f1b6da\"], [0.4, \"#fde0ef\"], [0.5, \"#f7f7f7\"], [0.6, \"#e6f5d0\"], [0.7, \"#b8e186\"], [0.8, \"#7fbc41\"], [0.9, \"#4d9221\"], [1, \"#276419\"]], \"sequential\": [[0.0, \"#0d0887\"], [0.1111111111111111, \"#46039f\"], [0.2222222222222222, \"#7201a8\"], [0.3333333333333333, \"#9c179e\"], [0.4444444444444444, \"#bd3786\"], [0.5555555555555556, \"#d8576b\"], [0.6666666666666666, \"#ed7953\"], [0.7777777777777778, \"#fb9f3a\"], [0.8888888888888888, \"#fdca26\"], [1.0, \"#f0f921\"]], \"sequentialminus\": [[0.0, \"#0d0887\"], [0.1111111111111111, \"#46039f\"], [0.2222222222222222, \"#7201a8\"], [0.3333333333333333, \"#9c179e\"], [0.4444444444444444, \"#bd3786\"], [0.5555555555555556, \"#d8576b\"], [0.6666666666666666, \"#ed7953\"], [0.7777777777777778, \"#fb9f3a\"], [0.8888888888888888, \"#fdca26\"], [1.0, \"#f0f921\"]]}, \"colorway\": [\"#636efa\", \"#EF553B\", \"#00cc96\", \"#ab63fa\", \"#FFA15A\", \"#19d3f3\", \"#FF6692\", \"#B6E880\", \"#FF97FF\", \"#FECB52\"], \"font\": {\"color\": \"#2a3f5f\"}, \"geo\": {\"bgcolor\": \"white\", \"lakecolor\": \"white\", \"landcolor\": \"#E5ECF6\", \"showlakes\": true, \"showland\": true, \"subunitcolor\": \"white\"}, \"hoverlabel\": {\"align\": \"left\"}, \"hovermode\": \"closest\", \"mapbox\": {\"style\": \"light\"}, \"paper_bgcolor\": \"white\", \"plot_bgcolor\": \"#E5ECF6\", \"polar\": {\"angularaxis\": {\"gridcolor\": \"white\", \"linecolor\": \"white\", \"ticks\": \"\"}, \"bgcolor\": \"#E5ECF6\", \"radialaxis\": {\"gridcolor\": \"white\", \"linecolor\": \"white\", \"ticks\": \"\"}}, \"scene\": {\"xaxis\": {\"backgroundcolor\": \"#E5ECF6\", \"gridcolor\": \"white\", \"gridwidth\": 2, \"linecolor\": \"white\", \"showbackground\": true, \"ticks\": \"\", \"zerolinecolor\": \"white\"}, \"yaxis\": {\"backgroundcolor\": \"#E5ECF6\", \"gridcolor\": \"white\", \"gridwidth\": 2, \"linecolor\": \"white\", \"showbackground\": true, \"ticks\": \"\", \"zerolinecolor\": \"white\"}, \"zaxis\": {\"backgroundcolor\": \"#E5ECF6\", \"gridcolor\": \"white\", \"gridwidth\": 2, \"linecolor\": \"white\", \"showbackground\": true, \"ticks\": \"\", \"zerolinecolor\": \"white\"}}, \"shapedefaults\": {\"line\": {\"color\": \"#2a3f5f\"}}, \"ternary\": {\"aaxis\": {\"gridcolor\": \"white\", \"linecolor\": \"white\", \"ticks\": \"\"}, \"baxis\": {\"gridcolor\": \"white\", \"linecolor\": \"white\", \"ticks\": \"\"}, \"bgcolor\": \"#E5ECF6\", \"caxis\": {\"gridcolor\": \"white\", \"linecolor\": \"white\", \"ticks\": \"\"}}, \"title\": {\"x\": 0.05}, \"xaxis\": {\"automargin\": true, \"gridcolor\": \"white\", \"linecolor\": \"white\", \"ticks\": \"\", \"title\": {\"standoff\": 15}, \"zerolinecolor\": \"white\", \"zerolinewidth\": 2}, \"yaxis\": {\"automargin\": true, \"gridcolor\": \"white\", \"linecolor\": \"white\", \"ticks\": \"\", \"title\": {\"standoff\": 15}, \"zerolinecolor\": \"white\", \"zerolinewidth\": 2}}}, \"title\": {\"text\": \"Countries with Recovered cases\"}},                        {\"responsive\": true}                    ).then(function(){\n",
       "                            \n",
       "var gd = document.getElementById('44be0266-d453-4bb0-a261-5421b5b03414');\n",
       "var x = new MutationObserver(function (mutations, observer) {{\n",
       "        var display = window.getComputedStyle(gd).display;\n",
       "        if (!display || display === 'none') {{\n",
       "            console.log([gd, 'removed!']);\n",
       "            Plotly.purge(gd);\n",
       "            observer.disconnect();\n",
       "        }}\n",
       "}});\n",
       "\n",
       "// Listen for the removal of the full notebook cells\n",
       "var notebookContainer = gd.closest('#notebook-container');\n",
       "if (notebookContainer) {{\n",
       "    x.observe(notebookContainer, {childList: true});\n",
       "}}\n",
       "\n",
       "// Listen for the clearing of the current output cell\n",
       "var outputEl = gd.closest('.output');\n",
       "if (outputEl) {{\n",
       "    x.observe(outputEl, {childList: true});\n",
       "}}\n",
       "\n",
       "                        })                };                });            </script>        </div>"
      ]
     },
     "metadata": {},
     "output_type": "display_data"
    },
    {
     "data": {
      "application/vnd.plotly.v1+json": {
       "config": {
        "plotlyServerURL": "https://plot.ly"
       },
       "data": [
        {
         "coloraxis": "coloraxis",
         "geo": "geo",
         "hovertemplate": "Last_Update=2021-05-12 08:20:40<br>Country=%{location}<br>Active=%{z}<extra></extra>",
         "locationmode": "country names",
         "locations": [
          "Afghanistan",
          "Albania",
          "Algeria",
          "Andorra",
          "Angola",
          "Antigua and Barbuda",
          "Argentina",
          "Armenia",
          "Australia",
          "Austria",
          "Azerbaijan",
          "Bahamas",
          "Bahrain",
          "Bangladesh",
          "Barbados",
          "Belarus",
          "Belgium",
          "Belize",
          "Benin",
          "Bhutan",
          "Bolivia",
          "Bosnia and Herzegovina",
          "Botswana",
          "Brazil",
          "Brunei",
          "Bulgaria",
          "Burkina Faso",
          "Burma",
          "Burundi",
          "Cabo Verde",
          "Cambodia",
          "Cameroon",
          "Canada",
          "Central African Republic",
          "Chad",
          "Chile",
          "China",
          "Colombia",
          "Comoros",
          "Congo (Brazzaville)",
          "Congo (Kinshasa)",
          "Costa Rica",
          "Cote d'Ivoire",
          "Croatia",
          "Cuba",
          "Cyprus",
          "Czechia",
          "Denmark",
          "Diamond Princess",
          "Djibouti",
          "Dominica",
          "Dominican Republic",
          "Ecuador",
          "Egypt",
          "El Salvador",
          "Equatorial Guinea",
          "Eritrea",
          "Estonia",
          "Eswatini",
          "Ethiopia",
          "Fiji",
          "Finland",
          "France",
          "Gabon",
          "Gambia",
          "Georgia",
          "Germany",
          "Ghana",
          "Greece",
          "Grenada",
          "Guatemala",
          "Guinea",
          "Guinea-Bissau",
          "Guyana",
          "Haiti",
          "Holy See",
          "Honduras",
          "Hungary",
          "Iceland",
          "India",
          "Indonesia",
          "Iran",
          "Iraq",
          "Ireland",
          "Israel",
          "Italy",
          "Jamaica",
          "Japan",
          "Jordan",
          "Kazakhstan",
          "Kenya",
          "Korea, South",
          "Kosovo",
          "Kuwait",
          "Kyrgyzstan",
          "Laos",
          "Latvia",
          "Lebanon",
          "Lesotho",
          "Liberia",
          "Libya",
          "Liechtenstein",
          "Lithuania",
          "Luxembourg",
          "MS Zaandam",
          "Madagascar",
          "Malawi",
          "Malaysia",
          "Maldives",
          "Mali",
          "Malta",
          "Marshall Islands",
          "Mauritania",
          "Mauritius",
          "Mexico",
          "Micronesia",
          "Moldova",
          "Monaco",
          "Mongolia",
          "Montenegro",
          "Morocco",
          "Mozambique",
          "Namibia",
          "Nepal",
          "Netherlands",
          "New Zealand",
          "Nicaragua",
          "Niger",
          "Nigeria",
          "North Macedonia",
          "Norway",
          "Oman",
          "Pakistan",
          "Panama",
          "Papua New Guinea",
          "Paraguay",
          "Peru",
          "Philippines",
          "Poland",
          "Portugal",
          "Qatar",
          "Romania",
          "Russia",
          "Rwanda",
          "Saint Kitts and Nevis",
          "Saint Lucia",
          "Saint Vincent and the Grenadines",
          "Samoa",
          "San Marino",
          "Sao Tome and Principe",
          "Saudi Arabia",
          "Senegal",
          "Serbia",
          "Seychelles",
          "Sierra Leone",
          "Singapore",
          "Slovakia",
          "Slovenia",
          "Solomon Islands",
          "Somalia",
          "South Africa",
          "South Sudan",
          "Spain",
          "Sri Lanka",
          "Sudan",
          "Suriname",
          "Sweden",
          "Switzerland",
          "Syria",
          "Taiwan*",
          "Tajikistan",
          "Tanzania",
          "Thailand",
          "Timor-Leste",
          "Togo",
          "Trinidad and Tobago",
          "Tunisia",
          "Turkey",
          "US",
          "Uganda",
          "Ukraine",
          "United Arab Emirates",
          "United Kingdom",
          "Uruguay",
          "Uzbekistan",
          "Vanuatu",
          "Venezuela",
          "Vietnam",
          "West Bank and Gaza",
          "Yemen",
          "Zambia",
          "Zimbabwe"
         ],
         "name": "",
         "type": "choropleth",
         "z": [
          5159,
          10322,
          34437,
          250,
          3362,
          29,
          268422,
          9600,
          5571,
          14641,
          14571,
          840,
          14841,
          48931,
          35,
          6941,
          995723,
          74,
          242,
          145,
          43981,
          25713,
          2000,
          1264702,
          9,
          41434,
          40,
          7714,
          3429,
          2781,
          12020,
          38533,
          73848,
          1469,
          55,
          35263,
          401,
          104802,
          26,
          2987,
          3183,
          54067,
          282,
          7745,
          6088,
          30698,
          32480,
          11517,
          0,
          36,
          0,
          36934,
          40431,
          47466,
          2291,
          303,
          179,
          7746,
          32,
          47194,
          43,
          42063,
          5380313,
          3371,
          111,
          16367,
          235836,
          1531,
          262171,
          1,
          12687,
          2227,
          274,
          1757,
          611,
          12,
          134356,
          172456,
          84,
          3704099,
          95924,
          471587,
          88913,
          225274,
          902,
          363859,
          23490,
          81927,
          5400,
          41480,
          47991,
          7661,
          5905,
          13416,
          5232,
          1064,
          9313,
          36839,
          4028,
          67,
          10572,
          30,
          21804,
          2233,
          0,
          1986,
          860,
          38499,
          11638,
          4554,
          204,
          0,
          317,
          121,
          258018,
          0,
          3102,
          31,
          10531,
          1684,
          3677,
          1557,
          2087,
          97008,
          1554288,
          26,
          2677,
          203,
          7092,
          10308,
          98730,
          14174,
          76536,
          4372,
          1530,
          44275,
          -14294,
          56752,
          187599,
          21708,
          7670,
          21705,
          270477,
          1100,
          1,
          152,
          169,
          1,
          25,
          16,
          9169,
          181,
          695857,
          2486,
          917,
          413,
          118759,
          8635,
          0,
          7408,
          25118,
          64,
          3356857,
          23607,
          4494,
          1179,
          1007387,
          347349,
          2504,
          105,
          0,
          305,
          61548,
          1719,
          1348,
          4078,
          29888,
          249720,
          null,
          110,
          287424,
          18116,
          4312409,
          25554,
          3825,
          0,
          14707,
          940,
          11452,
          2213,
          355,
          648
         ]
        }
       ],
       "layout": {
        "coloraxis": {
         "colorbar": {
          "title": {
           "text": "Active"
          }
         },
         "colorscale": [
          [
           0,
           "#0d0887"
          ],
          [
           0.1111111111111111,
           "#46039f"
          ],
          [
           0.2222222222222222,
           "#7201a8"
          ],
          [
           0.3333333333333333,
           "#9c179e"
          ],
          [
           0.4444444444444444,
           "#bd3786"
          ],
          [
           0.5555555555555556,
           "#d8576b"
          ],
          [
           0.6666666666666666,
           "#ed7953"
          ],
          [
           0.7777777777777778,
           "#fb9f3a"
          ],
          [
           0.8888888888888888,
           "#fdca26"
          ],
          [
           1,
           "#f0f921"
          ]
         ]
        },
        "geo": {
         "center": {},
         "domain": {
          "x": [
           0,
           1
          ],
          "y": [
           0,
           1
          ]
         }
        },
        "legend": {
         "tracegroupgap": 0
        },
        "margin": {
         "t": 60
        },
        "template": {
         "data": {
          "bar": [
           {
            "error_x": {
             "color": "#2a3f5f"
            },
            "error_y": {
             "color": "#2a3f5f"
            },
            "marker": {
             "line": {
              "color": "#E5ECF6",
              "width": 0.5
             }
            },
            "type": "bar"
           }
          ],
          "barpolar": [
           {
            "marker": {
             "line": {
              "color": "#E5ECF6",
              "width": 0.5
             }
            },
            "type": "barpolar"
           }
          ],
          "carpet": [
           {
            "aaxis": {
             "endlinecolor": "#2a3f5f",
             "gridcolor": "white",
             "linecolor": "white",
             "minorgridcolor": "white",
             "startlinecolor": "#2a3f5f"
            },
            "baxis": {
             "endlinecolor": "#2a3f5f",
             "gridcolor": "white",
             "linecolor": "white",
             "minorgridcolor": "white",
             "startlinecolor": "#2a3f5f"
            },
            "type": "carpet"
           }
          ],
          "choropleth": [
           {
            "colorbar": {
             "outlinewidth": 0,
             "ticks": ""
            },
            "type": "choropleth"
           }
          ],
          "contour": [
           {
            "colorbar": {
             "outlinewidth": 0,
             "ticks": ""
            },
            "colorscale": [
             [
              0,
              "#0d0887"
             ],
             [
              0.1111111111111111,
              "#46039f"
             ],
             [
              0.2222222222222222,
              "#7201a8"
             ],
             [
              0.3333333333333333,
              "#9c179e"
             ],
             [
              0.4444444444444444,
              "#bd3786"
             ],
             [
              0.5555555555555556,
              "#d8576b"
             ],
             [
              0.6666666666666666,
              "#ed7953"
             ],
             [
              0.7777777777777778,
              "#fb9f3a"
             ],
             [
              0.8888888888888888,
              "#fdca26"
             ],
             [
              1,
              "#f0f921"
             ]
            ],
            "type": "contour"
           }
          ],
          "contourcarpet": [
           {
            "colorbar": {
             "outlinewidth": 0,
             "ticks": ""
            },
            "type": "contourcarpet"
           }
          ],
          "heatmap": [
           {
            "colorbar": {
             "outlinewidth": 0,
             "ticks": ""
            },
            "colorscale": [
             [
              0,
              "#0d0887"
             ],
             [
              0.1111111111111111,
              "#46039f"
             ],
             [
              0.2222222222222222,
              "#7201a8"
             ],
             [
              0.3333333333333333,
              "#9c179e"
             ],
             [
              0.4444444444444444,
              "#bd3786"
             ],
             [
              0.5555555555555556,
              "#d8576b"
             ],
             [
              0.6666666666666666,
              "#ed7953"
             ],
             [
              0.7777777777777778,
              "#fb9f3a"
             ],
             [
              0.8888888888888888,
              "#fdca26"
             ],
             [
              1,
              "#f0f921"
             ]
            ],
            "type": "heatmap"
           }
          ],
          "heatmapgl": [
           {
            "colorbar": {
             "outlinewidth": 0,
             "ticks": ""
            },
            "colorscale": [
             [
              0,
              "#0d0887"
             ],
             [
              0.1111111111111111,
              "#46039f"
             ],
             [
              0.2222222222222222,
              "#7201a8"
             ],
             [
              0.3333333333333333,
              "#9c179e"
             ],
             [
              0.4444444444444444,
              "#bd3786"
             ],
             [
              0.5555555555555556,
              "#d8576b"
             ],
             [
              0.6666666666666666,
              "#ed7953"
             ],
             [
              0.7777777777777778,
              "#fb9f3a"
             ],
             [
              0.8888888888888888,
              "#fdca26"
             ],
             [
              1,
              "#f0f921"
             ]
            ],
            "type": "heatmapgl"
           }
          ],
          "histogram": [
           {
            "marker": {
             "colorbar": {
              "outlinewidth": 0,
              "ticks": ""
             }
            },
            "type": "histogram"
           }
          ],
          "histogram2d": [
           {
            "colorbar": {
             "outlinewidth": 0,
             "ticks": ""
            },
            "colorscale": [
             [
              0,
              "#0d0887"
             ],
             [
              0.1111111111111111,
              "#46039f"
             ],
             [
              0.2222222222222222,
              "#7201a8"
             ],
             [
              0.3333333333333333,
              "#9c179e"
             ],
             [
              0.4444444444444444,
              "#bd3786"
             ],
             [
              0.5555555555555556,
              "#d8576b"
             ],
             [
              0.6666666666666666,
              "#ed7953"
             ],
             [
              0.7777777777777778,
              "#fb9f3a"
             ],
             [
              0.8888888888888888,
              "#fdca26"
             ],
             [
              1,
              "#f0f921"
             ]
            ],
            "type": "histogram2d"
           }
          ],
          "histogram2dcontour": [
           {
            "colorbar": {
             "outlinewidth": 0,
             "ticks": ""
            },
            "colorscale": [
             [
              0,
              "#0d0887"
             ],
             [
              0.1111111111111111,
              "#46039f"
             ],
             [
              0.2222222222222222,
              "#7201a8"
             ],
             [
              0.3333333333333333,
              "#9c179e"
             ],
             [
              0.4444444444444444,
              "#bd3786"
             ],
             [
              0.5555555555555556,
              "#d8576b"
             ],
             [
              0.6666666666666666,
              "#ed7953"
             ],
             [
              0.7777777777777778,
              "#fb9f3a"
             ],
             [
              0.8888888888888888,
              "#fdca26"
             ],
             [
              1,
              "#f0f921"
             ]
            ],
            "type": "histogram2dcontour"
           }
          ],
          "mesh3d": [
           {
            "colorbar": {
             "outlinewidth": 0,
             "ticks": ""
            },
            "type": "mesh3d"
           }
          ],
          "parcoords": [
           {
            "line": {
             "colorbar": {
              "outlinewidth": 0,
              "ticks": ""
             }
            },
            "type": "parcoords"
           }
          ],
          "pie": [
           {
            "automargin": true,
            "type": "pie"
           }
          ],
          "scatter": [
           {
            "marker": {
             "colorbar": {
              "outlinewidth": 0,
              "ticks": ""
             }
            },
            "type": "scatter"
           }
          ],
          "scatter3d": [
           {
            "line": {
             "colorbar": {
              "outlinewidth": 0,
              "ticks": ""
             }
            },
            "marker": {
             "colorbar": {
              "outlinewidth": 0,
              "ticks": ""
             }
            },
            "type": "scatter3d"
           }
          ],
          "scattercarpet": [
           {
            "marker": {
             "colorbar": {
              "outlinewidth": 0,
              "ticks": ""
             }
            },
            "type": "scattercarpet"
           }
          ],
          "scattergeo": [
           {
            "marker": {
             "colorbar": {
              "outlinewidth": 0,
              "ticks": ""
             }
            },
            "type": "scattergeo"
           }
          ],
          "scattergl": [
           {
            "marker": {
             "colorbar": {
              "outlinewidth": 0,
              "ticks": ""
             }
            },
            "type": "scattergl"
           }
          ],
          "scattermapbox": [
           {
            "marker": {
             "colorbar": {
              "outlinewidth": 0,
              "ticks": ""
             }
            },
            "type": "scattermapbox"
           }
          ],
          "scatterpolar": [
           {
            "marker": {
             "colorbar": {
              "outlinewidth": 0,
              "ticks": ""
             }
            },
            "type": "scatterpolar"
           }
          ],
          "scatterpolargl": [
           {
            "marker": {
             "colorbar": {
              "outlinewidth": 0,
              "ticks": ""
             }
            },
            "type": "scatterpolargl"
           }
          ],
          "scatterternary": [
           {
            "marker": {
             "colorbar": {
              "outlinewidth": 0,
              "ticks": ""
             }
            },
            "type": "scatterternary"
           }
          ],
          "surface": [
           {
            "colorbar": {
             "outlinewidth": 0,
             "ticks": ""
            },
            "colorscale": [
             [
              0,
              "#0d0887"
             ],
             [
              0.1111111111111111,
              "#46039f"
             ],
             [
              0.2222222222222222,
              "#7201a8"
             ],
             [
              0.3333333333333333,
              "#9c179e"
             ],
             [
              0.4444444444444444,
              "#bd3786"
             ],
             [
              0.5555555555555556,
              "#d8576b"
             ],
             [
              0.6666666666666666,
              "#ed7953"
             ],
             [
              0.7777777777777778,
              "#fb9f3a"
             ],
             [
              0.8888888888888888,
              "#fdca26"
             ],
             [
              1,
              "#f0f921"
             ]
            ],
            "type": "surface"
           }
          ],
          "table": [
           {
            "cells": {
             "fill": {
              "color": "#EBF0F8"
             },
             "line": {
              "color": "white"
             }
            },
            "header": {
             "fill": {
              "color": "#C8D4E3"
             },
             "line": {
              "color": "white"
             }
            },
            "type": "table"
           }
          ]
         },
         "layout": {
          "annotationdefaults": {
           "arrowcolor": "#2a3f5f",
           "arrowhead": 0,
           "arrowwidth": 1
          },
          "autotypenumbers": "strict",
          "coloraxis": {
           "colorbar": {
            "outlinewidth": 0,
            "ticks": ""
           }
          },
          "colorscale": {
           "diverging": [
            [
             0,
             "#8e0152"
            ],
            [
             0.1,
             "#c51b7d"
            ],
            [
             0.2,
             "#de77ae"
            ],
            [
             0.3,
             "#f1b6da"
            ],
            [
             0.4,
             "#fde0ef"
            ],
            [
             0.5,
             "#f7f7f7"
            ],
            [
             0.6,
             "#e6f5d0"
            ],
            [
             0.7,
             "#b8e186"
            ],
            [
             0.8,
             "#7fbc41"
            ],
            [
             0.9,
             "#4d9221"
            ],
            [
             1,
             "#276419"
            ]
           ],
           "sequential": [
            [
             0,
             "#0d0887"
            ],
            [
             0.1111111111111111,
             "#46039f"
            ],
            [
             0.2222222222222222,
             "#7201a8"
            ],
            [
             0.3333333333333333,
             "#9c179e"
            ],
            [
             0.4444444444444444,
             "#bd3786"
            ],
            [
             0.5555555555555556,
             "#d8576b"
            ],
            [
             0.6666666666666666,
             "#ed7953"
            ],
            [
             0.7777777777777778,
             "#fb9f3a"
            ],
            [
             0.8888888888888888,
             "#fdca26"
            ],
            [
             1,
             "#f0f921"
            ]
           ],
           "sequentialminus": [
            [
             0,
             "#0d0887"
            ],
            [
             0.1111111111111111,
             "#46039f"
            ],
            [
             0.2222222222222222,
             "#7201a8"
            ],
            [
             0.3333333333333333,
             "#9c179e"
            ],
            [
             0.4444444444444444,
             "#bd3786"
            ],
            [
             0.5555555555555556,
             "#d8576b"
            ],
            [
             0.6666666666666666,
             "#ed7953"
            ],
            [
             0.7777777777777778,
             "#fb9f3a"
            ],
            [
             0.8888888888888888,
             "#fdca26"
            ],
            [
             1,
             "#f0f921"
            ]
           ]
          },
          "colorway": [
           "#636efa",
           "#EF553B",
           "#00cc96",
           "#ab63fa",
           "#FFA15A",
           "#19d3f3",
           "#FF6692",
           "#B6E880",
           "#FF97FF",
           "#FECB52"
          ],
          "font": {
           "color": "#2a3f5f"
          },
          "geo": {
           "bgcolor": "white",
           "lakecolor": "white",
           "landcolor": "#E5ECF6",
           "showlakes": true,
           "showland": true,
           "subunitcolor": "white"
          },
          "hoverlabel": {
           "align": "left"
          },
          "hovermode": "closest",
          "mapbox": {
           "style": "light"
          },
          "paper_bgcolor": "white",
          "plot_bgcolor": "#E5ECF6",
          "polar": {
           "angularaxis": {
            "gridcolor": "white",
            "linecolor": "white",
            "ticks": ""
           },
           "bgcolor": "#E5ECF6",
           "radialaxis": {
            "gridcolor": "white",
            "linecolor": "white",
            "ticks": ""
           }
          },
          "scene": {
           "xaxis": {
            "backgroundcolor": "#E5ECF6",
            "gridcolor": "white",
            "gridwidth": 2,
            "linecolor": "white",
            "showbackground": true,
            "ticks": "",
            "zerolinecolor": "white"
           },
           "yaxis": {
            "backgroundcolor": "#E5ECF6",
            "gridcolor": "white",
            "gridwidth": 2,
            "linecolor": "white",
            "showbackground": true,
            "ticks": "",
            "zerolinecolor": "white"
           },
           "zaxis": {
            "backgroundcolor": "#E5ECF6",
            "gridcolor": "white",
            "gridwidth": 2,
            "linecolor": "white",
            "showbackground": true,
            "ticks": "",
            "zerolinecolor": "white"
           }
          },
          "shapedefaults": {
           "line": {
            "color": "#2a3f5f"
           }
          },
          "ternary": {
           "aaxis": {
            "gridcolor": "white",
            "linecolor": "white",
            "ticks": ""
           },
           "baxis": {
            "gridcolor": "white",
            "linecolor": "white",
            "ticks": ""
           },
           "bgcolor": "#E5ECF6",
           "caxis": {
            "gridcolor": "white",
            "linecolor": "white",
            "ticks": ""
           }
          },
          "title": {
           "x": 0.05
          },
          "xaxis": {
           "automargin": true,
           "gridcolor": "white",
           "linecolor": "white",
           "ticks": "",
           "title": {
            "standoff": 15
           },
           "zerolinecolor": "white",
           "zerolinewidth": 2
          },
          "yaxis": {
           "automargin": true,
           "gridcolor": "white",
           "linecolor": "white",
           "ticks": "",
           "title": {
            "standoff": 15
           },
           "zerolinecolor": "white",
           "zerolinewidth": 2
          }
         }
        },
        "title": {
         "text": "Countries with Active cases"
        }
       }
      },
      "text/html": [
       "<div>                            <div id=\"e0f37325-b44a-4117-a35f-50bc7242cf92\" class=\"plotly-graph-div\" style=\"height:525px; width:100%;\"></div>            <script type=\"text/javascript\">                require([\"plotly\"], function(Plotly) {                    window.PLOTLYENV=window.PLOTLYENV || {};                                    if (document.getElementById(\"e0f37325-b44a-4117-a35f-50bc7242cf92\")) {                    Plotly.newPlot(                        \"e0f37325-b44a-4117-a35f-50bc7242cf92\",                        [{\"coloraxis\": \"coloraxis\", \"geo\": \"geo\", \"hovertemplate\": \"Last_Update=2021-05-12 08:20:40<br>Country=%{location}<br>Active=%{z}<extra></extra>\", \"locationmode\": \"country names\", \"locations\": [\"Afghanistan\", \"Albania\", \"Algeria\", \"Andorra\", \"Angola\", \"Antigua and Barbuda\", \"Argentina\", \"Armenia\", \"Australia\", \"Austria\", \"Azerbaijan\", \"Bahamas\", \"Bahrain\", \"Bangladesh\", \"Barbados\", \"Belarus\", \"Belgium\", \"Belize\", \"Benin\", \"Bhutan\", \"Bolivia\", \"Bosnia and Herzegovina\", \"Botswana\", \"Brazil\", \"Brunei\", \"Bulgaria\", \"Burkina Faso\", \"Burma\", \"Burundi\", \"Cabo Verde\", \"Cambodia\", \"Cameroon\", \"Canada\", \"Central African Republic\", \"Chad\", \"Chile\", \"China\", \"Colombia\", \"Comoros\", \"Congo (Brazzaville)\", \"Congo (Kinshasa)\", \"Costa Rica\", \"Cote d'Ivoire\", \"Croatia\", \"Cuba\", \"Cyprus\", \"Czechia\", \"Denmark\", \"Diamond Princess\", \"Djibouti\", \"Dominica\", \"Dominican Republic\", \"Ecuador\", \"Egypt\", \"El Salvador\", \"Equatorial Guinea\", \"Eritrea\", \"Estonia\", \"Eswatini\", \"Ethiopia\", \"Fiji\", \"Finland\", \"France\", \"Gabon\", \"Gambia\", \"Georgia\", \"Germany\", \"Ghana\", \"Greece\", \"Grenada\", \"Guatemala\", \"Guinea\", \"Guinea-Bissau\", \"Guyana\", \"Haiti\", \"Holy See\", \"Honduras\", \"Hungary\", \"Iceland\", \"India\", \"Indonesia\", \"Iran\", \"Iraq\", \"Ireland\", \"Israel\", \"Italy\", \"Jamaica\", \"Japan\", \"Jordan\", \"Kazakhstan\", \"Kenya\", \"Korea, South\", \"Kosovo\", \"Kuwait\", \"Kyrgyzstan\", \"Laos\", \"Latvia\", \"Lebanon\", \"Lesotho\", \"Liberia\", \"Libya\", \"Liechtenstein\", \"Lithuania\", \"Luxembourg\", \"MS Zaandam\", \"Madagascar\", \"Malawi\", \"Malaysia\", \"Maldives\", \"Mali\", \"Malta\", \"Marshall Islands\", \"Mauritania\", \"Mauritius\", \"Mexico\", \"Micronesia\", \"Moldova\", \"Monaco\", \"Mongolia\", \"Montenegro\", \"Morocco\", \"Mozambique\", \"Namibia\", \"Nepal\", \"Netherlands\", \"New Zealand\", \"Nicaragua\", \"Niger\", \"Nigeria\", \"North Macedonia\", \"Norway\", \"Oman\", \"Pakistan\", \"Panama\", \"Papua New Guinea\", \"Paraguay\", \"Peru\", \"Philippines\", \"Poland\", \"Portugal\", \"Qatar\", \"Romania\", \"Russia\", \"Rwanda\", \"Saint Kitts and Nevis\", \"Saint Lucia\", \"Saint Vincent and the Grenadines\", \"Samoa\", \"San Marino\", \"Sao Tome and Principe\", \"Saudi Arabia\", \"Senegal\", \"Serbia\", \"Seychelles\", \"Sierra Leone\", \"Singapore\", \"Slovakia\", \"Slovenia\", \"Solomon Islands\", \"Somalia\", \"South Africa\", \"South Sudan\", \"Spain\", \"Sri Lanka\", \"Sudan\", \"Suriname\", \"Sweden\", \"Switzerland\", \"Syria\", \"Taiwan*\", \"Tajikistan\", \"Tanzania\", \"Thailand\", \"Timor-Leste\", \"Togo\", \"Trinidad and Tobago\", \"Tunisia\", \"Turkey\", \"US\", \"Uganda\", \"Ukraine\", \"United Arab Emirates\", \"United Kingdom\", \"Uruguay\", \"Uzbekistan\", \"Vanuatu\", \"Venezuela\", \"Vietnam\", \"West Bank and Gaza\", \"Yemen\", \"Zambia\", \"Zimbabwe\"], \"name\": \"\", \"type\": \"choropleth\", \"z\": [5159.0, 10322.0, 34437.0, 250.0, 3362.0, 29.0, 268422.0, 9600.0, 5571.0, 14641.0, 14571.0, 840.0, 14841.0, 48931.0, 35.0, 6941.0, 995723.0, 74.0, 242.0, 145.0, 43981.0, 25713.0, 2000.0, 1264702.0, 9.0, 41434.0, 40.0, 7714.0, 3429.0, 2781.0, 12020.0, 38533.0, 73848.0, 1469.0, 55.0, 35263.0, 401.0, 104802.0, 26.0, 2987.0, 3183.0, 54067.0, 282.0, 7745.0, 6088.0, 30698.0, 32480.0, 11517.0, 0.0, 36.0, 0.0, 36934.0, 40431.0, 47466.0, 2291.0, 303.0, 179.0, 7746.0, 32.0, 47194.0, 43.0, 42063.0, 5380313.0, 3371.0, 111.0, 16367.0, 235836.0, 1531.0, 262171.0, 1.0, 12687.0, 2227.0, 274.0, 1757.0, 611.0, 12.0, 134356.0, 172456.0, 84.0, 3704099.0, 95924.0, 471587.0, 88913.0, 225274.0, 902.0, 363859.0, 23490.0, 81927.0, 5400.0, 41480.0, 47991.0, 7661.0, 5905.0, 13416.0, 5232.0, 1064.0, 9313.0, 36839.0, 4028.0, 67.0, 10572.0, 30.0, 21804.0, 2233.0, 0.0, 1986.0, 860.0, 38499.0, 11638.0, 4554.0, 204.0, 0.0, 317.0, 121.0, 258018.0, 0.0, 3102.0, 31.0, 10531.0, 1684.0, 3677.0, 1557.0, 2087.0, 97008.0, 1554288.0, 26.0, 2677.0, 203.0, 7092.0, 10308.0, 98730.0, 14174.0, 76536.0, 4372.0, 1530.0, 44275.0, -14294.0, 56752.0, 187599.0, 21708.0, 7670.0, 21705.0, 270477.0, 1100.0, 1.0, 152.0, 169.0, 1.0, 25.0, 16.0, 9169.0, 181.0, 695857.0, 2486.0, 917.0, 413.0, 118759.0, 8635.0, 0.0, 7408.0, 25118.0, 64.0, 3356857.0, 23607.0, 4494.0, 1179.0, 1007387.0, 347349.0, 2504.0, 105.0, 0.0, 305.0, 61548.0, 1719.0, 1348.0, 4078.0, 29888.0, 249720.0, null, 110.0, 287424.0, 18116.0, 4312409.0, 25554.0, 3825.0, 0.0, 14707.0, 940.0, 11452.0, 2213.0, 355.0, 648.0]}],                        {\"coloraxis\": {\"colorbar\": {\"title\": {\"text\": \"Active\"}}, \"colorscale\": [[0.0, \"#0d0887\"], [0.1111111111111111, \"#46039f\"], [0.2222222222222222, \"#7201a8\"], [0.3333333333333333, \"#9c179e\"], [0.4444444444444444, \"#bd3786\"], [0.5555555555555556, \"#d8576b\"], [0.6666666666666666, \"#ed7953\"], [0.7777777777777778, \"#fb9f3a\"], [0.8888888888888888, \"#fdca26\"], [1.0, \"#f0f921\"]]}, \"geo\": {\"center\": {}, \"domain\": {\"x\": [0.0, 1.0], \"y\": [0.0, 1.0]}}, \"legend\": {\"tracegroupgap\": 0}, \"margin\": {\"t\": 60}, \"template\": {\"data\": {\"bar\": [{\"error_x\": {\"color\": \"#2a3f5f\"}, \"error_y\": {\"color\": \"#2a3f5f\"}, \"marker\": {\"line\": {\"color\": \"#E5ECF6\", \"width\": 0.5}}, \"type\": \"bar\"}], \"barpolar\": [{\"marker\": {\"line\": {\"color\": \"#E5ECF6\", \"width\": 0.5}}, \"type\": \"barpolar\"}], \"carpet\": [{\"aaxis\": {\"endlinecolor\": \"#2a3f5f\", \"gridcolor\": \"white\", \"linecolor\": \"white\", \"minorgridcolor\": \"white\", \"startlinecolor\": \"#2a3f5f\"}, \"baxis\": {\"endlinecolor\": \"#2a3f5f\", \"gridcolor\": \"white\", \"linecolor\": \"white\", \"minorgridcolor\": \"white\", \"startlinecolor\": \"#2a3f5f\"}, \"type\": \"carpet\"}], \"choropleth\": [{\"colorbar\": {\"outlinewidth\": 0, \"ticks\": \"\"}, \"type\": \"choropleth\"}], \"contour\": [{\"colorbar\": {\"outlinewidth\": 0, \"ticks\": \"\"}, \"colorscale\": [[0.0, \"#0d0887\"], [0.1111111111111111, \"#46039f\"], [0.2222222222222222, \"#7201a8\"], [0.3333333333333333, \"#9c179e\"], [0.4444444444444444, \"#bd3786\"], [0.5555555555555556, \"#d8576b\"], [0.6666666666666666, \"#ed7953\"], [0.7777777777777778, \"#fb9f3a\"], [0.8888888888888888, \"#fdca26\"], [1.0, \"#f0f921\"]], \"type\": \"contour\"}], \"contourcarpet\": [{\"colorbar\": {\"outlinewidth\": 0, \"ticks\": \"\"}, \"type\": \"contourcarpet\"}], \"heatmap\": [{\"colorbar\": {\"outlinewidth\": 0, \"ticks\": \"\"}, \"colorscale\": [[0.0, \"#0d0887\"], [0.1111111111111111, \"#46039f\"], [0.2222222222222222, \"#7201a8\"], [0.3333333333333333, \"#9c179e\"], [0.4444444444444444, \"#bd3786\"], [0.5555555555555556, \"#d8576b\"], [0.6666666666666666, \"#ed7953\"], [0.7777777777777778, \"#fb9f3a\"], [0.8888888888888888, \"#fdca26\"], [1.0, \"#f0f921\"]], \"type\": \"heatmap\"}], \"heatmapgl\": [{\"colorbar\": {\"outlinewidth\": 0, \"ticks\": \"\"}, \"colorscale\": [[0.0, \"#0d0887\"], [0.1111111111111111, \"#46039f\"], [0.2222222222222222, \"#7201a8\"], [0.3333333333333333, \"#9c179e\"], [0.4444444444444444, \"#bd3786\"], [0.5555555555555556, \"#d8576b\"], [0.6666666666666666, \"#ed7953\"], [0.7777777777777778, \"#fb9f3a\"], [0.8888888888888888, \"#fdca26\"], [1.0, \"#f0f921\"]], \"type\": \"heatmapgl\"}], \"histogram\": [{\"marker\": {\"colorbar\": {\"outlinewidth\": 0, \"ticks\": \"\"}}, \"type\": \"histogram\"}], \"histogram2d\": [{\"colorbar\": {\"outlinewidth\": 0, \"ticks\": \"\"}, \"colorscale\": [[0.0, \"#0d0887\"], [0.1111111111111111, \"#46039f\"], [0.2222222222222222, \"#7201a8\"], [0.3333333333333333, \"#9c179e\"], [0.4444444444444444, \"#bd3786\"], [0.5555555555555556, \"#d8576b\"], [0.6666666666666666, \"#ed7953\"], [0.7777777777777778, \"#fb9f3a\"], [0.8888888888888888, \"#fdca26\"], [1.0, \"#f0f921\"]], \"type\": \"histogram2d\"}], \"histogram2dcontour\": [{\"colorbar\": {\"outlinewidth\": 0, \"ticks\": \"\"}, \"colorscale\": [[0.0, \"#0d0887\"], [0.1111111111111111, \"#46039f\"], [0.2222222222222222, \"#7201a8\"], [0.3333333333333333, \"#9c179e\"], [0.4444444444444444, \"#bd3786\"], [0.5555555555555556, \"#d8576b\"], [0.6666666666666666, \"#ed7953\"], [0.7777777777777778, \"#fb9f3a\"], [0.8888888888888888, \"#fdca26\"], [1.0, \"#f0f921\"]], \"type\": \"histogram2dcontour\"}], \"mesh3d\": [{\"colorbar\": {\"outlinewidth\": 0, \"ticks\": \"\"}, \"type\": \"mesh3d\"}], \"parcoords\": [{\"line\": {\"colorbar\": {\"outlinewidth\": 0, \"ticks\": \"\"}}, \"type\": \"parcoords\"}], \"pie\": [{\"automargin\": true, \"type\": \"pie\"}], \"scatter\": [{\"marker\": {\"colorbar\": {\"outlinewidth\": 0, \"ticks\": \"\"}}, \"type\": \"scatter\"}], \"scatter3d\": [{\"line\": {\"colorbar\": {\"outlinewidth\": 0, \"ticks\": \"\"}}, \"marker\": {\"colorbar\": {\"outlinewidth\": 0, \"ticks\": \"\"}}, \"type\": \"scatter3d\"}], \"scattercarpet\": [{\"marker\": {\"colorbar\": {\"outlinewidth\": 0, \"ticks\": \"\"}}, \"type\": \"scattercarpet\"}], \"scattergeo\": [{\"marker\": {\"colorbar\": {\"outlinewidth\": 0, \"ticks\": \"\"}}, \"type\": \"scattergeo\"}], \"scattergl\": [{\"marker\": {\"colorbar\": {\"outlinewidth\": 0, \"ticks\": \"\"}}, \"type\": \"scattergl\"}], \"scattermapbox\": [{\"marker\": {\"colorbar\": {\"outlinewidth\": 0, \"ticks\": \"\"}}, \"type\": \"scattermapbox\"}], \"scatterpolar\": [{\"marker\": {\"colorbar\": {\"outlinewidth\": 0, \"ticks\": \"\"}}, \"type\": \"scatterpolar\"}], \"scatterpolargl\": [{\"marker\": {\"colorbar\": {\"outlinewidth\": 0, \"ticks\": \"\"}}, \"type\": \"scatterpolargl\"}], \"scatterternary\": [{\"marker\": {\"colorbar\": {\"outlinewidth\": 0, \"ticks\": \"\"}}, \"type\": \"scatterternary\"}], \"surface\": [{\"colorbar\": {\"outlinewidth\": 0, \"ticks\": \"\"}, \"colorscale\": [[0.0, \"#0d0887\"], [0.1111111111111111, \"#46039f\"], [0.2222222222222222, \"#7201a8\"], [0.3333333333333333, \"#9c179e\"], [0.4444444444444444, \"#bd3786\"], [0.5555555555555556, \"#d8576b\"], [0.6666666666666666, \"#ed7953\"], [0.7777777777777778, \"#fb9f3a\"], [0.8888888888888888, \"#fdca26\"], [1.0, \"#f0f921\"]], \"type\": \"surface\"}], \"table\": [{\"cells\": {\"fill\": {\"color\": \"#EBF0F8\"}, \"line\": {\"color\": \"white\"}}, \"header\": {\"fill\": {\"color\": \"#C8D4E3\"}, \"line\": {\"color\": \"white\"}}, \"type\": \"table\"}]}, \"layout\": {\"annotationdefaults\": {\"arrowcolor\": \"#2a3f5f\", \"arrowhead\": 0, \"arrowwidth\": 1}, \"autotypenumbers\": \"strict\", \"coloraxis\": {\"colorbar\": {\"outlinewidth\": 0, \"ticks\": \"\"}}, \"colorscale\": {\"diverging\": [[0, \"#8e0152\"], [0.1, \"#c51b7d\"], [0.2, \"#de77ae\"], [0.3, \"#f1b6da\"], [0.4, \"#fde0ef\"], [0.5, \"#f7f7f7\"], [0.6, \"#e6f5d0\"], [0.7, \"#b8e186\"], [0.8, \"#7fbc41\"], [0.9, \"#4d9221\"], [1, \"#276419\"]], \"sequential\": [[0.0, \"#0d0887\"], [0.1111111111111111, \"#46039f\"], [0.2222222222222222, \"#7201a8\"], [0.3333333333333333, \"#9c179e\"], [0.4444444444444444, \"#bd3786\"], [0.5555555555555556, \"#d8576b\"], [0.6666666666666666, \"#ed7953\"], [0.7777777777777778, \"#fb9f3a\"], [0.8888888888888888, \"#fdca26\"], [1.0, \"#f0f921\"]], \"sequentialminus\": [[0.0, \"#0d0887\"], [0.1111111111111111, \"#46039f\"], [0.2222222222222222, \"#7201a8\"], [0.3333333333333333, \"#9c179e\"], [0.4444444444444444, \"#bd3786\"], [0.5555555555555556, \"#d8576b\"], [0.6666666666666666, \"#ed7953\"], [0.7777777777777778, \"#fb9f3a\"], [0.8888888888888888, \"#fdca26\"], [1.0, \"#f0f921\"]]}, \"colorway\": [\"#636efa\", \"#EF553B\", \"#00cc96\", \"#ab63fa\", \"#FFA15A\", \"#19d3f3\", \"#FF6692\", \"#B6E880\", \"#FF97FF\", \"#FECB52\"], \"font\": {\"color\": \"#2a3f5f\"}, \"geo\": {\"bgcolor\": \"white\", \"lakecolor\": \"white\", \"landcolor\": \"#E5ECF6\", \"showlakes\": true, \"showland\": true, \"subunitcolor\": \"white\"}, \"hoverlabel\": {\"align\": \"left\"}, \"hovermode\": \"closest\", \"mapbox\": {\"style\": \"light\"}, \"paper_bgcolor\": \"white\", \"plot_bgcolor\": \"#E5ECF6\", \"polar\": {\"angularaxis\": {\"gridcolor\": \"white\", \"linecolor\": \"white\", \"ticks\": \"\"}, \"bgcolor\": \"#E5ECF6\", \"radialaxis\": {\"gridcolor\": \"white\", \"linecolor\": \"white\", \"ticks\": \"\"}}, \"scene\": {\"xaxis\": {\"backgroundcolor\": \"#E5ECF6\", \"gridcolor\": \"white\", \"gridwidth\": 2, \"linecolor\": \"white\", \"showbackground\": true, \"ticks\": \"\", \"zerolinecolor\": \"white\"}, \"yaxis\": {\"backgroundcolor\": \"#E5ECF6\", \"gridcolor\": \"white\", \"gridwidth\": 2, \"linecolor\": \"white\", \"showbackground\": true, \"ticks\": \"\", \"zerolinecolor\": \"white\"}, \"zaxis\": {\"backgroundcolor\": \"#E5ECF6\", \"gridcolor\": \"white\", \"gridwidth\": 2, \"linecolor\": \"white\", \"showbackground\": true, \"ticks\": \"\", \"zerolinecolor\": \"white\"}}, \"shapedefaults\": {\"line\": {\"color\": \"#2a3f5f\"}}, \"ternary\": {\"aaxis\": {\"gridcolor\": \"white\", \"linecolor\": \"white\", \"ticks\": \"\"}, \"baxis\": {\"gridcolor\": \"white\", \"linecolor\": \"white\", \"ticks\": \"\"}, \"bgcolor\": \"#E5ECF6\", \"caxis\": {\"gridcolor\": \"white\", \"linecolor\": \"white\", \"ticks\": \"\"}}, \"title\": {\"x\": 0.05}, \"xaxis\": {\"automargin\": true, \"gridcolor\": \"white\", \"linecolor\": \"white\", \"ticks\": \"\", \"title\": {\"standoff\": 15}, \"zerolinecolor\": \"white\", \"zerolinewidth\": 2}, \"yaxis\": {\"automargin\": true, \"gridcolor\": \"white\", \"linecolor\": \"white\", \"ticks\": \"\", \"title\": {\"standoff\": 15}, \"zerolinecolor\": \"white\", \"zerolinewidth\": 2}}}, \"title\": {\"text\": \"Countries with Active cases\"}},                        {\"responsive\": true}                    ).then(function(){\n",
       "                            \n",
       "var gd = document.getElementById('e0f37325-b44a-4117-a35f-50bc7242cf92');\n",
       "var x = new MutationObserver(function (mutations, observer) {{\n",
       "        var display = window.getComputedStyle(gd).display;\n",
       "        if (!display || display === 'none') {{\n",
       "            console.log([gd, 'removed!']);\n",
       "            Plotly.purge(gd);\n",
       "            observer.disconnect();\n",
       "        }}\n",
       "}});\n",
       "\n",
       "// Listen for the removal of the full notebook cells\n",
       "var notebookContainer = gd.closest('#notebook-container');\n",
       "if (notebookContainer) {{\n",
       "    x.observe(notebookContainer, {childList: true});\n",
       "}}\n",
       "\n",
       "// Listen for the clearing of the current output cell\n",
       "var outputEl = gd.closest('.output');\n",
       "if (outputEl) {{\n",
       "    x.observe(outputEl, {childList: true});\n",
       "}}\n",
       "\n",
       "                        })                };                });            </script>        </div>"
      ]
     },
     "metadata": {},
     "output_type": "display_data"
    }
   ],
   "source": [
    "fig = px.choropleth(country, locations = 'Country', locationmode = 'country names', color = 'Confirmed', animation_frame = 'Last_Update')\n",
    "fig.update_layout(title_text = 'Countries with Confirmed cases',)\n",
    "fig.show()\n",
    "fig = px.choropleth(country, locations = 'Country', locationmode = 'country names', color = 'Deaths', animation_frame = 'Last_Update')\n",
    "fig.update_layout(title_text = 'Countries with Deaths Reported')\n",
    "fig.show()\n",
    "fig = px.choropleth(country, locations = 'Country', locationmode = 'country names', color = 'Recovered', animation_frame = 'Last_Update')\n",
    "fig.update_layout(title_text = 'Countries with Recovered cases')\n",
    "fig.show()\n",
    "fig = px.choropleth(country, locations = 'Country', locationmode = 'country names', color = 'Active', animation_frame = 'Last_Update')\n",
    "fig.update_layout(title_text = 'Countries with Active cases')\n",
    "fig.show()"
   ]
  },
  {
   "cell_type": "markdown",
   "metadata": {},
   "source": [
    "# Bar chart representation"
   ]
  },
  {
   "cell_type": "code",
   "execution_count": 15,
   "metadata": {
    "scrolled": false
   },
   "outputs": [
    {
     "data": {
      "application/vnd.jupyter.widget-view+json": {
       "model_id": "5208cdf978a648e3be64e04bbda4444f",
       "version_major": 2,
       "version_minor": 0
      },
      "text/plain": [
       "interactive(children=(IntSlider(value=10, description='n', max=30, min=-10), Output()), _dom_classes=('widget-…"
      ]
     },
     "metadata": {},
     "output_type": "display_data"
    },
    {
     "data": {
      "application/vnd.jupyter.widget-view+json": {
       "model_id": "01f595d684f44b94b432930f51b0d0a2",
       "version_major": 2,
       "version_minor": 0
      },
      "text/plain": [
       "interactive(children=(IntSlider(value=10, description='n', max=30, min=-10), Output()), _dom_classes=('widget-…"
      ]
     },
     "metadata": {},
     "output_type": "display_data"
    },
    {
     "data": {
      "application/vnd.jupyter.widget-view+json": {
       "model_id": "30b70198ea6b46a4b7c7d09ad01d4396",
       "version_major": 2,
       "version_minor": 0
      },
      "text/plain": [
       "interactive(children=(IntSlider(value=10, description='n', max=30, min=-10), Output()), _dom_classes=('widget-…"
      ]
     },
     "metadata": {},
     "output_type": "display_data"
    },
    {
     "data": {
      "application/vnd.jupyter.widget-view+json": {
       "model_id": "122a0db36da24ada970326d260eaeaf2",
       "version_major": 2,
       "version_minor": 0
      },
      "text/plain": [
       "interactive(children=(IntSlider(value=10, description='n', max=30, min=-10), Output()), _dom_classes=('widget-…"
      ]
     },
     "metadata": {},
     "output_type": "display_data"
    }
   ],
   "source": [
    "def bar_chart(n):\n",
    "    fig = px.bar(\n",
    "    sorted_country.head(n),\n",
    "    x = \"Country\",\n",
    "    y = \"Confirmed\",\n",
    "    title= \"Top \"+ str(n) + \" worst affected countries with highest number of confirmed cases\", # the axis names\n",
    "    color_discrete_sequence=[\"blue\"], \n",
    "    height=500,\n",
    "    width=800\n",
    ")\n",
    "\n",
    "    fig.show()\n",
    "\n",
    "interact(bar_chart, n=10)\n",
    "\n",
    "ipywLayout = widgets.Layout(border='solid 2px green')\n",
    "ipywLayout.display='none'\n",
    "\n",
    "def bar_chart(n):\n",
    "    fig = px.bar(\n",
    "    sorted_death_country.head(n),\n",
    "    x = \"Country\",\n",
    "    y = \"Deaths\",\n",
    "    title= \"Top \"+ str(n) + \" worst affected countries with highest number of death cases\", # the axis names\n",
    "    color_discrete_sequence=[\"red\"], \n",
    "    height=500,\n",
    "    width=800\n",
    ")\n",
    "\n",
    "    fig.show()\n",
    "\n",
    "interact(bar_chart, n=10)\n",
    "\n",
    "ipywLayout = widgets.Layout(border='solid 2px green')\n",
    "ipywLayout.display='none'\n",
    "\n",
    "\n",
    "def bar_chart(n):\n",
    "    fig = px.bar(\n",
    "    sorted_recovered_country.head(n),\n",
    "    x = \"Country\",\n",
    "    y = \"Recovered\",\n",
    "    title= \"Top \"+ str(n) + \" worst affected countries with highest number of recovered cases\", # the axis names\n",
    "    color_discrete_sequence=[\"green\"], \n",
    "    height=500,\n",
    "    width=800\n",
    ")\n",
    "\n",
    "    fig.show()\n",
    "\n",
    "interact(bar_chart, n=10)\n",
    "\n",
    "ipywLayout = widgets.Layout(border='solid 2px green')\n",
    "ipywLayout.display='none'\n",
    "\n",
    "def bar_chart(n):\n",
    "    fig = px.bar(\n",
    "    sorted_active_country.head(n),\n",
    "    x = \"Country\",\n",
    "    y = \"Active\",\n",
    "    title= \"Top \"+ str(n) + \" countries with highest number of recovered cases\", # the axis names\n",
    "    color_discrete_sequence=[\"yellow\"], \n",
    "    height=500,\n",
    "    width=800\n",
    ")\n",
    "\n",
    "    fig.show()\n",
    "\n",
    "interact(bar_chart, n=10)\n",
    "\n",
    "ipywLayout = widgets.Layout(border='solid 2px green')\n",
    "ipywLayout.display='none'"
   ]
  },
  {
   "cell_type": "markdown",
   "metadata": {},
   "source": [
    "## Treemap view"
   ]
  },
  {
   "cell_type": "code",
   "execution_count": 16,
   "metadata": {
    "scrolled": false
   },
   "outputs": [
    {
     "data": {
      "application/vnd.plotly.v1+json": {
       "config": {
        "plotlyServerURL": "https://plot.ly"
       },
       "data": [
        {
         "branchvalues": "total",
         "domain": {
          "x": [
           0,
           1
          ],
          "y": [
           0,
           1
          ]
         },
         "hovertemplate": "labels=%{label}<br>Confirmed=%{value}<br>parent=%{parent}<br>id=%{id}<extra></extra>",
         "ids": [
          "Micronesia/1.0",
          "Samoa/3.0",
          "Marshall Islands/4.0",
          "Vanuatu/4.0",
          "MS Zaandam/9.0",
          "Solomon Islands/20.0",
          "Holy See/27.0",
          "Saint Kitts and Nevis/45.0",
          "Fiji/152.0",
          "Grenada/160.0",
          "Dominica/175.0",
          "Brunei/230.0",
          "Tanzania/509.0",
          "Diamond Princess/712.0",
          "Taiwan*/1210.0",
          "Antigua and Barbuda/1240.0",
          "Bhutan/1247.0",
          "Mauritius/1266.0",
          "Laos/1362.0",
          "Saint Vincent and the Grenadines/1922.0",
          "Liberia/2114.0",
          "Sao Tome and Principe/2320.0",
          "Monaco/2486.0",
          "New Zealand/2643.0",
          "Liechtenstein/2975.0",
          "Timor-Leste/3493.0",
          "Vietnam/3593.0",
          "Guinea-Bissau/3741.0",
          "Eritrea/3818.0",
          "Comoros/3860.0",
          "Barbados/3950.0",
          "Sierra Leone/4089.0",
          "Burundi/4208.0",
          "Saint Lucia/4700.0",
          "Chad/4888.0",
          "San Marino/5083.0",
          "Niger/5324.0",
          "Gambia/5934.0",
          "Yemen/6492.0",
          "Iceland/6522.0",
          "Central African Republic/6674.0",
          "Nicaragua/7086.0",
          "Equatorial Guinea/7694.0",
          "Benin/7995.0",
          "Seychelles/8172.0",
          "South Sudan/10641.0",
          "Lesotho/10774.0",
          "Bahamas/10908.0",
          "Suriname/11306.0",
          "Congo (Brazzaville)/11343.0",
          "Djibouti/11369.0",
          "Papua New Guinea/12493.0",
          "Belize/12704.0",
          "Togo/13167.0",
          "Haiti/13179.0",
          "Tajikistan/13308.0",
          "Burkina Faso/13384.0",
          "Andorra/13447.0",
          "Trinidad and Tobago/13802.0",
          "Mali/14133.0",
          "Somalia/14486.0",
          "Guyana/14531.0",
          "Eswatini/18487.0",
          "Mauritania/18691.0",
          "Cambodia/20695.0",
          "Guinea/22719.0",
          "Syria/23490.0",
          "Gabon/23565.0",
          "Rwanda/25773.0",
          "Cabo Verde/26709.0",
          "Angola/29146.0",
          "Australia/29947.0",
          "Congo (Kinshasa)/30392.0",
          "Malta/30464.0",
          "Malawi/34183.0",
          "Sudan/34889.0",
          "Zimbabwe/38448.0",
          "Maldives/38520.0",
          "Madagascar/39351.0",
          "Senegal/40729.0",
          "Uganda/42427.0",
          "Mongolia/46448.0",
          "Cote d'Ivoire/46484.0",
          "Jamaica/46821.0",
          "Botswana/49041.0",
          "Namibia/50301.0",
          "Singapore/61419.0",
          "Afghanistan/62403.0",
          "Luxembourg/68552.0",
          "Cyprus/70098.0",
          "Mozambique/70267.0",
          "El Salvador/70380.0",
          "Cameroon/74946.0",
          "Thailand/88907.0",
          "Finland/88990.0",
          "Zambia/92152.0",
          "Ghana/93011.0",
          "Uzbekistan/95467.0",
          "Montenegro/98449.0",
          "Kyrgyzstan/99316.0",
          "China/102660.0",
          "Kosovo/106130.0",
          "Norway/117495.0",
          "Cuba/118168.0",
          "Algeria/124483.0",
          "Latvia/124960.0",
          "Estonia/126064.0",
          "Korea, South/128918.0",
          "Sri Lanka/131098.0",
          "Albania/131803.0",
          "Burma/142974.0",
          "North Macedonia/154222.0",
          "Kenya/163976.0",
          "Nigeria/165515.0",
          "Libya/180692.0",
          "Bahrain/192750.0",
          "Bosnia and Herzegovina/201512.0",
          "Oman/202713.0",
          "Venezuela/210116.0",
          "Qatar/211732.0",
          "Armenia/219950.0",
          "Honduras/222118.0",
          "Uruguay/225847.0",
          "Guatemala/236266.0",
          "Egypt/239740.0",
          "Slovenia/246725.0",
          "Moldova/252949.0",
          "Ireland/253567.0",
          "Lithuania/261128.0",
          "Denmark/261613.0",
          "Ethiopia/263672.0",
          "Dominican Republic/272809.0",
          "Costa Rica/273714.0",
          "Kuwait/287199.0",
          "Paraguay/302061.0",
          "West Bank and Gaza/302777.0",
          "Bolivia/320209.0",
          "Tunisia/322998.0",
          "Georgia/325665.0",
          "Azerbaijan/327601.0",
          "Croatia/345623.0",
          "Greece/367076.0",
          "Panama/368368.0",
          "Belarus/370509.0",
          "Slovakia/386136.0",
          "Kazakhstan/401892.0",
          "Ecuador/402595.0",
          "Bulgaria/412157.0",
          "Nepal/413111.0",
          "Saudi Arabia/428369.0",
          "Malaysia/448457.0",
          "Morocco/514164.0",
          "Lebanon/533685.0",
          "United Arab Emirates/539138.0",
          "Austria/632766.0",
          "Japan/656957.0",
          "Switzerland/675671.0",
          "Serbia/702451.0",
          "Jordan/721853.0",
          "Bangladesh/776257.0",
          "Hungary/793784.0",
          "Israel/839022.0",
          "Portugal/840008.0",
          "Pakistan/867438.0",
          "Belgium/1020332.0",
          "Sweden/1021604.0",
          "Romania/1067887.0",
          "Philippines/1113547.0",
          "Iraq/1122914.0",
          "Chile/1256546.0",
          "Canada/1307863.0",
          "Netherlands/1598280.0",
          "South Africa/1599272.0",
          "Czechia/1648667.0",
          "Indonesia/1723596.0",
          "Peru/1858239.0",
          "Ukraine/2184967.0",
          "Mexico/2368393.0",
          "Iran/2691352.0",
          "Poland/2838180.0",
          "Colombia/3031726.0",
          "Argentina/3191097.0",
          "Germany/3552281.0",
          "Spain/3586333.0",
          "Italy/4123230.0",
          "United Kingdom/4455446.0",
          "Russia/4840948.0",
          "Turkey/5059433.0",
          "France/5861384.0",
          "Brazil/15282705.0",
          "India/23340938.0",
          "US/32779153.0",
          "Afghanistan",
          "Albania",
          "Algeria",
          "Andorra",
          "Angola",
          "Antigua and Barbuda",
          "Argentina",
          "Armenia",
          "Australia",
          "Austria",
          "Azerbaijan",
          "Bahamas",
          "Bahrain",
          "Bangladesh",
          "Barbados",
          "Belarus",
          "Belgium",
          "Belize",
          "Benin",
          "Bhutan",
          "Bolivia",
          "Bosnia and Herzegovina",
          "Botswana",
          "Brazil",
          "Brunei",
          "Bulgaria",
          "Burkina Faso",
          "Burma",
          "Burundi",
          "Cabo Verde",
          "Cambodia",
          "Cameroon",
          "Canada",
          "Central African Republic",
          "Chad",
          "Chile",
          "China",
          "Colombia",
          "Comoros",
          "Congo (Brazzaville)",
          "Congo (Kinshasa)",
          "Costa Rica",
          "Cote d'Ivoire",
          "Croatia",
          "Cuba",
          "Cyprus",
          "Czechia",
          "Denmark",
          "Diamond Princess",
          "Djibouti",
          "Dominica",
          "Dominican Republic",
          "Ecuador",
          "Egypt",
          "El Salvador",
          "Equatorial Guinea",
          "Eritrea",
          "Estonia",
          "Eswatini",
          "Ethiopia",
          "Fiji",
          "Finland",
          "France",
          "Gabon",
          "Gambia",
          "Georgia",
          "Germany",
          "Ghana",
          "Greece",
          "Grenada",
          "Guatemala",
          "Guinea",
          "Guinea-Bissau",
          "Guyana",
          "Haiti",
          "Holy See",
          "Honduras",
          "Hungary",
          "Iceland",
          "India",
          "Indonesia",
          "Iran",
          "Iraq",
          "Ireland",
          "Israel",
          "Italy",
          "Jamaica",
          "Japan",
          "Jordan",
          "Kazakhstan",
          "Kenya",
          "Korea, South",
          "Kosovo",
          "Kuwait",
          "Kyrgyzstan",
          "Laos",
          "Latvia",
          "Lebanon",
          "Lesotho",
          "Liberia",
          "Libya",
          "Liechtenstein",
          "Lithuania",
          "Luxembourg",
          "MS Zaandam",
          "Madagascar",
          "Malawi",
          "Malaysia",
          "Maldives",
          "Mali",
          "Malta",
          "Marshall Islands",
          "Mauritania",
          "Mauritius",
          "Mexico",
          "Micronesia",
          "Moldova",
          "Monaco",
          "Mongolia",
          "Montenegro",
          "Morocco",
          "Mozambique",
          "Namibia",
          "Nepal",
          "Netherlands",
          "New Zealand",
          "Nicaragua",
          "Niger",
          "Nigeria",
          "North Macedonia",
          "Norway",
          "Oman",
          "Pakistan",
          "Panama",
          "Papua New Guinea",
          "Paraguay",
          "Peru",
          "Philippines",
          "Poland",
          "Portugal",
          "Qatar",
          "Romania",
          "Russia",
          "Rwanda",
          "Saint Kitts and Nevis",
          "Saint Lucia",
          "Saint Vincent and the Grenadines",
          "Samoa",
          "San Marino",
          "Sao Tome and Principe",
          "Saudi Arabia",
          "Senegal",
          "Serbia",
          "Seychelles",
          "Sierra Leone",
          "Singapore",
          "Slovakia",
          "Slovenia",
          "Solomon Islands",
          "Somalia",
          "South Africa",
          "South Sudan",
          "Spain",
          "Sri Lanka",
          "Sudan",
          "Suriname",
          "Sweden",
          "Switzerland",
          "Syria",
          "Taiwan*",
          "Tajikistan",
          "Tanzania",
          "Thailand",
          "Timor-Leste",
          "Togo",
          "Trinidad and Tobago",
          "Tunisia",
          "Turkey",
          "US",
          "Uganda",
          "Ukraine",
          "United Arab Emirates",
          "United Kingdom",
          "Uruguay",
          "Uzbekistan",
          "Vanuatu",
          "Venezuela",
          "Vietnam",
          "West Bank and Gaza",
          "Yemen",
          "Zambia",
          "Zimbabwe"
         ],
         "labels": [
          "1.0",
          "3.0",
          "4.0",
          "4.0",
          "9.0",
          "20.0",
          "27.0",
          "45.0",
          "152.0",
          "160.0",
          "175.0",
          "230.0",
          "509.0",
          "712.0",
          "1210.0",
          "1240.0",
          "1247.0",
          "1266.0",
          "1362.0",
          "1922.0",
          "2114.0",
          "2320.0",
          "2486.0",
          "2643.0",
          "2975.0",
          "3493.0",
          "3593.0",
          "3741.0",
          "3818.0",
          "3860.0",
          "3950.0",
          "4089.0",
          "4208.0",
          "4700.0",
          "4888.0",
          "5083.0",
          "5324.0",
          "5934.0",
          "6492.0",
          "6522.0",
          "6674.0",
          "7086.0",
          "7694.0",
          "7995.0",
          "8172.0",
          "10641.0",
          "10774.0",
          "10908.0",
          "11306.0",
          "11343.0",
          "11369.0",
          "12493.0",
          "12704.0",
          "13167.0",
          "13179.0",
          "13308.0",
          "13384.0",
          "13447.0",
          "13802.0",
          "14133.0",
          "14486.0",
          "14531.0",
          "18487.0",
          "18691.0",
          "20695.0",
          "22719.0",
          "23490.0",
          "23565.0",
          "25773.0",
          "26709.0",
          "29146.0",
          "29947.0",
          "30392.0",
          "30464.0",
          "34183.0",
          "34889.0",
          "38448.0",
          "38520.0",
          "39351.0",
          "40729.0",
          "42427.0",
          "46448.0",
          "46484.0",
          "46821.0",
          "49041.0",
          "50301.0",
          "61419.0",
          "62403.0",
          "68552.0",
          "70098.0",
          "70267.0",
          "70380.0",
          "74946.0",
          "88907.0",
          "88990.0",
          "92152.0",
          "93011.0",
          "95467.0",
          "98449.0",
          "99316.0",
          "102660.0",
          "106130.0",
          "117495.0",
          "118168.0",
          "124483.0",
          "124960.0",
          "126064.0",
          "128918.0",
          "131098.0",
          "131803.0",
          "142974.0",
          "154222.0",
          "163976.0",
          "165515.0",
          "180692.0",
          "192750.0",
          "201512.0",
          "202713.0",
          "210116.0",
          "211732.0",
          "219950.0",
          "222118.0",
          "225847.0",
          "236266.0",
          "239740.0",
          "246725.0",
          "252949.0",
          "253567.0",
          "261128.0",
          "261613.0",
          "263672.0",
          "272809.0",
          "273714.0",
          "287199.0",
          "302061.0",
          "302777.0",
          "320209.0",
          "322998.0",
          "325665.0",
          "327601.0",
          "345623.0",
          "367076.0",
          "368368.0",
          "370509.0",
          "386136.0",
          "401892.0",
          "402595.0",
          "412157.0",
          "413111.0",
          "428369.0",
          "448457.0",
          "514164.0",
          "533685.0",
          "539138.0",
          "632766.0",
          "656957.0",
          "675671.0",
          "702451.0",
          "721853.0",
          "776257.0",
          "793784.0",
          "839022.0",
          "840008.0",
          "867438.0",
          "1020332.0",
          "1021604.0",
          "1067887.0",
          "1113547.0",
          "1122914.0",
          "1256546.0",
          "1307863.0",
          "1598280.0",
          "1599272.0",
          "1648667.0",
          "1723596.0",
          "1858239.0",
          "2184967.0",
          "2368393.0",
          "2691352.0",
          "2838180.0",
          "3031726.0",
          "3191097.0",
          "3552281.0",
          "3586333.0",
          "4123230.0",
          "4455446.0",
          "4840948.0",
          "5059433.0",
          "5861384.0",
          "15282705.0",
          "23340938.0",
          "32779153.0",
          "Afghanistan",
          "Albania",
          "Algeria",
          "Andorra",
          "Angola",
          "Antigua and Barbuda",
          "Argentina",
          "Armenia",
          "Australia",
          "Austria",
          "Azerbaijan",
          "Bahamas",
          "Bahrain",
          "Bangladesh",
          "Barbados",
          "Belarus",
          "Belgium",
          "Belize",
          "Benin",
          "Bhutan",
          "Bolivia",
          "Bosnia and Herzegovina",
          "Botswana",
          "Brazil",
          "Brunei",
          "Bulgaria",
          "Burkina Faso",
          "Burma",
          "Burundi",
          "Cabo Verde",
          "Cambodia",
          "Cameroon",
          "Canada",
          "Central African Republic",
          "Chad",
          "Chile",
          "China",
          "Colombia",
          "Comoros",
          "Congo (Brazzaville)",
          "Congo (Kinshasa)",
          "Costa Rica",
          "Cote d'Ivoire",
          "Croatia",
          "Cuba",
          "Cyprus",
          "Czechia",
          "Denmark",
          "Diamond Princess",
          "Djibouti",
          "Dominica",
          "Dominican Republic",
          "Ecuador",
          "Egypt",
          "El Salvador",
          "Equatorial Guinea",
          "Eritrea",
          "Estonia",
          "Eswatini",
          "Ethiopia",
          "Fiji",
          "Finland",
          "France",
          "Gabon",
          "Gambia",
          "Georgia",
          "Germany",
          "Ghana",
          "Greece",
          "Grenada",
          "Guatemala",
          "Guinea",
          "Guinea-Bissau",
          "Guyana",
          "Haiti",
          "Holy See",
          "Honduras",
          "Hungary",
          "Iceland",
          "India",
          "Indonesia",
          "Iran",
          "Iraq",
          "Ireland",
          "Israel",
          "Italy",
          "Jamaica",
          "Japan",
          "Jordan",
          "Kazakhstan",
          "Kenya",
          "Korea, South",
          "Kosovo",
          "Kuwait",
          "Kyrgyzstan",
          "Laos",
          "Latvia",
          "Lebanon",
          "Lesotho",
          "Liberia",
          "Libya",
          "Liechtenstein",
          "Lithuania",
          "Luxembourg",
          "MS Zaandam",
          "Madagascar",
          "Malawi",
          "Malaysia",
          "Maldives",
          "Mali",
          "Malta",
          "Marshall Islands",
          "Mauritania",
          "Mauritius",
          "Mexico",
          "Micronesia",
          "Moldova",
          "Monaco",
          "Mongolia",
          "Montenegro",
          "Morocco",
          "Mozambique",
          "Namibia",
          "Nepal",
          "Netherlands",
          "New Zealand",
          "Nicaragua",
          "Niger",
          "Nigeria",
          "North Macedonia",
          "Norway",
          "Oman",
          "Pakistan",
          "Panama",
          "Papua New Guinea",
          "Paraguay",
          "Peru",
          "Philippines",
          "Poland",
          "Portugal",
          "Qatar",
          "Romania",
          "Russia",
          "Rwanda",
          "Saint Kitts and Nevis",
          "Saint Lucia",
          "Saint Vincent and the Grenadines",
          "Samoa",
          "San Marino",
          "Sao Tome and Principe",
          "Saudi Arabia",
          "Senegal",
          "Serbia",
          "Seychelles",
          "Sierra Leone",
          "Singapore",
          "Slovakia",
          "Slovenia",
          "Solomon Islands",
          "Somalia",
          "South Africa",
          "South Sudan",
          "Spain",
          "Sri Lanka",
          "Sudan",
          "Suriname",
          "Sweden",
          "Switzerland",
          "Syria",
          "Taiwan*",
          "Tajikistan",
          "Tanzania",
          "Thailand",
          "Timor-Leste",
          "Togo",
          "Trinidad and Tobago",
          "Tunisia",
          "Turkey",
          "US",
          "Uganda",
          "Ukraine",
          "United Arab Emirates",
          "United Kingdom",
          "Uruguay",
          "Uzbekistan",
          "Vanuatu",
          "Venezuela",
          "Vietnam",
          "West Bank and Gaza",
          "Yemen",
          "Zambia",
          "Zimbabwe"
         ],
         "name": "",
         "parents": [
          "Micronesia",
          "Samoa",
          "Marshall Islands",
          "Vanuatu",
          "MS Zaandam",
          "Solomon Islands",
          "Holy See",
          "Saint Kitts and Nevis",
          "Fiji",
          "Grenada",
          "Dominica",
          "Brunei",
          "Tanzania",
          "Diamond Princess",
          "Taiwan*",
          "Antigua and Barbuda",
          "Bhutan",
          "Mauritius",
          "Laos",
          "Saint Vincent and the Grenadines",
          "Liberia",
          "Sao Tome and Principe",
          "Monaco",
          "New Zealand",
          "Liechtenstein",
          "Timor-Leste",
          "Vietnam",
          "Guinea-Bissau",
          "Eritrea",
          "Comoros",
          "Barbados",
          "Sierra Leone",
          "Burundi",
          "Saint Lucia",
          "Chad",
          "San Marino",
          "Niger",
          "Gambia",
          "Yemen",
          "Iceland",
          "Central African Republic",
          "Nicaragua",
          "Equatorial Guinea",
          "Benin",
          "Seychelles",
          "South Sudan",
          "Lesotho",
          "Bahamas",
          "Suriname",
          "Congo (Brazzaville)",
          "Djibouti",
          "Papua New Guinea",
          "Belize",
          "Togo",
          "Haiti",
          "Tajikistan",
          "Burkina Faso",
          "Andorra",
          "Trinidad and Tobago",
          "Mali",
          "Somalia",
          "Guyana",
          "Eswatini",
          "Mauritania",
          "Cambodia",
          "Guinea",
          "Syria",
          "Gabon",
          "Rwanda",
          "Cabo Verde",
          "Angola",
          "Australia",
          "Congo (Kinshasa)",
          "Malta",
          "Malawi",
          "Sudan",
          "Zimbabwe",
          "Maldives",
          "Madagascar",
          "Senegal",
          "Uganda",
          "Mongolia",
          "Cote d'Ivoire",
          "Jamaica",
          "Botswana",
          "Namibia",
          "Singapore",
          "Afghanistan",
          "Luxembourg",
          "Cyprus",
          "Mozambique",
          "El Salvador",
          "Cameroon",
          "Thailand",
          "Finland",
          "Zambia",
          "Ghana",
          "Uzbekistan",
          "Montenegro",
          "Kyrgyzstan",
          "China",
          "Kosovo",
          "Norway",
          "Cuba",
          "Algeria",
          "Latvia",
          "Estonia",
          "Korea, South",
          "Sri Lanka",
          "Albania",
          "Burma",
          "North Macedonia",
          "Kenya",
          "Nigeria",
          "Libya",
          "Bahrain",
          "Bosnia and Herzegovina",
          "Oman",
          "Venezuela",
          "Qatar",
          "Armenia",
          "Honduras",
          "Uruguay",
          "Guatemala",
          "Egypt",
          "Slovenia",
          "Moldova",
          "Ireland",
          "Lithuania",
          "Denmark",
          "Ethiopia",
          "Dominican Republic",
          "Costa Rica",
          "Kuwait",
          "Paraguay",
          "West Bank and Gaza",
          "Bolivia",
          "Tunisia",
          "Georgia",
          "Azerbaijan",
          "Croatia",
          "Greece",
          "Panama",
          "Belarus",
          "Slovakia",
          "Kazakhstan",
          "Ecuador",
          "Bulgaria",
          "Nepal",
          "Saudi Arabia",
          "Malaysia",
          "Morocco",
          "Lebanon",
          "United Arab Emirates",
          "Austria",
          "Japan",
          "Switzerland",
          "Serbia",
          "Jordan",
          "Bangladesh",
          "Hungary",
          "Israel",
          "Portugal",
          "Pakistan",
          "Belgium",
          "Sweden",
          "Romania",
          "Philippines",
          "Iraq",
          "Chile",
          "Canada",
          "Netherlands",
          "South Africa",
          "Czechia",
          "Indonesia",
          "Peru",
          "Ukraine",
          "Mexico",
          "Iran",
          "Poland",
          "Colombia",
          "Argentina",
          "Germany",
          "Spain",
          "Italy",
          "United Kingdom",
          "Russia",
          "Turkey",
          "France",
          "Brazil",
          "India",
          "US",
          "",
          "",
          "",
          "",
          "",
          "",
          "",
          "",
          "",
          "",
          "",
          "",
          "",
          "",
          "",
          "",
          "",
          "",
          "",
          "",
          "",
          "",
          "",
          "",
          "",
          "",
          "",
          "",
          "",
          "",
          "",
          "",
          "",
          "",
          "",
          "",
          "",
          "",
          "",
          "",
          "",
          "",
          "",
          "",
          "",
          "",
          "",
          "",
          "",
          "",
          "",
          "",
          "",
          "",
          "",
          "",
          "",
          "",
          "",
          "",
          "",
          "",
          "",
          "",
          "",
          "",
          "",
          "",
          "",
          "",
          "",
          "",
          "",
          "",
          "",
          "",
          "",
          "",
          "",
          "",
          "",
          "",
          "",
          "",
          "",
          "",
          "",
          "",
          "",
          "",
          "",
          "",
          "",
          "",
          "",
          "",
          "",
          "",
          "",
          "",
          "",
          "",
          "",
          "",
          "",
          "",
          "",
          "",
          "",
          "",
          "",
          "",
          "",
          "",
          "",
          "",
          "",
          "",
          "",
          "",
          "",
          "",
          "",
          "",
          "",
          "",
          "",
          "",
          "",
          "",
          "",
          "",
          "",
          "",
          "",
          "",
          "",
          "",
          "",
          "",
          "",
          "",
          "",
          "",
          "",
          "",
          "",
          "",
          "",
          "",
          "",
          "",
          "",
          "",
          "",
          "",
          "",
          "",
          "",
          "",
          "",
          "",
          "",
          "",
          "",
          "",
          "",
          "",
          "",
          "",
          "",
          "",
          "",
          "",
          "",
          "",
          "",
          "",
          "",
          "",
          "",
          "",
          "",
          "",
          "",
          "",
          "",
          "",
          "",
          "",
          "",
          ""
         ],
         "type": "treemap",
         "values": [
          1,
          3,
          4,
          4,
          9,
          20,
          27,
          45,
          152,
          160,
          175,
          230,
          509,
          712,
          1210,
          1240,
          1247,
          1266,
          1362,
          1922,
          2114,
          2320,
          2486,
          2643,
          2975,
          3493,
          3593,
          3741,
          3818,
          3860,
          3950,
          4089,
          4208,
          4700,
          4888,
          5083,
          5324,
          5934,
          6492,
          6522,
          6674,
          7086,
          7694,
          7995,
          8172,
          10641,
          10774,
          10908,
          11306,
          11343,
          11369,
          12493,
          12704,
          13167,
          13179,
          13308,
          13384,
          13447,
          13802,
          14133,
          14486,
          14531,
          18487,
          18691,
          20695,
          22719,
          23490,
          23565,
          25773,
          26709,
          29146,
          29947,
          30392,
          30464,
          34183,
          34889,
          38448,
          38520,
          39351,
          40729,
          42427,
          46448,
          46484,
          46821,
          49041,
          50301,
          61419,
          62403,
          68552,
          70098,
          70267,
          70380,
          74946,
          88907,
          88990,
          92152,
          93011,
          95467,
          98449,
          99316,
          102660,
          106130,
          117495,
          118168,
          124483,
          124960,
          126064,
          128918,
          131098,
          131803,
          142974,
          154222,
          163976,
          165515,
          180692,
          192750,
          201512,
          202713,
          210116,
          211732,
          219950,
          222118,
          225847,
          236266,
          239740,
          246725,
          252949,
          253567,
          261128,
          261613,
          263672,
          272809,
          273714,
          287199,
          302061,
          302777,
          320209,
          322998,
          325665,
          327601,
          345623,
          367076,
          368368,
          370509,
          386136,
          401892,
          402595,
          412157,
          413111,
          428369,
          448457,
          514164,
          533685,
          539138,
          632766,
          656957,
          675671,
          702451,
          721853,
          776257,
          793784,
          839022,
          840008,
          867438,
          1020332,
          1021604,
          1067887,
          1113547,
          1122914,
          1256546,
          1307863,
          1598280,
          1599272,
          1648667,
          1723596,
          1858239,
          2184967,
          2368393,
          2691352,
          2838180,
          3031726,
          3191097,
          3552281,
          3586333,
          4123230,
          4455446,
          4840948,
          5059433,
          5861384,
          15282705,
          23340938,
          32779153,
          62403,
          131803,
          124483,
          13447,
          29146,
          1240,
          3191097,
          219950,
          29947,
          632766,
          327601,
          10908,
          192750,
          776257,
          3950,
          370509,
          1020332,
          12704,
          7995,
          1247,
          320209,
          201512,
          49041,
          15282705,
          230,
          412157,
          13384,
          142974,
          4208,
          26709,
          20695,
          74946,
          1307863,
          6674,
          4888,
          1256546,
          102660,
          3031726,
          3860,
          11343,
          30392,
          273714,
          46484,
          345623,
          118168,
          70098,
          1648667,
          261613,
          712,
          11369,
          175,
          272809,
          402595,
          239740,
          70380,
          7694,
          3818,
          126064,
          18487,
          263672,
          152,
          88990,
          5861384,
          23565,
          5934,
          325665,
          3552281,
          93011,
          367076,
          160,
          236266,
          22719,
          3741,
          14531,
          13179,
          27,
          222118,
          793784,
          6522,
          23340938,
          1723596,
          2691352,
          1122914,
          253567,
          839022,
          4123230,
          46821,
          656957,
          721853,
          401892,
          163976,
          128918,
          106130,
          287199,
          99316,
          1362,
          124960,
          533685,
          10774,
          2114,
          180692,
          2975,
          261128,
          68552,
          9,
          39351,
          34183,
          448457,
          38520,
          14133,
          30464,
          4,
          18691,
          1266,
          2368393,
          1,
          252949,
          2486,
          46448,
          98449,
          514164,
          70267,
          50301,
          413111,
          1598280,
          2643,
          7086,
          5324,
          165515,
          154222,
          117495,
          202713,
          867438,
          368368,
          12493,
          302061,
          1858239,
          1113547,
          2838180,
          840008,
          211732,
          1067887,
          4840948,
          25773,
          45,
          4700,
          1922,
          3,
          5083,
          2320,
          428369,
          40729,
          702451,
          8172,
          4089,
          61419,
          386136,
          246725,
          20,
          14486,
          1599272,
          10641,
          3586333,
          131098,
          34889,
          11306,
          1021604,
          675671,
          23490,
          1210,
          13308,
          509,
          88907,
          3493,
          13167,
          13802,
          322998,
          5059433,
          32779153,
          42427,
          2184967,
          539138,
          4455446,
          225847,
          95467,
          4,
          210116,
          3593,
          302777,
          6492,
          92152,
          38448
         ]
        }
       ],
       "layout": {
        "legend": {
         "tracegroupgap": 0
        },
        "template": {
         "data": {
          "bar": [
           {
            "error_x": {
             "color": "#2a3f5f"
            },
            "error_y": {
             "color": "#2a3f5f"
            },
            "marker": {
             "line": {
              "color": "#E5ECF6",
              "width": 0.5
             }
            },
            "type": "bar"
           }
          ],
          "barpolar": [
           {
            "marker": {
             "line": {
              "color": "#E5ECF6",
              "width": 0.5
             }
            },
            "type": "barpolar"
           }
          ],
          "carpet": [
           {
            "aaxis": {
             "endlinecolor": "#2a3f5f",
             "gridcolor": "white",
             "linecolor": "white",
             "minorgridcolor": "white",
             "startlinecolor": "#2a3f5f"
            },
            "baxis": {
             "endlinecolor": "#2a3f5f",
             "gridcolor": "white",
             "linecolor": "white",
             "minorgridcolor": "white",
             "startlinecolor": "#2a3f5f"
            },
            "type": "carpet"
           }
          ],
          "choropleth": [
           {
            "colorbar": {
             "outlinewidth": 0,
             "ticks": ""
            },
            "type": "choropleth"
           }
          ],
          "contour": [
           {
            "colorbar": {
             "outlinewidth": 0,
             "ticks": ""
            },
            "colorscale": [
             [
              0,
              "#0d0887"
             ],
             [
              0.1111111111111111,
              "#46039f"
             ],
             [
              0.2222222222222222,
              "#7201a8"
             ],
             [
              0.3333333333333333,
              "#9c179e"
             ],
             [
              0.4444444444444444,
              "#bd3786"
             ],
             [
              0.5555555555555556,
              "#d8576b"
             ],
             [
              0.6666666666666666,
              "#ed7953"
             ],
             [
              0.7777777777777778,
              "#fb9f3a"
             ],
             [
              0.8888888888888888,
              "#fdca26"
             ],
             [
              1,
              "#f0f921"
             ]
            ],
            "type": "contour"
           }
          ],
          "contourcarpet": [
           {
            "colorbar": {
             "outlinewidth": 0,
             "ticks": ""
            },
            "type": "contourcarpet"
           }
          ],
          "heatmap": [
           {
            "colorbar": {
             "outlinewidth": 0,
             "ticks": ""
            },
            "colorscale": [
             [
              0,
              "#0d0887"
             ],
             [
              0.1111111111111111,
              "#46039f"
             ],
             [
              0.2222222222222222,
              "#7201a8"
             ],
             [
              0.3333333333333333,
              "#9c179e"
             ],
             [
              0.4444444444444444,
              "#bd3786"
             ],
             [
              0.5555555555555556,
              "#d8576b"
             ],
             [
              0.6666666666666666,
              "#ed7953"
             ],
             [
              0.7777777777777778,
              "#fb9f3a"
             ],
             [
              0.8888888888888888,
              "#fdca26"
             ],
             [
              1,
              "#f0f921"
             ]
            ],
            "type": "heatmap"
           }
          ],
          "heatmapgl": [
           {
            "colorbar": {
             "outlinewidth": 0,
             "ticks": ""
            },
            "colorscale": [
             [
              0,
              "#0d0887"
             ],
             [
              0.1111111111111111,
              "#46039f"
             ],
             [
              0.2222222222222222,
              "#7201a8"
             ],
             [
              0.3333333333333333,
              "#9c179e"
             ],
             [
              0.4444444444444444,
              "#bd3786"
             ],
             [
              0.5555555555555556,
              "#d8576b"
             ],
             [
              0.6666666666666666,
              "#ed7953"
             ],
             [
              0.7777777777777778,
              "#fb9f3a"
             ],
             [
              0.8888888888888888,
              "#fdca26"
             ],
             [
              1,
              "#f0f921"
             ]
            ],
            "type": "heatmapgl"
           }
          ],
          "histogram": [
           {
            "marker": {
             "colorbar": {
              "outlinewidth": 0,
              "ticks": ""
             }
            },
            "type": "histogram"
           }
          ],
          "histogram2d": [
           {
            "colorbar": {
             "outlinewidth": 0,
             "ticks": ""
            },
            "colorscale": [
             [
              0,
              "#0d0887"
             ],
             [
              0.1111111111111111,
              "#46039f"
             ],
             [
              0.2222222222222222,
              "#7201a8"
             ],
             [
              0.3333333333333333,
              "#9c179e"
             ],
             [
              0.4444444444444444,
              "#bd3786"
             ],
             [
              0.5555555555555556,
              "#d8576b"
             ],
             [
              0.6666666666666666,
              "#ed7953"
             ],
             [
              0.7777777777777778,
              "#fb9f3a"
             ],
             [
              0.8888888888888888,
              "#fdca26"
             ],
             [
              1,
              "#f0f921"
             ]
            ],
            "type": "histogram2d"
           }
          ],
          "histogram2dcontour": [
           {
            "colorbar": {
             "outlinewidth": 0,
             "ticks": ""
            },
            "colorscale": [
             [
              0,
              "#0d0887"
             ],
             [
              0.1111111111111111,
              "#46039f"
             ],
             [
              0.2222222222222222,
              "#7201a8"
             ],
             [
              0.3333333333333333,
              "#9c179e"
             ],
             [
              0.4444444444444444,
              "#bd3786"
             ],
             [
              0.5555555555555556,
              "#d8576b"
             ],
             [
              0.6666666666666666,
              "#ed7953"
             ],
             [
              0.7777777777777778,
              "#fb9f3a"
             ],
             [
              0.8888888888888888,
              "#fdca26"
             ],
             [
              1,
              "#f0f921"
             ]
            ],
            "type": "histogram2dcontour"
           }
          ],
          "mesh3d": [
           {
            "colorbar": {
             "outlinewidth": 0,
             "ticks": ""
            },
            "type": "mesh3d"
           }
          ],
          "parcoords": [
           {
            "line": {
             "colorbar": {
              "outlinewidth": 0,
              "ticks": ""
             }
            },
            "type": "parcoords"
           }
          ],
          "pie": [
           {
            "automargin": true,
            "type": "pie"
           }
          ],
          "scatter": [
           {
            "marker": {
             "colorbar": {
              "outlinewidth": 0,
              "ticks": ""
             }
            },
            "type": "scatter"
           }
          ],
          "scatter3d": [
           {
            "line": {
             "colorbar": {
              "outlinewidth": 0,
              "ticks": ""
             }
            },
            "marker": {
             "colorbar": {
              "outlinewidth": 0,
              "ticks": ""
             }
            },
            "type": "scatter3d"
           }
          ],
          "scattercarpet": [
           {
            "marker": {
             "colorbar": {
              "outlinewidth": 0,
              "ticks": ""
             }
            },
            "type": "scattercarpet"
           }
          ],
          "scattergeo": [
           {
            "marker": {
             "colorbar": {
              "outlinewidth": 0,
              "ticks": ""
             }
            },
            "type": "scattergeo"
           }
          ],
          "scattergl": [
           {
            "marker": {
             "colorbar": {
              "outlinewidth": 0,
              "ticks": ""
             }
            },
            "type": "scattergl"
           }
          ],
          "scattermapbox": [
           {
            "marker": {
             "colorbar": {
              "outlinewidth": 0,
              "ticks": ""
             }
            },
            "type": "scattermapbox"
           }
          ],
          "scatterpolar": [
           {
            "marker": {
             "colorbar": {
              "outlinewidth": 0,
              "ticks": ""
             }
            },
            "type": "scatterpolar"
           }
          ],
          "scatterpolargl": [
           {
            "marker": {
             "colorbar": {
              "outlinewidth": 0,
              "ticks": ""
             }
            },
            "type": "scatterpolargl"
           }
          ],
          "scatterternary": [
           {
            "marker": {
             "colorbar": {
              "outlinewidth": 0,
              "ticks": ""
             }
            },
            "type": "scatterternary"
           }
          ],
          "surface": [
           {
            "colorbar": {
             "outlinewidth": 0,
             "ticks": ""
            },
            "colorscale": [
             [
              0,
              "#0d0887"
             ],
             [
              0.1111111111111111,
              "#46039f"
             ],
             [
              0.2222222222222222,
              "#7201a8"
             ],
             [
              0.3333333333333333,
              "#9c179e"
             ],
             [
              0.4444444444444444,
              "#bd3786"
             ],
             [
              0.5555555555555556,
              "#d8576b"
             ],
             [
              0.6666666666666666,
              "#ed7953"
             ],
             [
              0.7777777777777778,
              "#fb9f3a"
             ],
             [
              0.8888888888888888,
              "#fdca26"
             ],
             [
              1,
              "#f0f921"
             ]
            ],
            "type": "surface"
           }
          ],
          "table": [
           {
            "cells": {
             "fill": {
              "color": "#EBF0F8"
             },
             "line": {
              "color": "white"
             }
            },
            "header": {
             "fill": {
              "color": "#C8D4E3"
             },
             "line": {
              "color": "white"
             }
            },
            "type": "table"
           }
          ]
         },
         "layout": {
          "annotationdefaults": {
           "arrowcolor": "#2a3f5f",
           "arrowhead": 0,
           "arrowwidth": 1
          },
          "autotypenumbers": "strict",
          "coloraxis": {
           "colorbar": {
            "outlinewidth": 0,
            "ticks": ""
           }
          },
          "colorscale": {
           "diverging": [
            [
             0,
             "#8e0152"
            ],
            [
             0.1,
             "#c51b7d"
            ],
            [
             0.2,
             "#de77ae"
            ],
            [
             0.3,
             "#f1b6da"
            ],
            [
             0.4,
             "#fde0ef"
            ],
            [
             0.5,
             "#f7f7f7"
            ],
            [
             0.6,
             "#e6f5d0"
            ],
            [
             0.7,
             "#b8e186"
            ],
            [
             0.8,
             "#7fbc41"
            ],
            [
             0.9,
             "#4d9221"
            ],
            [
             1,
             "#276419"
            ]
           ],
           "sequential": [
            [
             0,
             "#0d0887"
            ],
            [
             0.1111111111111111,
             "#46039f"
            ],
            [
             0.2222222222222222,
             "#7201a8"
            ],
            [
             0.3333333333333333,
             "#9c179e"
            ],
            [
             0.4444444444444444,
             "#bd3786"
            ],
            [
             0.5555555555555556,
             "#d8576b"
            ],
            [
             0.6666666666666666,
             "#ed7953"
            ],
            [
             0.7777777777777778,
             "#fb9f3a"
            ],
            [
             0.8888888888888888,
             "#fdca26"
            ],
            [
             1,
             "#f0f921"
            ]
           ],
           "sequentialminus": [
            [
             0,
             "#0d0887"
            ],
            [
             0.1111111111111111,
             "#46039f"
            ],
            [
             0.2222222222222222,
             "#7201a8"
            ],
            [
             0.3333333333333333,
             "#9c179e"
            ],
            [
             0.4444444444444444,
             "#bd3786"
            ],
            [
             0.5555555555555556,
             "#d8576b"
            ],
            [
             0.6666666666666666,
             "#ed7953"
            ],
            [
             0.7777777777777778,
             "#fb9f3a"
            ],
            [
             0.8888888888888888,
             "#fdca26"
            ],
            [
             1,
             "#f0f921"
            ]
           ]
          },
          "colorway": [
           "#636efa",
           "#EF553B",
           "#00cc96",
           "#ab63fa",
           "#FFA15A",
           "#19d3f3",
           "#FF6692",
           "#B6E880",
           "#FF97FF",
           "#FECB52"
          ],
          "font": {
           "color": "#2a3f5f"
          },
          "geo": {
           "bgcolor": "white",
           "lakecolor": "white",
           "landcolor": "#E5ECF6",
           "showlakes": true,
           "showland": true,
           "subunitcolor": "white"
          },
          "hoverlabel": {
           "align": "left"
          },
          "hovermode": "closest",
          "mapbox": {
           "style": "light"
          },
          "paper_bgcolor": "white",
          "plot_bgcolor": "#E5ECF6",
          "polar": {
           "angularaxis": {
            "gridcolor": "white",
            "linecolor": "white",
            "ticks": ""
           },
           "bgcolor": "#E5ECF6",
           "radialaxis": {
            "gridcolor": "white",
            "linecolor": "white",
            "ticks": ""
           }
          },
          "scene": {
           "xaxis": {
            "backgroundcolor": "#E5ECF6",
            "gridcolor": "white",
            "gridwidth": 2,
            "linecolor": "white",
            "showbackground": true,
            "ticks": "",
            "zerolinecolor": "white"
           },
           "yaxis": {
            "backgroundcolor": "#E5ECF6",
            "gridcolor": "white",
            "gridwidth": 2,
            "linecolor": "white",
            "showbackground": true,
            "ticks": "",
            "zerolinecolor": "white"
           },
           "zaxis": {
            "backgroundcolor": "#E5ECF6",
            "gridcolor": "white",
            "gridwidth": 2,
            "linecolor": "white",
            "showbackground": true,
            "ticks": "",
            "zerolinecolor": "white"
           }
          },
          "shapedefaults": {
           "line": {
            "color": "#2a3f5f"
           }
          },
          "ternary": {
           "aaxis": {
            "gridcolor": "white",
            "linecolor": "white",
            "ticks": ""
           },
           "baxis": {
            "gridcolor": "white",
            "linecolor": "white",
            "ticks": ""
           },
           "bgcolor": "#E5ECF6",
           "caxis": {
            "gridcolor": "white",
            "linecolor": "white",
            "ticks": ""
           }
          },
          "title": {
           "x": 0.05
          },
          "xaxis": {
           "automargin": true,
           "gridcolor": "white",
           "linecolor": "white",
           "ticks": "",
           "title": {
            "standoff": 15
           },
           "zerolinecolor": "white",
           "zerolinewidth": 2
          },
          "yaxis": {
           "automargin": true,
           "gridcolor": "white",
           "linecolor": "white",
           "ticks": "",
           "title": {
            "standoff": 15
           },
           "zerolinecolor": "white",
           "zerolinewidth": 2
          }
         }
        },
        "title": {
         "text": "Top countries with most number of Confirmed cases"
        }
       }
      },
      "text/html": [
       "<div>                            <div id=\"d790f78c-20be-40cb-9611-75adbd062c40\" class=\"plotly-graph-div\" style=\"height:525px; width:100%;\"></div>            <script type=\"text/javascript\">                require([\"plotly\"], function(Plotly) {                    window.PLOTLYENV=window.PLOTLYENV || {};                                    if (document.getElementById(\"d790f78c-20be-40cb-9611-75adbd062c40\")) {                    Plotly.newPlot(                        \"d790f78c-20be-40cb-9611-75adbd062c40\",                        [{\"branchvalues\": \"total\", \"domain\": {\"x\": [0.0, 1.0], \"y\": [0.0, 1.0]}, \"hovertemplate\": \"labels=%{label}<br>Confirmed=%{value}<br>parent=%{parent}<br>id=%{id}<extra></extra>\", \"ids\": [\"Micronesia/1.0\", \"Samoa/3.0\", \"Marshall Islands/4.0\", \"Vanuatu/4.0\", \"MS Zaandam/9.0\", \"Solomon Islands/20.0\", \"Holy See/27.0\", \"Saint Kitts and Nevis/45.0\", \"Fiji/152.0\", \"Grenada/160.0\", \"Dominica/175.0\", \"Brunei/230.0\", \"Tanzania/509.0\", \"Diamond Princess/712.0\", \"Taiwan*/1210.0\", \"Antigua and Barbuda/1240.0\", \"Bhutan/1247.0\", \"Mauritius/1266.0\", \"Laos/1362.0\", \"Saint Vincent and the Grenadines/1922.0\", \"Liberia/2114.0\", \"Sao Tome and Principe/2320.0\", \"Monaco/2486.0\", \"New Zealand/2643.0\", \"Liechtenstein/2975.0\", \"Timor-Leste/3493.0\", \"Vietnam/3593.0\", \"Guinea-Bissau/3741.0\", \"Eritrea/3818.0\", \"Comoros/3860.0\", \"Barbados/3950.0\", \"Sierra Leone/4089.0\", \"Burundi/4208.0\", \"Saint Lucia/4700.0\", \"Chad/4888.0\", \"San Marino/5083.0\", \"Niger/5324.0\", \"Gambia/5934.0\", \"Yemen/6492.0\", \"Iceland/6522.0\", \"Central African Republic/6674.0\", \"Nicaragua/7086.0\", \"Equatorial Guinea/7694.0\", \"Benin/7995.0\", \"Seychelles/8172.0\", \"South Sudan/10641.0\", \"Lesotho/10774.0\", \"Bahamas/10908.0\", \"Suriname/11306.0\", \"Congo (Brazzaville)/11343.0\", \"Djibouti/11369.0\", \"Papua New Guinea/12493.0\", \"Belize/12704.0\", \"Togo/13167.0\", \"Haiti/13179.0\", \"Tajikistan/13308.0\", \"Burkina Faso/13384.0\", \"Andorra/13447.0\", \"Trinidad and Tobago/13802.0\", \"Mali/14133.0\", \"Somalia/14486.0\", \"Guyana/14531.0\", \"Eswatini/18487.0\", \"Mauritania/18691.0\", \"Cambodia/20695.0\", \"Guinea/22719.0\", \"Syria/23490.0\", \"Gabon/23565.0\", \"Rwanda/25773.0\", \"Cabo Verde/26709.0\", \"Angola/29146.0\", \"Australia/29947.0\", \"Congo (Kinshasa)/30392.0\", \"Malta/30464.0\", \"Malawi/34183.0\", \"Sudan/34889.0\", \"Zimbabwe/38448.0\", \"Maldives/38520.0\", \"Madagascar/39351.0\", \"Senegal/40729.0\", \"Uganda/42427.0\", \"Mongolia/46448.0\", \"Cote d'Ivoire/46484.0\", \"Jamaica/46821.0\", \"Botswana/49041.0\", \"Namibia/50301.0\", \"Singapore/61419.0\", \"Afghanistan/62403.0\", \"Luxembourg/68552.0\", \"Cyprus/70098.0\", \"Mozambique/70267.0\", \"El Salvador/70380.0\", \"Cameroon/74946.0\", \"Thailand/88907.0\", \"Finland/88990.0\", \"Zambia/92152.0\", \"Ghana/93011.0\", \"Uzbekistan/95467.0\", \"Montenegro/98449.0\", \"Kyrgyzstan/99316.0\", \"China/102660.0\", \"Kosovo/106130.0\", \"Norway/117495.0\", \"Cuba/118168.0\", \"Algeria/124483.0\", \"Latvia/124960.0\", \"Estonia/126064.0\", \"Korea, South/128918.0\", \"Sri Lanka/131098.0\", \"Albania/131803.0\", \"Burma/142974.0\", \"North Macedonia/154222.0\", \"Kenya/163976.0\", \"Nigeria/165515.0\", \"Libya/180692.0\", \"Bahrain/192750.0\", \"Bosnia and Herzegovina/201512.0\", \"Oman/202713.0\", \"Venezuela/210116.0\", \"Qatar/211732.0\", \"Armenia/219950.0\", \"Honduras/222118.0\", \"Uruguay/225847.0\", \"Guatemala/236266.0\", \"Egypt/239740.0\", \"Slovenia/246725.0\", \"Moldova/252949.0\", \"Ireland/253567.0\", \"Lithuania/261128.0\", \"Denmark/261613.0\", \"Ethiopia/263672.0\", \"Dominican Republic/272809.0\", \"Costa Rica/273714.0\", \"Kuwait/287199.0\", \"Paraguay/302061.0\", \"West Bank and Gaza/302777.0\", \"Bolivia/320209.0\", \"Tunisia/322998.0\", \"Georgia/325665.0\", \"Azerbaijan/327601.0\", \"Croatia/345623.0\", \"Greece/367076.0\", \"Panama/368368.0\", \"Belarus/370509.0\", \"Slovakia/386136.0\", \"Kazakhstan/401892.0\", \"Ecuador/402595.0\", \"Bulgaria/412157.0\", \"Nepal/413111.0\", \"Saudi Arabia/428369.0\", \"Malaysia/448457.0\", \"Morocco/514164.0\", \"Lebanon/533685.0\", \"United Arab Emirates/539138.0\", \"Austria/632766.0\", \"Japan/656957.0\", \"Switzerland/675671.0\", \"Serbia/702451.0\", \"Jordan/721853.0\", \"Bangladesh/776257.0\", \"Hungary/793784.0\", \"Israel/839022.0\", \"Portugal/840008.0\", \"Pakistan/867438.0\", \"Belgium/1020332.0\", \"Sweden/1021604.0\", \"Romania/1067887.0\", \"Philippines/1113547.0\", \"Iraq/1122914.0\", \"Chile/1256546.0\", \"Canada/1307863.0\", \"Netherlands/1598280.0\", \"South Africa/1599272.0\", \"Czechia/1648667.0\", \"Indonesia/1723596.0\", \"Peru/1858239.0\", \"Ukraine/2184967.0\", \"Mexico/2368393.0\", \"Iran/2691352.0\", \"Poland/2838180.0\", \"Colombia/3031726.0\", \"Argentina/3191097.0\", \"Germany/3552281.0\", \"Spain/3586333.0\", \"Italy/4123230.0\", \"United Kingdom/4455446.0\", \"Russia/4840948.0\", \"Turkey/5059433.0\", \"France/5861384.0\", \"Brazil/15282705.0\", \"India/23340938.0\", \"US/32779153.0\", \"Afghanistan\", \"Albania\", \"Algeria\", \"Andorra\", \"Angola\", \"Antigua and Barbuda\", \"Argentina\", \"Armenia\", \"Australia\", \"Austria\", \"Azerbaijan\", \"Bahamas\", \"Bahrain\", \"Bangladesh\", \"Barbados\", \"Belarus\", \"Belgium\", \"Belize\", \"Benin\", \"Bhutan\", \"Bolivia\", \"Bosnia and Herzegovina\", \"Botswana\", \"Brazil\", \"Brunei\", \"Bulgaria\", \"Burkina Faso\", \"Burma\", \"Burundi\", \"Cabo Verde\", \"Cambodia\", \"Cameroon\", \"Canada\", \"Central African Republic\", \"Chad\", \"Chile\", \"China\", \"Colombia\", \"Comoros\", \"Congo (Brazzaville)\", \"Congo (Kinshasa)\", \"Costa Rica\", \"Cote d'Ivoire\", \"Croatia\", \"Cuba\", \"Cyprus\", \"Czechia\", \"Denmark\", \"Diamond Princess\", \"Djibouti\", \"Dominica\", \"Dominican Republic\", \"Ecuador\", \"Egypt\", \"El Salvador\", \"Equatorial Guinea\", \"Eritrea\", \"Estonia\", \"Eswatini\", \"Ethiopia\", \"Fiji\", \"Finland\", \"France\", \"Gabon\", \"Gambia\", \"Georgia\", \"Germany\", \"Ghana\", \"Greece\", \"Grenada\", \"Guatemala\", \"Guinea\", \"Guinea-Bissau\", \"Guyana\", \"Haiti\", \"Holy See\", \"Honduras\", \"Hungary\", \"Iceland\", \"India\", \"Indonesia\", \"Iran\", \"Iraq\", \"Ireland\", \"Israel\", \"Italy\", \"Jamaica\", \"Japan\", \"Jordan\", \"Kazakhstan\", \"Kenya\", \"Korea, South\", \"Kosovo\", \"Kuwait\", \"Kyrgyzstan\", \"Laos\", \"Latvia\", \"Lebanon\", \"Lesotho\", \"Liberia\", \"Libya\", \"Liechtenstein\", \"Lithuania\", \"Luxembourg\", \"MS Zaandam\", \"Madagascar\", \"Malawi\", \"Malaysia\", \"Maldives\", \"Mali\", \"Malta\", \"Marshall Islands\", \"Mauritania\", \"Mauritius\", \"Mexico\", \"Micronesia\", \"Moldova\", \"Monaco\", \"Mongolia\", \"Montenegro\", \"Morocco\", \"Mozambique\", \"Namibia\", \"Nepal\", \"Netherlands\", \"New Zealand\", \"Nicaragua\", \"Niger\", \"Nigeria\", \"North Macedonia\", \"Norway\", \"Oman\", \"Pakistan\", \"Panama\", \"Papua New Guinea\", \"Paraguay\", \"Peru\", \"Philippines\", \"Poland\", \"Portugal\", \"Qatar\", \"Romania\", \"Russia\", \"Rwanda\", \"Saint Kitts and Nevis\", \"Saint Lucia\", \"Saint Vincent and the Grenadines\", \"Samoa\", \"San Marino\", \"Sao Tome and Principe\", \"Saudi Arabia\", \"Senegal\", \"Serbia\", \"Seychelles\", \"Sierra Leone\", \"Singapore\", \"Slovakia\", \"Slovenia\", \"Solomon Islands\", \"Somalia\", \"South Africa\", \"South Sudan\", \"Spain\", \"Sri Lanka\", \"Sudan\", \"Suriname\", \"Sweden\", \"Switzerland\", \"Syria\", \"Taiwan*\", \"Tajikistan\", \"Tanzania\", \"Thailand\", \"Timor-Leste\", \"Togo\", \"Trinidad and Tobago\", \"Tunisia\", \"Turkey\", \"US\", \"Uganda\", \"Ukraine\", \"United Arab Emirates\", \"United Kingdom\", \"Uruguay\", \"Uzbekistan\", \"Vanuatu\", \"Venezuela\", \"Vietnam\", \"West Bank and Gaza\", \"Yemen\", \"Zambia\", \"Zimbabwe\"], \"labels\": [\"1.0\", \"3.0\", \"4.0\", \"4.0\", \"9.0\", \"20.0\", \"27.0\", \"45.0\", \"152.0\", \"160.0\", \"175.0\", \"230.0\", \"509.0\", \"712.0\", \"1210.0\", \"1240.0\", \"1247.0\", \"1266.0\", \"1362.0\", \"1922.0\", \"2114.0\", \"2320.0\", \"2486.0\", \"2643.0\", \"2975.0\", \"3493.0\", \"3593.0\", \"3741.0\", \"3818.0\", \"3860.0\", \"3950.0\", \"4089.0\", \"4208.0\", \"4700.0\", \"4888.0\", \"5083.0\", \"5324.0\", \"5934.0\", \"6492.0\", \"6522.0\", \"6674.0\", \"7086.0\", \"7694.0\", \"7995.0\", \"8172.0\", \"10641.0\", \"10774.0\", \"10908.0\", \"11306.0\", \"11343.0\", \"11369.0\", \"12493.0\", \"12704.0\", \"13167.0\", \"13179.0\", \"13308.0\", \"13384.0\", \"13447.0\", \"13802.0\", \"14133.0\", \"14486.0\", \"14531.0\", \"18487.0\", \"18691.0\", \"20695.0\", \"22719.0\", \"23490.0\", \"23565.0\", \"25773.0\", \"26709.0\", \"29146.0\", \"29947.0\", \"30392.0\", \"30464.0\", \"34183.0\", \"34889.0\", \"38448.0\", \"38520.0\", \"39351.0\", \"40729.0\", \"42427.0\", \"46448.0\", \"46484.0\", \"46821.0\", \"49041.0\", \"50301.0\", \"61419.0\", \"62403.0\", \"68552.0\", \"70098.0\", \"70267.0\", \"70380.0\", \"74946.0\", \"88907.0\", \"88990.0\", \"92152.0\", \"93011.0\", \"95467.0\", \"98449.0\", \"99316.0\", \"102660.0\", \"106130.0\", \"117495.0\", \"118168.0\", \"124483.0\", \"124960.0\", \"126064.0\", \"128918.0\", \"131098.0\", \"131803.0\", \"142974.0\", \"154222.0\", \"163976.0\", \"165515.0\", \"180692.0\", \"192750.0\", \"201512.0\", \"202713.0\", \"210116.0\", \"211732.0\", \"219950.0\", \"222118.0\", \"225847.0\", \"236266.0\", \"239740.0\", \"246725.0\", \"252949.0\", \"253567.0\", \"261128.0\", \"261613.0\", \"263672.0\", \"272809.0\", \"273714.0\", \"287199.0\", \"302061.0\", \"302777.0\", \"320209.0\", \"322998.0\", \"325665.0\", \"327601.0\", \"345623.0\", \"367076.0\", \"368368.0\", \"370509.0\", \"386136.0\", \"401892.0\", \"402595.0\", \"412157.0\", \"413111.0\", \"428369.0\", \"448457.0\", \"514164.0\", \"533685.0\", \"539138.0\", \"632766.0\", \"656957.0\", \"675671.0\", \"702451.0\", \"721853.0\", \"776257.0\", \"793784.0\", \"839022.0\", \"840008.0\", \"867438.0\", \"1020332.0\", \"1021604.0\", \"1067887.0\", \"1113547.0\", \"1122914.0\", \"1256546.0\", \"1307863.0\", \"1598280.0\", \"1599272.0\", \"1648667.0\", \"1723596.0\", \"1858239.0\", \"2184967.0\", \"2368393.0\", \"2691352.0\", \"2838180.0\", \"3031726.0\", \"3191097.0\", \"3552281.0\", \"3586333.0\", \"4123230.0\", \"4455446.0\", \"4840948.0\", \"5059433.0\", \"5861384.0\", \"15282705.0\", \"23340938.0\", \"32779153.0\", \"Afghanistan\", \"Albania\", \"Algeria\", \"Andorra\", \"Angola\", \"Antigua and Barbuda\", \"Argentina\", \"Armenia\", \"Australia\", \"Austria\", \"Azerbaijan\", \"Bahamas\", \"Bahrain\", \"Bangladesh\", \"Barbados\", \"Belarus\", \"Belgium\", \"Belize\", \"Benin\", \"Bhutan\", \"Bolivia\", \"Bosnia and Herzegovina\", \"Botswana\", \"Brazil\", \"Brunei\", \"Bulgaria\", \"Burkina Faso\", \"Burma\", \"Burundi\", \"Cabo Verde\", \"Cambodia\", \"Cameroon\", \"Canada\", \"Central African Republic\", \"Chad\", \"Chile\", \"China\", \"Colombia\", \"Comoros\", \"Congo (Brazzaville)\", \"Congo (Kinshasa)\", \"Costa Rica\", \"Cote d'Ivoire\", \"Croatia\", \"Cuba\", \"Cyprus\", \"Czechia\", \"Denmark\", \"Diamond Princess\", \"Djibouti\", \"Dominica\", \"Dominican Republic\", \"Ecuador\", \"Egypt\", \"El Salvador\", \"Equatorial Guinea\", \"Eritrea\", \"Estonia\", \"Eswatini\", \"Ethiopia\", \"Fiji\", \"Finland\", \"France\", \"Gabon\", \"Gambia\", \"Georgia\", \"Germany\", \"Ghana\", \"Greece\", \"Grenada\", \"Guatemala\", \"Guinea\", \"Guinea-Bissau\", \"Guyana\", \"Haiti\", \"Holy See\", \"Honduras\", \"Hungary\", \"Iceland\", \"India\", \"Indonesia\", \"Iran\", \"Iraq\", \"Ireland\", \"Israel\", \"Italy\", \"Jamaica\", \"Japan\", \"Jordan\", \"Kazakhstan\", \"Kenya\", \"Korea, South\", \"Kosovo\", \"Kuwait\", \"Kyrgyzstan\", \"Laos\", \"Latvia\", \"Lebanon\", \"Lesotho\", \"Liberia\", \"Libya\", \"Liechtenstein\", \"Lithuania\", \"Luxembourg\", \"MS Zaandam\", \"Madagascar\", \"Malawi\", \"Malaysia\", \"Maldives\", \"Mali\", \"Malta\", \"Marshall Islands\", \"Mauritania\", \"Mauritius\", \"Mexico\", \"Micronesia\", \"Moldova\", \"Monaco\", \"Mongolia\", \"Montenegro\", \"Morocco\", \"Mozambique\", \"Namibia\", \"Nepal\", \"Netherlands\", \"New Zealand\", \"Nicaragua\", \"Niger\", \"Nigeria\", \"North Macedonia\", \"Norway\", \"Oman\", \"Pakistan\", \"Panama\", \"Papua New Guinea\", \"Paraguay\", \"Peru\", \"Philippines\", \"Poland\", \"Portugal\", \"Qatar\", \"Romania\", \"Russia\", \"Rwanda\", \"Saint Kitts and Nevis\", \"Saint Lucia\", \"Saint Vincent and the Grenadines\", \"Samoa\", \"San Marino\", \"Sao Tome and Principe\", \"Saudi Arabia\", \"Senegal\", \"Serbia\", \"Seychelles\", \"Sierra Leone\", \"Singapore\", \"Slovakia\", \"Slovenia\", \"Solomon Islands\", \"Somalia\", \"South Africa\", \"South Sudan\", \"Spain\", \"Sri Lanka\", \"Sudan\", \"Suriname\", \"Sweden\", \"Switzerland\", \"Syria\", \"Taiwan*\", \"Tajikistan\", \"Tanzania\", \"Thailand\", \"Timor-Leste\", \"Togo\", \"Trinidad and Tobago\", \"Tunisia\", \"Turkey\", \"US\", \"Uganda\", \"Ukraine\", \"United Arab Emirates\", \"United Kingdom\", \"Uruguay\", \"Uzbekistan\", \"Vanuatu\", \"Venezuela\", \"Vietnam\", \"West Bank and Gaza\", \"Yemen\", \"Zambia\", \"Zimbabwe\"], \"name\": \"\", \"parents\": [\"Micronesia\", \"Samoa\", \"Marshall Islands\", \"Vanuatu\", \"MS Zaandam\", \"Solomon Islands\", \"Holy See\", \"Saint Kitts and Nevis\", \"Fiji\", \"Grenada\", \"Dominica\", \"Brunei\", \"Tanzania\", \"Diamond Princess\", \"Taiwan*\", \"Antigua and Barbuda\", \"Bhutan\", \"Mauritius\", \"Laos\", \"Saint Vincent and the Grenadines\", \"Liberia\", \"Sao Tome and Principe\", \"Monaco\", \"New Zealand\", \"Liechtenstein\", \"Timor-Leste\", \"Vietnam\", \"Guinea-Bissau\", \"Eritrea\", \"Comoros\", \"Barbados\", \"Sierra Leone\", \"Burundi\", \"Saint Lucia\", \"Chad\", \"San Marino\", \"Niger\", \"Gambia\", \"Yemen\", \"Iceland\", \"Central African Republic\", \"Nicaragua\", \"Equatorial Guinea\", \"Benin\", \"Seychelles\", \"South Sudan\", \"Lesotho\", \"Bahamas\", \"Suriname\", \"Congo (Brazzaville)\", \"Djibouti\", \"Papua New Guinea\", \"Belize\", \"Togo\", \"Haiti\", \"Tajikistan\", \"Burkina Faso\", \"Andorra\", \"Trinidad and Tobago\", \"Mali\", \"Somalia\", \"Guyana\", \"Eswatini\", \"Mauritania\", \"Cambodia\", \"Guinea\", \"Syria\", \"Gabon\", \"Rwanda\", \"Cabo Verde\", \"Angola\", \"Australia\", \"Congo (Kinshasa)\", \"Malta\", \"Malawi\", \"Sudan\", \"Zimbabwe\", \"Maldives\", \"Madagascar\", \"Senegal\", \"Uganda\", \"Mongolia\", \"Cote d'Ivoire\", \"Jamaica\", \"Botswana\", \"Namibia\", \"Singapore\", \"Afghanistan\", \"Luxembourg\", \"Cyprus\", \"Mozambique\", \"El Salvador\", \"Cameroon\", \"Thailand\", \"Finland\", \"Zambia\", \"Ghana\", \"Uzbekistan\", \"Montenegro\", \"Kyrgyzstan\", \"China\", \"Kosovo\", \"Norway\", \"Cuba\", \"Algeria\", \"Latvia\", \"Estonia\", \"Korea, South\", \"Sri Lanka\", \"Albania\", \"Burma\", \"North Macedonia\", \"Kenya\", \"Nigeria\", \"Libya\", \"Bahrain\", \"Bosnia and Herzegovina\", \"Oman\", \"Venezuela\", \"Qatar\", \"Armenia\", \"Honduras\", \"Uruguay\", \"Guatemala\", \"Egypt\", \"Slovenia\", \"Moldova\", \"Ireland\", \"Lithuania\", \"Denmark\", \"Ethiopia\", \"Dominican Republic\", \"Costa Rica\", \"Kuwait\", \"Paraguay\", \"West Bank and Gaza\", \"Bolivia\", \"Tunisia\", \"Georgia\", \"Azerbaijan\", \"Croatia\", \"Greece\", \"Panama\", \"Belarus\", \"Slovakia\", \"Kazakhstan\", \"Ecuador\", \"Bulgaria\", \"Nepal\", \"Saudi Arabia\", \"Malaysia\", \"Morocco\", \"Lebanon\", \"United Arab Emirates\", \"Austria\", \"Japan\", \"Switzerland\", \"Serbia\", \"Jordan\", \"Bangladesh\", \"Hungary\", \"Israel\", \"Portugal\", \"Pakistan\", \"Belgium\", \"Sweden\", \"Romania\", \"Philippines\", \"Iraq\", \"Chile\", \"Canada\", \"Netherlands\", \"South Africa\", \"Czechia\", \"Indonesia\", \"Peru\", \"Ukraine\", \"Mexico\", \"Iran\", \"Poland\", \"Colombia\", \"Argentina\", \"Germany\", \"Spain\", \"Italy\", \"United Kingdom\", \"Russia\", \"Turkey\", \"France\", \"Brazil\", \"India\", \"US\", \"\", \"\", \"\", \"\", \"\", \"\", \"\", \"\", \"\", \"\", \"\", \"\", \"\", \"\", \"\", \"\", \"\", \"\", \"\", \"\", \"\", \"\", \"\", \"\", \"\", \"\", \"\", \"\", \"\", \"\", \"\", \"\", \"\", \"\", \"\", \"\", \"\", \"\", \"\", \"\", \"\", \"\", \"\", \"\", \"\", \"\", \"\", \"\", \"\", \"\", \"\", \"\", \"\", \"\", \"\", \"\", \"\", \"\", \"\", \"\", \"\", \"\", \"\", \"\", \"\", \"\", \"\", \"\", \"\", \"\", \"\", \"\", \"\", \"\", \"\", \"\", \"\", \"\", \"\", \"\", \"\", \"\", \"\", \"\", \"\", \"\", \"\", \"\", \"\", \"\", \"\", \"\", \"\", \"\", \"\", \"\", \"\", \"\", \"\", \"\", \"\", \"\", \"\", \"\", \"\", \"\", \"\", \"\", \"\", \"\", \"\", \"\", \"\", \"\", \"\", \"\", \"\", \"\", \"\", \"\", \"\", \"\", \"\", \"\", \"\", \"\", \"\", \"\", \"\", \"\", \"\", \"\", \"\", \"\", \"\", \"\", \"\", \"\", \"\", \"\", \"\", \"\", \"\", \"\", \"\", \"\", \"\", \"\", \"\", \"\", \"\", \"\", \"\", \"\", \"\", \"\", \"\", \"\", \"\", \"\", \"\", \"\", \"\", \"\", \"\", \"\", \"\", \"\", \"\", \"\", \"\", \"\", \"\", \"\", \"\", \"\", \"\", \"\", \"\", \"\", \"\", \"\", \"\", \"\", \"\", \"\", \"\", \"\", \"\", \"\", \"\", \"\"], \"type\": \"treemap\", \"values\": [1.0, 3.0, 4.0, 4.0, 9.0, 20.0, 27.0, 45.0, 152.0, 160.0, 175.0, 230.0, 509.0, 712.0, 1210.0, 1240.0, 1247.0, 1266.0, 1362.0, 1922.0, 2114.0, 2320.0, 2486.0, 2643.0, 2975.0, 3493.0, 3593.0, 3741.0, 3818.0, 3860.0, 3950.0, 4089.0, 4208.0, 4700.0, 4888.0, 5083.0, 5324.0, 5934.0, 6492.0, 6522.0, 6674.0, 7086.0, 7694.0, 7995.0, 8172.0, 10641.0, 10774.0, 10908.0, 11306.0, 11343.0, 11369.0, 12493.0, 12704.0, 13167.0, 13179.0, 13308.0, 13384.0, 13447.0, 13802.0, 14133.0, 14486.0, 14531.0, 18487.0, 18691.0, 20695.0, 22719.0, 23490.0, 23565.0, 25773.0, 26709.0, 29146.0, 29947.0, 30392.0, 30464.0, 34183.0, 34889.0, 38448.0, 38520.0, 39351.0, 40729.0, 42427.0, 46448.0, 46484.0, 46821.0, 49041.0, 50301.0, 61419.0, 62403.0, 68552.0, 70098.0, 70267.0, 70380.0, 74946.0, 88907.0, 88990.0, 92152.0, 93011.0, 95467.0, 98449.0, 99316.0, 102660.0, 106130.0, 117495.0, 118168.0, 124483.0, 124960.0, 126064.0, 128918.0, 131098.0, 131803.0, 142974.0, 154222.0, 163976.0, 165515.0, 180692.0, 192750.0, 201512.0, 202713.0, 210116.0, 211732.0, 219950.0, 222118.0, 225847.0, 236266.0, 239740.0, 246725.0, 252949.0, 253567.0, 261128.0, 261613.0, 263672.0, 272809.0, 273714.0, 287199.0, 302061.0, 302777.0, 320209.0, 322998.0, 325665.0, 327601.0, 345623.0, 367076.0, 368368.0, 370509.0, 386136.0, 401892.0, 402595.0, 412157.0, 413111.0, 428369.0, 448457.0, 514164.0, 533685.0, 539138.0, 632766.0, 656957.0, 675671.0, 702451.0, 721853.0, 776257.0, 793784.0, 839022.0, 840008.0, 867438.0, 1020332.0, 1021604.0, 1067887.0, 1113547.0, 1122914.0, 1256546.0, 1307863.0, 1598280.0, 1599272.0, 1648667.0, 1723596.0, 1858239.0, 2184967.0, 2368393.0, 2691352.0, 2838180.0, 3031726.0, 3191097.0, 3552281.0, 3586333.0, 4123230.0, 4455446.0, 4840948.0, 5059433.0, 5861384.0, 15282705.0, 23340938.0, 32779153.0, 62403.0, 131803.0, 124483.0, 13447.0, 29146.0, 1240.0, 3191097.0, 219950.0, 29947.0, 632766.0, 327601.0, 10908.0, 192750.0, 776257.0, 3950.0, 370509.0, 1020332.0, 12704.0, 7995.0, 1247.0, 320209.0, 201512.0, 49041.0, 15282705.0, 230.0, 412157.0, 13384.0, 142974.0, 4208.0, 26709.0, 20695.0, 74946.0, 1307863.0, 6674.0, 4888.0, 1256546.0, 102660.0, 3031726.0, 3860.0, 11343.0, 30392.0, 273714.0, 46484.0, 345623.0, 118168.0, 70098.0, 1648667.0, 261613.0, 712.0, 11369.0, 175.0, 272809.0, 402595.0, 239740.0, 70380.0, 7694.0, 3818.0, 126064.0, 18487.0, 263672.0, 152.0, 88990.0, 5861384.0, 23565.0, 5934.0, 325665.0, 3552281.0, 93011.0, 367076.0, 160.0, 236266.0, 22719.0, 3741.0, 14531.0, 13179.0, 27.0, 222118.0, 793784.0, 6522.0, 23340938.0, 1723596.0, 2691352.0, 1122914.0, 253567.0, 839022.0, 4123230.0, 46821.0, 656957.0, 721853.0, 401892.0, 163976.0, 128918.0, 106130.0, 287199.0, 99316.0, 1362.0, 124960.0, 533685.0, 10774.0, 2114.0, 180692.0, 2975.0, 261128.0, 68552.0, 9.0, 39351.0, 34183.0, 448457.0, 38520.0, 14133.0, 30464.0, 4.0, 18691.0, 1266.0, 2368393.0, 1.0, 252949.0, 2486.0, 46448.0, 98449.0, 514164.0, 70267.0, 50301.0, 413111.0, 1598280.0, 2643.0, 7086.0, 5324.0, 165515.0, 154222.0, 117495.0, 202713.0, 867438.0, 368368.0, 12493.0, 302061.0, 1858239.0, 1113547.0, 2838180.0, 840008.0, 211732.0, 1067887.0, 4840948.0, 25773.0, 45.0, 4700.0, 1922.0, 3.0, 5083.0, 2320.0, 428369.0, 40729.0, 702451.0, 8172.0, 4089.0, 61419.0, 386136.0, 246725.0, 20.0, 14486.0, 1599272.0, 10641.0, 3586333.0, 131098.0, 34889.0, 11306.0, 1021604.0, 675671.0, 23490.0, 1210.0, 13308.0, 509.0, 88907.0, 3493.0, 13167.0, 13802.0, 322998.0, 5059433.0, 32779153.0, 42427.0, 2184967.0, 539138.0, 4455446.0, 225847.0, 95467.0, 4.0, 210116.0, 3593.0, 302777.0, 6492.0, 92152.0, 38448.0]}],                        {\"legend\": {\"tracegroupgap\": 0}, \"template\": {\"data\": {\"bar\": [{\"error_x\": {\"color\": \"#2a3f5f\"}, \"error_y\": {\"color\": \"#2a3f5f\"}, \"marker\": {\"line\": {\"color\": \"#E5ECF6\", \"width\": 0.5}}, \"type\": \"bar\"}], \"barpolar\": [{\"marker\": {\"line\": {\"color\": \"#E5ECF6\", \"width\": 0.5}}, \"type\": \"barpolar\"}], \"carpet\": [{\"aaxis\": {\"endlinecolor\": \"#2a3f5f\", \"gridcolor\": \"white\", \"linecolor\": \"white\", \"minorgridcolor\": \"white\", \"startlinecolor\": \"#2a3f5f\"}, \"baxis\": {\"endlinecolor\": \"#2a3f5f\", \"gridcolor\": \"white\", \"linecolor\": \"white\", \"minorgridcolor\": \"white\", \"startlinecolor\": \"#2a3f5f\"}, \"type\": \"carpet\"}], \"choropleth\": [{\"colorbar\": {\"outlinewidth\": 0, \"ticks\": \"\"}, \"type\": \"choropleth\"}], \"contour\": [{\"colorbar\": {\"outlinewidth\": 0, \"ticks\": \"\"}, \"colorscale\": [[0.0, \"#0d0887\"], [0.1111111111111111, \"#46039f\"], [0.2222222222222222, \"#7201a8\"], [0.3333333333333333, \"#9c179e\"], [0.4444444444444444, \"#bd3786\"], [0.5555555555555556, \"#d8576b\"], [0.6666666666666666, \"#ed7953\"], [0.7777777777777778, \"#fb9f3a\"], [0.8888888888888888, \"#fdca26\"], [1.0, \"#f0f921\"]], \"type\": \"contour\"}], \"contourcarpet\": [{\"colorbar\": {\"outlinewidth\": 0, \"ticks\": \"\"}, \"type\": \"contourcarpet\"}], \"heatmap\": [{\"colorbar\": {\"outlinewidth\": 0, \"ticks\": \"\"}, \"colorscale\": [[0.0, \"#0d0887\"], [0.1111111111111111, \"#46039f\"], [0.2222222222222222, \"#7201a8\"], [0.3333333333333333, \"#9c179e\"], [0.4444444444444444, \"#bd3786\"], [0.5555555555555556, \"#d8576b\"], [0.6666666666666666, \"#ed7953\"], [0.7777777777777778, \"#fb9f3a\"], [0.8888888888888888, \"#fdca26\"], [1.0, \"#f0f921\"]], \"type\": \"heatmap\"}], \"heatmapgl\": [{\"colorbar\": {\"outlinewidth\": 0, \"ticks\": \"\"}, \"colorscale\": [[0.0, \"#0d0887\"], [0.1111111111111111, \"#46039f\"], [0.2222222222222222, \"#7201a8\"], [0.3333333333333333, \"#9c179e\"], [0.4444444444444444, \"#bd3786\"], [0.5555555555555556, \"#d8576b\"], [0.6666666666666666, \"#ed7953\"], [0.7777777777777778, \"#fb9f3a\"], [0.8888888888888888, \"#fdca26\"], [1.0, \"#f0f921\"]], \"type\": \"heatmapgl\"}], \"histogram\": [{\"marker\": {\"colorbar\": {\"outlinewidth\": 0, \"ticks\": \"\"}}, \"type\": \"histogram\"}], \"histogram2d\": [{\"colorbar\": {\"outlinewidth\": 0, \"ticks\": \"\"}, \"colorscale\": [[0.0, \"#0d0887\"], [0.1111111111111111, \"#46039f\"], [0.2222222222222222, \"#7201a8\"], [0.3333333333333333, \"#9c179e\"], [0.4444444444444444, \"#bd3786\"], [0.5555555555555556, \"#d8576b\"], [0.6666666666666666, \"#ed7953\"], [0.7777777777777778, \"#fb9f3a\"], [0.8888888888888888, \"#fdca26\"], [1.0, \"#f0f921\"]], \"type\": \"histogram2d\"}], \"histogram2dcontour\": [{\"colorbar\": {\"outlinewidth\": 0, \"ticks\": \"\"}, \"colorscale\": [[0.0, \"#0d0887\"], [0.1111111111111111, \"#46039f\"], [0.2222222222222222, \"#7201a8\"], [0.3333333333333333, \"#9c179e\"], [0.4444444444444444, \"#bd3786\"], [0.5555555555555556, \"#d8576b\"], [0.6666666666666666, \"#ed7953\"], [0.7777777777777778, \"#fb9f3a\"], [0.8888888888888888, \"#fdca26\"], [1.0, \"#f0f921\"]], \"type\": \"histogram2dcontour\"}], \"mesh3d\": [{\"colorbar\": {\"outlinewidth\": 0, \"ticks\": \"\"}, \"type\": \"mesh3d\"}], \"parcoords\": [{\"line\": {\"colorbar\": {\"outlinewidth\": 0, \"ticks\": \"\"}}, \"type\": \"parcoords\"}], \"pie\": [{\"automargin\": true, \"type\": \"pie\"}], \"scatter\": [{\"marker\": {\"colorbar\": {\"outlinewidth\": 0, \"ticks\": \"\"}}, \"type\": \"scatter\"}], \"scatter3d\": [{\"line\": {\"colorbar\": {\"outlinewidth\": 0, \"ticks\": \"\"}}, \"marker\": {\"colorbar\": {\"outlinewidth\": 0, \"ticks\": \"\"}}, \"type\": \"scatter3d\"}], \"scattercarpet\": [{\"marker\": {\"colorbar\": {\"outlinewidth\": 0, \"ticks\": \"\"}}, \"type\": \"scattercarpet\"}], \"scattergeo\": [{\"marker\": {\"colorbar\": {\"outlinewidth\": 0, \"ticks\": \"\"}}, \"type\": \"scattergeo\"}], \"scattergl\": [{\"marker\": {\"colorbar\": {\"outlinewidth\": 0, \"ticks\": \"\"}}, \"type\": \"scattergl\"}], \"scattermapbox\": [{\"marker\": {\"colorbar\": {\"outlinewidth\": 0, \"ticks\": \"\"}}, \"type\": \"scattermapbox\"}], \"scatterpolar\": [{\"marker\": {\"colorbar\": {\"outlinewidth\": 0, \"ticks\": \"\"}}, \"type\": \"scatterpolar\"}], \"scatterpolargl\": [{\"marker\": {\"colorbar\": {\"outlinewidth\": 0, \"ticks\": \"\"}}, \"type\": \"scatterpolargl\"}], \"scatterternary\": [{\"marker\": {\"colorbar\": {\"outlinewidth\": 0, \"ticks\": \"\"}}, \"type\": \"scatterternary\"}], \"surface\": [{\"colorbar\": {\"outlinewidth\": 0, \"ticks\": \"\"}, \"colorscale\": [[0.0, \"#0d0887\"], [0.1111111111111111, \"#46039f\"], [0.2222222222222222, \"#7201a8\"], [0.3333333333333333, \"#9c179e\"], [0.4444444444444444, \"#bd3786\"], [0.5555555555555556, \"#d8576b\"], [0.6666666666666666, \"#ed7953\"], [0.7777777777777778, \"#fb9f3a\"], [0.8888888888888888, \"#fdca26\"], [1.0, \"#f0f921\"]], \"type\": \"surface\"}], \"table\": [{\"cells\": {\"fill\": {\"color\": \"#EBF0F8\"}, \"line\": {\"color\": \"white\"}}, \"header\": {\"fill\": {\"color\": \"#C8D4E3\"}, \"line\": {\"color\": \"white\"}}, \"type\": \"table\"}]}, \"layout\": {\"annotationdefaults\": {\"arrowcolor\": \"#2a3f5f\", \"arrowhead\": 0, \"arrowwidth\": 1}, \"autotypenumbers\": \"strict\", \"coloraxis\": {\"colorbar\": {\"outlinewidth\": 0, \"ticks\": \"\"}}, \"colorscale\": {\"diverging\": [[0, \"#8e0152\"], [0.1, \"#c51b7d\"], [0.2, \"#de77ae\"], [0.3, \"#f1b6da\"], [0.4, \"#fde0ef\"], [0.5, \"#f7f7f7\"], [0.6, \"#e6f5d0\"], [0.7, \"#b8e186\"], [0.8, \"#7fbc41\"], [0.9, \"#4d9221\"], [1, \"#276419\"]], \"sequential\": [[0.0, \"#0d0887\"], [0.1111111111111111, \"#46039f\"], [0.2222222222222222, \"#7201a8\"], [0.3333333333333333, \"#9c179e\"], [0.4444444444444444, \"#bd3786\"], [0.5555555555555556, \"#d8576b\"], [0.6666666666666666, \"#ed7953\"], [0.7777777777777778, \"#fb9f3a\"], [0.8888888888888888, \"#fdca26\"], [1.0, \"#f0f921\"]], \"sequentialminus\": [[0.0, \"#0d0887\"], [0.1111111111111111, \"#46039f\"], [0.2222222222222222, \"#7201a8\"], [0.3333333333333333, \"#9c179e\"], [0.4444444444444444, \"#bd3786\"], [0.5555555555555556, \"#d8576b\"], [0.6666666666666666, \"#ed7953\"], [0.7777777777777778, \"#fb9f3a\"], [0.8888888888888888, \"#fdca26\"], [1.0, \"#f0f921\"]]}, \"colorway\": [\"#636efa\", \"#EF553B\", \"#00cc96\", \"#ab63fa\", \"#FFA15A\", \"#19d3f3\", \"#FF6692\", \"#B6E880\", \"#FF97FF\", \"#FECB52\"], \"font\": {\"color\": \"#2a3f5f\"}, \"geo\": {\"bgcolor\": \"white\", \"lakecolor\": \"white\", \"landcolor\": \"#E5ECF6\", \"showlakes\": true, \"showland\": true, \"subunitcolor\": \"white\"}, \"hoverlabel\": {\"align\": \"left\"}, \"hovermode\": \"closest\", \"mapbox\": {\"style\": \"light\"}, \"paper_bgcolor\": \"white\", \"plot_bgcolor\": \"#E5ECF6\", \"polar\": {\"angularaxis\": {\"gridcolor\": \"white\", \"linecolor\": \"white\", \"ticks\": \"\"}, \"bgcolor\": \"#E5ECF6\", \"radialaxis\": {\"gridcolor\": \"white\", \"linecolor\": \"white\", \"ticks\": \"\"}}, \"scene\": {\"xaxis\": {\"backgroundcolor\": \"#E5ECF6\", \"gridcolor\": \"white\", \"gridwidth\": 2, \"linecolor\": \"white\", \"showbackground\": true, \"ticks\": \"\", \"zerolinecolor\": \"white\"}, \"yaxis\": {\"backgroundcolor\": \"#E5ECF6\", \"gridcolor\": \"white\", \"gridwidth\": 2, \"linecolor\": \"white\", \"showbackground\": true, \"ticks\": \"\", \"zerolinecolor\": \"white\"}, \"zaxis\": {\"backgroundcolor\": \"#E5ECF6\", \"gridcolor\": \"white\", \"gridwidth\": 2, \"linecolor\": \"white\", \"showbackground\": true, \"ticks\": \"\", \"zerolinecolor\": \"white\"}}, \"shapedefaults\": {\"line\": {\"color\": \"#2a3f5f\"}}, \"ternary\": {\"aaxis\": {\"gridcolor\": \"white\", \"linecolor\": \"white\", \"ticks\": \"\"}, \"baxis\": {\"gridcolor\": \"white\", \"linecolor\": \"white\", \"ticks\": \"\"}, \"bgcolor\": \"#E5ECF6\", \"caxis\": {\"gridcolor\": \"white\", \"linecolor\": \"white\", \"ticks\": \"\"}}, \"title\": {\"x\": 0.05}, \"xaxis\": {\"automargin\": true, \"gridcolor\": \"white\", \"linecolor\": \"white\", \"ticks\": \"\", \"title\": {\"standoff\": 15}, \"zerolinecolor\": \"white\", \"zerolinewidth\": 2}, \"yaxis\": {\"automargin\": true, \"gridcolor\": \"white\", \"linecolor\": \"white\", \"ticks\": \"\", \"title\": {\"standoff\": 15}, \"zerolinecolor\": \"white\", \"zerolinewidth\": 2}}}, \"title\": {\"text\": \"Top countries with most number of Confirmed cases\"}},                        {\"responsive\": true}                    ).then(function(){\n",
       "                            \n",
       "var gd = document.getElementById('d790f78c-20be-40cb-9611-75adbd062c40');\n",
       "var x = new MutationObserver(function (mutations, observer) {{\n",
       "        var display = window.getComputedStyle(gd).display;\n",
       "        if (!display || display === 'none') {{\n",
       "            console.log([gd, 'removed!']);\n",
       "            Plotly.purge(gd);\n",
       "            observer.disconnect();\n",
       "        }}\n",
       "}});\n",
       "\n",
       "// Listen for the removal of the full notebook cells\n",
       "var notebookContainer = gd.closest('#notebook-container');\n",
       "if (notebookContainer) {{\n",
       "    x.observe(notebookContainer, {childList: true});\n",
       "}}\n",
       "\n",
       "// Listen for the clearing of the current output cell\n",
       "var outputEl = gd.closest('.output');\n",
       "if (outputEl) {{\n",
       "    x.observe(outputEl, {childList: true});\n",
       "}}\n",
       "\n",
       "                        })                };                });            </script>        </div>"
      ]
     },
     "metadata": {},
     "output_type": "display_data"
    },
    {
     "data": {
      "application/vnd.plotly.v1+json": {
       "config": {
        "plotlyServerURL": "https://plot.ly"
       },
       "data": [
        {
         "branchvalues": "total",
         "domain": {
          "x": [
           0,
           1
          ],
          "y": [
           0,
           1
          ]
         },
         "hovertemplate": "labels=%{label}<br>Deaths=%{value}<br>parent=%{parent}<br>id=%{id}<extra></extra>",
         "ids": [
          "Dominica/0.0",
          "Holy See/0.0",
          "Marshall Islands/0.0",
          "Micronesia/0.0",
          "Saint Kitts and Nevis/0.0",
          "Samoa/0.0",
          "Solomon Islands/0.0",
          "Bhutan/1.0",
          "Grenada/1.0",
          "Laos/1.0",
          "Vanuatu/1.0",
          "MS Zaandam/2.0",
          "Brunei/3.0",
          "Fiji/3.0",
          "Timor-Leste/5.0",
          "Burundi/6.0",
          "Eritrea/12.0",
          "Saint Vincent and the Grenadines/12.0",
          "Taiwan*/12.0",
          "Diamond Princess/13.0",
          "Mauritius/17.0",
          "Tanzania/21.0",
          "New Zealand/26.0",
          "Seychelles/28.0",
          "Iceland/29.0",
          "Singapore/31.0",
          "Antigua and Barbuda/32.0",
          "Monaco/32.0",
          "Sao Tome and Principe/35.0",
          "Vietnam/35.0",
          "Barbados/45.0",
          "Liechtenstein/58.0",
          "Guinea-Bissau/67.0",
          "Saint Lucia/75.0",
          "Sierra Leone/79.0",
          "Liberia/85.0",
          "Maldives/87.0",
          "San Marino/90.0",
          "Tajikistan/90.0",
          "Central African Republic/93.0",
          "Benin/101.0",
          "Equatorial Guinea/112.0",
          "South Sudan/115.0",
          "Togo/125.0",
          "Andorra/127.0",
          "Papua New Guinea/130.0",
          "Cambodia/136.0",
          "Gabon/143.0",
          "Comoros/146.0",
          "Congo (Brazzaville)/148.0",
          "Djibouti/151.0",
          "Guinea/151.0",
          "Burkina Faso/164.0",
          "Chad/172.0",
          "Gambia/175.0",
          "Mongolia/184.0",
          "Nicaragua/184.0",
          "Niger/192.0",
          "Bahamas/214.0",
          "Suriname/220.0",
          "Trinidad and Tobago/224.0",
          "Cabo Verde/236.0",
          "Haiti/264.0",
          "Cote d'Ivoire/292.0",
          "Lesotho/319.0",
          "Belize/323.0",
          "Guyana/331.0",
          "Cyprus/339.0",
          "Rwanda/340.0",
          "Uganda/346.0",
          "Malta/417.0",
          "Mauritania/456.0",
          "Thailand/486.0",
          "Mali/506.0",
          "Qatar/516.0",
          "Angola/639.0",
          "Uzbekistan/666.0",
          "Eswatini/671.0",
          "Namibia/696.0",
          "Bahrain/697.0",
          "Madagascar/732.0",
          "Botswana/751.0",
          "Somalia/753.0",
          "Cuba/755.0",
          "Norway/767.0",
          "Congo (Kinshasa)/775.0",
          "Ghana/783.0",
          "Luxembourg/806.0",
          "Jamaica/814.0",
          "Mozambique/826.0",
          "Sri Lanka/850.0",
          "Australia/910.0",
          "Finland/927.0",
          "Senegal/1120.0",
          "Cameroon/1152.0",
          "Malawi/1153.0",
          "Estonia/1210.0",
          "Zambia/1258.0",
          "Yemen/1276.0",
          "Montenegro/1545.0",
          "Zimbabwe/1579.0",
          "United Arab Emirates/1617.0",
          "Kuwait/1660.0",
          "Syria/1670.0",
          "Kyrgyzstan/1675.0",
          "Malaysia/1722.0",
          "Korea, South/1884.0",
          "Nigeria/2065.0",
          "Oman/2148.0",
          "El Salvador/2168.0",
          "Latvia/2217.0",
          "Kosovo/2218.0",
          "Venezuela/2320.0",
          "Albania/2420.0",
          "Sudan/2446.0",
          "Denmark/2500.0",
          "Belarus/2652.0",
          "Afghanistan/2710.0",
          "Kenya/2928.0",
          "Libya/3077.0",
          "Uruguay/3208.0",
          "Burma/3210.0",
          "Algeria/3343.0",
          "Kazakhstan/3382.0",
          "West Bank and Gaza/3393.0",
          "Costa Rica/3456.0",
          "Dominican Republic/3550.0",
          "Ethiopia/3911.0",
          "Lithuania/4059.0",
          "Nepal/4084.0",
          "Armenia/4272.0",
          "Slovenia/4302.0",
          "Georgia/4363.0",
          "Azerbaijan/4713.0",
          "China/4846.0",
          "Ireland/4929.0",
          "North Macedonia/5135.0",
          "Honduras/5789.0",
          "Moldova/5970.0",
          "Panama/6282.0",
          "Israel/6378.0",
          "Serbia/6594.0",
          "Saudi Arabia/7098.0",
          "Paraguay/7284.0",
          "Lebanon/7527.0",
          "Croatia/7549.0",
          "Guatemala/7776.0",
          "Bosnia and Herzegovina/8912.0",
          "Morocco/9083.0",
          "Jordan/9151.0",
          "Austria/10413.0",
          "Switzerland/10722.0",
          "Japan/11058.0",
          "Greece/11141.0",
          "Tunisia/11556.0",
          "Bangladesh/12005.0",
          "Slovakia/12077.0",
          "Bolivia/13258.0",
          "Egypt/14033.0",
          "Sweden/14217.0",
          "Iraq/15834.0",
          "Portugal/16994.0",
          "Bulgaria/17104.0",
          "Netherlands/17648.0",
          "Philippines/18620.0",
          "Pakistan/19210.0",
          "Ecuador/19286.0",
          "Belgium/24609.0",
          "Canada/24693.0",
          "Chile/27356.0",
          "Hungary/28888.0",
          "Romania/29135.0",
          "Czechia/29787.0",
          "Turkey/43589.0",
          "Indonesia/47465.0",
          "Ukraine/48900.0",
          "South Africa/54896.0",
          "Peru/64691.0",
          "Argentina/68311.0",
          "Poland/70336.0",
          "Iran/75568.0",
          "Colombia/78771.0",
          "Spain/79100.0",
          "Germany/85385.0",
          "France/107096.0",
          "Russia/112063.0",
          "Italy/123282.0",
          "United Kingdom/127890.0",
          "Mexico/219323.0",
          "India/254197.0",
          "Brazil/425540.0",
          "US/582848.0",
          "Afghanistan",
          "Albania",
          "Algeria",
          "Andorra",
          "Angola",
          "Antigua and Barbuda",
          "Argentina",
          "Armenia",
          "Australia",
          "Austria",
          "Azerbaijan",
          "Bahamas",
          "Bahrain",
          "Bangladesh",
          "Barbados",
          "Belarus",
          "Belgium",
          "Belize",
          "Benin",
          "Bhutan",
          "Bolivia",
          "Bosnia and Herzegovina",
          "Botswana",
          "Brazil",
          "Brunei",
          "Bulgaria",
          "Burkina Faso",
          "Burma",
          "Burundi",
          "Cabo Verde",
          "Cambodia",
          "Cameroon",
          "Canada",
          "Central African Republic",
          "Chad",
          "Chile",
          "China",
          "Colombia",
          "Comoros",
          "Congo (Brazzaville)",
          "Congo (Kinshasa)",
          "Costa Rica",
          "Cote d'Ivoire",
          "Croatia",
          "Cuba",
          "Cyprus",
          "Czechia",
          "Denmark",
          "Diamond Princess",
          "Djibouti",
          "Dominica",
          "Dominican Republic",
          "Ecuador",
          "Egypt",
          "El Salvador",
          "Equatorial Guinea",
          "Eritrea",
          "Estonia",
          "Eswatini",
          "Ethiopia",
          "Fiji",
          "Finland",
          "France",
          "Gabon",
          "Gambia",
          "Georgia",
          "Germany",
          "Ghana",
          "Greece",
          "Grenada",
          "Guatemala",
          "Guinea",
          "Guinea-Bissau",
          "Guyana",
          "Haiti",
          "Holy See",
          "Honduras",
          "Hungary",
          "Iceland",
          "India",
          "Indonesia",
          "Iran",
          "Iraq",
          "Ireland",
          "Israel",
          "Italy",
          "Jamaica",
          "Japan",
          "Jordan",
          "Kazakhstan",
          "Kenya",
          "Korea, South",
          "Kosovo",
          "Kuwait",
          "Kyrgyzstan",
          "Laos",
          "Latvia",
          "Lebanon",
          "Lesotho",
          "Liberia",
          "Libya",
          "Liechtenstein",
          "Lithuania",
          "Luxembourg",
          "MS Zaandam",
          "Madagascar",
          "Malawi",
          "Malaysia",
          "Maldives",
          "Mali",
          "Malta",
          "Marshall Islands",
          "Mauritania",
          "Mauritius",
          "Mexico",
          "Micronesia",
          "Moldova",
          "Monaco",
          "Mongolia",
          "Montenegro",
          "Morocco",
          "Mozambique",
          "Namibia",
          "Nepal",
          "Netherlands",
          "New Zealand",
          "Nicaragua",
          "Niger",
          "Nigeria",
          "North Macedonia",
          "Norway",
          "Oman",
          "Pakistan",
          "Panama",
          "Papua New Guinea",
          "Paraguay",
          "Peru",
          "Philippines",
          "Poland",
          "Portugal",
          "Qatar",
          "Romania",
          "Russia",
          "Rwanda",
          "Saint Kitts and Nevis",
          "Saint Lucia",
          "Saint Vincent and the Grenadines",
          "Samoa",
          "San Marino",
          "Sao Tome and Principe",
          "Saudi Arabia",
          "Senegal",
          "Serbia",
          "Seychelles",
          "Sierra Leone",
          "Singapore",
          "Slovakia",
          "Slovenia",
          "Solomon Islands",
          "Somalia",
          "South Africa",
          "South Sudan",
          "Spain",
          "Sri Lanka",
          "Sudan",
          "Suriname",
          "Sweden",
          "Switzerland",
          "Syria",
          "Taiwan*",
          "Tajikistan",
          "Tanzania",
          "Thailand",
          "Timor-Leste",
          "Togo",
          "Trinidad and Tobago",
          "Tunisia",
          "Turkey",
          "US",
          "Uganda",
          "Ukraine",
          "United Arab Emirates",
          "United Kingdom",
          "Uruguay",
          "Uzbekistan",
          "Vanuatu",
          "Venezuela",
          "Vietnam",
          "West Bank and Gaza",
          "Yemen",
          "Zambia",
          "Zimbabwe"
         ],
         "labels": [
          "0.0",
          "0.0",
          "0.0",
          "0.0",
          "0.0",
          "0.0",
          "0.0",
          "1.0",
          "1.0",
          "1.0",
          "1.0",
          "2.0",
          "3.0",
          "3.0",
          "5.0",
          "6.0",
          "12.0",
          "12.0",
          "12.0",
          "13.0",
          "17.0",
          "21.0",
          "26.0",
          "28.0",
          "29.0",
          "31.0",
          "32.0",
          "32.0",
          "35.0",
          "35.0",
          "45.0",
          "58.0",
          "67.0",
          "75.0",
          "79.0",
          "85.0",
          "87.0",
          "90.0",
          "90.0",
          "93.0",
          "101.0",
          "112.0",
          "115.0",
          "125.0",
          "127.0",
          "130.0",
          "136.0",
          "143.0",
          "146.0",
          "148.0",
          "151.0",
          "151.0",
          "164.0",
          "172.0",
          "175.0",
          "184.0",
          "184.0",
          "192.0",
          "214.0",
          "220.0",
          "224.0",
          "236.0",
          "264.0",
          "292.0",
          "319.0",
          "323.0",
          "331.0",
          "339.0",
          "340.0",
          "346.0",
          "417.0",
          "456.0",
          "486.0",
          "506.0",
          "516.0",
          "639.0",
          "666.0",
          "671.0",
          "696.0",
          "697.0",
          "732.0",
          "751.0",
          "753.0",
          "755.0",
          "767.0",
          "775.0",
          "783.0",
          "806.0",
          "814.0",
          "826.0",
          "850.0",
          "910.0",
          "927.0",
          "1120.0",
          "1152.0",
          "1153.0",
          "1210.0",
          "1258.0",
          "1276.0",
          "1545.0",
          "1579.0",
          "1617.0",
          "1660.0",
          "1670.0",
          "1675.0",
          "1722.0",
          "1884.0",
          "2065.0",
          "2148.0",
          "2168.0",
          "2217.0",
          "2218.0",
          "2320.0",
          "2420.0",
          "2446.0",
          "2500.0",
          "2652.0",
          "2710.0",
          "2928.0",
          "3077.0",
          "3208.0",
          "3210.0",
          "3343.0",
          "3382.0",
          "3393.0",
          "3456.0",
          "3550.0",
          "3911.0",
          "4059.0",
          "4084.0",
          "4272.0",
          "4302.0",
          "4363.0",
          "4713.0",
          "4846.0",
          "4929.0",
          "5135.0",
          "5789.0",
          "5970.0",
          "6282.0",
          "6378.0",
          "6594.0",
          "7098.0",
          "7284.0",
          "7527.0",
          "7549.0",
          "7776.0",
          "8912.0",
          "9083.0",
          "9151.0",
          "10413.0",
          "10722.0",
          "11058.0",
          "11141.0",
          "11556.0",
          "12005.0",
          "12077.0",
          "13258.0",
          "14033.0",
          "14217.0",
          "15834.0",
          "16994.0",
          "17104.0",
          "17648.0",
          "18620.0",
          "19210.0",
          "19286.0",
          "24609.0",
          "24693.0",
          "27356.0",
          "28888.0",
          "29135.0",
          "29787.0",
          "43589.0",
          "47465.0",
          "48900.0",
          "54896.0",
          "64691.0",
          "68311.0",
          "70336.0",
          "75568.0",
          "78771.0",
          "79100.0",
          "85385.0",
          "107096.0",
          "112063.0",
          "123282.0",
          "127890.0",
          "219323.0",
          "254197.0",
          "425540.0",
          "582848.0",
          "Afghanistan",
          "Albania",
          "Algeria",
          "Andorra",
          "Angola",
          "Antigua and Barbuda",
          "Argentina",
          "Armenia",
          "Australia",
          "Austria",
          "Azerbaijan",
          "Bahamas",
          "Bahrain",
          "Bangladesh",
          "Barbados",
          "Belarus",
          "Belgium",
          "Belize",
          "Benin",
          "Bhutan",
          "Bolivia",
          "Bosnia and Herzegovina",
          "Botswana",
          "Brazil",
          "Brunei",
          "Bulgaria",
          "Burkina Faso",
          "Burma",
          "Burundi",
          "Cabo Verde",
          "Cambodia",
          "Cameroon",
          "Canada",
          "Central African Republic",
          "Chad",
          "Chile",
          "China",
          "Colombia",
          "Comoros",
          "Congo (Brazzaville)",
          "Congo (Kinshasa)",
          "Costa Rica",
          "Cote d'Ivoire",
          "Croatia",
          "Cuba",
          "Cyprus",
          "Czechia",
          "Denmark",
          "Diamond Princess",
          "Djibouti",
          "Dominica",
          "Dominican Republic",
          "Ecuador",
          "Egypt",
          "El Salvador",
          "Equatorial Guinea",
          "Eritrea",
          "Estonia",
          "Eswatini",
          "Ethiopia",
          "Fiji",
          "Finland",
          "France",
          "Gabon",
          "Gambia",
          "Georgia",
          "Germany",
          "Ghana",
          "Greece",
          "Grenada",
          "Guatemala",
          "Guinea",
          "Guinea-Bissau",
          "Guyana",
          "Haiti",
          "Holy See",
          "Honduras",
          "Hungary",
          "Iceland",
          "India",
          "Indonesia",
          "Iran",
          "Iraq",
          "Ireland",
          "Israel",
          "Italy",
          "Jamaica",
          "Japan",
          "Jordan",
          "Kazakhstan",
          "Kenya",
          "Korea, South",
          "Kosovo",
          "Kuwait",
          "Kyrgyzstan",
          "Laos",
          "Latvia",
          "Lebanon",
          "Lesotho",
          "Liberia",
          "Libya",
          "Liechtenstein",
          "Lithuania",
          "Luxembourg",
          "MS Zaandam",
          "Madagascar",
          "Malawi",
          "Malaysia",
          "Maldives",
          "Mali",
          "Malta",
          "Marshall Islands",
          "Mauritania",
          "Mauritius",
          "Mexico",
          "Micronesia",
          "Moldova",
          "Monaco",
          "Mongolia",
          "Montenegro",
          "Morocco",
          "Mozambique",
          "Namibia",
          "Nepal",
          "Netherlands",
          "New Zealand",
          "Nicaragua",
          "Niger",
          "Nigeria",
          "North Macedonia",
          "Norway",
          "Oman",
          "Pakistan",
          "Panama",
          "Papua New Guinea",
          "Paraguay",
          "Peru",
          "Philippines",
          "Poland",
          "Portugal",
          "Qatar",
          "Romania",
          "Russia",
          "Rwanda",
          "Saint Kitts and Nevis",
          "Saint Lucia",
          "Saint Vincent and the Grenadines",
          "Samoa",
          "San Marino",
          "Sao Tome and Principe",
          "Saudi Arabia",
          "Senegal",
          "Serbia",
          "Seychelles",
          "Sierra Leone",
          "Singapore",
          "Slovakia",
          "Slovenia",
          "Solomon Islands",
          "Somalia",
          "South Africa",
          "South Sudan",
          "Spain",
          "Sri Lanka",
          "Sudan",
          "Suriname",
          "Sweden",
          "Switzerland",
          "Syria",
          "Taiwan*",
          "Tajikistan",
          "Tanzania",
          "Thailand",
          "Timor-Leste",
          "Togo",
          "Trinidad and Tobago",
          "Tunisia",
          "Turkey",
          "US",
          "Uganda",
          "Ukraine",
          "United Arab Emirates",
          "United Kingdom",
          "Uruguay",
          "Uzbekistan",
          "Vanuatu",
          "Venezuela",
          "Vietnam",
          "West Bank and Gaza",
          "Yemen",
          "Zambia",
          "Zimbabwe"
         ],
         "name": "",
         "parents": [
          "Dominica",
          "Holy See",
          "Marshall Islands",
          "Micronesia",
          "Saint Kitts and Nevis",
          "Samoa",
          "Solomon Islands",
          "Bhutan",
          "Grenada",
          "Laos",
          "Vanuatu",
          "MS Zaandam",
          "Brunei",
          "Fiji",
          "Timor-Leste",
          "Burundi",
          "Eritrea",
          "Saint Vincent and the Grenadines",
          "Taiwan*",
          "Diamond Princess",
          "Mauritius",
          "Tanzania",
          "New Zealand",
          "Seychelles",
          "Iceland",
          "Singapore",
          "Antigua and Barbuda",
          "Monaco",
          "Sao Tome and Principe",
          "Vietnam",
          "Barbados",
          "Liechtenstein",
          "Guinea-Bissau",
          "Saint Lucia",
          "Sierra Leone",
          "Liberia",
          "Maldives",
          "San Marino",
          "Tajikistan",
          "Central African Republic",
          "Benin",
          "Equatorial Guinea",
          "South Sudan",
          "Togo",
          "Andorra",
          "Papua New Guinea",
          "Cambodia",
          "Gabon",
          "Comoros",
          "Congo (Brazzaville)",
          "Djibouti",
          "Guinea",
          "Burkina Faso",
          "Chad",
          "Gambia",
          "Mongolia",
          "Nicaragua",
          "Niger",
          "Bahamas",
          "Suriname",
          "Trinidad and Tobago",
          "Cabo Verde",
          "Haiti",
          "Cote d'Ivoire",
          "Lesotho",
          "Belize",
          "Guyana",
          "Cyprus",
          "Rwanda",
          "Uganda",
          "Malta",
          "Mauritania",
          "Thailand",
          "Mali",
          "Qatar",
          "Angola",
          "Uzbekistan",
          "Eswatini",
          "Namibia",
          "Bahrain",
          "Madagascar",
          "Botswana",
          "Somalia",
          "Cuba",
          "Norway",
          "Congo (Kinshasa)",
          "Ghana",
          "Luxembourg",
          "Jamaica",
          "Mozambique",
          "Sri Lanka",
          "Australia",
          "Finland",
          "Senegal",
          "Cameroon",
          "Malawi",
          "Estonia",
          "Zambia",
          "Yemen",
          "Montenegro",
          "Zimbabwe",
          "United Arab Emirates",
          "Kuwait",
          "Syria",
          "Kyrgyzstan",
          "Malaysia",
          "Korea, South",
          "Nigeria",
          "Oman",
          "El Salvador",
          "Latvia",
          "Kosovo",
          "Venezuela",
          "Albania",
          "Sudan",
          "Denmark",
          "Belarus",
          "Afghanistan",
          "Kenya",
          "Libya",
          "Uruguay",
          "Burma",
          "Algeria",
          "Kazakhstan",
          "West Bank and Gaza",
          "Costa Rica",
          "Dominican Republic",
          "Ethiopia",
          "Lithuania",
          "Nepal",
          "Armenia",
          "Slovenia",
          "Georgia",
          "Azerbaijan",
          "China",
          "Ireland",
          "North Macedonia",
          "Honduras",
          "Moldova",
          "Panama",
          "Israel",
          "Serbia",
          "Saudi Arabia",
          "Paraguay",
          "Lebanon",
          "Croatia",
          "Guatemala",
          "Bosnia and Herzegovina",
          "Morocco",
          "Jordan",
          "Austria",
          "Switzerland",
          "Japan",
          "Greece",
          "Tunisia",
          "Bangladesh",
          "Slovakia",
          "Bolivia",
          "Egypt",
          "Sweden",
          "Iraq",
          "Portugal",
          "Bulgaria",
          "Netherlands",
          "Philippines",
          "Pakistan",
          "Ecuador",
          "Belgium",
          "Canada",
          "Chile",
          "Hungary",
          "Romania",
          "Czechia",
          "Turkey",
          "Indonesia",
          "Ukraine",
          "South Africa",
          "Peru",
          "Argentina",
          "Poland",
          "Iran",
          "Colombia",
          "Spain",
          "Germany",
          "France",
          "Russia",
          "Italy",
          "United Kingdom",
          "Mexico",
          "India",
          "Brazil",
          "US",
          "",
          "",
          "",
          "",
          "",
          "",
          "",
          "",
          "",
          "",
          "",
          "",
          "",
          "",
          "",
          "",
          "",
          "",
          "",
          "",
          "",
          "",
          "",
          "",
          "",
          "",
          "",
          "",
          "",
          "",
          "",
          "",
          "",
          "",
          "",
          "",
          "",
          "",
          "",
          "",
          "",
          "",
          "",
          "",
          "",
          "",
          "",
          "",
          "",
          "",
          "",
          "",
          "",
          "",
          "",
          "",
          "",
          "",
          "",
          "",
          "",
          "",
          "",
          "",
          "",
          "",
          "",
          "",
          "",
          "",
          "",
          "",
          "",
          "",
          "",
          "",
          "",
          "",
          "",
          "",
          "",
          "",
          "",
          "",
          "",
          "",
          "",
          "",
          "",
          "",
          "",
          "",
          "",
          "",
          "",
          "",
          "",
          "",
          "",
          "",
          "",
          "",
          "",
          "",
          "",
          "",
          "",
          "",
          "",
          "",
          "",
          "",
          "",
          "",
          "",
          "",
          "",
          "",
          "",
          "",
          "",
          "",
          "",
          "",
          "",
          "",
          "",
          "",
          "",
          "",
          "",
          "",
          "",
          "",
          "",
          "",
          "",
          "",
          "",
          "",
          "",
          "",
          "",
          "",
          "",
          "",
          "",
          "",
          "",
          "",
          "",
          "",
          "",
          "",
          "",
          "",
          "",
          "",
          "",
          "",
          "",
          "",
          "",
          "",
          "",
          "",
          "",
          "",
          "",
          "",
          "",
          "",
          "",
          "",
          "",
          "",
          "",
          "",
          "",
          "",
          "",
          "",
          "",
          "",
          "",
          "",
          "",
          "",
          "",
          "",
          "",
          ""
         ],
         "type": "treemap",
         "values": [
          0,
          0,
          0,
          0,
          0,
          0,
          0,
          1,
          1,
          1,
          1,
          2,
          3,
          3,
          5,
          6,
          12,
          12,
          12,
          13,
          17,
          21,
          26,
          28,
          29,
          31,
          32,
          32,
          35,
          35,
          45,
          58,
          67,
          75,
          79,
          85,
          87,
          90,
          90,
          93,
          101,
          112,
          115,
          125,
          127,
          130,
          136,
          143,
          146,
          148,
          151,
          151,
          164,
          172,
          175,
          184,
          184,
          192,
          214,
          220,
          224,
          236,
          264,
          292,
          319,
          323,
          331,
          339,
          340,
          346,
          417,
          456,
          486,
          506,
          516,
          639,
          666,
          671,
          696,
          697,
          732,
          751,
          753,
          755,
          767,
          775,
          783,
          806,
          814,
          826,
          850,
          910,
          927,
          1120,
          1152,
          1153,
          1210,
          1258,
          1276,
          1545,
          1579,
          1617,
          1660,
          1670,
          1675,
          1722,
          1884,
          2065,
          2148,
          2168,
          2217,
          2218,
          2320,
          2420,
          2446,
          2500,
          2652,
          2710,
          2928,
          3077,
          3208,
          3210,
          3343,
          3382,
          3393,
          3456,
          3550,
          3911,
          4059,
          4084,
          4272,
          4302,
          4363,
          4713,
          4846,
          4929,
          5135,
          5789,
          5970,
          6282,
          6378,
          6594,
          7098,
          7284,
          7527,
          7549,
          7776,
          8912,
          9083,
          9151,
          10413,
          10722,
          11058,
          11141,
          11556,
          12005,
          12077,
          13258,
          14033,
          14217,
          15834,
          16994,
          17104,
          17648,
          18620,
          19210,
          19286,
          24609,
          24693,
          27356,
          28888,
          29135,
          29787,
          43589,
          47465,
          48900,
          54896,
          64691,
          68311,
          70336,
          75568,
          78771,
          79100,
          85385,
          107096,
          112063,
          123282,
          127890,
          219323,
          254197,
          425540,
          582848,
          2710,
          2420,
          3343,
          127,
          639,
          32,
          68311,
          4272,
          910,
          10413,
          4713,
          214,
          697,
          12005,
          45,
          2652,
          24609,
          323,
          101,
          1,
          13258,
          8912,
          751,
          425540,
          3,
          17104,
          164,
          3210,
          6,
          236,
          136,
          1152,
          24693,
          93,
          172,
          27356,
          4846,
          78771,
          146,
          148,
          775,
          3456,
          292,
          7549,
          755,
          339,
          29787,
          2500,
          13,
          151,
          0,
          3550,
          19286,
          14033,
          2168,
          112,
          12,
          1210,
          671,
          3911,
          3,
          927,
          107096,
          143,
          175,
          4363,
          85385,
          783,
          11141,
          1,
          7776,
          151,
          67,
          331,
          264,
          0,
          5789,
          28888,
          29,
          254197,
          47465,
          75568,
          15834,
          4929,
          6378,
          123282,
          814,
          11058,
          9151,
          3382,
          2928,
          1884,
          2218,
          1660,
          1675,
          1,
          2217,
          7527,
          319,
          85,
          3077,
          58,
          4059,
          806,
          2,
          732,
          1153,
          1722,
          87,
          506,
          417,
          0,
          456,
          17,
          219323,
          0,
          5970,
          32,
          184,
          1545,
          9083,
          826,
          696,
          4084,
          17648,
          26,
          184,
          192,
          2065,
          5135,
          767,
          2148,
          19210,
          6282,
          130,
          7284,
          64691,
          18620,
          70336,
          16994,
          516,
          29135,
          112063,
          340,
          0,
          75,
          12,
          0,
          90,
          35,
          7098,
          1120,
          6594,
          28,
          79,
          31,
          12077,
          4302,
          0,
          753,
          54896,
          115,
          79100,
          850,
          2446,
          220,
          14217,
          10722,
          1670,
          12,
          90,
          21,
          486,
          5,
          125,
          224,
          11556,
          43589,
          582848,
          346,
          48900,
          1617,
          127890,
          3208,
          666,
          1,
          2320,
          35,
          3393,
          1276,
          1258,
          1579
         ]
        }
       ],
       "layout": {
        "legend": {
         "tracegroupgap": 0
        },
        "template": {
         "data": {
          "bar": [
           {
            "error_x": {
             "color": "#2a3f5f"
            },
            "error_y": {
             "color": "#2a3f5f"
            },
            "marker": {
             "line": {
              "color": "#E5ECF6",
              "width": 0.5
             }
            },
            "type": "bar"
           }
          ],
          "barpolar": [
           {
            "marker": {
             "line": {
              "color": "#E5ECF6",
              "width": 0.5
             }
            },
            "type": "barpolar"
           }
          ],
          "carpet": [
           {
            "aaxis": {
             "endlinecolor": "#2a3f5f",
             "gridcolor": "white",
             "linecolor": "white",
             "minorgridcolor": "white",
             "startlinecolor": "#2a3f5f"
            },
            "baxis": {
             "endlinecolor": "#2a3f5f",
             "gridcolor": "white",
             "linecolor": "white",
             "minorgridcolor": "white",
             "startlinecolor": "#2a3f5f"
            },
            "type": "carpet"
           }
          ],
          "choropleth": [
           {
            "colorbar": {
             "outlinewidth": 0,
             "ticks": ""
            },
            "type": "choropleth"
           }
          ],
          "contour": [
           {
            "colorbar": {
             "outlinewidth": 0,
             "ticks": ""
            },
            "colorscale": [
             [
              0,
              "#0d0887"
             ],
             [
              0.1111111111111111,
              "#46039f"
             ],
             [
              0.2222222222222222,
              "#7201a8"
             ],
             [
              0.3333333333333333,
              "#9c179e"
             ],
             [
              0.4444444444444444,
              "#bd3786"
             ],
             [
              0.5555555555555556,
              "#d8576b"
             ],
             [
              0.6666666666666666,
              "#ed7953"
             ],
             [
              0.7777777777777778,
              "#fb9f3a"
             ],
             [
              0.8888888888888888,
              "#fdca26"
             ],
             [
              1,
              "#f0f921"
             ]
            ],
            "type": "contour"
           }
          ],
          "contourcarpet": [
           {
            "colorbar": {
             "outlinewidth": 0,
             "ticks": ""
            },
            "type": "contourcarpet"
           }
          ],
          "heatmap": [
           {
            "colorbar": {
             "outlinewidth": 0,
             "ticks": ""
            },
            "colorscale": [
             [
              0,
              "#0d0887"
             ],
             [
              0.1111111111111111,
              "#46039f"
             ],
             [
              0.2222222222222222,
              "#7201a8"
             ],
             [
              0.3333333333333333,
              "#9c179e"
             ],
             [
              0.4444444444444444,
              "#bd3786"
             ],
             [
              0.5555555555555556,
              "#d8576b"
             ],
             [
              0.6666666666666666,
              "#ed7953"
             ],
             [
              0.7777777777777778,
              "#fb9f3a"
             ],
             [
              0.8888888888888888,
              "#fdca26"
             ],
             [
              1,
              "#f0f921"
             ]
            ],
            "type": "heatmap"
           }
          ],
          "heatmapgl": [
           {
            "colorbar": {
             "outlinewidth": 0,
             "ticks": ""
            },
            "colorscale": [
             [
              0,
              "#0d0887"
             ],
             [
              0.1111111111111111,
              "#46039f"
             ],
             [
              0.2222222222222222,
              "#7201a8"
             ],
             [
              0.3333333333333333,
              "#9c179e"
             ],
             [
              0.4444444444444444,
              "#bd3786"
             ],
             [
              0.5555555555555556,
              "#d8576b"
             ],
             [
              0.6666666666666666,
              "#ed7953"
             ],
             [
              0.7777777777777778,
              "#fb9f3a"
             ],
             [
              0.8888888888888888,
              "#fdca26"
             ],
             [
              1,
              "#f0f921"
             ]
            ],
            "type": "heatmapgl"
           }
          ],
          "histogram": [
           {
            "marker": {
             "colorbar": {
              "outlinewidth": 0,
              "ticks": ""
             }
            },
            "type": "histogram"
           }
          ],
          "histogram2d": [
           {
            "colorbar": {
             "outlinewidth": 0,
             "ticks": ""
            },
            "colorscale": [
             [
              0,
              "#0d0887"
             ],
             [
              0.1111111111111111,
              "#46039f"
             ],
             [
              0.2222222222222222,
              "#7201a8"
             ],
             [
              0.3333333333333333,
              "#9c179e"
             ],
             [
              0.4444444444444444,
              "#bd3786"
             ],
             [
              0.5555555555555556,
              "#d8576b"
             ],
             [
              0.6666666666666666,
              "#ed7953"
             ],
             [
              0.7777777777777778,
              "#fb9f3a"
             ],
             [
              0.8888888888888888,
              "#fdca26"
             ],
             [
              1,
              "#f0f921"
             ]
            ],
            "type": "histogram2d"
           }
          ],
          "histogram2dcontour": [
           {
            "colorbar": {
             "outlinewidth": 0,
             "ticks": ""
            },
            "colorscale": [
             [
              0,
              "#0d0887"
             ],
             [
              0.1111111111111111,
              "#46039f"
             ],
             [
              0.2222222222222222,
              "#7201a8"
             ],
             [
              0.3333333333333333,
              "#9c179e"
             ],
             [
              0.4444444444444444,
              "#bd3786"
             ],
             [
              0.5555555555555556,
              "#d8576b"
             ],
             [
              0.6666666666666666,
              "#ed7953"
             ],
             [
              0.7777777777777778,
              "#fb9f3a"
             ],
             [
              0.8888888888888888,
              "#fdca26"
             ],
             [
              1,
              "#f0f921"
             ]
            ],
            "type": "histogram2dcontour"
           }
          ],
          "mesh3d": [
           {
            "colorbar": {
             "outlinewidth": 0,
             "ticks": ""
            },
            "type": "mesh3d"
           }
          ],
          "parcoords": [
           {
            "line": {
             "colorbar": {
              "outlinewidth": 0,
              "ticks": ""
             }
            },
            "type": "parcoords"
           }
          ],
          "pie": [
           {
            "automargin": true,
            "type": "pie"
           }
          ],
          "scatter": [
           {
            "marker": {
             "colorbar": {
              "outlinewidth": 0,
              "ticks": ""
             }
            },
            "type": "scatter"
           }
          ],
          "scatter3d": [
           {
            "line": {
             "colorbar": {
              "outlinewidth": 0,
              "ticks": ""
             }
            },
            "marker": {
             "colorbar": {
              "outlinewidth": 0,
              "ticks": ""
             }
            },
            "type": "scatter3d"
           }
          ],
          "scattercarpet": [
           {
            "marker": {
             "colorbar": {
              "outlinewidth": 0,
              "ticks": ""
             }
            },
            "type": "scattercarpet"
           }
          ],
          "scattergeo": [
           {
            "marker": {
             "colorbar": {
              "outlinewidth": 0,
              "ticks": ""
             }
            },
            "type": "scattergeo"
           }
          ],
          "scattergl": [
           {
            "marker": {
             "colorbar": {
              "outlinewidth": 0,
              "ticks": ""
             }
            },
            "type": "scattergl"
           }
          ],
          "scattermapbox": [
           {
            "marker": {
             "colorbar": {
              "outlinewidth": 0,
              "ticks": ""
             }
            },
            "type": "scattermapbox"
           }
          ],
          "scatterpolar": [
           {
            "marker": {
             "colorbar": {
              "outlinewidth": 0,
              "ticks": ""
             }
            },
            "type": "scatterpolar"
           }
          ],
          "scatterpolargl": [
           {
            "marker": {
             "colorbar": {
              "outlinewidth": 0,
              "ticks": ""
             }
            },
            "type": "scatterpolargl"
           }
          ],
          "scatterternary": [
           {
            "marker": {
             "colorbar": {
              "outlinewidth": 0,
              "ticks": ""
             }
            },
            "type": "scatterternary"
           }
          ],
          "surface": [
           {
            "colorbar": {
             "outlinewidth": 0,
             "ticks": ""
            },
            "colorscale": [
             [
              0,
              "#0d0887"
             ],
             [
              0.1111111111111111,
              "#46039f"
             ],
             [
              0.2222222222222222,
              "#7201a8"
             ],
             [
              0.3333333333333333,
              "#9c179e"
             ],
             [
              0.4444444444444444,
              "#bd3786"
             ],
             [
              0.5555555555555556,
              "#d8576b"
             ],
             [
              0.6666666666666666,
              "#ed7953"
             ],
             [
              0.7777777777777778,
              "#fb9f3a"
             ],
             [
              0.8888888888888888,
              "#fdca26"
             ],
             [
              1,
              "#f0f921"
             ]
            ],
            "type": "surface"
           }
          ],
          "table": [
           {
            "cells": {
             "fill": {
              "color": "#EBF0F8"
             },
             "line": {
              "color": "white"
             }
            },
            "header": {
             "fill": {
              "color": "#C8D4E3"
             },
             "line": {
              "color": "white"
             }
            },
            "type": "table"
           }
          ]
         },
         "layout": {
          "annotationdefaults": {
           "arrowcolor": "#2a3f5f",
           "arrowhead": 0,
           "arrowwidth": 1
          },
          "autotypenumbers": "strict",
          "coloraxis": {
           "colorbar": {
            "outlinewidth": 0,
            "ticks": ""
           }
          },
          "colorscale": {
           "diverging": [
            [
             0,
             "#8e0152"
            ],
            [
             0.1,
             "#c51b7d"
            ],
            [
             0.2,
             "#de77ae"
            ],
            [
             0.3,
             "#f1b6da"
            ],
            [
             0.4,
             "#fde0ef"
            ],
            [
             0.5,
             "#f7f7f7"
            ],
            [
             0.6,
             "#e6f5d0"
            ],
            [
             0.7,
             "#b8e186"
            ],
            [
             0.8,
             "#7fbc41"
            ],
            [
             0.9,
             "#4d9221"
            ],
            [
             1,
             "#276419"
            ]
           ],
           "sequential": [
            [
             0,
             "#0d0887"
            ],
            [
             0.1111111111111111,
             "#46039f"
            ],
            [
             0.2222222222222222,
             "#7201a8"
            ],
            [
             0.3333333333333333,
             "#9c179e"
            ],
            [
             0.4444444444444444,
             "#bd3786"
            ],
            [
             0.5555555555555556,
             "#d8576b"
            ],
            [
             0.6666666666666666,
             "#ed7953"
            ],
            [
             0.7777777777777778,
             "#fb9f3a"
            ],
            [
             0.8888888888888888,
             "#fdca26"
            ],
            [
             1,
             "#f0f921"
            ]
           ],
           "sequentialminus": [
            [
             0,
             "#0d0887"
            ],
            [
             0.1111111111111111,
             "#46039f"
            ],
            [
             0.2222222222222222,
             "#7201a8"
            ],
            [
             0.3333333333333333,
             "#9c179e"
            ],
            [
             0.4444444444444444,
             "#bd3786"
            ],
            [
             0.5555555555555556,
             "#d8576b"
            ],
            [
             0.6666666666666666,
             "#ed7953"
            ],
            [
             0.7777777777777778,
             "#fb9f3a"
            ],
            [
             0.8888888888888888,
             "#fdca26"
            ],
            [
             1,
             "#f0f921"
            ]
           ]
          },
          "colorway": [
           "#636efa",
           "#EF553B",
           "#00cc96",
           "#ab63fa",
           "#FFA15A",
           "#19d3f3",
           "#FF6692",
           "#B6E880",
           "#FF97FF",
           "#FECB52"
          ],
          "font": {
           "color": "#2a3f5f"
          },
          "geo": {
           "bgcolor": "white",
           "lakecolor": "white",
           "landcolor": "#E5ECF6",
           "showlakes": true,
           "showland": true,
           "subunitcolor": "white"
          },
          "hoverlabel": {
           "align": "left"
          },
          "hovermode": "closest",
          "mapbox": {
           "style": "light"
          },
          "paper_bgcolor": "white",
          "plot_bgcolor": "#E5ECF6",
          "polar": {
           "angularaxis": {
            "gridcolor": "white",
            "linecolor": "white",
            "ticks": ""
           },
           "bgcolor": "#E5ECF6",
           "radialaxis": {
            "gridcolor": "white",
            "linecolor": "white",
            "ticks": ""
           }
          },
          "scene": {
           "xaxis": {
            "backgroundcolor": "#E5ECF6",
            "gridcolor": "white",
            "gridwidth": 2,
            "linecolor": "white",
            "showbackground": true,
            "ticks": "",
            "zerolinecolor": "white"
           },
           "yaxis": {
            "backgroundcolor": "#E5ECF6",
            "gridcolor": "white",
            "gridwidth": 2,
            "linecolor": "white",
            "showbackground": true,
            "ticks": "",
            "zerolinecolor": "white"
           },
           "zaxis": {
            "backgroundcolor": "#E5ECF6",
            "gridcolor": "white",
            "gridwidth": 2,
            "linecolor": "white",
            "showbackground": true,
            "ticks": "",
            "zerolinecolor": "white"
           }
          },
          "shapedefaults": {
           "line": {
            "color": "#2a3f5f"
           }
          },
          "ternary": {
           "aaxis": {
            "gridcolor": "white",
            "linecolor": "white",
            "ticks": ""
           },
           "baxis": {
            "gridcolor": "white",
            "linecolor": "white",
            "ticks": ""
           },
           "bgcolor": "#E5ECF6",
           "caxis": {
            "gridcolor": "white",
            "linecolor": "white",
            "ticks": ""
           }
          },
          "title": {
           "x": 0.05
          },
          "xaxis": {
           "automargin": true,
           "gridcolor": "white",
           "linecolor": "white",
           "ticks": "",
           "title": {
            "standoff": 15
           },
           "zerolinecolor": "white",
           "zerolinewidth": 2
          },
          "yaxis": {
           "automargin": true,
           "gridcolor": "white",
           "linecolor": "white",
           "ticks": "",
           "title": {
            "standoff": 15
           },
           "zerolinecolor": "white",
           "zerolinewidth": 2
          }
         }
        },
        "title": {
         "text": "Top countries with most number of Death cases"
        }
       }
      },
      "text/html": [
       "<div>                            <div id=\"558d0ef4-c1e0-4b9a-a141-e513e89cef2b\" class=\"plotly-graph-div\" style=\"height:525px; width:100%;\"></div>            <script type=\"text/javascript\">                require([\"plotly\"], function(Plotly) {                    window.PLOTLYENV=window.PLOTLYENV || {};                                    if (document.getElementById(\"558d0ef4-c1e0-4b9a-a141-e513e89cef2b\")) {                    Plotly.newPlot(                        \"558d0ef4-c1e0-4b9a-a141-e513e89cef2b\",                        [{\"branchvalues\": \"total\", \"domain\": {\"x\": [0.0, 1.0], \"y\": [0.0, 1.0]}, \"hovertemplate\": \"labels=%{label}<br>Deaths=%{value}<br>parent=%{parent}<br>id=%{id}<extra></extra>\", \"ids\": [\"Dominica/0.0\", \"Holy See/0.0\", \"Marshall Islands/0.0\", \"Micronesia/0.0\", \"Saint Kitts and Nevis/0.0\", \"Samoa/0.0\", \"Solomon Islands/0.0\", \"Bhutan/1.0\", \"Grenada/1.0\", \"Laos/1.0\", \"Vanuatu/1.0\", \"MS Zaandam/2.0\", \"Brunei/3.0\", \"Fiji/3.0\", \"Timor-Leste/5.0\", \"Burundi/6.0\", \"Eritrea/12.0\", \"Saint Vincent and the Grenadines/12.0\", \"Taiwan*/12.0\", \"Diamond Princess/13.0\", \"Mauritius/17.0\", \"Tanzania/21.0\", \"New Zealand/26.0\", \"Seychelles/28.0\", \"Iceland/29.0\", \"Singapore/31.0\", \"Antigua and Barbuda/32.0\", \"Monaco/32.0\", \"Sao Tome and Principe/35.0\", \"Vietnam/35.0\", \"Barbados/45.0\", \"Liechtenstein/58.0\", \"Guinea-Bissau/67.0\", \"Saint Lucia/75.0\", \"Sierra Leone/79.0\", \"Liberia/85.0\", \"Maldives/87.0\", \"San Marino/90.0\", \"Tajikistan/90.0\", \"Central African Republic/93.0\", \"Benin/101.0\", \"Equatorial Guinea/112.0\", \"South Sudan/115.0\", \"Togo/125.0\", \"Andorra/127.0\", \"Papua New Guinea/130.0\", \"Cambodia/136.0\", \"Gabon/143.0\", \"Comoros/146.0\", \"Congo (Brazzaville)/148.0\", \"Djibouti/151.0\", \"Guinea/151.0\", \"Burkina Faso/164.0\", \"Chad/172.0\", \"Gambia/175.0\", \"Mongolia/184.0\", \"Nicaragua/184.0\", \"Niger/192.0\", \"Bahamas/214.0\", \"Suriname/220.0\", \"Trinidad and Tobago/224.0\", \"Cabo Verde/236.0\", \"Haiti/264.0\", \"Cote d'Ivoire/292.0\", \"Lesotho/319.0\", \"Belize/323.0\", \"Guyana/331.0\", \"Cyprus/339.0\", \"Rwanda/340.0\", \"Uganda/346.0\", \"Malta/417.0\", \"Mauritania/456.0\", \"Thailand/486.0\", \"Mali/506.0\", \"Qatar/516.0\", \"Angola/639.0\", \"Uzbekistan/666.0\", \"Eswatini/671.0\", \"Namibia/696.0\", \"Bahrain/697.0\", \"Madagascar/732.0\", \"Botswana/751.0\", \"Somalia/753.0\", \"Cuba/755.0\", \"Norway/767.0\", \"Congo (Kinshasa)/775.0\", \"Ghana/783.0\", \"Luxembourg/806.0\", \"Jamaica/814.0\", \"Mozambique/826.0\", \"Sri Lanka/850.0\", \"Australia/910.0\", \"Finland/927.0\", \"Senegal/1120.0\", \"Cameroon/1152.0\", \"Malawi/1153.0\", \"Estonia/1210.0\", \"Zambia/1258.0\", \"Yemen/1276.0\", \"Montenegro/1545.0\", \"Zimbabwe/1579.0\", \"United Arab Emirates/1617.0\", \"Kuwait/1660.0\", \"Syria/1670.0\", \"Kyrgyzstan/1675.0\", \"Malaysia/1722.0\", \"Korea, South/1884.0\", \"Nigeria/2065.0\", \"Oman/2148.0\", \"El Salvador/2168.0\", \"Latvia/2217.0\", \"Kosovo/2218.0\", \"Venezuela/2320.0\", \"Albania/2420.0\", \"Sudan/2446.0\", \"Denmark/2500.0\", \"Belarus/2652.0\", \"Afghanistan/2710.0\", \"Kenya/2928.0\", \"Libya/3077.0\", \"Uruguay/3208.0\", \"Burma/3210.0\", \"Algeria/3343.0\", \"Kazakhstan/3382.0\", \"West Bank and Gaza/3393.0\", \"Costa Rica/3456.0\", \"Dominican Republic/3550.0\", \"Ethiopia/3911.0\", \"Lithuania/4059.0\", \"Nepal/4084.0\", \"Armenia/4272.0\", \"Slovenia/4302.0\", \"Georgia/4363.0\", \"Azerbaijan/4713.0\", \"China/4846.0\", \"Ireland/4929.0\", \"North Macedonia/5135.0\", \"Honduras/5789.0\", \"Moldova/5970.0\", \"Panama/6282.0\", \"Israel/6378.0\", \"Serbia/6594.0\", \"Saudi Arabia/7098.0\", \"Paraguay/7284.0\", \"Lebanon/7527.0\", \"Croatia/7549.0\", \"Guatemala/7776.0\", \"Bosnia and Herzegovina/8912.0\", \"Morocco/9083.0\", \"Jordan/9151.0\", \"Austria/10413.0\", \"Switzerland/10722.0\", \"Japan/11058.0\", \"Greece/11141.0\", \"Tunisia/11556.0\", \"Bangladesh/12005.0\", \"Slovakia/12077.0\", \"Bolivia/13258.0\", \"Egypt/14033.0\", \"Sweden/14217.0\", \"Iraq/15834.0\", \"Portugal/16994.0\", \"Bulgaria/17104.0\", \"Netherlands/17648.0\", \"Philippines/18620.0\", \"Pakistan/19210.0\", \"Ecuador/19286.0\", \"Belgium/24609.0\", \"Canada/24693.0\", \"Chile/27356.0\", \"Hungary/28888.0\", \"Romania/29135.0\", \"Czechia/29787.0\", \"Turkey/43589.0\", \"Indonesia/47465.0\", \"Ukraine/48900.0\", \"South Africa/54896.0\", \"Peru/64691.0\", \"Argentina/68311.0\", \"Poland/70336.0\", \"Iran/75568.0\", \"Colombia/78771.0\", \"Spain/79100.0\", \"Germany/85385.0\", \"France/107096.0\", \"Russia/112063.0\", \"Italy/123282.0\", \"United Kingdom/127890.0\", \"Mexico/219323.0\", \"India/254197.0\", \"Brazil/425540.0\", \"US/582848.0\", \"Afghanistan\", \"Albania\", \"Algeria\", \"Andorra\", \"Angola\", \"Antigua and Barbuda\", \"Argentina\", \"Armenia\", \"Australia\", \"Austria\", \"Azerbaijan\", \"Bahamas\", \"Bahrain\", \"Bangladesh\", \"Barbados\", \"Belarus\", \"Belgium\", \"Belize\", \"Benin\", \"Bhutan\", \"Bolivia\", \"Bosnia and Herzegovina\", \"Botswana\", \"Brazil\", \"Brunei\", \"Bulgaria\", \"Burkina Faso\", \"Burma\", \"Burundi\", \"Cabo Verde\", \"Cambodia\", \"Cameroon\", \"Canada\", \"Central African Republic\", \"Chad\", \"Chile\", \"China\", \"Colombia\", \"Comoros\", \"Congo (Brazzaville)\", \"Congo (Kinshasa)\", \"Costa Rica\", \"Cote d'Ivoire\", \"Croatia\", \"Cuba\", \"Cyprus\", \"Czechia\", \"Denmark\", \"Diamond Princess\", \"Djibouti\", \"Dominica\", \"Dominican Republic\", \"Ecuador\", \"Egypt\", \"El Salvador\", \"Equatorial Guinea\", \"Eritrea\", \"Estonia\", \"Eswatini\", \"Ethiopia\", \"Fiji\", \"Finland\", \"France\", \"Gabon\", \"Gambia\", \"Georgia\", \"Germany\", \"Ghana\", \"Greece\", \"Grenada\", \"Guatemala\", \"Guinea\", \"Guinea-Bissau\", \"Guyana\", \"Haiti\", \"Holy See\", \"Honduras\", \"Hungary\", \"Iceland\", \"India\", \"Indonesia\", \"Iran\", \"Iraq\", \"Ireland\", \"Israel\", \"Italy\", \"Jamaica\", \"Japan\", \"Jordan\", \"Kazakhstan\", \"Kenya\", \"Korea, South\", \"Kosovo\", \"Kuwait\", \"Kyrgyzstan\", \"Laos\", \"Latvia\", \"Lebanon\", \"Lesotho\", \"Liberia\", \"Libya\", \"Liechtenstein\", \"Lithuania\", \"Luxembourg\", \"MS Zaandam\", \"Madagascar\", \"Malawi\", \"Malaysia\", \"Maldives\", \"Mali\", \"Malta\", \"Marshall Islands\", \"Mauritania\", \"Mauritius\", \"Mexico\", \"Micronesia\", \"Moldova\", \"Monaco\", \"Mongolia\", \"Montenegro\", \"Morocco\", \"Mozambique\", \"Namibia\", \"Nepal\", \"Netherlands\", \"New Zealand\", \"Nicaragua\", \"Niger\", \"Nigeria\", \"North Macedonia\", \"Norway\", \"Oman\", \"Pakistan\", \"Panama\", \"Papua New Guinea\", \"Paraguay\", \"Peru\", \"Philippines\", \"Poland\", \"Portugal\", \"Qatar\", \"Romania\", \"Russia\", \"Rwanda\", \"Saint Kitts and Nevis\", \"Saint Lucia\", \"Saint Vincent and the Grenadines\", \"Samoa\", \"San Marino\", \"Sao Tome and Principe\", \"Saudi Arabia\", \"Senegal\", \"Serbia\", \"Seychelles\", \"Sierra Leone\", \"Singapore\", \"Slovakia\", \"Slovenia\", \"Solomon Islands\", \"Somalia\", \"South Africa\", \"South Sudan\", \"Spain\", \"Sri Lanka\", \"Sudan\", \"Suriname\", \"Sweden\", \"Switzerland\", \"Syria\", \"Taiwan*\", \"Tajikistan\", \"Tanzania\", \"Thailand\", \"Timor-Leste\", \"Togo\", \"Trinidad and Tobago\", \"Tunisia\", \"Turkey\", \"US\", \"Uganda\", \"Ukraine\", \"United Arab Emirates\", \"United Kingdom\", \"Uruguay\", \"Uzbekistan\", \"Vanuatu\", \"Venezuela\", \"Vietnam\", \"West Bank and Gaza\", \"Yemen\", \"Zambia\", \"Zimbabwe\"], \"labels\": [\"0.0\", \"0.0\", \"0.0\", \"0.0\", \"0.0\", \"0.0\", \"0.0\", \"1.0\", \"1.0\", \"1.0\", \"1.0\", \"2.0\", \"3.0\", \"3.0\", \"5.0\", \"6.0\", \"12.0\", \"12.0\", \"12.0\", \"13.0\", \"17.0\", \"21.0\", \"26.0\", \"28.0\", \"29.0\", \"31.0\", \"32.0\", \"32.0\", \"35.0\", \"35.0\", \"45.0\", \"58.0\", \"67.0\", \"75.0\", \"79.0\", \"85.0\", \"87.0\", \"90.0\", \"90.0\", \"93.0\", \"101.0\", \"112.0\", \"115.0\", \"125.0\", \"127.0\", \"130.0\", \"136.0\", \"143.0\", \"146.0\", \"148.0\", \"151.0\", \"151.0\", \"164.0\", \"172.0\", \"175.0\", \"184.0\", \"184.0\", \"192.0\", \"214.0\", \"220.0\", \"224.0\", \"236.0\", \"264.0\", \"292.0\", \"319.0\", \"323.0\", \"331.0\", \"339.0\", \"340.0\", \"346.0\", \"417.0\", \"456.0\", \"486.0\", \"506.0\", \"516.0\", \"639.0\", \"666.0\", \"671.0\", \"696.0\", \"697.0\", \"732.0\", \"751.0\", \"753.0\", \"755.0\", \"767.0\", \"775.0\", \"783.0\", \"806.0\", \"814.0\", \"826.0\", \"850.0\", \"910.0\", \"927.0\", \"1120.0\", \"1152.0\", \"1153.0\", \"1210.0\", \"1258.0\", \"1276.0\", \"1545.0\", \"1579.0\", \"1617.0\", \"1660.0\", \"1670.0\", \"1675.0\", \"1722.0\", \"1884.0\", \"2065.0\", \"2148.0\", \"2168.0\", \"2217.0\", \"2218.0\", \"2320.0\", \"2420.0\", \"2446.0\", \"2500.0\", \"2652.0\", \"2710.0\", \"2928.0\", \"3077.0\", \"3208.0\", \"3210.0\", \"3343.0\", \"3382.0\", \"3393.0\", \"3456.0\", \"3550.0\", \"3911.0\", \"4059.0\", \"4084.0\", \"4272.0\", \"4302.0\", \"4363.0\", \"4713.0\", \"4846.0\", \"4929.0\", \"5135.0\", \"5789.0\", \"5970.0\", \"6282.0\", \"6378.0\", \"6594.0\", \"7098.0\", \"7284.0\", \"7527.0\", \"7549.0\", \"7776.0\", \"8912.0\", \"9083.0\", \"9151.0\", \"10413.0\", \"10722.0\", \"11058.0\", \"11141.0\", \"11556.0\", \"12005.0\", \"12077.0\", \"13258.0\", \"14033.0\", \"14217.0\", \"15834.0\", \"16994.0\", \"17104.0\", \"17648.0\", \"18620.0\", \"19210.0\", \"19286.0\", \"24609.0\", \"24693.0\", \"27356.0\", \"28888.0\", \"29135.0\", \"29787.0\", \"43589.0\", \"47465.0\", \"48900.0\", \"54896.0\", \"64691.0\", \"68311.0\", \"70336.0\", \"75568.0\", \"78771.0\", \"79100.0\", \"85385.0\", \"107096.0\", \"112063.0\", \"123282.0\", \"127890.0\", \"219323.0\", \"254197.0\", \"425540.0\", \"582848.0\", \"Afghanistan\", \"Albania\", \"Algeria\", \"Andorra\", \"Angola\", \"Antigua and Barbuda\", \"Argentina\", \"Armenia\", \"Australia\", \"Austria\", \"Azerbaijan\", \"Bahamas\", \"Bahrain\", \"Bangladesh\", \"Barbados\", \"Belarus\", \"Belgium\", \"Belize\", \"Benin\", \"Bhutan\", \"Bolivia\", \"Bosnia and Herzegovina\", \"Botswana\", \"Brazil\", \"Brunei\", \"Bulgaria\", \"Burkina Faso\", \"Burma\", \"Burundi\", \"Cabo Verde\", \"Cambodia\", \"Cameroon\", \"Canada\", \"Central African Republic\", \"Chad\", \"Chile\", \"China\", \"Colombia\", \"Comoros\", \"Congo (Brazzaville)\", \"Congo (Kinshasa)\", \"Costa Rica\", \"Cote d'Ivoire\", \"Croatia\", \"Cuba\", \"Cyprus\", \"Czechia\", \"Denmark\", \"Diamond Princess\", \"Djibouti\", \"Dominica\", \"Dominican Republic\", \"Ecuador\", \"Egypt\", \"El Salvador\", \"Equatorial Guinea\", \"Eritrea\", \"Estonia\", \"Eswatini\", \"Ethiopia\", \"Fiji\", \"Finland\", \"France\", \"Gabon\", \"Gambia\", \"Georgia\", \"Germany\", \"Ghana\", \"Greece\", \"Grenada\", \"Guatemala\", \"Guinea\", \"Guinea-Bissau\", \"Guyana\", \"Haiti\", \"Holy See\", \"Honduras\", \"Hungary\", \"Iceland\", \"India\", \"Indonesia\", \"Iran\", \"Iraq\", \"Ireland\", \"Israel\", \"Italy\", \"Jamaica\", \"Japan\", \"Jordan\", \"Kazakhstan\", \"Kenya\", \"Korea, South\", \"Kosovo\", \"Kuwait\", \"Kyrgyzstan\", \"Laos\", \"Latvia\", \"Lebanon\", \"Lesotho\", \"Liberia\", \"Libya\", \"Liechtenstein\", \"Lithuania\", \"Luxembourg\", \"MS Zaandam\", \"Madagascar\", \"Malawi\", \"Malaysia\", \"Maldives\", \"Mali\", \"Malta\", \"Marshall Islands\", \"Mauritania\", \"Mauritius\", \"Mexico\", \"Micronesia\", \"Moldova\", \"Monaco\", \"Mongolia\", \"Montenegro\", \"Morocco\", \"Mozambique\", \"Namibia\", \"Nepal\", \"Netherlands\", \"New Zealand\", \"Nicaragua\", \"Niger\", \"Nigeria\", \"North Macedonia\", \"Norway\", \"Oman\", \"Pakistan\", \"Panama\", \"Papua New Guinea\", \"Paraguay\", \"Peru\", \"Philippines\", \"Poland\", \"Portugal\", \"Qatar\", \"Romania\", \"Russia\", \"Rwanda\", \"Saint Kitts and Nevis\", \"Saint Lucia\", \"Saint Vincent and the Grenadines\", \"Samoa\", \"San Marino\", \"Sao Tome and Principe\", \"Saudi Arabia\", \"Senegal\", \"Serbia\", \"Seychelles\", \"Sierra Leone\", \"Singapore\", \"Slovakia\", \"Slovenia\", \"Solomon Islands\", \"Somalia\", \"South Africa\", \"South Sudan\", \"Spain\", \"Sri Lanka\", \"Sudan\", \"Suriname\", \"Sweden\", \"Switzerland\", \"Syria\", \"Taiwan*\", \"Tajikistan\", \"Tanzania\", \"Thailand\", \"Timor-Leste\", \"Togo\", \"Trinidad and Tobago\", \"Tunisia\", \"Turkey\", \"US\", \"Uganda\", \"Ukraine\", \"United Arab Emirates\", \"United Kingdom\", \"Uruguay\", \"Uzbekistan\", \"Vanuatu\", \"Venezuela\", \"Vietnam\", \"West Bank and Gaza\", \"Yemen\", \"Zambia\", \"Zimbabwe\"], \"name\": \"\", \"parents\": [\"Dominica\", \"Holy See\", \"Marshall Islands\", \"Micronesia\", \"Saint Kitts and Nevis\", \"Samoa\", \"Solomon Islands\", \"Bhutan\", \"Grenada\", \"Laos\", \"Vanuatu\", \"MS Zaandam\", \"Brunei\", \"Fiji\", \"Timor-Leste\", \"Burundi\", \"Eritrea\", \"Saint Vincent and the Grenadines\", \"Taiwan*\", \"Diamond Princess\", \"Mauritius\", \"Tanzania\", \"New Zealand\", \"Seychelles\", \"Iceland\", \"Singapore\", \"Antigua and Barbuda\", \"Monaco\", \"Sao Tome and Principe\", \"Vietnam\", \"Barbados\", \"Liechtenstein\", \"Guinea-Bissau\", \"Saint Lucia\", \"Sierra Leone\", \"Liberia\", \"Maldives\", \"San Marino\", \"Tajikistan\", \"Central African Republic\", \"Benin\", \"Equatorial Guinea\", \"South Sudan\", \"Togo\", \"Andorra\", \"Papua New Guinea\", \"Cambodia\", \"Gabon\", \"Comoros\", \"Congo (Brazzaville)\", \"Djibouti\", \"Guinea\", \"Burkina Faso\", \"Chad\", \"Gambia\", \"Mongolia\", \"Nicaragua\", \"Niger\", \"Bahamas\", \"Suriname\", \"Trinidad and Tobago\", \"Cabo Verde\", \"Haiti\", \"Cote d'Ivoire\", \"Lesotho\", \"Belize\", \"Guyana\", \"Cyprus\", \"Rwanda\", \"Uganda\", \"Malta\", \"Mauritania\", \"Thailand\", \"Mali\", \"Qatar\", \"Angola\", \"Uzbekistan\", \"Eswatini\", \"Namibia\", \"Bahrain\", \"Madagascar\", \"Botswana\", \"Somalia\", \"Cuba\", \"Norway\", \"Congo (Kinshasa)\", \"Ghana\", \"Luxembourg\", \"Jamaica\", \"Mozambique\", \"Sri Lanka\", \"Australia\", \"Finland\", \"Senegal\", \"Cameroon\", \"Malawi\", \"Estonia\", \"Zambia\", \"Yemen\", \"Montenegro\", \"Zimbabwe\", \"United Arab Emirates\", \"Kuwait\", \"Syria\", \"Kyrgyzstan\", \"Malaysia\", \"Korea, South\", \"Nigeria\", \"Oman\", \"El Salvador\", \"Latvia\", \"Kosovo\", \"Venezuela\", \"Albania\", \"Sudan\", \"Denmark\", \"Belarus\", \"Afghanistan\", \"Kenya\", \"Libya\", \"Uruguay\", \"Burma\", \"Algeria\", \"Kazakhstan\", \"West Bank and Gaza\", \"Costa Rica\", \"Dominican Republic\", \"Ethiopia\", \"Lithuania\", \"Nepal\", \"Armenia\", \"Slovenia\", \"Georgia\", \"Azerbaijan\", \"China\", \"Ireland\", \"North Macedonia\", \"Honduras\", \"Moldova\", \"Panama\", \"Israel\", \"Serbia\", \"Saudi Arabia\", \"Paraguay\", \"Lebanon\", \"Croatia\", \"Guatemala\", \"Bosnia and Herzegovina\", \"Morocco\", \"Jordan\", \"Austria\", \"Switzerland\", \"Japan\", \"Greece\", \"Tunisia\", \"Bangladesh\", \"Slovakia\", \"Bolivia\", \"Egypt\", \"Sweden\", \"Iraq\", \"Portugal\", \"Bulgaria\", \"Netherlands\", \"Philippines\", \"Pakistan\", \"Ecuador\", \"Belgium\", \"Canada\", \"Chile\", \"Hungary\", \"Romania\", \"Czechia\", \"Turkey\", \"Indonesia\", \"Ukraine\", \"South Africa\", \"Peru\", \"Argentina\", \"Poland\", \"Iran\", \"Colombia\", \"Spain\", \"Germany\", \"France\", \"Russia\", \"Italy\", \"United Kingdom\", \"Mexico\", \"India\", \"Brazil\", \"US\", \"\", \"\", \"\", \"\", \"\", \"\", \"\", \"\", \"\", \"\", \"\", \"\", \"\", \"\", \"\", \"\", \"\", \"\", \"\", \"\", \"\", \"\", \"\", \"\", \"\", \"\", \"\", \"\", \"\", \"\", \"\", \"\", \"\", \"\", \"\", \"\", \"\", \"\", \"\", \"\", \"\", \"\", \"\", \"\", \"\", \"\", \"\", \"\", \"\", \"\", \"\", \"\", \"\", \"\", \"\", \"\", \"\", \"\", \"\", \"\", \"\", \"\", \"\", \"\", \"\", \"\", \"\", \"\", \"\", \"\", \"\", \"\", \"\", \"\", \"\", \"\", \"\", \"\", \"\", \"\", \"\", \"\", \"\", \"\", \"\", \"\", \"\", \"\", \"\", \"\", \"\", \"\", \"\", \"\", \"\", \"\", \"\", \"\", \"\", \"\", \"\", \"\", \"\", \"\", \"\", \"\", \"\", \"\", \"\", \"\", \"\", \"\", \"\", \"\", \"\", \"\", \"\", \"\", \"\", \"\", \"\", \"\", \"\", \"\", \"\", \"\", \"\", \"\", \"\", \"\", \"\", \"\", \"\", \"\", \"\", \"\", \"\", \"\", \"\", \"\", \"\", \"\", \"\", \"\", \"\", \"\", \"\", \"\", \"\", \"\", \"\", \"\", \"\", \"\", \"\", \"\", \"\", \"\", \"\", \"\", \"\", \"\", \"\", \"\", \"\", \"\", \"\", \"\", \"\", \"\", \"\", \"\", \"\", \"\", \"\", \"\", \"\", \"\", \"\", \"\", \"\", \"\", \"\", \"\", \"\", \"\", \"\", \"\", \"\", \"\", \"\", \"\"], \"type\": \"treemap\", \"values\": [0.0, 0.0, 0.0, 0.0, 0.0, 0.0, 0.0, 1.0, 1.0, 1.0, 1.0, 2.0, 3.0, 3.0, 5.0, 6.0, 12.0, 12.0, 12.0, 13.0, 17.0, 21.0, 26.0, 28.0, 29.0, 31.0, 32.0, 32.0, 35.0, 35.0, 45.0, 58.0, 67.0, 75.0, 79.0, 85.0, 87.0, 90.0, 90.0, 93.0, 101.0, 112.0, 115.0, 125.0, 127.0, 130.0, 136.0, 143.0, 146.0, 148.0, 151.0, 151.0, 164.0, 172.0, 175.0, 184.0, 184.0, 192.0, 214.0, 220.0, 224.0, 236.0, 264.0, 292.0, 319.0, 323.0, 331.0, 339.0, 340.0, 346.0, 417.0, 456.0, 486.0, 506.0, 516.0, 639.0, 666.0, 671.0, 696.0, 697.0, 732.0, 751.0, 753.0, 755.0, 767.0, 775.0, 783.0, 806.0, 814.0, 826.0, 850.0, 910.0, 927.0, 1120.0, 1152.0, 1153.0, 1210.0, 1258.0, 1276.0, 1545.0, 1579.0, 1617.0, 1660.0, 1670.0, 1675.0, 1722.0, 1884.0, 2065.0, 2148.0, 2168.0, 2217.0, 2218.0, 2320.0, 2420.0, 2446.0, 2500.0, 2652.0, 2710.0, 2928.0, 3077.0, 3208.0, 3210.0, 3343.0, 3382.0, 3393.0, 3456.0, 3550.0, 3911.0, 4059.0, 4084.0, 4272.0, 4302.0, 4363.0, 4713.0, 4846.0, 4929.0, 5135.0, 5789.0, 5970.0, 6282.0, 6378.0, 6594.0, 7098.0, 7284.0, 7527.0, 7549.0, 7776.0, 8912.0, 9083.0, 9151.0, 10413.0, 10722.0, 11058.0, 11141.0, 11556.0, 12005.0, 12077.0, 13258.0, 14033.0, 14217.0, 15834.0, 16994.0, 17104.0, 17648.0, 18620.0, 19210.0, 19286.0, 24609.0, 24693.0, 27356.0, 28888.0, 29135.0, 29787.0, 43589.0, 47465.0, 48900.0, 54896.0, 64691.0, 68311.0, 70336.0, 75568.0, 78771.0, 79100.0, 85385.0, 107096.0, 112063.0, 123282.0, 127890.0, 219323.0, 254197.0, 425540.0, 582848.0, 2710.0, 2420.0, 3343.0, 127.0, 639.0, 32.0, 68311.0, 4272.0, 910.0, 10413.0, 4713.0, 214.0, 697.0, 12005.0, 45.0, 2652.0, 24609.0, 323.0, 101.0, 1.0, 13258.0, 8912.0, 751.0, 425540.0, 3.0, 17104.0, 164.0, 3210.0, 6.0, 236.0, 136.0, 1152.0, 24693.0, 93.0, 172.0, 27356.0, 4846.0, 78771.0, 146.0, 148.0, 775.0, 3456.0, 292.0, 7549.0, 755.0, 339.0, 29787.0, 2500.0, 13.0, 151.0, 0.0, 3550.0, 19286.0, 14033.0, 2168.0, 112.0, 12.0, 1210.0, 671.0, 3911.0, 3.0, 927.0, 107096.0, 143.0, 175.0, 4363.0, 85385.0, 783.0, 11141.0, 1.0, 7776.0, 151.0, 67.0, 331.0, 264.0, 0.0, 5789.0, 28888.0, 29.0, 254197.0, 47465.0, 75568.0, 15834.0, 4929.0, 6378.0, 123282.0, 814.0, 11058.0, 9151.0, 3382.0, 2928.0, 1884.0, 2218.0, 1660.0, 1675.0, 1.0, 2217.0, 7527.0, 319.0, 85.0, 3077.0, 58.0, 4059.0, 806.0, 2.0, 732.0, 1153.0, 1722.0, 87.0, 506.0, 417.0, 0.0, 456.0, 17.0, 219323.0, 0.0, 5970.0, 32.0, 184.0, 1545.0, 9083.0, 826.0, 696.0, 4084.0, 17648.0, 26.0, 184.0, 192.0, 2065.0, 5135.0, 767.0, 2148.0, 19210.0, 6282.0, 130.0, 7284.0, 64691.0, 18620.0, 70336.0, 16994.0, 516.0, 29135.0, 112063.0, 340.0, 0.0, 75.0, 12.0, 0.0, 90.0, 35.0, 7098.0, 1120.0, 6594.0, 28.0, 79.0, 31.0, 12077.0, 4302.0, 0.0, 753.0, 54896.0, 115.0, 79100.0, 850.0, 2446.0, 220.0, 14217.0, 10722.0, 1670.0, 12.0, 90.0, 21.0, 486.0, 5.0, 125.0, 224.0, 11556.0, 43589.0, 582848.0, 346.0, 48900.0, 1617.0, 127890.0, 3208.0, 666.0, 1.0, 2320.0, 35.0, 3393.0, 1276.0, 1258.0, 1579.0]}],                        {\"legend\": {\"tracegroupgap\": 0}, \"template\": {\"data\": {\"bar\": [{\"error_x\": {\"color\": \"#2a3f5f\"}, \"error_y\": {\"color\": \"#2a3f5f\"}, \"marker\": {\"line\": {\"color\": \"#E5ECF6\", \"width\": 0.5}}, \"type\": \"bar\"}], \"barpolar\": [{\"marker\": {\"line\": {\"color\": \"#E5ECF6\", \"width\": 0.5}}, \"type\": \"barpolar\"}], \"carpet\": [{\"aaxis\": {\"endlinecolor\": \"#2a3f5f\", \"gridcolor\": \"white\", \"linecolor\": \"white\", \"minorgridcolor\": \"white\", \"startlinecolor\": \"#2a3f5f\"}, \"baxis\": {\"endlinecolor\": \"#2a3f5f\", \"gridcolor\": \"white\", \"linecolor\": \"white\", \"minorgridcolor\": \"white\", \"startlinecolor\": \"#2a3f5f\"}, \"type\": \"carpet\"}], \"choropleth\": [{\"colorbar\": {\"outlinewidth\": 0, \"ticks\": \"\"}, \"type\": \"choropleth\"}], \"contour\": [{\"colorbar\": {\"outlinewidth\": 0, \"ticks\": \"\"}, \"colorscale\": [[0.0, \"#0d0887\"], [0.1111111111111111, \"#46039f\"], [0.2222222222222222, \"#7201a8\"], [0.3333333333333333, \"#9c179e\"], [0.4444444444444444, \"#bd3786\"], [0.5555555555555556, \"#d8576b\"], [0.6666666666666666, \"#ed7953\"], [0.7777777777777778, \"#fb9f3a\"], [0.8888888888888888, \"#fdca26\"], [1.0, \"#f0f921\"]], \"type\": \"contour\"}], \"contourcarpet\": [{\"colorbar\": {\"outlinewidth\": 0, \"ticks\": \"\"}, \"type\": \"contourcarpet\"}], \"heatmap\": [{\"colorbar\": {\"outlinewidth\": 0, \"ticks\": \"\"}, \"colorscale\": [[0.0, \"#0d0887\"], [0.1111111111111111, \"#46039f\"], [0.2222222222222222, \"#7201a8\"], [0.3333333333333333, \"#9c179e\"], [0.4444444444444444, \"#bd3786\"], [0.5555555555555556, \"#d8576b\"], [0.6666666666666666, \"#ed7953\"], [0.7777777777777778, \"#fb9f3a\"], [0.8888888888888888, \"#fdca26\"], [1.0, \"#f0f921\"]], \"type\": \"heatmap\"}], \"heatmapgl\": [{\"colorbar\": {\"outlinewidth\": 0, \"ticks\": \"\"}, \"colorscale\": [[0.0, \"#0d0887\"], [0.1111111111111111, \"#46039f\"], [0.2222222222222222, \"#7201a8\"], [0.3333333333333333, \"#9c179e\"], [0.4444444444444444, \"#bd3786\"], [0.5555555555555556, \"#d8576b\"], [0.6666666666666666, \"#ed7953\"], [0.7777777777777778, \"#fb9f3a\"], [0.8888888888888888, \"#fdca26\"], [1.0, \"#f0f921\"]], \"type\": \"heatmapgl\"}], \"histogram\": [{\"marker\": {\"colorbar\": {\"outlinewidth\": 0, \"ticks\": \"\"}}, \"type\": \"histogram\"}], \"histogram2d\": [{\"colorbar\": {\"outlinewidth\": 0, \"ticks\": \"\"}, \"colorscale\": [[0.0, \"#0d0887\"], [0.1111111111111111, \"#46039f\"], [0.2222222222222222, \"#7201a8\"], [0.3333333333333333, \"#9c179e\"], [0.4444444444444444, \"#bd3786\"], [0.5555555555555556, \"#d8576b\"], [0.6666666666666666, \"#ed7953\"], [0.7777777777777778, \"#fb9f3a\"], [0.8888888888888888, \"#fdca26\"], [1.0, \"#f0f921\"]], \"type\": \"histogram2d\"}], \"histogram2dcontour\": [{\"colorbar\": {\"outlinewidth\": 0, \"ticks\": \"\"}, \"colorscale\": [[0.0, \"#0d0887\"], [0.1111111111111111, \"#46039f\"], [0.2222222222222222, \"#7201a8\"], [0.3333333333333333, \"#9c179e\"], [0.4444444444444444, \"#bd3786\"], [0.5555555555555556, \"#d8576b\"], [0.6666666666666666, \"#ed7953\"], [0.7777777777777778, \"#fb9f3a\"], [0.8888888888888888, \"#fdca26\"], [1.0, \"#f0f921\"]], \"type\": \"histogram2dcontour\"}], \"mesh3d\": [{\"colorbar\": {\"outlinewidth\": 0, \"ticks\": \"\"}, \"type\": \"mesh3d\"}], \"parcoords\": [{\"line\": {\"colorbar\": {\"outlinewidth\": 0, \"ticks\": \"\"}}, \"type\": \"parcoords\"}], \"pie\": [{\"automargin\": true, \"type\": \"pie\"}], \"scatter\": [{\"marker\": {\"colorbar\": {\"outlinewidth\": 0, \"ticks\": \"\"}}, \"type\": \"scatter\"}], \"scatter3d\": [{\"line\": {\"colorbar\": {\"outlinewidth\": 0, \"ticks\": \"\"}}, \"marker\": {\"colorbar\": {\"outlinewidth\": 0, \"ticks\": \"\"}}, \"type\": \"scatter3d\"}], \"scattercarpet\": [{\"marker\": {\"colorbar\": {\"outlinewidth\": 0, \"ticks\": \"\"}}, \"type\": \"scattercarpet\"}], \"scattergeo\": [{\"marker\": {\"colorbar\": {\"outlinewidth\": 0, \"ticks\": \"\"}}, \"type\": \"scattergeo\"}], \"scattergl\": [{\"marker\": {\"colorbar\": {\"outlinewidth\": 0, \"ticks\": \"\"}}, \"type\": \"scattergl\"}], \"scattermapbox\": [{\"marker\": {\"colorbar\": {\"outlinewidth\": 0, \"ticks\": \"\"}}, \"type\": \"scattermapbox\"}], \"scatterpolar\": [{\"marker\": {\"colorbar\": {\"outlinewidth\": 0, \"ticks\": \"\"}}, \"type\": \"scatterpolar\"}], \"scatterpolargl\": [{\"marker\": {\"colorbar\": {\"outlinewidth\": 0, \"ticks\": \"\"}}, \"type\": \"scatterpolargl\"}], \"scatterternary\": [{\"marker\": {\"colorbar\": {\"outlinewidth\": 0, \"ticks\": \"\"}}, \"type\": \"scatterternary\"}], \"surface\": [{\"colorbar\": {\"outlinewidth\": 0, \"ticks\": \"\"}, \"colorscale\": [[0.0, \"#0d0887\"], [0.1111111111111111, \"#46039f\"], [0.2222222222222222, \"#7201a8\"], [0.3333333333333333, \"#9c179e\"], [0.4444444444444444, \"#bd3786\"], [0.5555555555555556, \"#d8576b\"], [0.6666666666666666, \"#ed7953\"], [0.7777777777777778, \"#fb9f3a\"], [0.8888888888888888, \"#fdca26\"], [1.0, \"#f0f921\"]], \"type\": \"surface\"}], \"table\": [{\"cells\": {\"fill\": {\"color\": \"#EBF0F8\"}, \"line\": {\"color\": \"white\"}}, \"header\": {\"fill\": {\"color\": \"#C8D4E3\"}, \"line\": {\"color\": \"white\"}}, \"type\": \"table\"}]}, \"layout\": {\"annotationdefaults\": {\"arrowcolor\": \"#2a3f5f\", \"arrowhead\": 0, \"arrowwidth\": 1}, \"autotypenumbers\": \"strict\", \"coloraxis\": {\"colorbar\": {\"outlinewidth\": 0, \"ticks\": \"\"}}, \"colorscale\": {\"diverging\": [[0, \"#8e0152\"], [0.1, \"#c51b7d\"], [0.2, \"#de77ae\"], [0.3, \"#f1b6da\"], [0.4, \"#fde0ef\"], [0.5, \"#f7f7f7\"], [0.6, \"#e6f5d0\"], [0.7, \"#b8e186\"], [0.8, \"#7fbc41\"], [0.9, \"#4d9221\"], [1, \"#276419\"]], \"sequential\": [[0.0, \"#0d0887\"], [0.1111111111111111, \"#46039f\"], [0.2222222222222222, \"#7201a8\"], [0.3333333333333333, \"#9c179e\"], [0.4444444444444444, \"#bd3786\"], [0.5555555555555556, \"#d8576b\"], [0.6666666666666666, \"#ed7953\"], [0.7777777777777778, \"#fb9f3a\"], [0.8888888888888888, \"#fdca26\"], [1.0, \"#f0f921\"]], \"sequentialminus\": [[0.0, \"#0d0887\"], [0.1111111111111111, \"#46039f\"], [0.2222222222222222, \"#7201a8\"], [0.3333333333333333, \"#9c179e\"], [0.4444444444444444, \"#bd3786\"], [0.5555555555555556, \"#d8576b\"], [0.6666666666666666, \"#ed7953\"], [0.7777777777777778, \"#fb9f3a\"], [0.8888888888888888, \"#fdca26\"], [1.0, \"#f0f921\"]]}, \"colorway\": [\"#636efa\", \"#EF553B\", \"#00cc96\", \"#ab63fa\", \"#FFA15A\", \"#19d3f3\", \"#FF6692\", \"#B6E880\", \"#FF97FF\", \"#FECB52\"], \"font\": {\"color\": \"#2a3f5f\"}, \"geo\": {\"bgcolor\": \"white\", \"lakecolor\": \"white\", \"landcolor\": \"#E5ECF6\", \"showlakes\": true, \"showland\": true, \"subunitcolor\": \"white\"}, \"hoverlabel\": {\"align\": \"left\"}, \"hovermode\": \"closest\", \"mapbox\": {\"style\": \"light\"}, \"paper_bgcolor\": \"white\", \"plot_bgcolor\": \"#E5ECF6\", \"polar\": {\"angularaxis\": {\"gridcolor\": \"white\", \"linecolor\": \"white\", \"ticks\": \"\"}, \"bgcolor\": \"#E5ECF6\", \"radialaxis\": {\"gridcolor\": \"white\", \"linecolor\": \"white\", \"ticks\": \"\"}}, \"scene\": {\"xaxis\": {\"backgroundcolor\": \"#E5ECF6\", \"gridcolor\": \"white\", \"gridwidth\": 2, \"linecolor\": \"white\", \"showbackground\": true, \"ticks\": \"\", \"zerolinecolor\": \"white\"}, \"yaxis\": {\"backgroundcolor\": \"#E5ECF6\", \"gridcolor\": \"white\", \"gridwidth\": 2, \"linecolor\": \"white\", \"showbackground\": true, \"ticks\": \"\", \"zerolinecolor\": \"white\"}, \"zaxis\": {\"backgroundcolor\": \"#E5ECF6\", \"gridcolor\": \"white\", \"gridwidth\": 2, \"linecolor\": \"white\", \"showbackground\": true, \"ticks\": \"\", \"zerolinecolor\": \"white\"}}, \"shapedefaults\": {\"line\": {\"color\": \"#2a3f5f\"}}, \"ternary\": {\"aaxis\": {\"gridcolor\": \"white\", \"linecolor\": \"white\", \"ticks\": \"\"}, \"baxis\": {\"gridcolor\": \"white\", \"linecolor\": \"white\", \"ticks\": \"\"}, \"bgcolor\": \"#E5ECF6\", \"caxis\": {\"gridcolor\": \"white\", \"linecolor\": \"white\", \"ticks\": \"\"}}, \"title\": {\"x\": 0.05}, \"xaxis\": {\"automargin\": true, \"gridcolor\": \"white\", \"linecolor\": \"white\", \"ticks\": \"\", \"title\": {\"standoff\": 15}, \"zerolinecolor\": \"white\", \"zerolinewidth\": 2}, \"yaxis\": {\"automargin\": true, \"gridcolor\": \"white\", \"linecolor\": \"white\", \"ticks\": \"\", \"title\": {\"standoff\": 15}, \"zerolinecolor\": \"white\", \"zerolinewidth\": 2}}}, \"title\": {\"text\": \"Top countries with most number of Death cases\"}},                        {\"responsive\": true}                    ).then(function(){\n",
       "                            \n",
       "var gd = document.getElementById('558d0ef4-c1e0-4b9a-a141-e513e89cef2b');\n",
       "var x = new MutationObserver(function (mutations, observer) {{\n",
       "        var display = window.getComputedStyle(gd).display;\n",
       "        if (!display || display === 'none') {{\n",
       "            console.log([gd, 'removed!']);\n",
       "            Plotly.purge(gd);\n",
       "            observer.disconnect();\n",
       "        }}\n",
       "}});\n",
       "\n",
       "// Listen for the removal of the full notebook cells\n",
       "var notebookContainer = gd.closest('#notebook-container');\n",
       "if (notebookContainer) {{\n",
       "    x.observe(notebookContainer, {childList: true});\n",
       "}}\n",
       "\n",
       "// Listen for the clearing of the current output cell\n",
       "var outputEl = gd.closest('.output');\n",
       "if (outputEl) {{\n",
       "    x.observe(outputEl, {childList: true});\n",
       "}}\n",
       "\n",
       "                        })                };                });            </script>        </div>"
      ]
     },
     "metadata": {},
     "output_type": "display_data"
    },
    {
     "data": {
      "application/vnd.plotly.v1+json": {
       "config": {
        "plotlyServerURL": "https://plot.ly"
       },
       "data": [
        {
         "branchvalues": "total",
         "domain": {
          "x": [
           0,
           1
          ],
          "y": [
           0,
           1
          ]
         },
         "hovertemplate": "labels=%{label}<br>Recovered=%{value}<br>parent=%{parent}<br>id=%{id}<extra></extra>",
         "ids": [
          "Micronesia/1.0",
          "Samoa/2.0",
          "Vanuatu/3.0",
          "Marshall Islands/4.0",
          "MS Zaandam/7.0",
          "Holy See/15.0",
          "Solomon Islands/20.0",
          "Saint Kitts and Nevis/44.0",
          "Fiji/106.0",
          "Grenada/158.0",
          "Dominica/175.0",
          "Tanzania/183.0",
          "Brunei/218.0",
          "Laos/297.0",
          "Diamond Princess/699.0",
          "Burundi/773.0",
          "Taiwan*/1093.0",
          "Bhutan/1101.0",
          "Mauritius/1128.0",
          "Antigua and Barbuda/1179.0",
          "Saint Vincent and the Grenadines/1741.0",
          "Timor-Leste/1769.0",
          "Liberia/1962.0",
          "Sao Tome and Principe/2269.0",
          "Monaco/2423.0",
          "New Zealand/2591.0",
          "Vietnam/2618.0",
          "Liechtenstein/2887.0",
          "Yemen/3003.0",
          "Sierra Leone/3093.0",
          "Guinea-Bissau/3400.0",
          "Eritrea/3627.0",
          "Comoros/3688.0",
          "Barbados/3870.0",
          "Nicaragua/4225.0",
          "Saint Lucia/4473.0",
          "Chad/4661.0",
          "Niger/4929.0",
          "San Marino/4968.0",
          "Central African Republic/5112.0",
          "Gambia/5648.0",
          "Seychelles/5658.0",
          "Somalia/6325.0",
          "Iceland/6409.0",
          "Lesotho/6427.0",
          "Equatorial Guinea/7279.0",
          "Benin/7652.0",
          "Congo (Brazzaville)/8208.0",
          "Cambodia/8539.0",
          "Mali/9073.0",
          "Trinidad and Tobago/9500.0",
          "Bahamas/9854.0",
          "Suriname/9907.0",
          "South Sudan/10462.0",
          "Papua New Guinea/10833.0",
          "Djibouti/11182.0",
          "Togo/11694.0",
          "Haiti/12304.0",
          "Belize/12307.0",
          "Guyana/12443.0",
          "Andorra/13070.0",
          "Burkina Faso/13180.0",
          "Tajikistan/13218.0",
          "United Kingdom/15147.0",
          "Eswatini/17784.0",
          "Mauritania/17918.0",
          "Norway/17998.0",
          "Syria/19316.0",
          "Gabon/20051.0",
          "Guinea/20341.0",
          "Jamaica/22517.0",
          "Ireland/23364.0",
          "Australia/23466.0",
          "Cabo Verde/23692.0",
          "Rwanda/24333.0",
          "Angola/25145.0",
          "Netherlands/26344.0",
          "Congo (Kinshasa)/26434.0",
          "Maldives/26795.0",
          "Thailand/26873.0",
          "Sudan/27949.0",
          "Malta/29843.0",
          "Malawi/32170.0",
          "Cameroon/35261.0",
          "Mongolia/35733.0",
          "Zimbabwe/36221.0",
          "Madagascar/36633.0",
          "Cyprus/39061.0",
          "Senegal/39428.0",
          "Uganda/41971.0",
          "Cote d'Ivoire/45910.0",
          "Finland/46000.0",
          "Botswana/46290.0",
          "Namibia/47518.0",
          "Afghanistan/54534.0",
          "Singapore/60975.0",
          "Luxembourg/65513.0",
          "El Salvador/65921.0",
          "Mozambique/67884.0",
          "Honduras/81973.0",
          "Algeria/86703.0",
          "Zambia/90539.0",
          "Ghana/90697.0",
          "Uzbekistan/90976.0",
          "Kyrgyzstan/92409.0",
          "Greece/93764.0",
          "Montenegro/95220.0",
          "China/97413.0",
          "Kosovo/98007.0",
          "Sri Lanka/106641.0",
          "Cuba/111325.0",
          "Kenya/113057.0",
          "Latvia/113430.0",
          "Estonia/117108.0",
          "Albania/119061.0",
          "Korea, South/119373.0",
          "Burma/132050.0",
          "North Macedonia/138779.0",
          "Spain/150376.0",
          "Nigeria/156358.0",
          "Bosnia and Herzegovina/166887.0",
          "Libya/167043.0",
          "Bahrain/177212.0",
          "Egypt/178241.0",
          "Oman/186391.0",
          "Venezuela/193089.0",
          "Uruguay/197085.0",
          "Qatar/203546.0",
          "Armenia/206078.0",
          "Ethiopia/212567.0",
          "Guatemala/215803.0",
          "Costa Rica/216191.0",
          "Dominican Republic/232325.0",
          "Slovenia/233788.0",
          "Lithuania/235265.0",
          "Moldova/243877.0",
          "Denmark/247596.0",
          "Paraguay/250502.0",
          "Slovakia/255300.0",
          "Bolivia/262970.0",
          "Kuwait/272123.0",
          "Tunisia/281554.0",
          "West Bank and Gaza/287932.0",
          "Georgia/304935.0",
          "Azerbaijan/308317.0",
          "Nepal/312019.0",
          "Switzerland/317600.0",
          "Croatia/330329.0",
          "Ecuador/342878.0",
          "Bulgaria/353619.0",
          "Kazakhstan/357030.0",
          "Panama/357714.0",
          "Belarus/360916.0",
          "France/373975.0",
          "Malaysia/408236.0",
          "Saudi Arabia/412102.0",
          "Lebanon/489319.0",
          "Morocco/501404.0",
          "United Arab Emirates/519405.0",
          "Japan/563972.0",
          "Hungary/592440.0",
          "Austria/607712.0",
          "Jordan/707302.0",
          "Bangladesh/715321.0",
          "Pakistan/771692.0",
          "Portugal/801306.0",
          "Israel/831742.0",
          "Romania/1017047.0",
          "Iraq/1018167.0",
          "Philippines/1038175.0",
          "Chile/1193927.0",
          "Canada/1209322.0",
          "South Africa/1519258.0",
          "Indonesia/1580207.0",
          "Czechia/1586400.0",
          "Peru/1807842.0",
          "Ukraine/1848643.0",
          "Mexico/1891052.0",
          "Iran/2144197.0",
          "Poland/2580245.0",
          "Colombia/2848153.0",
          "Argentina/2854364.0",
          "Germany/3231060.0",
          "Italy/3636089.0",
          "Russia/4458408.0",
          "Turkey/4766124.0",
          "Brazil/13592463.0",
          "India/19382642.0",
          "Afghanistan",
          "Albania",
          "Algeria",
          "Andorra",
          "Angola",
          "Antigua and Barbuda",
          "Argentina",
          "Armenia",
          "Australia",
          "Austria",
          "Azerbaijan",
          "Bahamas",
          "Bahrain",
          "Bangladesh",
          "Barbados",
          "Belarus",
          "Belgium",
          "Belize",
          "Benin",
          "Bhutan",
          "Bolivia",
          "Bosnia and Herzegovina",
          "Botswana",
          "Brazil",
          "Brunei",
          "Bulgaria",
          "Burkina Faso",
          "Burma",
          "Burundi",
          "Cabo Verde",
          "Cambodia",
          "Cameroon",
          "Canada",
          "Central African Republic",
          "Chad",
          "Chile",
          "China",
          "Colombia",
          "Comoros",
          "Congo (Brazzaville)",
          "Congo (Kinshasa)",
          "Costa Rica",
          "Cote d'Ivoire",
          "Croatia",
          "Cuba",
          "Cyprus",
          "Czechia",
          "Denmark",
          "Diamond Princess",
          "Djibouti",
          "Dominica",
          "Dominican Republic",
          "Ecuador",
          "Egypt",
          "El Salvador",
          "Equatorial Guinea",
          "Eritrea",
          "Estonia",
          "Eswatini",
          "Ethiopia",
          "Fiji",
          "Finland",
          "France",
          "Gabon",
          "Gambia",
          "Georgia",
          "Germany",
          "Ghana",
          "Greece",
          "Grenada",
          "Guatemala",
          "Guinea",
          "Guinea-Bissau",
          "Guyana",
          "Haiti",
          "Holy See",
          "Honduras",
          "Hungary",
          "Iceland",
          "India",
          "Indonesia",
          "Iran",
          "Iraq",
          "Ireland",
          "Israel",
          "Italy",
          "Jamaica",
          "Japan",
          "Jordan",
          "Kazakhstan",
          "Kenya",
          "Korea, South",
          "Kosovo",
          "Kuwait",
          "Kyrgyzstan",
          "Laos",
          "Latvia",
          "Lebanon",
          "Lesotho",
          "Liberia",
          "Libya",
          "Liechtenstein",
          "Lithuania",
          "Luxembourg",
          "MS Zaandam",
          "Madagascar",
          "Malawi",
          "Malaysia",
          "Maldives",
          "Mali",
          "Malta",
          "Marshall Islands",
          "Mauritania",
          "Mauritius",
          "Mexico",
          "Micronesia",
          "Moldova",
          "Monaco",
          "Mongolia",
          "Montenegro",
          "Morocco",
          "Mozambique",
          "Namibia",
          "Nepal",
          "Netherlands",
          "New Zealand",
          "Nicaragua",
          "Niger",
          "Nigeria",
          "North Macedonia",
          "Norway",
          "Oman",
          "Pakistan",
          "Panama",
          "Papua New Guinea",
          "Paraguay",
          "Peru",
          "Philippines",
          "Poland",
          "Portugal",
          "Qatar",
          "Romania",
          "Russia",
          "Rwanda",
          "Saint Kitts and Nevis",
          "Saint Lucia",
          "Saint Vincent and the Grenadines",
          "Samoa",
          "San Marino",
          "Sao Tome and Principe",
          "Saudi Arabia",
          "Senegal",
          "Serbia",
          "Seychelles",
          "Sierra Leone",
          "Singapore",
          "Slovakia",
          "Slovenia",
          "Solomon Islands",
          "Somalia",
          "South Africa",
          "South Sudan",
          "Spain",
          "Sri Lanka",
          "Sudan",
          "Suriname",
          "Sweden",
          "Switzerland",
          "Syria",
          "Taiwan*",
          "Tajikistan",
          "Tanzania",
          "Thailand",
          "Timor-Leste",
          "Togo",
          "Trinidad and Tobago",
          "Tunisia",
          "Turkey",
          "US",
          "Uganda",
          "Ukraine",
          "United Arab Emirates",
          "United Kingdom",
          "Uruguay",
          "Uzbekistan",
          "Vanuatu",
          "Venezuela",
          "Vietnam",
          "West Bank and Gaza",
          "Yemen",
          "Zambia",
          "Zimbabwe"
         ],
         "labels": [
          "1.0",
          "2.0",
          "3.0",
          "4.0",
          "7.0",
          "15.0",
          "20.0",
          "44.0",
          "106.0",
          "158.0",
          "175.0",
          "183.0",
          "218.0",
          "297.0",
          "699.0",
          "773.0",
          "1093.0",
          "1101.0",
          "1128.0",
          "1179.0",
          "1741.0",
          "1769.0",
          "1962.0",
          "2269.0",
          "2423.0",
          "2591.0",
          "2618.0",
          "2887.0",
          "3003.0",
          "3093.0",
          "3400.0",
          "3627.0",
          "3688.0",
          "3870.0",
          "4225.0",
          "4473.0",
          "4661.0",
          "4929.0",
          "4968.0",
          "5112.0",
          "5648.0",
          "5658.0",
          "6325.0",
          "6409.0",
          "6427.0",
          "7279.0",
          "7652.0",
          "8208.0",
          "8539.0",
          "9073.0",
          "9500.0",
          "9854.0",
          "9907.0",
          "10462.0",
          "10833.0",
          "11182.0",
          "11694.0",
          "12304.0",
          "12307.0",
          "12443.0",
          "13070.0",
          "13180.0",
          "13218.0",
          "15147.0",
          "17784.0",
          "17918.0",
          "17998.0",
          "19316.0",
          "20051.0",
          "20341.0",
          "22517.0",
          "23364.0",
          "23466.0",
          "23692.0",
          "24333.0",
          "25145.0",
          "26344.0",
          "26434.0",
          "26795.0",
          "26873.0",
          "27949.0",
          "29843.0",
          "32170.0",
          "35261.0",
          "35733.0",
          "36221.0",
          "36633.0",
          "39061.0",
          "39428.0",
          "41971.0",
          "45910.0",
          "46000.0",
          "46290.0",
          "47518.0",
          "54534.0",
          "60975.0",
          "65513.0",
          "65921.0",
          "67884.0",
          "81973.0",
          "86703.0",
          "90539.0",
          "90697.0",
          "90976.0",
          "92409.0",
          "93764.0",
          "95220.0",
          "97413.0",
          "98007.0",
          "106641.0",
          "111325.0",
          "113057.0",
          "113430.0",
          "117108.0",
          "119061.0",
          "119373.0",
          "132050.0",
          "138779.0",
          "150376.0",
          "156358.0",
          "166887.0",
          "167043.0",
          "177212.0",
          "178241.0",
          "186391.0",
          "193089.0",
          "197085.0",
          "203546.0",
          "206078.0",
          "212567.0",
          "215803.0",
          "216191.0",
          "232325.0",
          "233788.0",
          "235265.0",
          "243877.0",
          "247596.0",
          "250502.0",
          "255300.0",
          "262970.0",
          "272123.0",
          "281554.0",
          "287932.0",
          "304935.0",
          "308317.0",
          "312019.0",
          "317600.0",
          "330329.0",
          "342878.0",
          "353619.0",
          "357030.0",
          "357714.0",
          "360916.0",
          "373975.0",
          "408236.0",
          "412102.0",
          "489319.0",
          "501404.0",
          "519405.0",
          "563972.0",
          "592440.0",
          "607712.0",
          "707302.0",
          "715321.0",
          "771692.0",
          "801306.0",
          "831742.0",
          "1017047.0",
          "1018167.0",
          "1038175.0",
          "1193927.0",
          "1209322.0",
          "1519258.0",
          "1580207.0",
          "1586400.0",
          "1807842.0",
          "1848643.0",
          "1891052.0",
          "2144197.0",
          "2580245.0",
          "2848153.0",
          "2854364.0",
          "3231060.0",
          "3636089.0",
          "4458408.0",
          "4766124.0",
          "13592463.0",
          "19382642.0",
          "Afghanistan",
          "Albania",
          "Algeria",
          "Andorra",
          "Angola",
          "Antigua and Barbuda",
          "Argentina",
          "Armenia",
          "Australia",
          "Austria",
          "Azerbaijan",
          "Bahamas",
          "Bahrain",
          "Bangladesh",
          "Barbados",
          "Belarus",
          "Belgium",
          "Belize",
          "Benin",
          "Bhutan",
          "Bolivia",
          "Bosnia and Herzegovina",
          "Botswana",
          "Brazil",
          "Brunei",
          "Bulgaria",
          "Burkina Faso",
          "Burma",
          "Burundi",
          "Cabo Verde",
          "Cambodia",
          "Cameroon",
          "Canada",
          "Central African Republic",
          "Chad",
          "Chile",
          "China",
          "Colombia",
          "Comoros",
          "Congo (Brazzaville)",
          "Congo (Kinshasa)",
          "Costa Rica",
          "Cote d'Ivoire",
          "Croatia",
          "Cuba",
          "Cyprus",
          "Czechia",
          "Denmark",
          "Diamond Princess",
          "Djibouti",
          "Dominica",
          "Dominican Republic",
          "Ecuador",
          "Egypt",
          "El Salvador",
          "Equatorial Guinea",
          "Eritrea",
          "Estonia",
          "Eswatini",
          "Ethiopia",
          "Fiji",
          "Finland",
          "France",
          "Gabon",
          "Gambia",
          "Georgia",
          "Germany",
          "Ghana",
          "Greece",
          "Grenada",
          "Guatemala",
          "Guinea",
          "Guinea-Bissau",
          "Guyana",
          "Haiti",
          "Holy See",
          "Honduras",
          "Hungary",
          "Iceland",
          "India",
          "Indonesia",
          "Iran",
          "Iraq",
          "Ireland",
          "Israel",
          "Italy",
          "Jamaica",
          "Japan",
          "Jordan",
          "Kazakhstan",
          "Kenya",
          "Korea, South",
          "Kosovo",
          "Kuwait",
          "Kyrgyzstan",
          "Laos",
          "Latvia",
          "Lebanon",
          "Lesotho",
          "Liberia",
          "Libya",
          "Liechtenstein",
          "Lithuania",
          "Luxembourg",
          "MS Zaandam",
          "Madagascar",
          "Malawi",
          "Malaysia",
          "Maldives",
          "Mali",
          "Malta",
          "Marshall Islands",
          "Mauritania",
          "Mauritius",
          "Mexico",
          "Micronesia",
          "Moldova",
          "Monaco",
          "Mongolia",
          "Montenegro",
          "Morocco",
          "Mozambique",
          "Namibia",
          "Nepal",
          "Netherlands",
          "New Zealand",
          "Nicaragua",
          "Niger",
          "Nigeria",
          "North Macedonia",
          "Norway",
          "Oman",
          "Pakistan",
          "Panama",
          "Papua New Guinea",
          "Paraguay",
          "Peru",
          "Philippines",
          "Poland",
          "Portugal",
          "Qatar",
          "Romania",
          "Russia",
          "Rwanda",
          "Saint Kitts and Nevis",
          "Saint Lucia",
          "Saint Vincent and the Grenadines",
          "Samoa",
          "San Marino",
          "Sao Tome and Principe",
          "Saudi Arabia",
          "Senegal",
          "Serbia",
          "Seychelles",
          "Sierra Leone",
          "Singapore",
          "Slovakia",
          "Slovenia",
          "Solomon Islands",
          "Somalia",
          "South Africa",
          "South Sudan",
          "Spain",
          "Sri Lanka",
          "Sudan",
          "Suriname",
          "Sweden",
          "Switzerland",
          "Syria",
          "Taiwan*",
          "Tajikistan",
          "Tanzania",
          "Thailand",
          "Timor-Leste",
          "Togo",
          "Trinidad and Tobago",
          "Tunisia",
          "Turkey",
          "US",
          "Uganda",
          "Ukraine",
          "United Arab Emirates",
          "United Kingdom",
          "Uruguay",
          "Uzbekistan",
          "Vanuatu",
          "Venezuela",
          "Vietnam",
          "West Bank and Gaza",
          "Yemen",
          "Zambia",
          "Zimbabwe"
         ],
         "name": "",
         "parents": [
          "Micronesia",
          "Samoa",
          "Vanuatu",
          "Marshall Islands",
          "MS Zaandam",
          "Holy See",
          "Solomon Islands",
          "Saint Kitts and Nevis",
          "Fiji",
          "Grenada",
          "Dominica",
          "Tanzania",
          "Brunei",
          "Laos",
          "Diamond Princess",
          "Burundi",
          "Taiwan*",
          "Bhutan",
          "Mauritius",
          "Antigua and Barbuda",
          "Saint Vincent and the Grenadines",
          "Timor-Leste",
          "Liberia",
          "Sao Tome and Principe",
          "Monaco",
          "New Zealand",
          "Vietnam",
          "Liechtenstein",
          "Yemen",
          "Sierra Leone",
          "Guinea-Bissau",
          "Eritrea",
          "Comoros",
          "Barbados",
          "Nicaragua",
          "Saint Lucia",
          "Chad",
          "Niger",
          "San Marino",
          "Central African Republic",
          "Gambia",
          "Seychelles",
          "Somalia",
          "Iceland",
          "Lesotho",
          "Equatorial Guinea",
          "Benin",
          "Congo (Brazzaville)",
          "Cambodia",
          "Mali",
          "Trinidad and Tobago",
          "Bahamas",
          "Suriname",
          "South Sudan",
          "Papua New Guinea",
          "Djibouti",
          "Togo",
          "Haiti",
          "Belize",
          "Guyana",
          "Andorra",
          "Burkina Faso",
          "Tajikistan",
          "United Kingdom",
          "Eswatini",
          "Mauritania",
          "Norway",
          "Syria",
          "Gabon",
          "Guinea",
          "Jamaica",
          "Ireland",
          "Australia",
          "Cabo Verde",
          "Rwanda",
          "Angola",
          "Netherlands",
          "Congo (Kinshasa)",
          "Maldives",
          "Thailand",
          "Sudan",
          "Malta",
          "Malawi",
          "Cameroon",
          "Mongolia",
          "Zimbabwe",
          "Madagascar",
          "Cyprus",
          "Senegal",
          "Uganda",
          "Cote d'Ivoire",
          "Finland",
          "Botswana",
          "Namibia",
          "Afghanistan",
          "Singapore",
          "Luxembourg",
          "El Salvador",
          "Mozambique",
          "Honduras",
          "Algeria",
          "Zambia",
          "Ghana",
          "Uzbekistan",
          "Kyrgyzstan",
          "Greece",
          "Montenegro",
          "China",
          "Kosovo",
          "Sri Lanka",
          "Cuba",
          "Kenya",
          "Latvia",
          "Estonia",
          "Albania",
          "Korea, South",
          "Burma",
          "North Macedonia",
          "Spain",
          "Nigeria",
          "Bosnia and Herzegovina",
          "Libya",
          "Bahrain",
          "Egypt",
          "Oman",
          "Venezuela",
          "Uruguay",
          "Qatar",
          "Armenia",
          "Ethiopia",
          "Guatemala",
          "Costa Rica",
          "Dominican Republic",
          "Slovenia",
          "Lithuania",
          "Moldova",
          "Denmark",
          "Paraguay",
          "Slovakia",
          "Bolivia",
          "Kuwait",
          "Tunisia",
          "West Bank and Gaza",
          "Georgia",
          "Azerbaijan",
          "Nepal",
          "Switzerland",
          "Croatia",
          "Ecuador",
          "Bulgaria",
          "Kazakhstan",
          "Panama",
          "Belarus",
          "France",
          "Malaysia",
          "Saudi Arabia",
          "Lebanon",
          "Morocco",
          "United Arab Emirates",
          "Japan",
          "Hungary",
          "Austria",
          "Jordan",
          "Bangladesh",
          "Pakistan",
          "Portugal",
          "Israel",
          "Romania",
          "Iraq",
          "Philippines",
          "Chile",
          "Canada",
          "South Africa",
          "Indonesia",
          "Czechia",
          "Peru",
          "Ukraine",
          "Mexico",
          "Iran",
          "Poland",
          "Colombia",
          "Argentina",
          "Germany",
          "Italy",
          "Russia",
          "Turkey",
          "Brazil",
          "India",
          "",
          "",
          "",
          "",
          "",
          "",
          "",
          "",
          "",
          "",
          "",
          "",
          "",
          "",
          "",
          "",
          "",
          "",
          "",
          "",
          "",
          "",
          "",
          "",
          "",
          "",
          "",
          "",
          "",
          "",
          "",
          "",
          "",
          "",
          "",
          "",
          "",
          "",
          "",
          "",
          "",
          "",
          "",
          "",
          "",
          "",
          "",
          "",
          "",
          "",
          "",
          "",
          "",
          "",
          "",
          "",
          "",
          "",
          "",
          "",
          "",
          "",
          "",
          "",
          "",
          "",
          "",
          "",
          "",
          "",
          "",
          "",
          "",
          "",
          "",
          "",
          "",
          "",
          "",
          "",
          "",
          "",
          "",
          "",
          "",
          "",
          "",
          "",
          "",
          "",
          "",
          "",
          "",
          "",
          "",
          "",
          "",
          "",
          "",
          "",
          "",
          "",
          "",
          "",
          "",
          "",
          "",
          "",
          "",
          "",
          "",
          "",
          "",
          "",
          "",
          "",
          "",
          "",
          "",
          "",
          "",
          "",
          "",
          "",
          "",
          "",
          "",
          "",
          "",
          "",
          "",
          "",
          "",
          "",
          "",
          "",
          "",
          "",
          "",
          "",
          "",
          "",
          "",
          "",
          "",
          "",
          "",
          "",
          "",
          "",
          "",
          "",
          "",
          "",
          "",
          "",
          "",
          "",
          "",
          "",
          "",
          "",
          "",
          "",
          "",
          "",
          "",
          "",
          "",
          "",
          "",
          "",
          "",
          "",
          "",
          "",
          "",
          "",
          "",
          "",
          "",
          "",
          "",
          "",
          "",
          "",
          "",
          "",
          "",
          "",
          "",
          ""
         ],
         "type": "treemap",
         "values": [
          1,
          2,
          3,
          4,
          7,
          15,
          20,
          44,
          106,
          158,
          175,
          183,
          218,
          297,
          699,
          773,
          1093,
          1101,
          1128,
          1179,
          1741,
          1769,
          1962,
          2269,
          2423,
          2591,
          2618,
          2887,
          3003,
          3093,
          3400,
          3627,
          3688,
          3870,
          4225,
          4473,
          4661,
          4929,
          4968,
          5112,
          5648,
          5658,
          6325,
          6409,
          6427,
          7279,
          7652,
          8208,
          8539,
          9073,
          9500,
          9854,
          9907,
          10462,
          10833,
          11182,
          11694,
          12304,
          12307,
          12443,
          13070,
          13180,
          13218,
          15147,
          17784,
          17918,
          17998,
          19316,
          20051,
          20341,
          22517,
          23364,
          23466,
          23692,
          24333,
          25145,
          26344,
          26434,
          26795,
          26873,
          27949,
          29843,
          32170,
          35261,
          35733,
          36221,
          36633,
          39061,
          39428,
          41971,
          45910,
          46000,
          46290,
          47518,
          54534,
          60975,
          65513,
          65921,
          67884,
          81973,
          86703,
          90539,
          90697,
          90976,
          92409,
          93764,
          95220,
          97413,
          98007,
          106641,
          111325,
          113057,
          113430,
          117108,
          119061,
          119373,
          132050,
          138779,
          150376,
          156358,
          166887,
          167043,
          177212,
          178241,
          186391,
          193089,
          197085,
          203546,
          206078,
          212567,
          215803,
          216191,
          232325,
          233788,
          235265,
          243877,
          247596,
          250502,
          255300,
          262970,
          272123,
          281554,
          287932,
          304935,
          308317,
          312019,
          317600,
          330329,
          342878,
          353619,
          357030,
          357714,
          360916,
          373975,
          408236,
          412102,
          489319,
          501404,
          519405,
          563972,
          592440,
          607712,
          707302,
          715321,
          771692,
          801306,
          831742,
          1017047,
          1018167,
          1038175,
          1193927,
          1209322,
          1519258,
          1580207,
          1586400,
          1807842,
          1848643,
          1891052,
          2144197,
          2580245,
          2848153,
          2854364,
          3231060,
          3636089,
          4458408,
          4766124,
          13592463,
          19382642,
          54534,
          119061,
          86703,
          13070,
          25145,
          1179,
          2854364,
          206078,
          23466,
          607712,
          308317,
          9854,
          177212,
          715321,
          3870,
          360916,
          0,
          12307,
          7652,
          1101,
          262970,
          166887,
          46290,
          13592463,
          218,
          353619,
          13180,
          132050,
          773,
          23692,
          8539,
          35261,
          1209322,
          5112,
          4661,
          1193927,
          97413,
          2848153,
          3688,
          8208,
          26434,
          216191,
          45910,
          330329,
          111325,
          39061,
          1586400,
          247596,
          699,
          11182,
          175,
          232325,
          342878,
          178241,
          65921,
          7279,
          3627,
          117108,
          17784,
          212567,
          106,
          46000,
          373975,
          20051,
          5648,
          304935,
          3231060,
          90697,
          93764,
          158,
          215803,
          20341,
          3400,
          12443,
          12304,
          15,
          81973,
          592440,
          6409,
          19382642,
          1580207,
          2144197,
          1018167,
          23364,
          831742,
          3636089,
          22517,
          563972,
          707302,
          357030,
          113057,
          119373,
          98007,
          272123,
          92409,
          297,
          113430,
          489319,
          6427,
          1962,
          167043,
          2887,
          235265,
          65513,
          7,
          36633,
          32170,
          408236,
          26795,
          9073,
          29843,
          4,
          17918,
          1128,
          1891052,
          1,
          243877,
          2423,
          35733,
          95220,
          501404,
          67884,
          47518,
          312019,
          26344,
          2591,
          4225,
          4929,
          156358,
          138779,
          17998,
          186391,
          771692,
          357714,
          10833,
          250502,
          1807842,
          1038175,
          2580245,
          801306,
          203546,
          1017047,
          4458408,
          24333,
          44,
          4473,
          1741,
          2,
          4968,
          2269,
          412102,
          39428,
          0,
          5658,
          3093,
          60975,
          255300,
          233788,
          20,
          6325,
          1519258,
          10462,
          150376,
          106641,
          27949,
          9907,
          0,
          317600,
          19316,
          1093,
          13218,
          183,
          26873,
          1769,
          11694,
          9500,
          281554,
          4766124,
          0,
          41971,
          1848643,
          519405,
          15147,
          197085,
          90976,
          3,
          193089,
          2618,
          287932,
          3003,
          90539,
          36221
         ]
        }
       ],
       "layout": {
        "legend": {
         "tracegroupgap": 0
        },
        "template": {
         "data": {
          "bar": [
           {
            "error_x": {
             "color": "#2a3f5f"
            },
            "error_y": {
             "color": "#2a3f5f"
            },
            "marker": {
             "line": {
              "color": "#E5ECF6",
              "width": 0.5
             }
            },
            "type": "bar"
           }
          ],
          "barpolar": [
           {
            "marker": {
             "line": {
              "color": "#E5ECF6",
              "width": 0.5
             }
            },
            "type": "barpolar"
           }
          ],
          "carpet": [
           {
            "aaxis": {
             "endlinecolor": "#2a3f5f",
             "gridcolor": "white",
             "linecolor": "white",
             "minorgridcolor": "white",
             "startlinecolor": "#2a3f5f"
            },
            "baxis": {
             "endlinecolor": "#2a3f5f",
             "gridcolor": "white",
             "linecolor": "white",
             "minorgridcolor": "white",
             "startlinecolor": "#2a3f5f"
            },
            "type": "carpet"
           }
          ],
          "choropleth": [
           {
            "colorbar": {
             "outlinewidth": 0,
             "ticks": ""
            },
            "type": "choropleth"
           }
          ],
          "contour": [
           {
            "colorbar": {
             "outlinewidth": 0,
             "ticks": ""
            },
            "colorscale": [
             [
              0,
              "#0d0887"
             ],
             [
              0.1111111111111111,
              "#46039f"
             ],
             [
              0.2222222222222222,
              "#7201a8"
             ],
             [
              0.3333333333333333,
              "#9c179e"
             ],
             [
              0.4444444444444444,
              "#bd3786"
             ],
             [
              0.5555555555555556,
              "#d8576b"
             ],
             [
              0.6666666666666666,
              "#ed7953"
             ],
             [
              0.7777777777777778,
              "#fb9f3a"
             ],
             [
              0.8888888888888888,
              "#fdca26"
             ],
             [
              1,
              "#f0f921"
             ]
            ],
            "type": "contour"
           }
          ],
          "contourcarpet": [
           {
            "colorbar": {
             "outlinewidth": 0,
             "ticks": ""
            },
            "type": "contourcarpet"
           }
          ],
          "heatmap": [
           {
            "colorbar": {
             "outlinewidth": 0,
             "ticks": ""
            },
            "colorscale": [
             [
              0,
              "#0d0887"
             ],
             [
              0.1111111111111111,
              "#46039f"
             ],
             [
              0.2222222222222222,
              "#7201a8"
             ],
             [
              0.3333333333333333,
              "#9c179e"
             ],
             [
              0.4444444444444444,
              "#bd3786"
             ],
             [
              0.5555555555555556,
              "#d8576b"
             ],
             [
              0.6666666666666666,
              "#ed7953"
             ],
             [
              0.7777777777777778,
              "#fb9f3a"
             ],
             [
              0.8888888888888888,
              "#fdca26"
             ],
             [
              1,
              "#f0f921"
             ]
            ],
            "type": "heatmap"
           }
          ],
          "heatmapgl": [
           {
            "colorbar": {
             "outlinewidth": 0,
             "ticks": ""
            },
            "colorscale": [
             [
              0,
              "#0d0887"
             ],
             [
              0.1111111111111111,
              "#46039f"
             ],
             [
              0.2222222222222222,
              "#7201a8"
             ],
             [
              0.3333333333333333,
              "#9c179e"
             ],
             [
              0.4444444444444444,
              "#bd3786"
             ],
             [
              0.5555555555555556,
              "#d8576b"
             ],
             [
              0.6666666666666666,
              "#ed7953"
             ],
             [
              0.7777777777777778,
              "#fb9f3a"
             ],
             [
              0.8888888888888888,
              "#fdca26"
             ],
             [
              1,
              "#f0f921"
             ]
            ],
            "type": "heatmapgl"
           }
          ],
          "histogram": [
           {
            "marker": {
             "colorbar": {
              "outlinewidth": 0,
              "ticks": ""
             }
            },
            "type": "histogram"
           }
          ],
          "histogram2d": [
           {
            "colorbar": {
             "outlinewidth": 0,
             "ticks": ""
            },
            "colorscale": [
             [
              0,
              "#0d0887"
             ],
             [
              0.1111111111111111,
              "#46039f"
             ],
             [
              0.2222222222222222,
              "#7201a8"
             ],
             [
              0.3333333333333333,
              "#9c179e"
             ],
             [
              0.4444444444444444,
              "#bd3786"
             ],
             [
              0.5555555555555556,
              "#d8576b"
             ],
             [
              0.6666666666666666,
              "#ed7953"
             ],
             [
              0.7777777777777778,
              "#fb9f3a"
             ],
             [
              0.8888888888888888,
              "#fdca26"
             ],
             [
              1,
              "#f0f921"
             ]
            ],
            "type": "histogram2d"
           }
          ],
          "histogram2dcontour": [
           {
            "colorbar": {
             "outlinewidth": 0,
             "ticks": ""
            },
            "colorscale": [
             [
              0,
              "#0d0887"
             ],
             [
              0.1111111111111111,
              "#46039f"
             ],
             [
              0.2222222222222222,
              "#7201a8"
             ],
             [
              0.3333333333333333,
              "#9c179e"
             ],
             [
              0.4444444444444444,
              "#bd3786"
             ],
             [
              0.5555555555555556,
              "#d8576b"
             ],
             [
              0.6666666666666666,
              "#ed7953"
             ],
             [
              0.7777777777777778,
              "#fb9f3a"
             ],
             [
              0.8888888888888888,
              "#fdca26"
             ],
             [
              1,
              "#f0f921"
             ]
            ],
            "type": "histogram2dcontour"
           }
          ],
          "mesh3d": [
           {
            "colorbar": {
             "outlinewidth": 0,
             "ticks": ""
            },
            "type": "mesh3d"
           }
          ],
          "parcoords": [
           {
            "line": {
             "colorbar": {
              "outlinewidth": 0,
              "ticks": ""
             }
            },
            "type": "parcoords"
           }
          ],
          "pie": [
           {
            "automargin": true,
            "type": "pie"
           }
          ],
          "scatter": [
           {
            "marker": {
             "colorbar": {
              "outlinewidth": 0,
              "ticks": ""
             }
            },
            "type": "scatter"
           }
          ],
          "scatter3d": [
           {
            "line": {
             "colorbar": {
              "outlinewidth": 0,
              "ticks": ""
             }
            },
            "marker": {
             "colorbar": {
              "outlinewidth": 0,
              "ticks": ""
             }
            },
            "type": "scatter3d"
           }
          ],
          "scattercarpet": [
           {
            "marker": {
             "colorbar": {
              "outlinewidth": 0,
              "ticks": ""
             }
            },
            "type": "scattercarpet"
           }
          ],
          "scattergeo": [
           {
            "marker": {
             "colorbar": {
              "outlinewidth": 0,
              "ticks": ""
             }
            },
            "type": "scattergeo"
           }
          ],
          "scattergl": [
           {
            "marker": {
             "colorbar": {
              "outlinewidth": 0,
              "ticks": ""
             }
            },
            "type": "scattergl"
           }
          ],
          "scattermapbox": [
           {
            "marker": {
             "colorbar": {
              "outlinewidth": 0,
              "ticks": ""
             }
            },
            "type": "scattermapbox"
           }
          ],
          "scatterpolar": [
           {
            "marker": {
             "colorbar": {
              "outlinewidth": 0,
              "ticks": ""
             }
            },
            "type": "scatterpolar"
           }
          ],
          "scatterpolargl": [
           {
            "marker": {
             "colorbar": {
              "outlinewidth": 0,
              "ticks": ""
             }
            },
            "type": "scatterpolargl"
           }
          ],
          "scatterternary": [
           {
            "marker": {
             "colorbar": {
              "outlinewidth": 0,
              "ticks": ""
             }
            },
            "type": "scatterternary"
           }
          ],
          "surface": [
           {
            "colorbar": {
             "outlinewidth": 0,
             "ticks": ""
            },
            "colorscale": [
             [
              0,
              "#0d0887"
             ],
             [
              0.1111111111111111,
              "#46039f"
             ],
             [
              0.2222222222222222,
              "#7201a8"
             ],
             [
              0.3333333333333333,
              "#9c179e"
             ],
             [
              0.4444444444444444,
              "#bd3786"
             ],
             [
              0.5555555555555556,
              "#d8576b"
             ],
             [
              0.6666666666666666,
              "#ed7953"
             ],
             [
              0.7777777777777778,
              "#fb9f3a"
             ],
             [
              0.8888888888888888,
              "#fdca26"
             ],
             [
              1,
              "#f0f921"
             ]
            ],
            "type": "surface"
           }
          ],
          "table": [
           {
            "cells": {
             "fill": {
              "color": "#EBF0F8"
             },
             "line": {
              "color": "white"
             }
            },
            "header": {
             "fill": {
              "color": "#C8D4E3"
             },
             "line": {
              "color": "white"
             }
            },
            "type": "table"
           }
          ]
         },
         "layout": {
          "annotationdefaults": {
           "arrowcolor": "#2a3f5f",
           "arrowhead": 0,
           "arrowwidth": 1
          },
          "autotypenumbers": "strict",
          "coloraxis": {
           "colorbar": {
            "outlinewidth": 0,
            "ticks": ""
           }
          },
          "colorscale": {
           "diverging": [
            [
             0,
             "#8e0152"
            ],
            [
             0.1,
             "#c51b7d"
            ],
            [
             0.2,
             "#de77ae"
            ],
            [
             0.3,
             "#f1b6da"
            ],
            [
             0.4,
             "#fde0ef"
            ],
            [
             0.5,
             "#f7f7f7"
            ],
            [
             0.6,
             "#e6f5d0"
            ],
            [
             0.7,
             "#b8e186"
            ],
            [
             0.8,
             "#7fbc41"
            ],
            [
             0.9,
             "#4d9221"
            ],
            [
             1,
             "#276419"
            ]
           ],
           "sequential": [
            [
             0,
             "#0d0887"
            ],
            [
             0.1111111111111111,
             "#46039f"
            ],
            [
             0.2222222222222222,
             "#7201a8"
            ],
            [
             0.3333333333333333,
             "#9c179e"
            ],
            [
             0.4444444444444444,
             "#bd3786"
            ],
            [
             0.5555555555555556,
             "#d8576b"
            ],
            [
             0.6666666666666666,
             "#ed7953"
            ],
            [
             0.7777777777777778,
             "#fb9f3a"
            ],
            [
             0.8888888888888888,
             "#fdca26"
            ],
            [
             1,
             "#f0f921"
            ]
           ],
           "sequentialminus": [
            [
             0,
             "#0d0887"
            ],
            [
             0.1111111111111111,
             "#46039f"
            ],
            [
             0.2222222222222222,
             "#7201a8"
            ],
            [
             0.3333333333333333,
             "#9c179e"
            ],
            [
             0.4444444444444444,
             "#bd3786"
            ],
            [
             0.5555555555555556,
             "#d8576b"
            ],
            [
             0.6666666666666666,
             "#ed7953"
            ],
            [
             0.7777777777777778,
             "#fb9f3a"
            ],
            [
             0.8888888888888888,
             "#fdca26"
            ],
            [
             1,
             "#f0f921"
            ]
           ]
          },
          "colorway": [
           "#636efa",
           "#EF553B",
           "#00cc96",
           "#ab63fa",
           "#FFA15A",
           "#19d3f3",
           "#FF6692",
           "#B6E880",
           "#FF97FF",
           "#FECB52"
          ],
          "font": {
           "color": "#2a3f5f"
          },
          "geo": {
           "bgcolor": "white",
           "lakecolor": "white",
           "landcolor": "#E5ECF6",
           "showlakes": true,
           "showland": true,
           "subunitcolor": "white"
          },
          "hoverlabel": {
           "align": "left"
          },
          "hovermode": "closest",
          "mapbox": {
           "style": "light"
          },
          "paper_bgcolor": "white",
          "plot_bgcolor": "#E5ECF6",
          "polar": {
           "angularaxis": {
            "gridcolor": "white",
            "linecolor": "white",
            "ticks": ""
           },
           "bgcolor": "#E5ECF6",
           "radialaxis": {
            "gridcolor": "white",
            "linecolor": "white",
            "ticks": ""
           }
          },
          "scene": {
           "xaxis": {
            "backgroundcolor": "#E5ECF6",
            "gridcolor": "white",
            "gridwidth": 2,
            "linecolor": "white",
            "showbackground": true,
            "ticks": "",
            "zerolinecolor": "white"
           },
           "yaxis": {
            "backgroundcolor": "#E5ECF6",
            "gridcolor": "white",
            "gridwidth": 2,
            "linecolor": "white",
            "showbackground": true,
            "ticks": "",
            "zerolinecolor": "white"
           },
           "zaxis": {
            "backgroundcolor": "#E5ECF6",
            "gridcolor": "white",
            "gridwidth": 2,
            "linecolor": "white",
            "showbackground": true,
            "ticks": "",
            "zerolinecolor": "white"
           }
          },
          "shapedefaults": {
           "line": {
            "color": "#2a3f5f"
           }
          },
          "ternary": {
           "aaxis": {
            "gridcolor": "white",
            "linecolor": "white",
            "ticks": ""
           },
           "baxis": {
            "gridcolor": "white",
            "linecolor": "white",
            "ticks": ""
           },
           "bgcolor": "#E5ECF6",
           "caxis": {
            "gridcolor": "white",
            "linecolor": "white",
            "ticks": ""
           }
          },
          "title": {
           "x": 0.05
          },
          "xaxis": {
           "automargin": true,
           "gridcolor": "white",
           "linecolor": "white",
           "ticks": "",
           "title": {
            "standoff": 15
           },
           "zerolinecolor": "white",
           "zerolinewidth": 2
          },
          "yaxis": {
           "automargin": true,
           "gridcolor": "white",
           "linecolor": "white",
           "ticks": "",
           "title": {
            "standoff": 15
           },
           "zerolinecolor": "white",
           "zerolinewidth": 2
          }
         }
        },
        "title": {
         "text": "Top countries with most number of Recovered cases"
        }
       }
      },
      "text/html": [
       "<div>                            <div id=\"41717d6d-582e-4895-9969-0c60ceb057b1\" class=\"plotly-graph-div\" style=\"height:525px; width:100%;\"></div>            <script type=\"text/javascript\">                require([\"plotly\"], function(Plotly) {                    window.PLOTLYENV=window.PLOTLYENV || {};                                    if (document.getElementById(\"41717d6d-582e-4895-9969-0c60ceb057b1\")) {                    Plotly.newPlot(                        \"41717d6d-582e-4895-9969-0c60ceb057b1\",                        [{\"branchvalues\": \"total\", \"domain\": {\"x\": [0.0, 1.0], \"y\": [0.0, 1.0]}, \"hovertemplate\": \"labels=%{label}<br>Recovered=%{value}<br>parent=%{parent}<br>id=%{id}<extra></extra>\", \"ids\": [\"Micronesia/1.0\", \"Samoa/2.0\", \"Vanuatu/3.0\", \"Marshall Islands/4.0\", \"MS Zaandam/7.0\", \"Holy See/15.0\", \"Solomon Islands/20.0\", \"Saint Kitts and Nevis/44.0\", \"Fiji/106.0\", \"Grenada/158.0\", \"Dominica/175.0\", \"Tanzania/183.0\", \"Brunei/218.0\", \"Laos/297.0\", \"Diamond Princess/699.0\", \"Burundi/773.0\", \"Taiwan*/1093.0\", \"Bhutan/1101.0\", \"Mauritius/1128.0\", \"Antigua and Barbuda/1179.0\", \"Saint Vincent and the Grenadines/1741.0\", \"Timor-Leste/1769.0\", \"Liberia/1962.0\", \"Sao Tome and Principe/2269.0\", \"Monaco/2423.0\", \"New Zealand/2591.0\", \"Vietnam/2618.0\", \"Liechtenstein/2887.0\", \"Yemen/3003.0\", \"Sierra Leone/3093.0\", \"Guinea-Bissau/3400.0\", \"Eritrea/3627.0\", \"Comoros/3688.0\", \"Barbados/3870.0\", \"Nicaragua/4225.0\", \"Saint Lucia/4473.0\", \"Chad/4661.0\", \"Niger/4929.0\", \"San Marino/4968.0\", \"Central African Republic/5112.0\", \"Gambia/5648.0\", \"Seychelles/5658.0\", \"Somalia/6325.0\", \"Iceland/6409.0\", \"Lesotho/6427.0\", \"Equatorial Guinea/7279.0\", \"Benin/7652.0\", \"Congo (Brazzaville)/8208.0\", \"Cambodia/8539.0\", \"Mali/9073.0\", \"Trinidad and Tobago/9500.0\", \"Bahamas/9854.0\", \"Suriname/9907.0\", \"South Sudan/10462.0\", \"Papua New Guinea/10833.0\", \"Djibouti/11182.0\", \"Togo/11694.0\", \"Haiti/12304.0\", \"Belize/12307.0\", \"Guyana/12443.0\", \"Andorra/13070.0\", \"Burkina Faso/13180.0\", \"Tajikistan/13218.0\", \"United Kingdom/15147.0\", \"Eswatini/17784.0\", \"Mauritania/17918.0\", \"Norway/17998.0\", \"Syria/19316.0\", \"Gabon/20051.0\", \"Guinea/20341.0\", \"Jamaica/22517.0\", \"Ireland/23364.0\", \"Australia/23466.0\", \"Cabo Verde/23692.0\", \"Rwanda/24333.0\", \"Angola/25145.0\", \"Netherlands/26344.0\", \"Congo (Kinshasa)/26434.0\", \"Maldives/26795.0\", \"Thailand/26873.0\", \"Sudan/27949.0\", \"Malta/29843.0\", \"Malawi/32170.0\", \"Cameroon/35261.0\", \"Mongolia/35733.0\", \"Zimbabwe/36221.0\", \"Madagascar/36633.0\", \"Cyprus/39061.0\", \"Senegal/39428.0\", \"Uganda/41971.0\", \"Cote d'Ivoire/45910.0\", \"Finland/46000.0\", \"Botswana/46290.0\", \"Namibia/47518.0\", \"Afghanistan/54534.0\", \"Singapore/60975.0\", \"Luxembourg/65513.0\", \"El Salvador/65921.0\", \"Mozambique/67884.0\", \"Honduras/81973.0\", \"Algeria/86703.0\", \"Zambia/90539.0\", \"Ghana/90697.0\", \"Uzbekistan/90976.0\", \"Kyrgyzstan/92409.0\", \"Greece/93764.0\", \"Montenegro/95220.0\", \"China/97413.0\", \"Kosovo/98007.0\", \"Sri Lanka/106641.0\", \"Cuba/111325.0\", \"Kenya/113057.0\", \"Latvia/113430.0\", \"Estonia/117108.0\", \"Albania/119061.0\", \"Korea, South/119373.0\", \"Burma/132050.0\", \"North Macedonia/138779.0\", \"Spain/150376.0\", \"Nigeria/156358.0\", \"Bosnia and Herzegovina/166887.0\", \"Libya/167043.0\", \"Bahrain/177212.0\", \"Egypt/178241.0\", \"Oman/186391.0\", \"Venezuela/193089.0\", \"Uruguay/197085.0\", \"Qatar/203546.0\", \"Armenia/206078.0\", \"Ethiopia/212567.0\", \"Guatemala/215803.0\", \"Costa Rica/216191.0\", \"Dominican Republic/232325.0\", \"Slovenia/233788.0\", \"Lithuania/235265.0\", \"Moldova/243877.0\", \"Denmark/247596.0\", \"Paraguay/250502.0\", \"Slovakia/255300.0\", \"Bolivia/262970.0\", \"Kuwait/272123.0\", \"Tunisia/281554.0\", \"West Bank and Gaza/287932.0\", \"Georgia/304935.0\", \"Azerbaijan/308317.0\", \"Nepal/312019.0\", \"Switzerland/317600.0\", \"Croatia/330329.0\", \"Ecuador/342878.0\", \"Bulgaria/353619.0\", \"Kazakhstan/357030.0\", \"Panama/357714.0\", \"Belarus/360916.0\", \"France/373975.0\", \"Malaysia/408236.0\", \"Saudi Arabia/412102.0\", \"Lebanon/489319.0\", \"Morocco/501404.0\", \"United Arab Emirates/519405.0\", \"Japan/563972.0\", \"Hungary/592440.0\", \"Austria/607712.0\", \"Jordan/707302.0\", \"Bangladesh/715321.0\", \"Pakistan/771692.0\", \"Portugal/801306.0\", \"Israel/831742.0\", \"Romania/1017047.0\", \"Iraq/1018167.0\", \"Philippines/1038175.0\", \"Chile/1193927.0\", \"Canada/1209322.0\", \"South Africa/1519258.0\", \"Indonesia/1580207.0\", \"Czechia/1586400.0\", \"Peru/1807842.0\", \"Ukraine/1848643.0\", \"Mexico/1891052.0\", \"Iran/2144197.0\", \"Poland/2580245.0\", \"Colombia/2848153.0\", \"Argentina/2854364.0\", \"Germany/3231060.0\", \"Italy/3636089.0\", \"Russia/4458408.0\", \"Turkey/4766124.0\", \"Brazil/13592463.0\", \"India/19382642.0\", \"Afghanistan\", \"Albania\", \"Algeria\", \"Andorra\", \"Angola\", \"Antigua and Barbuda\", \"Argentina\", \"Armenia\", \"Australia\", \"Austria\", \"Azerbaijan\", \"Bahamas\", \"Bahrain\", \"Bangladesh\", \"Barbados\", \"Belarus\", \"Belgium\", \"Belize\", \"Benin\", \"Bhutan\", \"Bolivia\", \"Bosnia and Herzegovina\", \"Botswana\", \"Brazil\", \"Brunei\", \"Bulgaria\", \"Burkina Faso\", \"Burma\", \"Burundi\", \"Cabo Verde\", \"Cambodia\", \"Cameroon\", \"Canada\", \"Central African Republic\", \"Chad\", \"Chile\", \"China\", \"Colombia\", \"Comoros\", \"Congo (Brazzaville)\", \"Congo (Kinshasa)\", \"Costa Rica\", \"Cote d'Ivoire\", \"Croatia\", \"Cuba\", \"Cyprus\", \"Czechia\", \"Denmark\", \"Diamond Princess\", \"Djibouti\", \"Dominica\", \"Dominican Republic\", \"Ecuador\", \"Egypt\", \"El Salvador\", \"Equatorial Guinea\", \"Eritrea\", \"Estonia\", \"Eswatini\", \"Ethiopia\", \"Fiji\", \"Finland\", \"France\", \"Gabon\", \"Gambia\", \"Georgia\", \"Germany\", \"Ghana\", \"Greece\", \"Grenada\", \"Guatemala\", \"Guinea\", \"Guinea-Bissau\", \"Guyana\", \"Haiti\", \"Holy See\", \"Honduras\", \"Hungary\", \"Iceland\", \"India\", \"Indonesia\", \"Iran\", \"Iraq\", \"Ireland\", \"Israel\", \"Italy\", \"Jamaica\", \"Japan\", \"Jordan\", \"Kazakhstan\", \"Kenya\", \"Korea, South\", \"Kosovo\", \"Kuwait\", \"Kyrgyzstan\", \"Laos\", \"Latvia\", \"Lebanon\", \"Lesotho\", \"Liberia\", \"Libya\", \"Liechtenstein\", \"Lithuania\", \"Luxembourg\", \"MS Zaandam\", \"Madagascar\", \"Malawi\", \"Malaysia\", \"Maldives\", \"Mali\", \"Malta\", \"Marshall Islands\", \"Mauritania\", \"Mauritius\", \"Mexico\", \"Micronesia\", \"Moldova\", \"Monaco\", \"Mongolia\", \"Montenegro\", \"Morocco\", \"Mozambique\", \"Namibia\", \"Nepal\", \"Netherlands\", \"New Zealand\", \"Nicaragua\", \"Niger\", \"Nigeria\", \"North Macedonia\", \"Norway\", \"Oman\", \"Pakistan\", \"Panama\", \"Papua New Guinea\", \"Paraguay\", \"Peru\", \"Philippines\", \"Poland\", \"Portugal\", \"Qatar\", \"Romania\", \"Russia\", \"Rwanda\", \"Saint Kitts and Nevis\", \"Saint Lucia\", \"Saint Vincent and the Grenadines\", \"Samoa\", \"San Marino\", \"Sao Tome and Principe\", \"Saudi Arabia\", \"Senegal\", \"Serbia\", \"Seychelles\", \"Sierra Leone\", \"Singapore\", \"Slovakia\", \"Slovenia\", \"Solomon Islands\", \"Somalia\", \"South Africa\", \"South Sudan\", \"Spain\", \"Sri Lanka\", \"Sudan\", \"Suriname\", \"Sweden\", \"Switzerland\", \"Syria\", \"Taiwan*\", \"Tajikistan\", \"Tanzania\", \"Thailand\", \"Timor-Leste\", \"Togo\", \"Trinidad and Tobago\", \"Tunisia\", \"Turkey\", \"US\", \"Uganda\", \"Ukraine\", \"United Arab Emirates\", \"United Kingdom\", \"Uruguay\", \"Uzbekistan\", \"Vanuatu\", \"Venezuela\", \"Vietnam\", \"West Bank and Gaza\", \"Yemen\", \"Zambia\", \"Zimbabwe\"], \"labels\": [\"1.0\", \"2.0\", \"3.0\", \"4.0\", \"7.0\", \"15.0\", \"20.0\", \"44.0\", \"106.0\", \"158.0\", \"175.0\", \"183.0\", \"218.0\", \"297.0\", \"699.0\", \"773.0\", \"1093.0\", \"1101.0\", \"1128.0\", \"1179.0\", \"1741.0\", \"1769.0\", \"1962.0\", \"2269.0\", \"2423.0\", \"2591.0\", \"2618.0\", \"2887.0\", \"3003.0\", \"3093.0\", \"3400.0\", \"3627.0\", \"3688.0\", \"3870.0\", \"4225.0\", \"4473.0\", \"4661.0\", \"4929.0\", \"4968.0\", \"5112.0\", \"5648.0\", \"5658.0\", \"6325.0\", \"6409.0\", \"6427.0\", \"7279.0\", \"7652.0\", \"8208.0\", \"8539.0\", \"9073.0\", \"9500.0\", \"9854.0\", \"9907.0\", \"10462.0\", \"10833.0\", \"11182.0\", \"11694.0\", \"12304.0\", \"12307.0\", \"12443.0\", \"13070.0\", \"13180.0\", \"13218.0\", \"15147.0\", \"17784.0\", \"17918.0\", \"17998.0\", \"19316.0\", \"20051.0\", \"20341.0\", \"22517.0\", \"23364.0\", \"23466.0\", \"23692.0\", \"24333.0\", \"25145.0\", \"26344.0\", \"26434.0\", \"26795.0\", \"26873.0\", \"27949.0\", \"29843.0\", \"32170.0\", \"35261.0\", \"35733.0\", \"36221.0\", \"36633.0\", \"39061.0\", \"39428.0\", \"41971.0\", \"45910.0\", \"46000.0\", \"46290.0\", \"47518.0\", \"54534.0\", \"60975.0\", \"65513.0\", \"65921.0\", \"67884.0\", \"81973.0\", \"86703.0\", \"90539.0\", \"90697.0\", \"90976.0\", \"92409.0\", \"93764.0\", \"95220.0\", \"97413.0\", \"98007.0\", \"106641.0\", \"111325.0\", \"113057.0\", \"113430.0\", \"117108.0\", \"119061.0\", \"119373.0\", \"132050.0\", \"138779.0\", \"150376.0\", \"156358.0\", \"166887.0\", \"167043.0\", \"177212.0\", \"178241.0\", \"186391.0\", \"193089.0\", \"197085.0\", \"203546.0\", \"206078.0\", \"212567.0\", \"215803.0\", \"216191.0\", \"232325.0\", \"233788.0\", \"235265.0\", \"243877.0\", \"247596.0\", \"250502.0\", \"255300.0\", \"262970.0\", \"272123.0\", \"281554.0\", \"287932.0\", \"304935.0\", \"308317.0\", \"312019.0\", \"317600.0\", \"330329.0\", \"342878.0\", \"353619.0\", \"357030.0\", \"357714.0\", \"360916.0\", \"373975.0\", \"408236.0\", \"412102.0\", \"489319.0\", \"501404.0\", \"519405.0\", \"563972.0\", \"592440.0\", \"607712.0\", \"707302.0\", \"715321.0\", \"771692.0\", \"801306.0\", \"831742.0\", \"1017047.0\", \"1018167.0\", \"1038175.0\", \"1193927.0\", \"1209322.0\", \"1519258.0\", \"1580207.0\", \"1586400.0\", \"1807842.0\", \"1848643.0\", \"1891052.0\", \"2144197.0\", \"2580245.0\", \"2848153.0\", \"2854364.0\", \"3231060.0\", \"3636089.0\", \"4458408.0\", \"4766124.0\", \"13592463.0\", \"19382642.0\", \"Afghanistan\", \"Albania\", \"Algeria\", \"Andorra\", \"Angola\", \"Antigua and Barbuda\", \"Argentina\", \"Armenia\", \"Australia\", \"Austria\", \"Azerbaijan\", \"Bahamas\", \"Bahrain\", \"Bangladesh\", \"Barbados\", \"Belarus\", \"Belgium\", \"Belize\", \"Benin\", \"Bhutan\", \"Bolivia\", \"Bosnia and Herzegovina\", \"Botswana\", \"Brazil\", \"Brunei\", \"Bulgaria\", \"Burkina Faso\", \"Burma\", \"Burundi\", \"Cabo Verde\", \"Cambodia\", \"Cameroon\", \"Canada\", \"Central African Republic\", \"Chad\", \"Chile\", \"China\", \"Colombia\", \"Comoros\", \"Congo (Brazzaville)\", \"Congo (Kinshasa)\", \"Costa Rica\", \"Cote d'Ivoire\", \"Croatia\", \"Cuba\", \"Cyprus\", \"Czechia\", \"Denmark\", \"Diamond Princess\", \"Djibouti\", \"Dominica\", \"Dominican Republic\", \"Ecuador\", \"Egypt\", \"El Salvador\", \"Equatorial Guinea\", \"Eritrea\", \"Estonia\", \"Eswatini\", \"Ethiopia\", \"Fiji\", \"Finland\", \"France\", \"Gabon\", \"Gambia\", \"Georgia\", \"Germany\", \"Ghana\", \"Greece\", \"Grenada\", \"Guatemala\", \"Guinea\", \"Guinea-Bissau\", \"Guyana\", \"Haiti\", \"Holy See\", \"Honduras\", \"Hungary\", \"Iceland\", \"India\", \"Indonesia\", \"Iran\", \"Iraq\", \"Ireland\", \"Israel\", \"Italy\", \"Jamaica\", \"Japan\", \"Jordan\", \"Kazakhstan\", \"Kenya\", \"Korea, South\", \"Kosovo\", \"Kuwait\", \"Kyrgyzstan\", \"Laos\", \"Latvia\", \"Lebanon\", \"Lesotho\", \"Liberia\", \"Libya\", \"Liechtenstein\", \"Lithuania\", \"Luxembourg\", \"MS Zaandam\", \"Madagascar\", \"Malawi\", \"Malaysia\", \"Maldives\", \"Mali\", \"Malta\", \"Marshall Islands\", \"Mauritania\", \"Mauritius\", \"Mexico\", \"Micronesia\", \"Moldova\", \"Monaco\", \"Mongolia\", \"Montenegro\", \"Morocco\", \"Mozambique\", \"Namibia\", \"Nepal\", \"Netherlands\", \"New Zealand\", \"Nicaragua\", \"Niger\", \"Nigeria\", \"North Macedonia\", \"Norway\", \"Oman\", \"Pakistan\", \"Panama\", \"Papua New Guinea\", \"Paraguay\", \"Peru\", \"Philippines\", \"Poland\", \"Portugal\", \"Qatar\", \"Romania\", \"Russia\", \"Rwanda\", \"Saint Kitts and Nevis\", \"Saint Lucia\", \"Saint Vincent and the Grenadines\", \"Samoa\", \"San Marino\", \"Sao Tome and Principe\", \"Saudi Arabia\", \"Senegal\", \"Serbia\", \"Seychelles\", \"Sierra Leone\", \"Singapore\", \"Slovakia\", \"Slovenia\", \"Solomon Islands\", \"Somalia\", \"South Africa\", \"South Sudan\", \"Spain\", \"Sri Lanka\", \"Sudan\", \"Suriname\", \"Sweden\", \"Switzerland\", \"Syria\", \"Taiwan*\", \"Tajikistan\", \"Tanzania\", \"Thailand\", \"Timor-Leste\", \"Togo\", \"Trinidad and Tobago\", \"Tunisia\", \"Turkey\", \"US\", \"Uganda\", \"Ukraine\", \"United Arab Emirates\", \"United Kingdom\", \"Uruguay\", \"Uzbekistan\", \"Vanuatu\", \"Venezuela\", \"Vietnam\", \"West Bank and Gaza\", \"Yemen\", \"Zambia\", \"Zimbabwe\"], \"name\": \"\", \"parents\": [\"Micronesia\", \"Samoa\", \"Vanuatu\", \"Marshall Islands\", \"MS Zaandam\", \"Holy See\", \"Solomon Islands\", \"Saint Kitts and Nevis\", \"Fiji\", \"Grenada\", \"Dominica\", \"Tanzania\", \"Brunei\", \"Laos\", \"Diamond Princess\", \"Burundi\", \"Taiwan*\", \"Bhutan\", \"Mauritius\", \"Antigua and Barbuda\", \"Saint Vincent and the Grenadines\", \"Timor-Leste\", \"Liberia\", \"Sao Tome and Principe\", \"Monaco\", \"New Zealand\", \"Vietnam\", \"Liechtenstein\", \"Yemen\", \"Sierra Leone\", \"Guinea-Bissau\", \"Eritrea\", \"Comoros\", \"Barbados\", \"Nicaragua\", \"Saint Lucia\", \"Chad\", \"Niger\", \"San Marino\", \"Central African Republic\", \"Gambia\", \"Seychelles\", \"Somalia\", \"Iceland\", \"Lesotho\", \"Equatorial Guinea\", \"Benin\", \"Congo (Brazzaville)\", \"Cambodia\", \"Mali\", \"Trinidad and Tobago\", \"Bahamas\", \"Suriname\", \"South Sudan\", \"Papua New Guinea\", \"Djibouti\", \"Togo\", \"Haiti\", \"Belize\", \"Guyana\", \"Andorra\", \"Burkina Faso\", \"Tajikistan\", \"United Kingdom\", \"Eswatini\", \"Mauritania\", \"Norway\", \"Syria\", \"Gabon\", \"Guinea\", \"Jamaica\", \"Ireland\", \"Australia\", \"Cabo Verde\", \"Rwanda\", \"Angola\", \"Netherlands\", \"Congo (Kinshasa)\", \"Maldives\", \"Thailand\", \"Sudan\", \"Malta\", \"Malawi\", \"Cameroon\", \"Mongolia\", \"Zimbabwe\", \"Madagascar\", \"Cyprus\", \"Senegal\", \"Uganda\", \"Cote d'Ivoire\", \"Finland\", \"Botswana\", \"Namibia\", \"Afghanistan\", \"Singapore\", \"Luxembourg\", \"El Salvador\", \"Mozambique\", \"Honduras\", \"Algeria\", \"Zambia\", \"Ghana\", \"Uzbekistan\", \"Kyrgyzstan\", \"Greece\", \"Montenegro\", \"China\", \"Kosovo\", \"Sri Lanka\", \"Cuba\", \"Kenya\", \"Latvia\", \"Estonia\", \"Albania\", \"Korea, South\", \"Burma\", \"North Macedonia\", \"Spain\", \"Nigeria\", \"Bosnia and Herzegovina\", \"Libya\", \"Bahrain\", \"Egypt\", \"Oman\", \"Venezuela\", \"Uruguay\", \"Qatar\", \"Armenia\", \"Ethiopia\", \"Guatemala\", \"Costa Rica\", \"Dominican Republic\", \"Slovenia\", \"Lithuania\", \"Moldova\", \"Denmark\", \"Paraguay\", \"Slovakia\", \"Bolivia\", \"Kuwait\", \"Tunisia\", \"West Bank and Gaza\", \"Georgia\", \"Azerbaijan\", \"Nepal\", \"Switzerland\", \"Croatia\", \"Ecuador\", \"Bulgaria\", \"Kazakhstan\", \"Panama\", \"Belarus\", \"France\", \"Malaysia\", \"Saudi Arabia\", \"Lebanon\", \"Morocco\", \"United Arab Emirates\", \"Japan\", \"Hungary\", \"Austria\", \"Jordan\", \"Bangladesh\", \"Pakistan\", \"Portugal\", \"Israel\", \"Romania\", \"Iraq\", \"Philippines\", \"Chile\", \"Canada\", \"South Africa\", \"Indonesia\", \"Czechia\", \"Peru\", \"Ukraine\", \"Mexico\", \"Iran\", \"Poland\", \"Colombia\", \"Argentina\", \"Germany\", \"Italy\", \"Russia\", \"Turkey\", \"Brazil\", \"India\", \"\", \"\", \"\", \"\", \"\", \"\", \"\", \"\", \"\", \"\", \"\", \"\", \"\", \"\", \"\", \"\", \"\", \"\", \"\", \"\", \"\", \"\", \"\", \"\", \"\", \"\", \"\", \"\", \"\", \"\", \"\", \"\", \"\", \"\", \"\", \"\", \"\", \"\", \"\", \"\", \"\", \"\", \"\", \"\", \"\", \"\", \"\", \"\", \"\", \"\", \"\", \"\", \"\", \"\", \"\", \"\", \"\", \"\", \"\", \"\", \"\", \"\", \"\", \"\", \"\", \"\", \"\", \"\", \"\", \"\", \"\", \"\", \"\", \"\", \"\", \"\", \"\", \"\", \"\", \"\", \"\", \"\", \"\", \"\", \"\", \"\", \"\", \"\", \"\", \"\", \"\", \"\", \"\", \"\", \"\", \"\", \"\", \"\", \"\", \"\", \"\", \"\", \"\", \"\", \"\", \"\", \"\", \"\", \"\", \"\", \"\", \"\", \"\", \"\", \"\", \"\", \"\", \"\", \"\", \"\", \"\", \"\", \"\", \"\", \"\", \"\", \"\", \"\", \"\", \"\", \"\", \"\", \"\", \"\", \"\", \"\", \"\", \"\", \"\", \"\", \"\", \"\", \"\", \"\", \"\", \"\", \"\", \"\", \"\", \"\", \"\", \"\", \"\", \"\", \"\", \"\", \"\", \"\", \"\", \"\", \"\", \"\", \"\", \"\", \"\", \"\", \"\", \"\", \"\", \"\", \"\", \"\", \"\", \"\", \"\", \"\", \"\", \"\", \"\", \"\", \"\", \"\", \"\", \"\", \"\", \"\", \"\", \"\", \"\", \"\", \"\", \"\"], \"type\": \"treemap\", \"values\": [1.0, 2.0, 3.0, 4.0, 7.0, 15.0, 20.0, 44.0, 106.0, 158.0, 175.0, 183.0, 218.0, 297.0, 699.0, 773.0, 1093.0, 1101.0, 1128.0, 1179.0, 1741.0, 1769.0, 1962.0, 2269.0, 2423.0, 2591.0, 2618.0, 2887.0, 3003.0, 3093.0, 3400.0, 3627.0, 3688.0, 3870.0, 4225.0, 4473.0, 4661.0, 4929.0, 4968.0, 5112.0, 5648.0, 5658.0, 6325.0, 6409.0, 6427.0, 7279.0, 7652.0, 8208.0, 8539.0, 9073.0, 9500.0, 9854.0, 9907.0, 10462.0, 10833.0, 11182.0, 11694.0, 12304.0, 12307.0, 12443.0, 13070.0, 13180.0, 13218.0, 15147.0, 17784.0, 17918.0, 17998.0, 19316.0, 20051.0, 20341.0, 22517.0, 23364.0, 23466.0, 23692.0, 24333.0, 25145.0, 26344.0, 26434.0, 26795.0, 26873.0, 27949.0, 29843.0, 32170.0, 35261.0, 35733.0, 36221.0, 36633.0, 39061.0, 39428.0, 41971.0, 45910.0, 46000.0, 46290.0, 47518.0, 54534.0, 60975.0, 65513.0, 65921.0, 67884.0, 81973.0, 86703.0, 90539.0, 90697.0, 90976.0, 92409.0, 93764.0, 95220.0, 97413.0, 98007.0, 106641.0, 111325.0, 113057.0, 113430.0, 117108.0, 119061.0, 119373.0, 132050.0, 138779.0, 150376.0, 156358.0, 166887.0, 167043.0, 177212.0, 178241.0, 186391.0, 193089.0, 197085.0, 203546.0, 206078.0, 212567.0, 215803.0, 216191.0, 232325.0, 233788.0, 235265.0, 243877.0, 247596.0, 250502.0, 255300.0, 262970.0, 272123.0, 281554.0, 287932.0, 304935.0, 308317.0, 312019.0, 317600.0, 330329.0, 342878.0, 353619.0, 357030.0, 357714.0, 360916.0, 373975.0, 408236.0, 412102.0, 489319.0, 501404.0, 519405.0, 563972.0, 592440.0, 607712.0, 707302.0, 715321.0, 771692.0, 801306.0, 831742.0, 1017047.0, 1018167.0, 1038175.0, 1193927.0, 1209322.0, 1519258.0, 1580207.0, 1586400.0, 1807842.0, 1848643.0, 1891052.0, 2144197.0, 2580245.0, 2848153.0, 2854364.0, 3231060.0, 3636089.0, 4458408.0, 4766124.0, 13592463.0, 19382642.0, 54534.0, 119061.0, 86703.0, 13070.0, 25145.0, 1179.0, 2854364.0, 206078.0, 23466.0, 607712.0, 308317.0, 9854.0, 177212.0, 715321.0, 3870.0, 360916.0, 0.0, 12307.0, 7652.0, 1101.0, 262970.0, 166887.0, 46290.0, 13592463.0, 218.0, 353619.0, 13180.0, 132050.0, 773.0, 23692.0, 8539.0, 35261.0, 1209322.0, 5112.0, 4661.0, 1193927.0, 97413.0, 2848153.0, 3688.0, 8208.0, 26434.0, 216191.0, 45910.0, 330329.0, 111325.0, 39061.0, 1586400.0, 247596.0, 699.0, 11182.0, 175.0, 232325.0, 342878.0, 178241.0, 65921.0, 7279.0, 3627.0, 117108.0, 17784.0, 212567.0, 106.0, 46000.0, 373975.0, 20051.0, 5648.0, 304935.0, 3231060.0, 90697.0, 93764.0, 158.0, 215803.0, 20341.0, 3400.0, 12443.0, 12304.0, 15.0, 81973.0, 592440.0, 6409.0, 19382642.0, 1580207.0, 2144197.0, 1018167.0, 23364.0, 831742.0, 3636089.0, 22517.0, 563972.0, 707302.0, 357030.0, 113057.0, 119373.0, 98007.0, 272123.0, 92409.0, 297.0, 113430.0, 489319.0, 6427.0, 1962.0, 167043.0, 2887.0, 235265.0, 65513.0, 7.0, 36633.0, 32170.0, 408236.0, 26795.0, 9073.0, 29843.0, 4.0, 17918.0, 1128.0, 1891052.0, 1.0, 243877.0, 2423.0, 35733.0, 95220.0, 501404.0, 67884.0, 47518.0, 312019.0, 26344.0, 2591.0, 4225.0, 4929.0, 156358.0, 138779.0, 17998.0, 186391.0, 771692.0, 357714.0, 10833.0, 250502.0, 1807842.0, 1038175.0, 2580245.0, 801306.0, 203546.0, 1017047.0, 4458408.0, 24333.0, 44.0, 4473.0, 1741.0, 2.0, 4968.0, 2269.0, 412102.0, 39428.0, 0.0, 5658.0, 3093.0, 60975.0, 255300.0, 233788.0, 20.0, 6325.0, 1519258.0, 10462.0, 150376.0, 106641.0, 27949.0, 9907.0, 0.0, 317600.0, 19316.0, 1093.0, 13218.0, 183.0, 26873.0, 1769.0, 11694.0, 9500.0, 281554.0, 4766124.0, 0.0, 41971.0, 1848643.0, 519405.0, 15147.0, 197085.0, 90976.0, 3.0, 193089.0, 2618.0, 287932.0, 3003.0, 90539.0, 36221.0]}],                        {\"legend\": {\"tracegroupgap\": 0}, \"template\": {\"data\": {\"bar\": [{\"error_x\": {\"color\": \"#2a3f5f\"}, \"error_y\": {\"color\": \"#2a3f5f\"}, \"marker\": {\"line\": {\"color\": \"#E5ECF6\", \"width\": 0.5}}, \"type\": \"bar\"}], \"barpolar\": [{\"marker\": {\"line\": {\"color\": \"#E5ECF6\", \"width\": 0.5}}, \"type\": \"barpolar\"}], \"carpet\": [{\"aaxis\": {\"endlinecolor\": \"#2a3f5f\", \"gridcolor\": \"white\", \"linecolor\": \"white\", \"minorgridcolor\": \"white\", \"startlinecolor\": \"#2a3f5f\"}, \"baxis\": {\"endlinecolor\": \"#2a3f5f\", \"gridcolor\": \"white\", \"linecolor\": \"white\", \"minorgridcolor\": \"white\", \"startlinecolor\": \"#2a3f5f\"}, \"type\": \"carpet\"}], \"choropleth\": [{\"colorbar\": {\"outlinewidth\": 0, \"ticks\": \"\"}, \"type\": \"choropleth\"}], \"contour\": [{\"colorbar\": {\"outlinewidth\": 0, \"ticks\": \"\"}, \"colorscale\": [[0.0, \"#0d0887\"], [0.1111111111111111, \"#46039f\"], [0.2222222222222222, \"#7201a8\"], [0.3333333333333333, \"#9c179e\"], [0.4444444444444444, \"#bd3786\"], [0.5555555555555556, \"#d8576b\"], [0.6666666666666666, \"#ed7953\"], [0.7777777777777778, \"#fb9f3a\"], [0.8888888888888888, \"#fdca26\"], [1.0, \"#f0f921\"]], \"type\": \"contour\"}], \"contourcarpet\": [{\"colorbar\": {\"outlinewidth\": 0, \"ticks\": \"\"}, \"type\": \"contourcarpet\"}], \"heatmap\": [{\"colorbar\": {\"outlinewidth\": 0, \"ticks\": \"\"}, \"colorscale\": [[0.0, \"#0d0887\"], [0.1111111111111111, \"#46039f\"], [0.2222222222222222, \"#7201a8\"], [0.3333333333333333, \"#9c179e\"], [0.4444444444444444, \"#bd3786\"], [0.5555555555555556, \"#d8576b\"], [0.6666666666666666, \"#ed7953\"], [0.7777777777777778, \"#fb9f3a\"], [0.8888888888888888, \"#fdca26\"], [1.0, \"#f0f921\"]], \"type\": \"heatmap\"}], \"heatmapgl\": [{\"colorbar\": {\"outlinewidth\": 0, \"ticks\": \"\"}, \"colorscale\": [[0.0, \"#0d0887\"], [0.1111111111111111, \"#46039f\"], [0.2222222222222222, \"#7201a8\"], [0.3333333333333333, \"#9c179e\"], [0.4444444444444444, \"#bd3786\"], [0.5555555555555556, \"#d8576b\"], [0.6666666666666666, \"#ed7953\"], [0.7777777777777778, \"#fb9f3a\"], [0.8888888888888888, \"#fdca26\"], [1.0, \"#f0f921\"]], \"type\": \"heatmapgl\"}], \"histogram\": [{\"marker\": {\"colorbar\": {\"outlinewidth\": 0, \"ticks\": \"\"}}, \"type\": \"histogram\"}], \"histogram2d\": [{\"colorbar\": {\"outlinewidth\": 0, \"ticks\": \"\"}, \"colorscale\": [[0.0, \"#0d0887\"], [0.1111111111111111, \"#46039f\"], [0.2222222222222222, \"#7201a8\"], [0.3333333333333333, \"#9c179e\"], [0.4444444444444444, \"#bd3786\"], [0.5555555555555556, \"#d8576b\"], [0.6666666666666666, \"#ed7953\"], [0.7777777777777778, \"#fb9f3a\"], [0.8888888888888888, \"#fdca26\"], [1.0, \"#f0f921\"]], \"type\": \"histogram2d\"}], \"histogram2dcontour\": [{\"colorbar\": {\"outlinewidth\": 0, \"ticks\": \"\"}, \"colorscale\": [[0.0, \"#0d0887\"], [0.1111111111111111, \"#46039f\"], [0.2222222222222222, \"#7201a8\"], [0.3333333333333333, \"#9c179e\"], [0.4444444444444444, \"#bd3786\"], [0.5555555555555556, \"#d8576b\"], [0.6666666666666666, \"#ed7953\"], [0.7777777777777778, \"#fb9f3a\"], [0.8888888888888888, \"#fdca26\"], [1.0, \"#f0f921\"]], \"type\": \"histogram2dcontour\"}], \"mesh3d\": [{\"colorbar\": {\"outlinewidth\": 0, \"ticks\": \"\"}, \"type\": \"mesh3d\"}], \"parcoords\": [{\"line\": {\"colorbar\": {\"outlinewidth\": 0, \"ticks\": \"\"}}, \"type\": \"parcoords\"}], \"pie\": [{\"automargin\": true, \"type\": \"pie\"}], \"scatter\": [{\"marker\": {\"colorbar\": {\"outlinewidth\": 0, \"ticks\": \"\"}}, \"type\": \"scatter\"}], \"scatter3d\": [{\"line\": {\"colorbar\": {\"outlinewidth\": 0, \"ticks\": \"\"}}, \"marker\": {\"colorbar\": {\"outlinewidth\": 0, \"ticks\": \"\"}}, \"type\": \"scatter3d\"}], \"scattercarpet\": [{\"marker\": {\"colorbar\": {\"outlinewidth\": 0, \"ticks\": \"\"}}, \"type\": \"scattercarpet\"}], \"scattergeo\": [{\"marker\": {\"colorbar\": {\"outlinewidth\": 0, \"ticks\": \"\"}}, \"type\": \"scattergeo\"}], \"scattergl\": [{\"marker\": {\"colorbar\": {\"outlinewidth\": 0, \"ticks\": \"\"}}, \"type\": \"scattergl\"}], \"scattermapbox\": [{\"marker\": {\"colorbar\": {\"outlinewidth\": 0, \"ticks\": \"\"}}, \"type\": \"scattermapbox\"}], \"scatterpolar\": [{\"marker\": {\"colorbar\": {\"outlinewidth\": 0, \"ticks\": \"\"}}, \"type\": \"scatterpolar\"}], \"scatterpolargl\": [{\"marker\": {\"colorbar\": {\"outlinewidth\": 0, \"ticks\": \"\"}}, \"type\": \"scatterpolargl\"}], \"scatterternary\": [{\"marker\": {\"colorbar\": {\"outlinewidth\": 0, \"ticks\": \"\"}}, \"type\": \"scatterternary\"}], \"surface\": [{\"colorbar\": {\"outlinewidth\": 0, \"ticks\": \"\"}, \"colorscale\": [[0.0, \"#0d0887\"], [0.1111111111111111, \"#46039f\"], [0.2222222222222222, \"#7201a8\"], [0.3333333333333333, \"#9c179e\"], [0.4444444444444444, \"#bd3786\"], [0.5555555555555556, \"#d8576b\"], [0.6666666666666666, \"#ed7953\"], [0.7777777777777778, \"#fb9f3a\"], [0.8888888888888888, \"#fdca26\"], [1.0, \"#f0f921\"]], \"type\": \"surface\"}], \"table\": [{\"cells\": {\"fill\": {\"color\": \"#EBF0F8\"}, \"line\": {\"color\": \"white\"}}, \"header\": {\"fill\": {\"color\": \"#C8D4E3\"}, \"line\": {\"color\": \"white\"}}, \"type\": \"table\"}]}, \"layout\": {\"annotationdefaults\": {\"arrowcolor\": \"#2a3f5f\", \"arrowhead\": 0, \"arrowwidth\": 1}, \"autotypenumbers\": \"strict\", \"coloraxis\": {\"colorbar\": {\"outlinewidth\": 0, \"ticks\": \"\"}}, \"colorscale\": {\"diverging\": [[0, \"#8e0152\"], [0.1, \"#c51b7d\"], [0.2, \"#de77ae\"], [0.3, \"#f1b6da\"], [0.4, \"#fde0ef\"], [0.5, \"#f7f7f7\"], [0.6, \"#e6f5d0\"], [0.7, \"#b8e186\"], [0.8, \"#7fbc41\"], [0.9, \"#4d9221\"], [1, \"#276419\"]], \"sequential\": [[0.0, \"#0d0887\"], [0.1111111111111111, \"#46039f\"], [0.2222222222222222, \"#7201a8\"], [0.3333333333333333, \"#9c179e\"], [0.4444444444444444, \"#bd3786\"], [0.5555555555555556, \"#d8576b\"], [0.6666666666666666, \"#ed7953\"], [0.7777777777777778, \"#fb9f3a\"], [0.8888888888888888, \"#fdca26\"], [1.0, \"#f0f921\"]], \"sequentialminus\": [[0.0, \"#0d0887\"], [0.1111111111111111, \"#46039f\"], [0.2222222222222222, \"#7201a8\"], [0.3333333333333333, \"#9c179e\"], [0.4444444444444444, \"#bd3786\"], [0.5555555555555556, \"#d8576b\"], [0.6666666666666666, \"#ed7953\"], [0.7777777777777778, \"#fb9f3a\"], [0.8888888888888888, \"#fdca26\"], [1.0, \"#f0f921\"]]}, \"colorway\": [\"#636efa\", \"#EF553B\", \"#00cc96\", \"#ab63fa\", \"#FFA15A\", \"#19d3f3\", \"#FF6692\", \"#B6E880\", \"#FF97FF\", \"#FECB52\"], \"font\": {\"color\": \"#2a3f5f\"}, \"geo\": {\"bgcolor\": \"white\", \"lakecolor\": \"white\", \"landcolor\": \"#E5ECF6\", \"showlakes\": true, \"showland\": true, \"subunitcolor\": \"white\"}, \"hoverlabel\": {\"align\": \"left\"}, \"hovermode\": \"closest\", \"mapbox\": {\"style\": \"light\"}, \"paper_bgcolor\": \"white\", \"plot_bgcolor\": \"#E5ECF6\", \"polar\": {\"angularaxis\": {\"gridcolor\": \"white\", \"linecolor\": \"white\", \"ticks\": \"\"}, \"bgcolor\": \"#E5ECF6\", \"radialaxis\": {\"gridcolor\": \"white\", \"linecolor\": \"white\", \"ticks\": \"\"}}, \"scene\": {\"xaxis\": {\"backgroundcolor\": \"#E5ECF6\", \"gridcolor\": \"white\", \"gridwidth\": 2, \"linecolor\": \"white\", \"showbackground\": true, \"ticks\": \"\", \"zerolinecolor\": \"white\"}, \"yaxis\": {\"backgroundcolor\": \"#E5ECF6\", \"gridcolor\": \"white\", \"gridwidth\": 2, \"linecolor\": \"white\", \"showbackground\": true, \"ticks\": \"\", \"zerolinecolor\": \"white\"}, \"zaxis\": {\"backgroundcolor\": \"#E5ECF6\", \"gridcolor\": \"white\", \"gridwidth\": 2, \"linecolor\": \"white\", \"showbackground\": true, \"ticks\": \"\", \"zerolinecolor\": \"white\"}}, \"shapedefaults\": {\"line\": {\"color\": \"#2a3f5f\"}}, \"ternary\": {\"aaxis\": {\"gridcolor\": \"white\", \"linecolor\": \"white\", \"ticks\": \"\"}, \"baxis\": {\"gridcolor\": \"white\", \"linecolor\": \"white\", \"ticks\": \"\"}, \"bgcolor\": \"#E5ECF6\", \"caxis\": {\"gridcolor\": \"white\", \"linecolor\": \"white\", \"ticks\": \"\"}}, \"title\": {\"x\": 0.05}, \"xaxis\": {\"automargin\": true, \"gridcolor\": \"white\", \"linecolor\": \"white\", \"ticks\": \"\", \"title\": {\"standoff\": 15}, \"zerolinecolor\": \"white\", \"zerolinewidth\": 2}, \"yaxis\": {\"automargin\": true, \"gridcolor\": \"white\", \"linecolor\": \"white\", \"ticks\": \"\", \"title\": {\"standoff\": 15}, \"zerolinecolor\": \"white\", \"zerolinewidth\": 2}}}, \"title\": {\"text\": \"Top countries with most number of Recovered cases\"}},                        {\"responsive\": true}                    ).then(function(){\n",
       "                            \n",
       "var gd = document.getElementById('41717d6d-582e-4895-9969-0c60ceb057b1');\n",
       "var x = new MutationObserver(function (mutations, observer) {{\n",
       "        var display = window.getComputedStyle(gd).display;\n",
       "        if (!display || display === 'none') {{\n",
       "            console.log([gd, 'removed!']);\n",
       "            Plotly.purge(gd);\n",
       "            observer.disconnect();\n",
       "        }}\n",
       "}});\n",
       "\n",
       "// Listen for the removal of the full notebook cells\n",
       "var notebookContainer = gd.closest('#notebook-container');\n",
       "if (notebookContainer) {{\n",
       "    x.observe(notebookContainer, {childList: true});\n",
       "}}\n",
       "\n",
       "// Listen for the clearing of the current output cell\n",
       "var outputEl = gd.closest('.output');\n",
       "if (outputEl) {{\n",
       "    x.observe(outputEl, {childList: true});\n",
       "}}\n",
       "\n",
       "                        })                };                });            </script>        </div>"
      ]
     },
     "metadata": {},
     "output_type": "display_data"
    },
    {
     "data": {
      "application/vnd.plotly.v1+json": {
       "config": {
        "plotlyServerURL": "https://plot.ly"
       },
       "data": [
        {
         "branchvalues": "total",
         "domain": {
          "x": [
           0,
           1
          ],
          "y": [
           0,
           1
          ]
         },
         "hovertemplate": "labels=%{label}<br>Active=%{value}<br>parent=%{parent}<br>id=%{id}<extra></extra>",
         "ids": [
          "Peru/-14294.0",
          "Diamond Princess/0.0",
          "Dominica/0.0",
          "MS Zaandam/0.0",
          "Marshall Islands/0.0",
          "Micronesia/0.0",
          "Solomon Islands/0.0",
          "Tajikistan/0.0",
          "Vanuatu/0.0",
          "Grenada/1.0",
          "Saint Kitts and Nevis/1.0",
          "Samoa/1.0",
          "Brunei/9.0",
          "Holy See/12.0",
          "Sao Tome and Principe/16.0",
          "San Marino/25.0",
          "Comoros/26.0",
          "New Zealand/26.0",
          "Antigua and Barbuda/29.0",
          "Liechtenstein/30.0",
          "Monaco/31.0",
          "Eswatini/32.0",
          "Barbados/35.0",
          "Djibouti/36.0",
          "Burkina Faso/40.0",
          "Fiji/43.0",
          "Chad/55.0",
          "South Sudan/64.0",
          "Liberia/67.0",
          "Belize/74.0",
          "Iceland/84.0",
          "Taiwan*/105.0",
          "Uganda/110.0",
          "Gambia/111.0",
          "Mauritius/121.0",
          "Bhutan/145.0",
          "Saint Lucia/152.0",
          "Saint Vincent and the Grenadines/169.0",
          "Eritrea/179.0",
          "Senegal/181.0",
          "Niger/203.0",
          "Malta/204.0",
          "Benin/242.0",
          "Andorra/250.0",
          "Guinea-Bissau/274.0",
          "Cote d'Ivoire/282.0",
          "Equatorial Guinea/303.0",
          "Tanzania/305.0",
          "Mauritania/317.0",
          "Zambia/355.0",
          "China/401.0",
          "Singapore/413.0",
          "Haiti/611.0",
          "Zimbabwe/648.0",
          "Bahamas/840.0",
          "Malawi/860.0",
          "Israel/902.0",
          "Sierra Leone/917.0",
          "Vietnam/940.0",
          "Laos/1064.0",
          "Rwanda/1100.0",
          "Suriname/1179.0",
          "Togo/1348.0",
          "Central African Republic/1469.0",
          "Papua New Guinea/1530.0",
          "Ghana/1531.0",
          "Mozambique/1557.0",
          "Montenegro/1684.0",
          "Timor-Leste/1719.0",
          "Guyana/1757.0",
          "Madagascar/1986.0",
          "Botswana/2000.0",
          "Namibia/2087.0",
          "Yemen/2213.0",
          "Guinea/2227.0",
          "Luxembourg/2233.0",
          "El Salvador/2291.0",
          "Seychelles/2486.0",
          "Syria/2504.0",
          "Nicaragua/2677.0",
          "Cabo Verde/2781.0",
          "Congo (Brazzaville)/2987.0",
          "Moldova/3102.0",
          "Congo (Kinshasa)/3183.0",
          "Angola/3362.0",
          "Gabon/3371.0",
          "Burundi/3429.0",
          "Morocco/3677.0",
          "Uzbekistan/3825.0",
          "Lesotho/4028.0",
          "Trinidad and Tobago/4078.0",
          "Panama/4372.0",
          "Sudan/4494.0",
          "Mali/4554.0",
          "Afghanistan/5159.0",
          "Kyrgyzstan/5232.0",
          "Jordan/5400.0",
          "Australia/5571.0",
          "Kosovo/5905.0",
          "Cuba/6088.0",
          "Belarus/6941.0",
          "Nigeria/7092.0",
          "Somalia/7408.0",
          "Korea, South/7661.0",
          "Qatar/7670.0",
          "Burma/7714.0",
          "Croatia/7745.0",
          "Estonia/7746.0",
          "Slovenia/8635.0",
          "Saudi Arabia/9169.0",
          "Latvia/9313.0",
          "Armenia/9600.0",
          "North Macedonia/10308.0",
          "Albania/10322.0",
          "Mongolia/10531.0",
          "Libya/10572.0",
          "West Bank and Gaza/11452.0",
          "Denmark/11517.0",
          "Maldives/11638.0",
          "Cambodia/12020.0",
          "Guatemala/12687.0",
          "Kuwait/13416.0",
          "Oman/14174.0",
          "Azerbaijan/14571.0",
          "Austria/14641.0",
          "Venezuela/14707.0",
          "Bahrain/14841.0",
          "Georgia/16367.0",
          "United Arab Emirates/18116.0",
          "Romania/21705.0",
          "Portugal/21708.0",
          "Lithuania/21804.0",
          "Jamaica/23490.0",
          "Sri Lanka/23607.0",
          "South Africa/25118.0",
          "Uruguay/25554.0",
          "Bosnia and Herzegovina/25713.0",
          "Tunisia/29888.0",
          "Cyprus/30698.0",
          "Czechia/32480.0",
          "Algeria/34437.0",
          "Chile/35263.0",
          "Lebanon/36839.0",
          "Dominican Republic/36934.0",
          "Malaysia/38499.0",
          "Cameroon/38533.0",
          "Ecuador/40431.0",
          "Bulgaria/41434.0",
          "Kazakhstan/41480.0",
          "Finland/42063.0",
          "Bolivia/43981.0",
          "Paraguay/44275.0",
          "Ethiopia/47194.0",
          "Egypt/47466.0",
          "Kenya/47991.0",
          "Bangladesh/48931.0",
          "Costa Rica/54067.0",
          "Philippines/56752.0",
          "Thailand/61548.0",
          "Canada/73848.0",
          "Pakistan/76536.0",
          "Japan/81927.0",
          "Iraq/88913.0",
          "Indonesia/95924.0",
          "Nepal/97008.0",
          "Norway/98730.0",
          "Colombia/104802.0",
          "Slovakia/118759.0",
          "Honduras/134356.0",
          "Hungary/172456.0",
          "Poland/187599.0",
          "Ireland/225274.0",
          "Germany/235836.0",
          "Turkey/249720.0",
          "Mexico/258018.0",
          "Greece/262171.0",
          "Argentina/268422.0",
          "Russia/270477.0",
          "Ukraine/287424.0",
          "Switzerland/347349.0",
          "Italy/363859.0",
          "Iran/471587.0",
          "Serbia/695857.0",
          "Belgium/995723.0",
          "Sweden/1007387.0",
          "Brazil/1264702.0",
          "Netherlands/1554288.0",
          "Spain/3356857.0",
          "India/3704099.0",
          "United Kingdom/4312409.0",
          "France/5380313.0",
          "Afghanistan",
          "Albania",
          "Algeria",
          "Andorra",
          "Angola",
          "Antigua and Barbuda",
          "Argentina",
          "Armenia",
          "Australia",
          "Austria",
          "Azerbaijan",
          "Bahamas",
          "Bahrain",
          "Bangladesh",
          "Barbados",
          "Belarus",
          "Belgium",
          "Belize",
          "Benin",
          "Bhutan",
          "Bolivia",
          "Bosnia and Herzegovina",
          "Botswana",
          "Brazil",
          "Brunei",
          "Bulgaria",
          "Burkina Faso",
          "Burma",
          "Burundi",
          "Cabo Verde",
          "Cambodia",
          "Cameroon",
          "Canada",
          "Central African Republic",
          "Chad",
          "Chile",
          "China",
          "Colombia",
          "Comoros",
          "Congo (Brazzaville)",
          "Congo (Kinshasa)",
          "Costa Rica",
          "Cote d'Ivoire",
          "Croatia",
          "Cuba",
          "Cyprus",
          "Czechia",
          "Denmark",
          "Diamond Princess",
          "Djibouti",
          "Dominica",
          "Dominican Republic",
          "Ecuador",
          "Egypt",
          "El Salvador",
          "Equatorial Guinea",
          "Eritrea",
          "Estonia",
          "Eswatini",
          "Ethiopia",
          "Fiji",
          "Finland",
          "France",
          "Gabon",
          "Gambia",
          "Georgia",
          "Germany",
          "Ghana",
          "Greece",
          "Grenada",
          "Guatemala",
          "Guinea",
          "Guinea-Bissau",
          "Guyana",
          "Haiti",
          "Holy See",
          "Honduras",
          "Hungary",
          "Iceland",
          "India",
          "Indonesia",
          "Iran",
          "Iraq",
          "Ireland",
          "Israel",
          "Italy",
          "Jamaica",
          "Japan",
          "Jordan",
          "Kazakhstan",
          "Kenya",
          "Korea, South",
          "Kosovo",
          "Kuwait",
          "Kyrgyzstan",
          "Laos",
          "Latvia",
          "Lebanon",
          "Lesotho",
          "Liberia",
          "Libya",
          "Liechtenstein",
          "Lithuania",
          "Luxembourg",
          "MS Zaandam",
          "Madagascar",
          "Malawi",
          "Malaysia",
          "Maldives",
          "Mali",
          "Malta",
          "Marshall Islands",
          "Mauritania",
          "Mauritius",
          "Mexico",
          "Micronesia",
          "Moldova",
          "Monaco",
          "Mongolia",
          "Montenegro",
          "Morocco",
          "Mozambique",
          "Namibia",
          "Nepal",
          "Netherlands",
          "New Zealand",
          "Nicaragua",
          "Niger",
          "Nigeria",
          "North Macedonia",
          "Norway",
          "Oman",
          "Pakistan",
          "Panama",
          "Papua New Guinea",
          "Paraguay",
          "Peru",
          "Philippines",
          "Poland",
          "Portugal",
          "Qatar",
          "Romania",
          "Russia",
          "Rwanda",
          "Saint Kitts and Nevis",
          "Saint Lucia",
          "Saint Vincent and the Grenadines",
          "Samoa",
          "San Marino",
          "Sao Tome and Principe",
          "Saudi Arabia",
          "Senegal",
          "Serbia",
          "Seychelles",
          "Sierra Leone",
          "Singapore",
          "Slovakia",
          "Slovenia",
          "Solomon Islands",
          "Somalia",
          "South Africa",
          "South Sudan",
          "Spain",
          "Sri Lanka",
          "Sudan",
          "Suriname",
          "Sweden",
          "Switzerland",
          "Syria",
          "Taiwan*",
          "Tajikistan",
          "Tanzania",
          "Thailand",
          "Timor-Leste",
          "Togo",
          "Trinidad and Tobago",
          "Tunisia",
          "Turkey",
          "US",
          "Uganda",
          "Ukraine",
          "United Arab Emirates",
          "United Kingdom",
          "Uruguay",
          "Uzbekistan",
          "Vanuatu",
          "Venezuela",
          "Vietnam",
          "West Bank and Gaza",
          "Yemen",
          "Zambia",
          "Zimbabwe"
         ],
         "labels": [
          "-14294.0",
          "0.0",
          "0.0",
          "0.0",
          "0.0",
          "0.0",
          "0.0",
          "0.0",
          "0.0",
          "1.0",
          "1.0",
          "1.0",
          "9.0",
          "12.0",
          "16.0",
          "25.0",
          "26.0",
          "26.0",
          "29.0",
          "30.0",
          "31.0",
          "32.0",
          "35.0",
          "36.0",
          "40.0",
          "43.0",
          "55.0",
          "64.0",
          "67.0",
          "74.0",
          "84.0",
          "105.0",
          "110.0",
          "111.0",
          "121.0",
          "145.0",
          "152.0",
          "169.0",
          "179.0",
          "181.0",
          "203.0",
          "204.0",
          "242.0",
          "250.0",
          "274.0",
          "282.0",
          "303.0",
          "305.0",
          "317.0",
          "355.0",
          "401.0",
          "413.0",
          "611.0",
          "648.0",
          "840.0",
          "860.0",
          "902.0",
          "917.0",
          "940.0",
          "1064.0",
          "1100.0",
          "1179.0",
          "1348.0",
          "1469.0",
          "1530.0",
          "1531.0",
          "1557.0",
          "1684.0",
          "1719.0",
          "1757.0",
          "1986.0",
          "2000.0",
          "2087.0",
          "2213.0",
          "2227.0",
          "2233.0",
          "2291.0",
          "2486.0",
          "2504.0",
          "2677.0",
          "2781.0",
          "2987.0",
          "3102.0",
          "3183.0",
          "3362.0",
          "3371.0",
          "3429.0",
          "3677.0",
          "3825.0",
          "4028.0",
          "4078.0",
          "4372.0",
          "4494.0",
          "4554.0",
          "5159.0",
          "5232.0",
          "5400.0",
          "5571.0",
          "5905.0",
          "6088.0",
          "6941.0",
          "7092.0",
          "7408.0",
          "7661.0",
          "7670.0",
          "7714.0",
          "7745.0",
          "7746.0",
          "8635.0",
          "9169.0",
          "9313.0",
          "9600.0",
          "10308.0",
          "10322.0",
          "10531.0",
          "10572.0",
          "11452.0",
          "11517.0",
          "11638.0",
          "12020.0",
          "12687.0",
          "13416.0",
          "14174.0",
          "14571.0",
          "14641.0",
          "14707.0",
          "14841.0",
          "16367.0",
          "18116.0",
          "21705.0",
          "21708.0",
          "21804.0",
          "23490.0",
          "23607.0",
          "25118.0",
          "25554.0",
          "25713.0",
          "29888.0",
          "30698.0",
          "32480.0",
          "34437.0",
          "35263.0",
          "36839.0",
          "36934.0",
          "38499.0",
          "38533.0",
          "40431.0",
          "41434.0",
          "41480.0",
          "42063.0",
          "43981.0",
          "44275.0",
          "47194.0",
          "47466.0",
          "47991.0",
          "48931.0",
          "54067.0",
          "56752.0",
          "61548.0",
          "73848.0",
          "76536.0",
          "81927.0",
          "88913.0",
          "95924.0",
          "97008.0",
          "98730.0",
          "104802.0",
          "118759.0",
          "134356.0",
          "172456.0",
          "187599.0",
          "225274.0",
          "235836.0",
          "249720.0",
          "258018.0",
          "262171.0",
          "268422.0",
          "270477.0",
          "287424.0",
          "347349.0",
          "363859.0",
          "471587.0",
          "695857.0",
          "995723.0",
          "1007387.0",
          "1264702.0",
          "1554288.0",
          "3356857.0",
          "3704099.0",
          "4312409.0",
          "5380313.0",
          "Afghanistan",
          "Albania",
          "Algeria",
          "Andorra",
          "Angola",
          "Antigua and Barbuda",
          "Argentina",
          "Armenia",
          "Australia",
          "Austria",
          "Azerbaijan",
          "Bahamas",
          "Bahrain",
          "Bangladesh",
          "Barbados",
          "Belarus",
          "Belgium",
          "Belize",
          "Benin",
          "Bhutan",
          "Bolivia",
          "Bosnia and Herzegovina",
          "Botswana",
          "Brazil",
          "Brunei",
          "Bulgaria",
          "Burkina Faso",
          "Burma",
          "Burundi",
          "Cabo Verde",
          "Cambodia",
          "Cameroon",
          "Canada",
          "Central African Republic",
          "Chad",
          "Chile",
          "China",
          "Colombia",
          "Comoros",
          "Congo (Brazzaville)",
          "Congo (Kinshasa)",
          "Costa Rica",
          "Cote d'Ivoire",
          "Croatia",
          "Cuba",
          "Cyprus",
          "Czechia",
          "Denmark",
          "Diamond Princess",
          "Djibouti",
          "Dominica",
          "Dominican Republic",
          "Ecuador",
          "Egypt",
          "El Salvador",
          "Equatorial Guinea",
          "Eritrea",
          "Estonia",
          "Eswatini",
          "Ethiopia",
          "Fiji",
          "Finland",
          "France",
          "Gabon",
          "Gambia",
          "Georgia",
          "Germany",
          "Ghana",
          "Greece",
          "Grenada",
          "Guatemala",
          "Guinea",
          "Guinea-Bissau",
          "Guyana",
          "Haiti",
          "Holy See",
          "Honduras",
          "Hungary",
          "Iceland",
          "India",
          "Indonesia",
          "Iran",
          "Iraq",
          "Ireland",
          "Israel",
          "Italy",
          "Jamaica",
          "Japan",
          "Jordan",
          "Kazakhstan",
          "Kenya",
          "Korea, South",
          "Kosovo",
          "Kuwait",
          "Kyrgyzstan",
          "Laos",
          "Latvia",
          "Lebanon",
          "Lesotho",
          "Liberia",
          "Libya",
          "Liechtenstein",
          "Lithuania",
          "Luxembourg",
          "MS Zaandam",
          "Madagascar",
          "Malawi",
          "Malaysia",
          "Maldives",
          "Mali",
          "Malta",
          "Marshall Islands",
          "Mauritania",
          "Mauritius",
          "Mexico",
          "Micronesia",
          "Moldova",
          "Monaco",
          "Mongolia",
          "Montenegro",
          "Morocco",
          "Mozambique",
          "Namibia",
          "Nepal",
          "Netherlands",
          "New Zealand",
          "Nicaragua",
          "Niger",
          "Nigeria",
          "North Macedonia",
          "Norway",
          "Oman",
          "Pakistan",
          "Panama",
          "Papua New Guinea",
          "Paraguay",
          "Peru",
          "Philippines",
          "Poland",
          "Portugal",
          "Qatar",
          "Romania",
          "Russia",
          "Rwanda",
          "Saint Kitts and Nevis",
          "Saint Lucia",
          "Saint Vincent and the Grenadines",
          "Samoa",
          "San Marino",
          "Sao Tome and Principe",
          "Saudi Arabia",
          "Senegal",
          "Serbia",
          "Seychelles",
          "Sierra Leone",
          "Singapore",
          "Slovakia",
          "Slovenia",
          "Solomon Islands",
          "Somalia",
          "South Africa",
          "South Sudan",
          "Spain",
          "Sri Lanka",
          "Sudan",
          "Suriname",
          "Sweden",
          "Switzerland",
          "Syria",
          "Taiwan*",
          "Tajikistan",
          "Tanzania",
          "Thailand",
          "Timor-Leste",
          "Togo",
          "Trinidad and Tobago",
          "Tunisia",
          "Turkey",
          "US",
          "Uganda",
          "Ukraine",
          "United Arab Emirates",
          "United Kingdom",
          "Uruguay",
          "Uzbekistan",
          "Vanuatu",
          "Venezuela",
          "Vietnam",
          "West Bank and Gaza",
          "Yemen",
          "Zambia",
          "Zimbabwe"
         ],
         "name": "",
         "parents": [
          "Peru",
          "Diamond Princess",
          "Dominica",
          "MS Zaandam",
          "Marshall Islands",
          "Micronesia",
          "Solomon Islands",
          "Tajikistan",
          "Vanuatu",
          "Grenada",
          "Saint Kitts and Nevis",
          "Samoa",
          "Brunei",
          "Holy See",
          "Sao Tome and Principe",
          "San Marino",
          "Comoros",
          "New Zealand",
          "Antigua and Barbuda",
          "Liechtenstein",
          "Monaco",
          "Eswatini",
          "Barbados",
          "Djibouti",
          "Burkina Faso",
          "Fiji",
          "Chad",
          "South Sudan",
          "Liberia",
          "Belize",
          "Iceland",
          "Taiwan*",
          "Uganda",
          "Gambia",
          "Mauritius",
          "Bhutan",
          "Saint Lucia",
          "Saint Vincent and the Grenadines",
          "Eritrea",
          "Senegal",
          "Niger",
          "Malta",
          "Benin",
          "Andorra",
          "Guinea-Bissau",
          "Cote d'Ivoire",
          "Equatorial Guinea",
          "Tanzania",
          "Mauritania",
          "Zambia",
          "China",
          "Singapore",
          "Haiti",
          "Zimbabwe",
          "Bahamas",
          "Malawi",
          "Israel",
          "Sierra Leone",
          "Vietnam",
          "Laos",
          "Rwanda",
          "Suriname",
          "Togo",
          "Central African Republic",
          "Papua New Guinea",
          "Ghana",
          "Mozambique",
          "Montenegro",
          "Timor-Leste",
          "Guyana",
          "Madagascar",
          "Botswana",
          "Namibia",
          "Yemen",
          "Guinea",
          "Luxembourg",
          "El Salvador",
          "Seychelles",
          "Syria",
          "Nicaragua",
          "Cabo Verde",
          "Congo (Brazzaville)",
          "Moldova",
          "Congo (Kinshasa)",
          "Angola",
          "Gabon",
          "Burundi",
          "Morocco",
          "Uzbekistan",
          "Lesotho",
          "Trinidad and Tobago",
          "Panama",
          "Sudan",
          "Mali",
          "Afghanistan",
          "Kyrgyzstan",
          "Jordan",
          "Australia",
          "Kosovo",
          "Cuba",
          "Belarus",
          "Nigeria",
          "Somalia",
          "Korea, South",
          "Qatar",
          "Burma",
          "Croatia",
          "Estonia",
          "Slovenia",
          "Saudi Arabia",
          "Latvia",
          "Armenia",
          "North Macedonia",
          "Albania",
          "Mongolia",
          "Libya",
          "West Bank and Gaza",
          "Denmark",
          "Maldives",
          "Cambodia",
          "Guatemala",
          "Kuwait",
          "Oman",
          "Azerbaijan",
          "Austria",
          "Venezuela",
          "Bahrain",
          "Georgia",
          "United Arab Emirates",
          "Romania",
          "Portugal",
          "Lithuania",
          "Jamaica",
          "Sri Lanka",
          "South Africa",
          "Uruguay",
          "Bosnia and Herzegovina",
          "Tunisia",
          "Cyprus",
          "Czechia",
          "Algeria",
          "Chile",
          "Lebanon",
          "Dominican Republic",
          "Malaysia",
          "Cameroon",
          "Ecuador",
          "Bulgaria",
          "Kazakhstan",
          "Finland",
          "Bolivia",
          "Paraguay",
          "Ethiopia",
          "Egypt",
          "Kenya",
          "Bangladesh",
          "Costa Rica",
          "Philippines",
          "Thailand",
          "Canada",
          "Pakistan",
          "Japan",
          "Iraq",
          "Indonesia",
          "Nepal",
          "Norway",
          "Colombia",
          "Slovakia",
          "Honduras",
          "Hungary",
          "Poland",
          "Ireland",
          "Germany",
          "Turkey",
          "Mexico",
          "Greece",
          "Argentina",
          "Russia",
          "Ukraine",
          "Switzerland",
          "Italy",
          "Iran",
          "Serbia",
          "Belgium",
          "Sweden",
          "Brazil",
          "Netherlands",
          "Spain",
          "India",
          "United Kingdom",
          "France",
          "",
          "",
          "",
          "",
          "",
          "",
          "",
          "",
          "",
          "",
          "",
          "",
          "",
          "",
          "",
          "",
          "",
          "",
          "",
          "",
          "",
          "",
          "",
          "",
          "",
          "",
          "",
          "",
          "",
          "",
          "",
          "",
          "",
          "",
          "",
          "",
          "",
          "",
          "",
          "",
          "",
          "",
          "",
          "",
          "",
          "",
          "",
          "",
          "",
          "",
          "",
          "",
          "",
          "",
          "",
          "",
          "",
          "",
          "",
          "",
          "",
          "",
          "",
          "",
          "",
          "",
          "",
          "",
          "",
          "",
          "",
          "",
          "",
          "",
          "",
          "",
          "",
          "",
          "",
          "",
          "",
          "",
          "",
          "",
          "",
          "",
          "",
          "",
          "",
          "",
          "",
          "",
          "",
          "",
          "",
          "",
          "",
          "",
          "",
          "",
          "",
          "",
          "",
          "",
          "",
          "",
          "",
          "",
          "",
          "",
          "",
          "",
          "",
          "",
          "",
          "",
          "",
          "",
          "",
          "",
          "",
          "",
          "",
          "",
          "",
          "",
          "",
          "",
          "",
          "",
          "",
          "",
          "",
          "",
          "",
          "",
          "",
          "",
          "",
          "",
          "",
          "",
          "",
          "",
          "",
          "",
          "",
          "",
          "",
          "",
          "",
          "",
          "",
          "",
          "",
          "",
          "",
          "",
          "",
          "",
          "",
          "",
          "",
          "",
          "",
          "",
          "",
          "",
          "",
          "",
          "",
          "",
          "",
          "",
          "",
          "",
          "",
          "",
          "",
          "",
          "",
          "",
          "",
          "",
          "",
          "",
          "",
          "",
          "",
          "",
          "",
          ""
         ],
         "type": "treemap",
         "values": [
          -14294,
          0,
          0,
          0,
          0,
          0,
          0,
          0,
          0,
          1,
          1,
          1,
          9,
          12,
          16,
          25,
          26,
          26,
          29,
          30,
          31,
          32,
          35,
          36,
          40,
          43,
          55,
          64,
          67,
          74,
          84,
          105,
          110,
          111,
          121,
          145,
          152,
          169,
          179,
          181,
          203,
          204,
          242,
          250,
          274,
          282,
          303,
          305,
          317,
          355,
          401,
          413,
          611,
          648,
          840,
          860,
          902,
          917,
          940,
          1064,
          1100,
          1179,
          1348,
          1469,
          1530,
          1531,
          1557,
          1684,
          1719,
          1757,
          1986,
          2000,
          2087,
          2213,
          2227,
          2233,
          2291,
          2486,
          2504,
          2677,
          2781,
          2987,
          3102,
          3183,
          3362,
          3371,
          3429,
          3677,
          3825,
          4028,
          4078,
          4372,
          4494,
          4554,
          5159,
          5232,
          5400,
          5571,
          5905,
          6088,
          6941,
          7092,
          7408,
          7661,
          7670,
          7714,
          7745,
          7746,
          8635,
          9169,
          9313,
          9600,
          10308,
          10322,
          10531,
          10572,
          11452,
          11517,
          11638,
          12020,
          12687,
          13416,
          14174,
          14571,
          14641,
          14707,
          14841,
          16367,
          18116,
          21705,
          21708,
          21804,
          23490,
          23607,
          25118,
          25554,
          25713,
          29888,
          30698,
          32480,
          34437,
          35263,
          36839,
          36934,
          38499,
          38533,
          40431,
          41434,
          41480,
          42063,
          43981,
          44275,
          47194,
          47466,
          47991,
          48931,
          54067,
          56752,
          61548,
          73848,
          76536,
          81927,
          88913,
          95924,
          97008,
          98730,
          104802,
          118759,
          134356,
          172456,
          187599,
          225274,
          235836,
          249720,
          258018,
          262171,
          268422,
          270477,
          287424,
          347349,
          363859,
          471587,
          695857,
          995723,
          1007387,
          1264702,
          1554288,
          3356857,
          3704099,
          4312409,
          5380313,
          5159,
          10322,
          34437,
          250,
          3362,
          29,
          268422,
          9600,
          5571,
          14641,
          14571,
          840,
          14841,
          48931,
          35,
          6941,
          995723,
          74,
          242,
          145,
          43981,
          25713,
          2000,
          1264702,
          9,
          41434,
          40,
          7714,
          3429,
          2781,
          12020,
          38533,
          73848,
          1469,
          55,
          35263,
          401,
          104802,
          26,
          2987,
          3183,
          54067,
          282,
          7745,
          6088,
          30698,
          32480,
          11517,
          0,
          36,
          0,
          36934,
          40431,
          47466,
          2291,
          303,
          179,
          7746,
          32,
          47194,
          43,
          42063,
          5380313,
          3371,
          111,
          16367,
          235836,
          1531,
          262171,
          1,
          12687,
          2227,
          274,
          1757,
          611,
          12,
          134356,
          172456,
          84,
          3704099,
          95924,
          471587,
          88913,
          225274,
          902,
          363859,
          23490,
          81927,
          5400,
          41480,
          47991,
          7661,
          5905,
          13416,
          5232,
          1064,
          9313,
          36839,
          4028,
          67,
          10572,
          30,
          21804,
          2233,
          0,
          1986,
          860,
          38499,
          11638,
          4554,
          204,
          0,
          317,
          121,
          258018,
          0,
          3102,
          31,
          10531,
          1684,
          3677,
          1557,
          2087,
          97008,
          1554288,
          26,
          2677,
          203,
          7092,
          10308,
          98730,
          14174,
          76536,
          4372,
          1530,
          44275,
          -14294,
          56752,
          187599,
          21708,
          7670,
          21705,
          270477,
          1100,
          1,
          152,
          169,
          1,
          25,
          16,
          9169,
          181,
          695857,
          2486,
          917,
          413,
          118759,
          8635,
          0,
          7408,
          25118,
          64,
          3356857,
          23607,
          4494,
          1179,
          1007387,
          347349,
          2504,
          105,
          0,
          305,
          61548,
          1719,
          1348,
          4078,
          29888,
          249720,
          0,
          110,
          287424,
          18116,
          4312409,
          25554,
          3825,
          0,
          14707,
          940,
          11452,
          2213,
          355,
          648
         ]
        }
       ],
       "layout": {
        "legend": {
         "tracegroupgap": 0
        },
        "template": {
         "data": {
          "bar": [
           {
            "error_x": {
             "color": "#2a3f5f"
            },
            "error_y": {
             "color": "#2a3f5f"
            },
            "marker": {
             "line": {
              "color": "#E5ECF6",
              "width": 0.5
             }
            },
            "type": "bar"
           }
          ],
          "barpolar": [
           {
            "marker": {
             "line": {
              "color": "#E5ECF6",
              "width": 0.5
             }
            },
            "type": "barpolar"
           }
          ],
          "carpet": [
           {
            "aaxis": {
             "endlinecolor": "#2a3f5f",
             "gridcolor": "white",
             "linecolor": "white",
             "minorgridcolor": "white",
             "startlinecolor": "#2a3f5f"
            },
            "baxis": {
             "endlinecolor": "#2a3f5f",
             "gridcolor": "white",
             "linecolor": "white",
             "minorgridcolor": "white",
             "startlinecolor": "#2a3f5f"
            },
            "type": "carpet"
           }
          ],
          "choropleth": [
           {
            "colorbar": {
             "outlinewidth": 0,
             "ticks": ""
            },
            "type": "choropleth"
           }
          ],
          "contour": [
           {
            "colorbar": {
             "outlinewidth": 0,
             "ticks": ""
            },
            "colorscale": [
             [
              0,
              "#0d0887"
             ],
             [
              0.1111111111111111,
              "#46039f"
             ],
             [
              0.2222222222222222,
              "#7201a8"
             ],
             [
              0.3333333333333333,
              "#9c179e"
             ],
             [
              0.4444444444444444,
              "#bd3786"
             ],
             [
              0.5555555555555556,
              "#d8576b"
             ],
             [
              0.6666666666666666,
              "#ed7953"
             ],
             [
              0.7777777777777778,
              "#fb9f3a"
             ],
             [
              0.8888888888888888,
              "#fdca26"
             ],
             [
              1,
              "#f0f921"
             ]
            ],
            "type": "contour"
           }
          ],
          "contourcarpet": [
           {
            "colorbar": {
             "outlinewidth": 0,
             "ticks": ""
            },
            "type": "contourcarpet"
           }
          ],
          "heatmap": [
           {
            "colorbar": {
             "outlinewidth": 0,
             "ticks": ""
            },
            "colorscale": [
             [
              0,
              "#0d0887"
             ],
             [
              0.1111111111111111,
              "#46039f"
             ],
             [
              0.2222222222222222,
              "#7201a8"
             ],
             [
              0.3333333333333333,
              "#9c179e"
             ],
             [
              0.4444444444444444,
              "#bd3786"
             ],
             [
              0.5555555555555556,
              "#d8576b"
             ],
             [
              0.6666666666666666,
              "#ed7953"
             ],
             [
              0.7777777777777778,
              "#fb9f3a"
             ],
             [
              0.8888888888888888,
              "#fdca26"
             ],
             [
              1,
              "#f0f921"
             ]
            ],
            "type": "heatmap"
           }
          ],
          "heatmapgl": [
           {
            "colorbar": {
             "outlinewidth": 0,
             "ticks": ""
            },
            "colorscale": [
             [
              0,
              "#0d0887"
             ],
             [
              0.1111111111111111,
              "#46039f"
             ],
             [
              0.2222222222222222,
              "#7201a8"
             ],
             [
              0.3333333333333333,
              "#9c179e"
             ],
             [
              0.4444444444444444,
              "#bd3786"
             ],
             [
              0.5555555555555556,
              "#d8576b"
             ],
             [
              0.6666666666666666,
              "#ed7953"
             ],
             [
              0.7777777777777778,
              "#fb9f3a"
             ],
             [
              0.8888888888888888,
              "#fdca26"
             ],
             [
              1,
              "#f0f921"
             ]
            ],
            "type": "heatmapgl"
           }
          ],
          "histogram": [
           {
            "marker": {
             "colorbar": {
              "outlinewidth": 0,
              "ticks": ""
             }
            },
            "type": "histogram"
           }
          ],
          "histogram2d": [
           {
            "colorbar": {
             "outlinewidth": 0,
             "ticks": ""
            },
            "colorscale": [
             [
              0,
              "#0d0887"
             ],
             [
              0.1111111111111111,
              "#46039f"
             ],
             [
              0.2222222222222222,
              "#7201a8"
             ],
             [
              0.3333333333333333,
              "#9c179e"
             ],
             [
              0.4444444444444444,
              "#bd3786"
             ],
             [
              0.5555555555555556,
              "#d8576b"
             ],
             [
              0.6666666666666666,
              "#ed7953"
             ],
             [
              0.7777777777777778,
              "#fb9f3a"
             ],
             [
              0.8888888888888888,
              "#fdca26"
             ],
             [
              1,
              "#f0f921"
             ]
            ],
            "type": "histogram2d"
           }
          ],
          "histogram2dcontour": [
           {
            "colorbar": {
             "outlinewidth": 0,
             "ticks": ""
            },
            "colorscale": [
             [
              0,
              "#0d0887"
             ],
             [
              0.1111111111111111,
              "#46039f"
             ],
             [
              0.2222222222222222,
              "#7201a8"
             ],
             [
              0.3333333333333333,
              "#9c179e"
             ],
             [
              0.4444444444444444,
              "#bd3786"
             ],
             [
              0.5555555555555556,
              "#d8576b"
             ],
             [
              0.6666666666666666,
              "#ed7953"
             ],
             [
              0.7777777777777778,
              "#fb9f3a"
             ],
             [
              0.8888888888888888,
              "#fdca26"
             ],
             [
              1,
              "#f0f921"
             ]
            ],
            "type": "histogram2dcontour"
           }
          ],
          "mesh3d": [
           {
            "colorbar": {
             "outlinewidth": 0,
             "ticks": ""
            },
            "type": "mesh3d"
           }
          ],
          "parcoords": [
           {
            "line": {
             "colorbar": {
              "outlinewidth": 0,
              "ticks": ""
             }
            },
            "type": "parcoords"
           }
          ],
          "pie": [
           {
            "automargin": true,
            "type": "pie"
           }
          ],
          "scatter": [
           {
            "marker": {
             "colorbar": {
              "outlinewidth": 0,
              "ticks": ""
             }
            },
            "type": "scatter"
           }
          ],
          "scatter3d": [
           {
            "line": {
             "colorbar": {
              "outlinewidth": 0,
              "ticks": ""
             }
            },
            "marker": {
             "colorbar": {
              "outlinewidth": 0,
              "ticks": ""
             }
            },
            "type": "scatter3d"
           }
          ],
          "scattercarpet": [
           {
            "marker": {
             "colorbar": {
              "outlinewidth": 0,
              "ticks": ""
             }
            },
            "type": "scattercarpet"
           }
          ],
          "scattergeo": [
           {
            "marker": {
             "colorbar": {
              "outlinewidth": 0,
              "ticks": ""
             }
            },
            "type": "scattergeo"
           }
          ],
          "scattergl": [
           {
            "marker": {
             "colorbar": {
              "outlinewidth": 0,
              "ticks": ""
             }
            },
            "type": "scattergl"
           }
          ],
          "scattermapbox": [
           {
            "marker": {
             "colorbar": {
              "outlinewidth": 0,
              "ticks": ""
             }
            },
            "type": "scattermapbox"
           }
          ],
          "scatterpolar": [
           {
            "marker": {
             "colorbar": {
              "outlinewidth": 0,
              "ticks": ""
             }
            },
            "type": "scatterpolar"
           }
          ],
          "scatterpolargl": [
           {
            "marker": {
             "colorbar": {
              "outlinewidth": 0,
              "ticks": ""
             }
            },
            "type": "scatterpolargl"
           }
          ],
          "scatterternary": [
           {
            "marker": {
             "colorbar": {
              "outlinewidth": 0,
              "ticks": ""
             }
            },
            "type": "scatterternary"
           }
          ],
          "surface": [
           {
            "colorbar": {
             "outlinewidth": 0,
             "ticks": ""
            },
            "colorscale": [
             [
              0,
              "#0d0887"
             ],
             [
              0.1111111111111111,
              "#46039f"
             ],
             [
              0.2222222222222222,
              "#7201a8"
             ],
             [
              0.3333333333333333,
              "#9c179e"
             ],
             [
              0.4444444444444444,
              "#bd3786"
             ],
             [
              0.5555555555555556,
              "#d8576b"
             ],
             [
              0.6666666666666666,
              "#ed7953"
             ],
             [
              0.7777777777777778,
              "#fb9f3a"
             ],
             [
              0.8888888888888888,
              "#fdca26"
             ],
             [
              1,
              "#f0f921"
             ]
            ],
            "type": "surface"
           }
          ],
          "table": [
           {
            "cells": {
             "fill": {
              "color": "#EBF0F8"
             },
             "line": {
              "color": "white"
             }
            },
            "header": {
             "fill": {
              "color": "#C8D4E3"
             },
             "line": {
              "color": "white"
             }
            },
            "type": "table"
           }
          ]
         },
         "layout": {
          "annotationdefaults": {
           "arrowcolor": "#2a3f5f",
           "arrowhead": 0,
           "arrowwidth": 1
          },
          "autotypenumbers": "strict",
          "coloraxis": {
           "colorbar": {
            "outlinewidth": 0,
            "ticks": ""
           }
          },
          "colorscale": {
           "diverging": [
            [
             0,
             "#8e0152"
            ],
            [
             0.1,
             "#c51b7d"
            ],
            [
             0.2,
             "#de77ae"
            ],
            [
             0.3,
             "#f1b6da"
            ],
            [
             0.4,
             "#fde0ef"
            ],
            [
             0.5,
             "#f7f7f7"
            ],
            [
             0.6,
             "#e6f5d0"
            ],
            [
             0.7,
             "#b8e186"
            ],
            [
             0.8,
             "#7fbc41"
            ],
            [
             0.9,
             "#4d9221"
            ],
            [
             1,
             "#276419"
            ]
           ],
           "sequential": [
            [
             0,
             "#0d0887"
            ],
            [
             0.1111111111111111,
             "#46039f"
            ],
            [
             0.2222222222222222,
             "#7201a8"
            ],
            [
             0.3333333333333333,
             "#9c179e"
            ],
            [
             0.4444444444444444,
             "#bd3786"
            ],
            [
             0.5555555555555556,
             "#d8576b"
            ],
            [
             0.6666666666666666,
             "#ed7953"
            ],
            [
             0.7777777777777778,
             "#fb9f3a"
            ],
            [
             0.8888888888888888,
             "#fdca26"
            ],
            [
             1,
             "#f0f921"
            ]
           ],
           "sequentialminus": [
            [
             0,
             "#0d0887"
            ],
            [
             0.1111111111111111,
             "#46039f"
            ],
            [
             0.2222222222222222,
             "#7201a8"
            ],
            [
             0.3333333333333333,
             "#9c179e"
            ],
            [
             0.4444444444444444,
             "#bd3786"
            ],
            [
             0.5555555555555556,
             "#d8576b"
            ],
            [
             0.6666666666666666,
             "#ed7953"
            ],
            [
             0.7777777777777778,
             "#fb9f3a"
            ],
            [
             0.8888888888888888,
             "#fdca26"
            ],
            [
             1,
             "#f0f921"
            ]
           ]
          },
          "colorway": [
           "#636efa",
           "#EF553B",
           "#00cc96",
           "#ab63fa",
           "#FFA15A",
           "#19d3f3",
           "#FF6692",
           "#B6E880",
           "#FF97FF",
           "#FECB52"
          ],
          "font": {
           "color": "#2a3f5f"
          },
          "geo": {
           "bgcolor": "white",
           "lakecolor": "white",
           "landcolor": "#E5ECF6",
           "showlakes": true,
           "showland": true,
           "subunitcolor": "white"
          },
          "hoverlabel": {
           "align": "left"
          },
          "hovermode": "closest",
          "mapbox": {
           "style": "light"
          },
          "paper_bgcolor": "white",
          "plot_bgcolor": "#E5ECF6",
          "polar": {
           "angularaxis": {
            "gridcolor": "white",
            "linecolor": "white",
            "ticks": ""
           },
           "bgcolor": "#E5ECF6",
           "radialaxis": {
            "gridcolor": "white",
            "linecolor": "white",
            "ticks": ""
           }
          },
          "scene": {
           "xaxis": {
            "backgroundcolor": "#E5ECF6",
            "gridcolor": "white",
            "gridwidth": 2,
            "linecolor": "white",
            "showbackground": true,
            "ticks": "",
            "zerolinecolor": "white"
           },
           "yaxis": {
            "backgroundcolor": "#E5ECF6",
            "gridcolor": "white",
            "gridwidth": 2,
            "linecolor": "white",
            "showbackground": true,
            "ticks": "",
            "zerolinecolor": "white"
           },
           "zaxis": {
            "backgroundcolor": "#E5ECF6",
            "gridcolor": "white",
            "gridwidth": 2,
            "linecolor": "white",
            "showbackground": true,
            "ticks": "",
            "zerolinecolor": "white"
           }
          },
          "shapedefaults": {
           "line": {
            "color": "#2a3f5f"
           }
          },
          "ternary": {
           "aaxis": {
            "gridcolor": "white",
            "linecolor": "white",
            "ticks": ""
           },
           "baxis": {
            "gridcolor": "white",
            "linecolor": "white",
            "ticks": ""
           },
           "bgcolor": "#E5ECF6",
           "caxis": {
            "gridcolor": "white",
            "linecolor": "white",
            "ticks": ""
           }
          },
          "title": {
           "x": 0.05
          },
          "xaxis": {
           "automargin": true,
           "gridcolor": "white",
           "linecolor": "white",
           "ticks": "",
           "title": {
            "standoff": 15
           },
           "zerolinecolor": "white",
           "zerolinewidth": 2
          },
          "yaxis": {
           "automargin": true,
           "gridcolor": "white",
           "linecolor": "white",
           "ticks": "",
           "title": {
            "standoff": 15
           },
           "zerolinecolor": "white",
           "zerolinewidth": 2
          }
         }
        },
        "title": {
         "text": "Top countries with most number of Active cases"
        }
       }
      },
      "text/html": [
       "<div>                            <div id=\"d185b50e-5912-4c16-8e66-501ac36078d1\" class=\"plotly-graph-div\" style=\"height:525px; width:100%;\"></div>            <script type=\"text/javascript\">                require([\"plotly\"], function(Plotly) {                    window.PLOTLYENV=window.PLOTLYENV || {};                                    if (document.getElementById(\"d185b50e-5912-4c16-8e66-501ac36078d1\")) {                    Plotly.newPlot(                        \"d185b50e-5912-4c16-8e66-501ac36078d1\",                        [{\"branchvalues\": \"total\", \"domain\": {\"x\": [0.0, 1.0], \"y\": [0.0, 1.0]}, \"hovertemplate\": \"labels=%{label}<br>Active=%{value}<br>parent=%{parent}<br>id=%{id}<extra></extra>\", \"ids\": [\"Peru/-14294.0\", \"Diamond Princess/0.0\", \"Dominica/0.0\", \"MS Zaandam/0.0\", \"Marshall Islands/0.0\", \"Micronesia/0.0\", \"Solomon Islands/0.0\", \"Tajikistan/0.0\", \"Vanuatu/0.0\", \"Grenada/1.0\", \"Saint Kitts and Nevis/1.0\", \"Samoa/1.0\", \"Brunei/9.0\", \"Holy See/12.0\", \"Sao Tome and Principe/16.0\", \"San Marino/25.0\", \"Comoros/26.0\", \"New Zealand/26.0\", \"Antigua and Barbuda/29.0\", \"Liechtenstein/30.0\", \"Monaco/31.0\", \"Eswatini/32.0\", \"Barbados/35.0\", \"Djibouti/36.0\", \"Burkina Faso/40.0\", \"Fiji/43.0\", \"Chad/55.0\", \"South Sudan/64.0\", \"Liberia/67.0\", \"Belize/74.0\", \"Iceland/84.0\", \"Taiwan*/105.0\", \"Uganda/110.0\", \"Gambia/111.0\", \"Mauritius/121.0\", \"Bhutan/145.0\", \"Saint Lucia/152.0\", \"Saint Vincent and the Grenadines/169.0\", \"Eritrea/179.0\", \"Senegal/181.0\", \"Niger/203.0\", \"Malta/204.0\", \"Benin/242.0\", \"Andorra/250.0\", \"Guinea-Bissau/274.0\", \"Cote d'Ivoire/282.0\", \"Equatorial Guinea/303.0\", \"Tanzania/305.0\", \"Mauritania/317.0\", \"Zambia/355.0\", \"China/401.0\", \"Singapore/413.0\", \"Haiti/611.0\", \"Zimbabwe/648.0\", \"Bahamas/840.0\", \"Malawi/860.0\", \"Israel/902.0\", \"Sierra Leone/917.0\", \"Vietnam/940.0\", \"Laos/1064.0\", \"Rwanda/1100.0\", \"Suriname/1179.0\", \"Togo/1348.0\", \"Central African Republic/1469.0\", \"Papua New Guinea/1530.0\", \"Ghana/1531.0\", \"Mozambique/1557.0\", \"Montenegro/1684.0\", \"Timor-Leste/1719.0\", \"Guyana/1757.0\", \"Madagascar/1986.0\", \"Botswana/2000.0\", \"Namibia/2087.0\", \"Yemen/2213.0\", \"Guinea/2227.0\", \"Luxembourg/2233.0\", \"El Salvador/2291.0\", \"Seychelles/2486.0\", \"Syria/2504.0\", \"Nicaragua/2677.0\", \"Cabo Verde/2781.0\", \"Congo (Brazzaville)/2987.0\", \"Moldova/3102.0\", \"Congo (Kinshasa)/3183.0\", \"Angola/3362.0\", \"Gabon/3371.0\", \"Burundi/3429.0\", \"Morocco/3677.0\", \"Uzbekistan/3825.0\", \"Lesotho/4028.0\", \"Trinidad and Tobago/4078.0\", \"Panama/4372.0\", \"Sudan/4494.0\", \"Mali/4554.0\", \"Afghanistan/5159.0\", \"Kyrgyzstan/5232.0\", \"Jordan/5400.0\", \"Australia/5571.0\", \"Kosovo/5905.0\", \"Cuba/6088.0\", \"Belarus/6941.0\", \"Nigeria/7092.0\", \"Somalia/7408.0\", \"Korea, South/7661.0\", \"Qatar/7670.0\", \"Burma/7714.0\", \"Croatia/7745.0\", \"Estonia/7746.0\", \"Slovenia/8635.0\", \"Saudi Arabia/9169.0\", \"Latvia/9313.0\", \"Armenia/9600.0\", \"North Macedonia/10308.0\", \"Albania/10322.0\", \"Mongolia/10531.0\", \"Libya/10572.0\", \"West Bank and Gaza/11452.0\", \"Denmark/11517.0\", \"Maldives/11638.0\", \"Cambodia/12020.0\", \"Guatemala/12687.0\", \"Kuwait/13416.0\", \"Oman/14174.0\", \"Azerbaijan/14571.0\", \"Austria/14641.0\", \"Venezuela/14707.0\", \"Bahrain/14841.0\", \"Georgia/16367.0\", \"United Arab Emirates/18116.0\", \"Romania/21705.0\", \"Portugal/21708.0\", \"Lithuania/21804.0\", \"Jamaica/23490.0\", \"Sri Lanka/23607.0\", \"South Africa/25118.0\", \"Uruguay/25554.0\", \"Bosnia and Herzegovina/25713.0\", \"Tunisia/29888.0\", \"Cyprus/30698.0\", \"Czechia/32480.0\", \"Algeria/34437.0\", \"Chile/35263.0\", \"Lebanon/36839.0\", \"Dominican Republic/36934.0\", \"Malaysia/38499.0\", \"Cameroon/38533.0\", \"Ecuador/40431.0\", \"Bulgaria/41434.0\", \"Kazakhstan/41480.0\", \"Finland/42063.0\", \"Bolivia/43981.0\", \"Paraguay/44275.0\", \"Ethiopia/47194.0\", \"Egypt/47466.0\", \"Kenya/47991.0\", \"Bangladesh/48931.0\", \"Costa Rica/54067.0\", \"Philippines/56752.0\", \"Thailand/61548.0\", \"Canada/73848.0\", \"Pakistan/76536.0\", \"Japan/81927.0\", \"Iraq/88913.0\", \"Indonesia/95924.0\", \"Nepal/97008.0\", \"Norway/98730.0\", \"Colombia/104802.0\", \"Slovakia/118759.0\", \"Honduras/134356.0\", \"Hungary/172456.0\", \"Poland/187599.0\", \"Ireland/225274.0\", \"Germany/235836.0\", \"Turkey/249720.0\", \"Mexico/258018.0\", \"Greece/262171.0\", \"Argentina/268422.0\", \"Russia/270477.0\", \"Ukraine/287424.0\", \"Switzerland/347349.0\", \"Italy/363859.0\", \"Iran/471587.0\", \"Serbia/695857.0\", \"Belgium/995723.0\", \"Sweden/1007387.0\", \"Brazil/1264702.0\", \"Netherlands/1554288.0\", \"Spain/3356857.0\", \"India/3704099.0\", \"United Kingdom/4312409.0\", \"France/5380313.0\", \"Afghanistan\", \"Albania\", \"Algeria\", \"Andorra\", \"Angola\", \"Antigua and Barbuda\", \"Argentina\", \"Armenia\", \"Australia\", \"Austria\", \"Azerbaijan\", \"Bahamas\", \"Bahrain\", \"Bangladesh\", \"Barbados\", \"Belarus\", \"Belgium\", \"Belize\", \"Benin\", \"Bhutan\", \"Bolivia\", \"Bosnia and Herzegovina\", \"Botswana\", \"Brazil\", \"Brunei\", \"Bulgaria\", \"Burkina Faso\", \"Burma\", \"Burundi\", \"Cabo Verde\", \"Cambodia\", \"Cameroon\", \"Canada\", \"Central African Republic\", \"Chad\", \"Chile\", \"China\", \"Colombia\", \"Comoros\", \"Congo (Brazzaville)\", \"Congo (Kinshasa)\", \"Costa Rica\", \"Cote d'Ivoire\", \"Croatia\", \"Cuba\", \"Cyprus\", \"Czechia\", \"Denmark\", \"Diamond Princess\", \"Djibouti\", \"Dominica\", \"Dominican Republic\", \"Ecuador\", \"Egypt\", \"El Salvador\", \"Equatorial Guinea\", \"Eritrea\", \"Estonia\", \"Eswatini\", \"Ethiopia\", \"Fiji\", \"Finland\", \"France\", \"Gabon\", \"Gambia\", \"Georgia\", \"Germany\", \"Ghana\", \"Greece\", \"Grenada\", \"Guatemala\", \"Guinea\", \"Guinea-Bissau\", \"Guyana\", \"Haiti\", \"Holy See\", \"Honduras\", \"Hungary\", \"Iceland\", \"India\", \"Indonesia\", \"Iran\", \"Iraq\", \"Ireland\", \"Israel\", \"Italy\", \"Jamaica\", \"Japan\", \"Jordan\", \"Kazakhstan\", \"Kenya\", \"Korea, South\", \"Kosovo\", \"Kuwait\", \"Kyrgyzstan\", \"Laos\", \"Latvia\", \"Lebanon\", \"Lesotho\", \"Liberia\", \"Libya\", \"Liechtenstein\", \"Lithuania\", \"Luxembourg\", \"MS Zaandam\", \"Madagascar\", \"Malawi\", \"Malaysia\", \"Maldives\", \"Mali\", \"Malta\", \"Marshall Islands\", \"Mauritania\", \"Mauritius\", \"Mexico\", \"Micronesia\", \"Moldova\", \"Monaco\", \"Mongolia\", \"Montenegro\", \"Morocco\", \"Mozambique\", \"Namibia\", \"Nepal\", \"Netherlands\", \"New Zealand\", \"Nicaragua\", \"Niger\", \"Nigeria\", \"North Macedonia\", \"Norway\", \"Oman\", \"Pakistan\", \"Panama\", \"Papua New Guinea\", \"Paraguay\", \"Peru\", \"Philippines\", \"Poland\", \"Portugal\", \"Qatar\", \"Romania\", \"Russia\", \"Rwanda\", \"Saint Kitts and Nevis\", \"Saint Lucia\", \"Saint Vincent and the Grenadines\", \"Samoa\", \"San Marino\", \"Sao Tome and Principe\", \"Saudi Arabia\", \"Senegal\", \"Serbia\", \"Seychelles\", \"Sierra Leone\", \"Singapore\", \"Slovakia\", \"Slovenia\", \"Solomon Islands\", \"Somalia\", \"South Africa\", \"South Sudan\", \"Spain\", \"Sri Lanka\", \"Sudan\", \"Suriname\", \"Sweden\", \"Switzerland\", \"Syria\", \"Taiwan*\", \"Tajikistan\", \"Tanzania\", \"Thailand\", \"Timor-Leste\", \"Togo\", \"Trinidad and Tobago\", \"Tunisia\", \"Turkey\", \"US\", \"Uganda\", \"Ukraine\", \"United Arab Emirates\", \"United Kingdom\", \"Uruguay\", \"Uzbekistan\", \"Vanuatu\", \"Venezuela\", \"Vietnam\", \"West Bank and Gaza\", \"Yemen\", \"Zambia\", \"Zimbabwe\"], \"labels\": [\"-14294.0\", \"0.0\", \"0.0\", \"0.0\", \"0.0\", \"0.0\", \"0.0\", \"0.0\", \"0.0\", \"1.0\", \"1.0\", \"1.0\", \"9.0\", \"12.0\", \"16.0\", \"25.0\", \"26.0\", \"26.0\", \"29.0\", \"30.0\", \"31.0\", \"32.0\", \"35.0\", \"36.0\", \"40.0\", \"43.0\", \"55.0\", \"64.0\", \"67.0\", \"74.0\", \"84.0\", \"105.0\", \"110.0\", \"111.0\", \"121.0\", \"145.0\", \"152.0\", \"169.0\", \"179.0\", \"181.0\", \"203.0\", \"204.0\", \"242.0\", \"250.0\", \"274.0\", \"282.0\", \"303.0\", \"305.0\", \"317.0\", \"355.0\", \"401.0\", \"413.0\", \"611.0\", \"648.0\", \"840.0\", \"860.0\", \"902.0\", \"917.0\", \"940.0\", \"1064.0\", \"1100.0\", \"1179.0\", \"1348.0\", \"1469.0\", \"1530.0\", \"1531.0\", \"1557.0\", \"1684.0\", \"1719.0\", \"1757.0\", \"1986.0\", \"2000.0\", \"2087.0\", \"2213.0\", \"2227.0\", \"2233.0\", \"2291.0\", \"2486.0\", \"2504.0\", \"2677.0\", \"2781.0\", \"2987.0\", \"3102.0\", \"3183.0\", \"3362.0\", \"3371.0\", \"3429.0\", \"3677.0\", \"3825.0\", \"4028.0\", \"4078.0\", \"4372.0\", \"4494.0\", \"4554.0\", \"5159.0\", \"5232.0\", \"5400.0\", \"5571.0\", \"5905.0\", \"6088.0\", \"6941.0\", \"7092.0\", \"7408.0\", \"7661.0\", \"7670.0\", \"7714.0\", \"7745.0\", \"7746.0\", \"8635.0\", \"9169.0\", \"9313.0\", \"9600.0\", \"10308.0\", \"10322.0\", \"10531.0\", \"10572.0\", \"11452.0\", \"11517.0\", \"11638.0\", \"12020.0\", \"12687.0\", \"13416.0\", \"14174.0\", \"14571.0\", \"14641.0\", \"14707.0\", \"14841.0\", \"16367.0\", \"18116.0\", \"21705.0\", \"21708.0\", \"21804.0\", \"23490.0\", \"23607.0\", \"25118.0\", \"25554.0\", \"25713.0\", \"29888.0\", \"30698.0\", \"32480.0\", \"34437.0\", \"35263.0\", \"36839.0\", \"36934.0\", \"38499.0\", \"38533.0\", \"40431.0\", \"41434.0\", \"41480.0\", \"42063.0\", \"43981.0\", \"44275.0\", \"47194.0\", \"47466.0\", \"47991.0\", \"48931.0\", \"54067.0\", \"56752.0\", \"61548.0\", \"73848.0\", \"76536.0\", \"81927.0\", \"88913.0\", \"95924.0\", \"97008.0\", \"98730.0\", \"104802.0\", \"118759.0\", \"134356.0\", \"172456.0\", \"187599.0\", \"225274.0\", \"235836.0\", \"249720.0\", \"258018.0\", \"262171.0\", \"268422.0\", \"270477.0\", \"287424.0\", \"347349.0\", \"363859.0\", \"471587.0\", \"695857.0\", \"995723.0\", \"1007387.0\", \"1264702.0\", \"1554288.0\", \"3356857.0\", \"3704099.0\", \"4312409.0\", \"5380313.0\", \"Afghanistan\", \"Albania\", \"Algeria\", \"Andorra\", \"Angola\", \"Antigua and Barbuda\", \"Argentina\", \"Armenia\", \"Australia\", \"Austria\", \"Azerbaijan\", \"Bahamas\", \"Bahrain\", \"Bangladesh\", \"Barbados\", \"Belarus\", \"Belgium\", \"Belize\", \"Benin\", \"Bhutan\", \"Bolivia\", \"Bosnia and Herzegovina\", \"Botswana\", \"Brazil\", \"Brunei\", \"Bulgaria\", \"Burkina Faso\", \"Burma\", \"Burundi\", \"Cabo Verde\", \"Cambodia\", \"Cameroon\", \"Canada\", \"Central African Republic\", \"Chad\", \"Chile\", \"China\", \"Colombia\", \"Comoros\", \"Congo (Brazzaville)\", \"Congo (Kinshasa)\", \"Costa Rica\", \"Cote d'Ivoire\", \"Croatia\", \"Cuba\", \"Cyprus\", \"Czechia\", \"Denmark\", \"Diamond Princess\", \"Djibouti\", \"Dominica\", \"Dominican Republic\", \"Ecuador\", \"Egypt\", \"El Salvador\", \"Equatorial Guinea\", \"Eritrea\", \"Estonia\", \"Eswatini\", \"Ethiopia\", \"Fiji\", \"Finland\", \"France\", \"Gabon\", \"Gambia\", \"Georgia\", \"Germany\", \"Ghana\", \"Greece\", \"Grenada\", \"Guatemala\", \"Guinea\", \"Guinea-Bissau\", \"Guyana\", \"Haiti\", \"Holy See\", \"Honduras\", \"Hungary\", \"Iceland\", \"India\", \"Indonesia\", \"Iran\", \"Iraq\", \"Ireland\", \"Israel\", \"Italy\", \"Jamaica\", \"Japan\", \"Jordan\", \"Kazakhstan\", \"Kenya\", \"Korea, South\", \"Kosovo\", \"Kuwait\", \"Kyrgyzstan\", \"Laos\", \"Latvia\", \"Lebanon\", \"Lesotho\", \"Liberia\", \"Libya\", \"Liechtenstein\", \"Lithuania\", \"Luxembourg\", \"MS Zaandam\", \"Madagascar\", \"Malawi\", \"Malaysia\", \"Maldives\", \"Mali\", \"Malta\", \"Marshall Islands\", \"Mauritania\", \"Mauritius\", \"Mexico\", \"Micronesia\", \"Moldova\", \"Monaco\", \"Mongolia\", \"Montenegro\", \"Morocco\", \"Mozambique\", \"Namibia\", \"Nepal\", \"Netherlands\", \"New Zealand\", \"Nicaragua\", \"Niger\", \"Nigeria\", \"North Macedonia\", \"Norway\", \"Oman\", \"Pakistan\", \"Panama\", \"Papua New Guinea\", \"Paraguay\", \"Peru\", \"Philippines\", \"Poland\", \"Portugal\", \"Qatar\", \"Romania\", \"Russia\", \"Rwanda\", \"Saint Kitts and Nevis\", \"Saint Lucia\", \"Saint Vincent and the Grenadines\", \"Samoa\", \"San Marino\", \"Sao Tome and Principe\", \"Saudi Arabia\", \"Senegal\", \"Serbia\", \"Seychelles\", \"Sierra Leone\", \"Singapore\", \"Slovakia\", \"Slovenia\", \"Solomon Islands\", \"Somalia\", \"South Africa\", \"South Sudan\", \"Spain\", \"Sri Lanka\", \"Sudan\", \"Suriname\", \"Sweden\", \"Switzerland\", \"Syria\", \"Taiwan*\", \"Tajikistan\", \"Tanzania\", \"Thailand\", \"Timor-Leste\", \"Togo\", \"Trinidad and Tobago\", \"Tunisia\", \"Turkey\", \"US\", \"Uganda\", \"Ukraine\", \"United Arab Emirates\", \"United Kingdom\", \"Uruguay\", \"Uzbekistan\", \"Vanuatu\", \"Venezuela\", \"Vietnam\", \"West Bank and Gaza\", \"Yemen\", \"Zambia\", \"Zimbabwe\"], \"name\": \"\", \"parents\": [\"Peru\", \"Diamond Princess\", \"Dominica\", \"MS Zaandam\", \"Marshall Islands\", \"Micronesia\", \"Solomon Islands\", \"Tajikistan\", \"Vanuatu\", \"Grenada\", \"Saint Kitts and Nevis\", \"Samoa\", \"Brunei\", \"Holy See\", \"Sao Tome and Principe\", \"San Marino\", \"Comoros\", \"New Zealand\", \"Antigua and Barbuda\", \"Liechtenstein\", \"Monaco\", \"Eswatini\", \"Barbados\", \"Djibouti\", \"Burkina Faso\", \"Fiji\", \"Chad\", \"South Sudan\", \"Liberia\", \"Belize\", \"Iceland\", \"Taiwan*\", \"Uganda\", \"Gambia\", \"Mauritius\", \"Bhutan\", \"Saint Lucia\", \"Saint Vincent and the Grenadines\", \"Eritrea\", \"Senegal\", \"Niger\", \"Malta\", \"Benin\", \"Andorra\", \"Guinea-Bissau\", \"Cote d'Ivoire\", \"Equatorial Guinea\", \"Tanzania\", \"Mauritania\", \"Zambia\", \"China\", \"Singapore\", \"Haiti\", \"Zimbabwe\", \"Bahamas\", \"Malawi\", \"Israel\", \"Sierra Leone\", \"Vietnam\", \"Laos\", \"Rwanda\", \"Suriname\", \"Togo\", \"Central African Republic\", \"Papua New Guinea\", \"Ghana\", \"Mozambique\", \"Montenegro\", \"Timor-Leste\", \"Guyana\", \"Madagascar\", \"Botswana\", \"Namibia\", \"Yemen\", \"Guinea\", \"Luxembourg\", \"El Salvador\", \"Seychelles\", \"Syria\", \"Nicaragua\", \"Cabo Verde\", \"Congo (Brazzaville)\", \"Moldova\", \"Congo (Kinshasa)\", \"Angola\", \"Gabon\", \"Burundi\", \"Morocco\", \"Uzbekistan\", \"Lesotho\", \"Trinidad and Tobago\", \"Panama\", \"Sudan\", \"Mali\", \"Afghanistan\", \"Kyrgyzstan\", \"Jordan\", \"Australia\", \"Kosovo\", \"Cuba\", \"Belarus\", \"Nigeria\", \"Somalia\", \"Korea, South\", \"Qatar\", \"Burma\", \"Croatia\", \"Estonia\", \"Slovenia\", \"Saudi Arabia\", \"Latvia\", \"Armenia\", \"North Macedonia\", \"Albania\", \"Mongolia\", \"Libya\", \"West Bank and Gaza\", \"Denmark\", \"Maldives\", \"Cambodia\", \"Guatemala\", \"Kuwait\", \"Oman\", \"Azerbaijan\", \"Austria\", \"Venezuela\", \"Bahrain\", \"Georgia\", \"United Arab Emirates\", \"Romania\", \"Portugal\", \"Lithuania\", \"Jamaica\", \"Sri Lanka\", \"South Africa\", \"Uruguay\", \"Bosnia and Herzegovina\", \"Tunisia\", \"Cyprus\", \"Czechia\", \"Algeria\", \"Chile\", \"Lebanon\", \"Dominican Republic\", \"Malaysia\", \"Cameroon\", \"Ecuador\", \"Bulgaria\", \"Kazakhstan\", \"Finland\", \"Bolivia\", \"Paraguay\", \"Ethiopia\", \"Egypt\", \"Kenya\", \"Bangladesh\", \"Costa Rica\", \"Philippines\", \"Thailand\", \"Canada\", \"Pakistan\", \"Japan\", \"Iraq\", \"Indonesia\", \"Nepal\", \"Norway\", \"Colombia\", \"Slovakia\", \"Honduras\", \"Hungary\", \"Poland\", \"Ireland\", \"Germany\", \"Turkey\", \"Mexico\", \"Greece\", \"Argentina\", \"Russia\", \"Ukraine\", \"Switzerland\", \"Italy\", \"Iran\", \"Serbia\", \"Belgium\", \"Sweden\", \"Brazil\", \"Netherlands\", \"Spain\", \"India\", \"United Kingdom\", \"France\", \"\", \"\", \"\", \"\", \"\", \"\", \"\", \"\", \"\", \"\", \"\", \"\", \"\", \"\", \"\", \"\", \"\", \"\", \"\", \"\", \"\", \"\", \"\", \"\", \"\", \"\", \"\", \"\", \"\", \"\", \"\", \"\", \"\", \"\", \"\", \"\", \"\", \"\", \"\", \"\", \"\", \"\", \"\", \"\", \"\", \"\", \"\", \"\", \"\", \"\", \"\", \"\", \"\", \"\", \"\", \"\", \"\", \"\", \"\", \"\", \"\", \"\", \"\", \"\", \"\", \"\", \"\", \"\", \"\", \"\", \"\", \"\", \"\", \"\", \"\", \"\", \"\", \"\", \"\", \"\", \"\", \"\", \"\", \"\", \"\", \"\", \"\", \"\", \"\", \"\", \"\", \"\", \"\", \"\", \"\", \"\", \"\", \"\", \"\", \"\", \"\", \"\", \"\", \"\", \"\", \"\", \"\", \"\", \"\", \"\", \"\", \"\", \"\", \"\", \"\", \"\", \"\", \"\", \"\", \"\", \"\", \"\", \"\", \"\", \"\", \"\", \"\", \"\", \"\", \"\", \"\", \"\", \"\", \"\", \"\", \"\", \"\", \"\", \"\", \"\", \"\", \"\", \"\", \"\", \"\", \"\", \"\", \"\", \"\", \"\", \"\", \"\", \"\", \"\", \"\", \"\", \"\", \"\", \"\", \"\", \"\", \"\", \"\", \"\", \"\", \"\", \"\", \"\", \"\", \"\", \"\", \"\", \"\", \"\", \"\", \"\", \"\", \"\", \"\", \"\", \"\", \"\", \"\", \"\", \"\", \"\", \"\", \"\", \"\", \"\", \"\", \"\"], \"type\": \"treemap\", \"values\": [-14294.0, 0.0, 0.0, 0.0, 0.0, 0.0, 0.0, 0.0, 0.0, 1.0, 1.0, 1.0, 9.0, 12.0, 16.0, 25.0, 26.0, 26.0, 29.0, 30.0, 31.0, 32.0, 35.0, 36.0, 40.0, 43.0, 55.0, 64.0, 67.0, 74.0, 84.0, 105.0, 110.0, 111.0, 121.0, 145.0, 152.0, 169.0, 179.0, 181.0, 203.0, 204.0, 242.0, 250.0, 274.0, 282.0, 303.0, 305.0, 317.0, 355.0, 401.0, 413.0, 611.0, 648.0, 840.0, 860.0, 902.0, 917.0, 940.0, 1064.0, 1100.0, 1179.0, 1348.0, 1469.0, 1530.0, 1531.0, 1557.0, 1684.0, 1719.0, 1757.0, 1986.0, 2000.0, 2087.0, 2213.0, 2227.0, 2233.0, 2291.0, 2486.0, 2504.0, 2677.0, 2781.0, 2987.0, 3102.0, 3183.0, 3362.0, 3371.0, 3429.0, 3677.0, 3825.0, 4028.0, 4078.0, 4372.0, 4494.0, 4554.0, 5159.0, 5232.0, 5400.0, 5571.0, 5905.0, 6088.0, 6941.0, 7092.0, 7408.0, 7661.0, 7670.0, 7714.0, 7745.0, 7746.0, 8635.0, 9169.0, 9313.0, 9600.0, 10308.0, 10322.0, 10531.0, 10572.0, 11452.0, 11517.0, 11638.0, 12020.0, 12687.0, 13416.0, 14174.0, 14571.0, 14641.0, 14707.0, 14841.0, 16367.0, 18116.0, 21705.0, 21708.0, 21804.0, 23490.0, 23607.0, 25118.0, 25554.0, 25713.0, 29888.0, 30698.0, 32480.0, 34437.0, 35263.0, 36839.0, 36934.0, 38499.0, 38533.0, 40431.0, 41434.0, 41480.0, 42063.0, 43981.0, 44275.0, 47194.0, 47466.0, 47991.0, 48931.0, 54067.0, 56752.0, 61548.0, 73848.0, 76536.0, 81927.0, 88913.0, 95924.0, 97008.0, 98730.0, 104802.0, 118759.0, 134356.0, 172456.0, 187599.0, 225274.0, 235836.0, 249720.0, 258018.0, 262171.0, 268422.0, 270477.0, 287424.0, 347349.0, 363859.0, 471587.0, 695857.0, 995723.0, 1007387.0, 1264702.0, 1554288.0, 3356857.0, 3704099.0, 4312409.0, 5380313.0, 5159.0, 10322.0, 34437.0, 250.0, 3362.0, 29.0, 268422.0, 9600.0, 5571.0, 14641.0, 14571.0, 840.0, 14841.0, 48931.0, 35.0, 6941.0, 995723.0, 74.0, 242.0, 145.0, 43981.0, 25713.0, 2000.0, 1264702.0, 9.0, 41434.0, 40.0, 7714.0, 3429.0, 2781.0, 12020.0, 38533.0, 73848.0, 1469.0, 55.0, 35263.0, 401.0, 104802.0, 26.0, 2987.0, 3183.0, 54067.0, 282.0, 7745.0, 6088.0, 30698.0, 32480.0, 11517.0, 0.0, 36.0, 0.0, 36934.0, 40431.0, 47466.0, 2291.0, 303.0, 179.0, 7746.0, 32.0, 47194.0, 43.0, 42063.0, 5380313.0, 3371.0, 111.0, 16367.0, 235836.0, 1531.0, 262171.0, 1.0, 12687.0, 2227.0, 274.0, 1757.0, 611.0, 12.0, 134356.0, 172456.0, 84.0, 3704099.0, 95924.0, 471587.0, 88913.0, 225274.0, 902.0, 363859.0, 23490.0, 81927.0, 5400.0, 41480.0, 47991.0, 7661.0, 5905.0, 13416.0, 5232.0, 1064.0, 9313.0, 36839.0, 4028.0, 67.0, 10572.0, 30.0, 21804.0, 2233.0, 0.0, 1986.0, 860.0, 38499.0, 11638.0, 4554.0, 204.0, 0.0, 317.0, 121.0, 258018.0, 0.0, 3102.0, 31.0, 10531.0, 1684.0, 3677.0, 1557.0, 2087.0, 97008.0, 1554288.0, 26.0, 2677.0, 203.0, 7092.0, 10308.0, 98730.0, 14174.0, 76536.0, 4372.0, 1530.0, 44275.0, -14294.0, 56752.0, 187599.0, 21708.0, 7670.0, 21705.0, 270477.0, 1100.0, 1.0, 152.0, 169.0, 1.0, 25.0, 16.0, 9169.0, 181.0, 695857.0, 2486.0, 917.0, 413.0, 118759.0, 8635.0, 0.0, 7408.0, 25118.0, 64.0, 3356857.0, 23607.0, 4494.0, 1179.0, 1007387.0, 347349.0, 2504.0, 105.0, 0.0, 305.0, 61548.0, 1719.0, 1348.0, 4078.0, 29888.0, 249720.0, 0.0, 110.0, 287424.0, 18116.0, 4312409.0, 25554.0, 3825.0, 0.0, 14707.0, 940.0, 11452.0, 2213.0, 355.0, 648.0]}],                        {\"legend\": {\"tracegroupgap\": 0}, \"template\": {\"data\": {\"bar\": [{\"error_x\": {\"color\": \"#2a3f5f\"}, \"error_y\": {\"color\": \"#2a3f5f\"}, \"marker\": {\"line\": {\"color\": \"#E5ECF6\", \"width\": 0.5}}, \"type\": \"bar\"}], \"barpolar\": [{\"marker\": {\"line\": {\"color\": \"#E5ECF6\", \"width\": 0.5}}, \"type\": \"barpolar\"}], \"carpet\": [{\"aaxis\": {\"endlinecolor\": \"#2a3f5f\", \"gridcolor\": \"white\", \"linecolor\": \"white\", \"minorgridcolor\": \"white\", \"startlinecolor\": \"#2a3f5f\"}, \"baxis\": {\"endlinecolor\": \"#2a3f5f\", \"gridcolor\": \"white\", \"linecolor\": \"white\", \"minorgridcolor\": \"white\", \"startlinecolor\": \"#2a3f5f\"}, \"type\": \"carpet\"}], \"choropleth\": [{\"colorbar\": {\"outlinewidth\": 0, \"ticks\": \"\"}, \"type\": \"choropleth\"}], \"contour\": [{\"colorbar\": {\"outlinewidth\": 0, \"ticks\": \"\"}, \"colorscale\": [[0.0, \"#0d0887\"], [0.1111111111111111, \"#46039f\"], [0.2222222222222222, \"#7201a8\"], [0.3333333333333333, \"#9c179e\"], [0.4444444444444444, \"#bd3786\"], [0.5555555555555556, \"#d8576b\"], [0.6666666666666666, \"#ed7953\"], [0.7777777777777778, \"#fb9f3a\"], [0.8888888888888888, \"#fdca26\"], [1.0, \"#f0f921\"]], \"type\": \"contour\"}], \"contourcarpet\": [{\"colorbar\": {\"outlinewidth\": 0, \"ticks\": \"\"}, \"type\": \"contourcarpet\"}], \"heatmap\": [{\"colorbar\": {\"outlinewidth\": 0, \"ticks\": \"\"}, \"colorscale\": [[0.0, \"#0d0887\"], [0.1111111111111111, \"#46039f\"], [0.2222222222222222, \"#7201a8\"], [0.3333333333333333, \"#9c179e\"], [0.4444444444444444, \"#bd3786\"], [0.5555555555555556, \"#d8576b\"], [0.6666666666666666, \"#ed7953\"], [0.7777777777777778, \"#fb9f3a\"], [0.8888888888888888, \"#fdca26\"], [1.0, \"#f0f921\"]], \"type\": \"heatmap\"}], \"heatmapgl\": [{\"colorbar\": {\"outlinewidth\": 0, \"ticks\": \"\"}, \"colorscale\": [[0.0, \"#0d0887\"], [0.1111111111111111, \"#46039f\"], [0.2222222222222222, \"#7201a8\"], [0.3333333333333333, \"#9c179e\"], [0.4444444444444444, \"#bd3786\"], [0.5555555555555556, \"#d8576b\"], [0.6666666666666666, \"#ed7953\"], [0.7777777777777778, \"#fb9f3a\"], [0.8888888888888888, \"#fdca26\"], [1.0, \"#f0f921\"]], \"type\": \"heatmapgl\"}], \"histogram\": [{\"marker\": {\"colorbar\": {\"outlinewidth\": 0, \"ticks\": \"\"}}, \"type\": \"histogram\"}], \"histogram2d\": [{\"colorbar\": {\"outlinewidth\": 0, \"ticks\": \"\"}, \"colorscale\": [[0.0, \"#0d0887\"], [0.1111111111111111, \"#46039f\"], [0.2222222222222222, \"#7201a8\"], [0.3333333333333333, \"#9c179e\"], [0.4444444444444444, \"#bd3786\"], [0.5555555555555556, \"#d8576b\"], [0.6666666666666666, \"#ed7953\"], [0.7777777777777778, \"#fb9f3a\"], [0.8888888888888888, \"#fdca26\"], [1.0, \"#f0f921\"]], \"type\": \"histogram2d\"}], \"histogram2dcontour\": [{\"colorbar\": {\"outlinewidth\": 0, \"ticks\": \"\"}, \"colorscale\": [[0.0, \"#0d0887\"], [0.1111111111111111, \"#46039f\"], [0.2222222222222222, \"#7201a8\"], [0.3333333333333333, \"#9c179e\"], [0.4444444444444444, \"#bd3786\"], [0.5555555555555556, \"#d8576b\"], [0.6666666666666666, \"#ed7953\"], [0.7777777777777778, \"#fb9f3a\"], [0.8888888888888888, \"#fdca26\"], [1.0, \"#f0f921\"]], \"type\": \"histogram2dcontour\"}], \"mesh3d\": [{\"colorbar\": {\"outlinewidth\": 0, \"ticks\": \"\"}, \"type\": \"mesh3d\"}], \"parcoords\": [{\"line\": {\"colorbar\": {\"outlinewidth\": 0, \"ticks\": \"\"}}, \"type\": \"parcoords\"}], \"pie\": [{\"automargin\": true, \"type\": \"pie\"}], \"scatter\": [{\"marker\": {\"colorbar\": {\"outlinewidth\": 0, \"ticks\": \"\"}}, \"type\": \"scatter\"}], \"scatter3d\": [{\"line\": {\"colorbar\": {\"outlinewidth\": 0, \"ticks\": \"\"}}, \"marker\": {\"colorbar\": {\"outlinewidth\": 0, \"ticks\": \"\"}}, \"type\": \"scatter3d\"}], \"scattercarpet\": [{\"marker\": {\"colorbar\": {\"outlinewidth\": 0, \"ticks\": \"\"}}, \"type\": \"scattercarpet\"}], \"scattergeo\": [{\"marker\": {\"colorbar\": {\"outlinewidth\": 0, \"ticks\": \"\"}}, \"type\": \"scattergeo\"}], \"scattergl\": [{\"marker\": {\"colorbar\": {\"outlinewidth\": 0, \"ticks\": \"\"}}, \"type\": \"scattergl\"}], \"scattermapbox\": [{\"marker\": {\"colorbar\": {\"outlinewidth\": 0, \"ticks\": \"\"}}, \"type\": \"scattermapbox\"}], \"scatterpolar\": [{\"marker\": {\"colorbar\": {\"outlinewidth\": 0, \"ticks\": \"\"}}, \"type\": \"scatterpolar\"}], \"scatterpolargl\": [{\"marker\": {\"colorbar\": {\"outlinewidth\": 0, \"ticks\": \"\"}}, \"type\": \"scatterpolargl\"}], \"scatterternary\": [{\"marker\": {\"colorbar\": {\"outlinewidth\": 0, \"ticks\": \"\"}}, \"type\": \"scatterternary\"}], \"surface\": [{\"colorbar\": {\"outlinewidth\": 0, \"ticks\": \"\"}, \"colorscale\": [[0.0, \"#0d0887\"], [0.1111111111111111, \"#46039f\"], [0.2222222222222222, \"#7201a8\"], [0.3333333333333333, \"#9c179e\"], [0.4444444444444444, \"#bd3786\"], [0.5555555555555556, \"#d8576b\"], [0.6666666666666666, \"#ed7953\"], [0.7777777777777778, \"#fb9f3a\"], [0.8888888888888888, \"#fdca26\"], [1.0, \"#f0f921\"]], \"type\": \"surface\"}], \"table\": [{\"cells\": {\"fill\": {\"color\": \"#EBF0F8\"}, \"line\": {\"color\": \"white\"}}, \"header\": {\"fill\": {\"color\": \"#C8D4E3\"}, \"line\": {\"color\": \"white\"}}, \"type\": \"table\"}]}, \"layout\": {\"annotationdefaults\": {\"arrowcolor\": \"#2a3f5f\", \"arrowhead\": 0, \"arrowwidth\": 1}, \"autotypenumbers\": \"strict\", \"coloraxis\": {\"colorbar\": {\"outlinewidth\": 0, \"ticks\": \"\"}}, \"colorscale\": {\"diverging\": [[0, \"#8e0152\"], [0.1, \"#c51b7d\"], [0.2, \"#de77ae\"], [0.3, \"#f1b6da\"], [0.4, \"#fde0ef\"], [0.5, \"#f7f7f7\"], [0.6, \"#e6f5d0\"], [0.7, \"#b8e186\"], [0.8, \"#7fbc41\"], [0.9, \"#4d9221\"], [1, \"#276419\"]], \"sequential\": [[0.0, \"#0d0887\"], [0.1111111111111111, \"#46039f\"], [0.2222222222222222, \"#7201a8\"], [0.3333333333333333, \"#9c179e\"], [0.4444444444444444, \"#bd3786\"], [0.5555555555555556, \"#d8576b\"], [0.6666666666666666, \"#ed7953\"], [0.7777777777777778, \"#fb9f3a\"], [0.8888888888888888, \"#fdca26\"], [1.0, \"#f0f921\"]], \"sequentialminus\": [[0.0, \"#0d0887\"], [0.1111111111111111, \"#46039f\"], [0.2222222222222222, \"#7201a8\"], [0.3333333333333333, \"#9c179e\"], [0.4444444444444444, \"#bd3786\"], [0.5555555555555556, \"#d8576b\"], [0.6666666666666666, \"#ed7953\"], [0.7777777777777778, \"#fb9f3a\"], [0.8888888888888888, \"#fdca26\"], [1.0, \"#f0f921\"]]}, \"colorway\": [\"#636efa\", \"#EF553B\", \"#00cc96\", \"#ab63fa\", \"#FFA15A\", \"#19d3f3\", \"#FF6692\", \"#B6E880\", \"#FF97FF\", \"#FECB52\"], \"font\": {\"color\": \"#2a3f5f\"}, \"geo\": {\"bgcolor\": \"white\", \"lakecolor\": \"white\", \"landcolor\": \"#E5ECF6\", \"showlakes\": true, \"showland\": true, \"subunitcolor\": \"white\"}, \"hoverlabel\": {\"align\": \"left\"}, \"hovermode\": \"closest\", \"mapbox\": {\"style\": \"light\"}, \"paper_bgcolor\": \"white\", \"plot_bgcolor\": \"#E5ECF6\", \"polar\": {\"angularaxis\": {\"gridcolor\": \"white\", \"linecolor\": \"white\", \"ticks\": \"\"}, \"bgcolor\": \"#E5ECF6\", \"radialaxis\": {\"gridcolor\": \"white\", \"linecolor\": \"white\", \"ticks\": \"\"}}, \"scene\": {\"xaxis\": {\"backgroundcolor\": \"#E5ECF6\", \"gridcolor\": \"white\", \"gridwidth\": 2, \"linecolor\": \"white\", \"showbackground\": true, \"ticks\": \"\", \"zerolinecolor\": \"white\"}, \"yaxis\": {\"backgroundcolor\": \"#E5ECF6\", \"gridcolor\": \"white\", \"gridwidth\": 2, \"linecolor\": \"white\", \"showbackground\": true, \"ticks\": \"\", \"zerolinecolor\": \"white\"}, \"zaxis\": {\"backgroundcolor\": \"#E5ECF6\", \"gridcolor\": \"white\", \"gridwidth\": 2, \"linecolor\": \"white\", \"showbackground\": true, \"ticks\": \"\", \"zerolinecolor\": \"white\"}}, \"shapedefaults\": {\"line\": {\"color\": \"#2a3f5f\"}}, \"ternary\": {\"aaxis\": {\"gridcolor\": \"white\", \"linecolor\": \"white\", \"ticks\": \"\"}, \"baxis\": {\"gridcolor\": \"white\", \"linecolor\": \"white\", \"ticks\": \"\"}, \"bgcolor\": \"#E5ECF6\", \"caxis\": {\"gridcolor\": \"white\", \"linecolor\": \"white\", \"ticks\": \"\"}}, \"title\": {\"x\": 0.05}, \"xaxis\": {\"automargin\": true, \"gridcolor\": \"white\", \"linecolor\": \"white\", \"ticks\": \"\", \"title\": {\"standoff\": 15}, \"zerolinecolor\": \"white\", \"zerolinewidth\": 2}, \"yaxis\": {\"automargin\": true, \"gridcolor\": \"white\", \"linecolor\": \"white\", \"ticks\": \"\", \"title\": {\"standoff\": 15}, \"zerolinecolor\": \"white\", \"zerolinewidth\": 2}}}, \"title\": {\"text\": \"Top countries with most number of Active cases\"}},                        {\"responsive\": true}                    ).then(function(){\n",
       "                            \n",
       "var gd = document.getElementById('d185b50e-5912-4c16-8e66-501ac36078d1');\n",
       "var x = new MutationObserver(function (mutations, observer) {{\n",
       "        var display = window.getComputedStyle(gd).display;\n",
       "        if (!display || display === 'none') {{\n",
       "            console.log([gd, 'removed!']);\n",
       "            Plotly.purge(gd);\n",
       "            observer.disconnect();\n",
       "        }}\n",
       "}});\n",
       "\n",
       "// Listen for the removal of the full notebook cells\n",
       "var notebookContainer = gd.closest('#notebook-container');\n",
       "if (notebookContainer) {{\n",
       "    x.observe(notebookContainer, {childList: true});\n",
       "}}\n",
       "\n",
       "// Listen for the clearing of the current output cell\n",
       "var outputEl = gd.closest('.output');\n",
       "if (outputEl) {{\n",
       "    x.observe(outputEl, {childList: true});\n",
       "}}\n",
       "\n",
       "                        })                };                });            </script>        </div>"
      ]
     },
     "metadata": {},
     "output_type": "display_data"
    }
   ],
   "source": [
    "fig = px.treemap(sorted_confirmed_country, path = ['Country', 'Confirmed'], values = 'Confirmed',\n",
    "                title=\"Top countries with most number of Confirmed cases\")\n",
    "fig.show();\n",
    "\n",
    "fig = px.treemap(sorted_death_country, path = ['Country', 'Deaths'], values = 'Deaths',\n",
    "                title=\"Top countries with most number of Death cases\")\n",
    "fig.show();\n",
    "\n",
    "fig = px.treemap(sorted_recovered_country, path = ['Country', 'Recovered'], values = 'Recovered',\n",
    "                title=\"Top countries with most number of Recovered cases\")\n",
    "fig.show();\n",
    "\n",
    "fig = px.treemap(sorted_active_country, path = ['Country', 'Active'], values = 'Active',\n",
    "                title=\"Top countries with most number of Active cases\")\n",
    "fig.show();"
   ]
  },
  {
   "cell_type": "markdown",
   "metadata": {},
   "source": [
    "# Pie Chart representation"
   ]
  },
  {
   "cell_type": "code",
   "execution_count": 17,
   "metadata": {},
   "outputs": [
    {
     "data": {
      "application/vnd.jupyter.widget-view+json": {
       "model_id": "5c462dfc84ca430a9bda3734e54cb7b4",
       "version_major": 2,
       "version_minor": 0
      },
      "text/plain": [
       "interactive(children=(IntSlider(value=10, description='n', max=30, min=-10), Output()), _dom_classes=('widget-…"
      ]
     },
     "metadata": {},
     "output_type": "display_data"
    },
    {
     "data": {
      "application/vnd.jupyter.widget-view+json": {
       "model_id": "7deef6e6292e4d1aaf48ce643c7c1bc9",
       "version_major": 2,
       "version_minor": 0
      },
      "text/plain": [
       "interactive(children=(IntSlider(value=10, description='n', max=30, min=-10), Output()), _dom_classes=('widget-…"
      ]
     },
     "metadata": {},
     "output_type": "display_data"
    },
    {
     "data": {
      "application/vnd.jupyter.widget-view+json": {
       "model_id": "1817261deee348b9840f275dbd4c7049",
       "version_major": 2,
       "version_minor": 0
      },
      "text/plain": [
       "interactive(children=(IntSlider(value=10, description='n', max=30, min=-10), Output()), _dom_classes=('widget-…"
      ]
     },
     "metadata": {},
     "output_type": "display_data"
    },
    {
     "data": {
      "application/vnd.jupyter.widget-view+json": {
       "model_id": "55f546c3633a432f864acf320896abce",
       "version_major": 2,
       "version_minor": 0
      },
      "text/plain": [
       "interactive(children=(IntSlider(value=10, description='n', max=30, min=-10), Output()), _dom_classes=('widget-…"
      ]
     },
     "metadata": {},
     "output_type": "display_data"
    }
   ],
   "source": [
    "def pie_chart(n):\n",
    "    fig = px.pie(sorted_confirmed_country.head(n), values='Confirmed', names='Country',\n",
    "             title='Confirmed cases (%) across top '+str(n)+' countries',\n",
    "              hover_data=['Last_Update'], labels={'Last_Update':'Months'})\n",
    "    fig.update_traces(textposition='inside')\n",
    "    fig.show()\n",
    "interact(pie_chart,n=10);\n",
    "\n",
    "def pie_chart(n):\n",
    "    fig = px.pie(sorted_death_country.head(n), values='Deaths', names='Country',\n",
    "             title='Deaths reported (%) across top '+str(n)+' countries',\n",
    "              hover_data=['Last_Update'], labels={'Last_Update':'Months'})\n",
    "    fig.update_traces(textposition='inside')\n",
    "    fig.show()\n",
    "interact(pie_chart,n=10);\n",
    "\n",
    "def pie_chart(n):\n",
    "    fig = px.pie(sorted_recovered_country.head(n), values='Recovered', names='Country',\n",
    "             title='Recovered cases (%) across top '+str(n)+' countries',\n",
    "              hover_data=['Last_Update'], labels={'Last_Update':'Months'})\n",
    "    fig.update_traces(textposition='inside')\n",
    "    fig.show()\n",
    "interact(pie_chart,n=10);\n",
    "\n",
    "def pie_chart(n):\n",
    "    fig = px.pie(sorted_active_country.head(n), values='Active', names='Country',\n",
    "             title='Active cases (%) across top '+str(n)+' countries',\n",
    "              hover_data=['Last_Update'], labels={'Last_Update':'Months'})\n",
    "    fig.update_traces(textposition='inside')\n",
    "    fig.show()\n",
    "interact(pie_chart,n=10);"
   ]
  }
 ],
 "metadata": {
  "kernelspec": {
   "display_name": "Python 3",
   "language": "python",
   "name": "python3"
  },
  "language_info": {
   "codemirror_mode": {
    "name": "ipython",
    "version": 3
   },
   "file_extension": ".py",
   "mimetype": "text/x-python",
   "name": "python",
   "nbconvert_exporter": "python",
   "pygments_lexer": "ipython3",
   "version": "3.7.6"
  }
 },
 "nbformat": 4,
 "nbformat_minor": 4
}
